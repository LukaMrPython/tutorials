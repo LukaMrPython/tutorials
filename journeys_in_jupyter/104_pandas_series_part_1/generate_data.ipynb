{
 "cells": [
  {
   "cell_type": "markdown",
   "metadata": {},
   "source": [
    "# Fake data\n",
    "\n",
    "This is a notebook for generating data for use in the exerises, including:\n",
    "\n",
    "1) fictious names with a high proportion of Steves\n",
    "\n",
    "2) normally distributed weights in pounds\n",
    "\n",
    "3) normally distributed heights in feet\n",
    "\n",
    "This uses dataframes, so if it doesn't make sense to you, that's perfectly normal. So far you've only learned about Series objects.\n",
    "\n",
    "Note: this does not take sex into account when generating weights and heights, which you could do if you were less lazy than I am."
   ]
  },
  {
   "cell_type": "code",
   "execution_count": 1,
   "metadata": {},
   "outputs": [],
   "source": [
    "# Define URLs to pull from \n",
    "CENSUS_SURNAME_URL = 'https://www2.census.gov/topics/genealogy/2010surnames/Names_2010Census_Top1000.xlsx'\n",
    "HADLEY_FORENAME_URL = 'https://github.com/hadley/data-baby-names/raw/master/baby-names.csv'"
   ]
  },
  {
   "cell_type": "code",
   "execution_count": 2,
   "metadata": {},
   "outputs": [],
   "source": [
    "# imports\n",
    "import pandas as pd\n",
    "import scipy.stats as stats"
   ]
  },
  {
   "cell_type": "markdown",
   "metadata": {},
   "source": [
    "# Name generation"
   ]
  },
  {
   "cell_type": "code",
   "execution_count": 3,
   "metadata": {},
   "outputs": [
    {
     "data": {
      "text/html": [
       "<div>\n",
       "<style scoped>\n",
       "    .dataframe tbody tr th:only-of-type {\n",
       "        vertical-align: middle;\n",
       "    }\n",
       "\n",
       "    .dataframe tbody tr th {\n",
       "        vertical-align: top;\n",
       "    }\n",
       "\n",
       "    .dataframe thead th {\n",
       "        text-align: right;\n",
       "    }\n",
       "</style>\n",
       "<table border=\"1\" class=\"dataframe\">\n",
       "  <thead>\n",
       "    <tr style=\"text-align: right;\">\n",
       "      <th></th>\n",
       "      <th>year</th>\n",
       "      <th>name</th>\n",
       "      <th>percent</th>\n",
       "      <th>sex</th>\n",
       "    </tr>\n",
       "  </thead>\n",
       "  <tbody>\n",
       "    <tr>\n",
       "      <th>0</th>\n",
       "      <td>1880</td>\n",
       "      <td>John</td>\n",
       "      <td>0.081541</td>\n",
       "      <td>boy</td>\n",
       "    </tr>\n",
       "    <tr>\n",
       "      <th>1</th>\n",
       "      <td>1880</td>\n",
       "      <td>William</td>\n",
       "      <td>0.080511</td>\n",
       "      <td>boy</td>\n",
       "    </tr>\n",
       "    <tr>\n",
       "      <th>2</th>\n",
       "      <td>1880</td>\n",
       "      <td>James</td>\n",
       "      <td>0.050057</td>\n",
       "      <td>boy</td>\n",
       "    </tr>\n",
       "    <tr>\n",
       "      <th>3</th>\n",
       "      <td>1880</td>\n",
       "      <td>Charles</td>\n",
       "      <td>0.045167</td>\n",
       "      <td>boy</td>\n",
       "    </tr>\n",
       "    <tr>\n",
       "      <th>4</th>\n",
       "      <td>1880</td>\n",
       "      <td>George</td>\n",
       "      <td>0.043292</td>\n",
       "      <td>boy</td>\n",
       "    </tr>\n",
       "  </tbody>\n",
       "</table>\n",
       "</div>"
      ],
      "text/plain": [
       "   year     name   percent  sex\n",
       "0  1880     John  0.081541  boy\n",
       "1  1880  William  0.080511  boy\n",
       "2  1880    James  0.050057  boy\n",
       "3  1880  Charles  0.045167  boy\n",
       "4  1880   George  0.043292  boy"
      ]
     },
     "execution_count": 3,
     "metadata": {},
     "output_type": "execute_result"
    }
   ],
   "source": [
    "# Pandas can read CSVs directly from the internet\n",
    "forenames = pd.read_csv(HADLEY_FORENAME_URL)\n",
    "forenames.head()"
   ]
  },
  {
   "cell_type": "code",
   "execution_count": 4,
   "metadata": {},
   "outputs": [],
   "source": [
    "# And now an Excel\n",
    "surnames = pd.read_excel(CENSUS_SURNAME_URL, header=1)['SURNAME']\n",
    "\n",
    "# Drop junk on end\n",
    "surnames = surnames.head(1000).str.title()"
   ]
  },
  {
   "cell_type": "code",
   "execution_count": 5,
   "metadata": {},
   "outputs": [],
   "source": [
    "# Get forenames from after 2000.\n",
    "modern_forenames = forenames.loc[forenames['year'] > 2000, 'name']\n",
    "\n",
    "# Get a sample of 1,000.\n",
    "forename_sample = modern_forenames.sample(1000)\n",
    "\n",
    "# Replace 10% of those with 'Steve'\n",
    "forename_sample.iloc[:int(len(forename_sample) / 10)] = 'Steve'\n",
    "forename_sample.index = pd.RangeIndex(0,1000)# Show"
   ]
  },
  {
   "cell_type": "code",
   "execution_count": 6,
   "metadata": {},
   "outputs": [
    {
     "data": {
      "text/plain": [
       "0    Steve\n",
       "1    Steve\n",
       "2    Steve\n",
       "3    Steve\n",
       "4    Steve\n",
       "Name: name, dtype: object"
      ]
     },
     "execution_count": 6,
     "metadata": {},
     "output_type": "execute_result"
    }
   ],
   "source": [
    "# Show\n",
    "forename_sample.head()"
   ]
  },
  {
   "cell_type": "code",
   "execution_count": 7,
   "metadata": {},
   "outputs": [
    {
     "data": {
      "text/plain": [
       "0       Smith\n",
       "1     Johnson\n",
       "2    Williams\n",
       "3       Brown\n",
       "4       Jones\n",
       "Name: SURNAME, dtype: object"
      ]
     },
     "execution_count": 7,
     "metadata": {},
     "output_type": "execute_result"
    }
   ],
   "source": [
    "# Show\n",
    "surnames.head()"
   ]
  },
  {
   "cell_type": "code",
   "execution_count": 8,
   "metadata": {},
   "outputs": [],
   "source": [
    "# Make combos\n",
    "full_names = forename_sample + ' ' + surnames"
   ]
  },
  {
   "cell_type": "code",
   "execution_count": 9,
   "metadata": {},
   "outputs": [
    {
     "data": {
      "text/plain": [
       "592     Meadow Carson\n",
       "877      Amirah Avery\n",
       "445    Jaylene Walton\n",
       "746     Seth Stafford\n",
       "872    Nikolas Bernal\n",
       "dtype: object"
      ]
     },
     "execution_count": 9,
     "metadata": {},
     "output_type": "execute_result"
    }
   ],
   "source": [
    "# Show example\n",
    "full_names.sample(5)"
   ]
  },
  {
   "cell_type": "code",
   "execution_count": 10,
   "metadata": {},
   "outputs": [],
   "source": [
    "# Write to file.\n",
    "full_names.to_csv('data/subject_names.csv')"
   ]
  },
  {
   "cell_type": "markdown",
   "metadata": {},
   "source": [
    "# Weight Generation\n",
    "\n",
    "Using a normally distributed height of 172 pounds and a standard deviation of 29 pounds."
   ]
  },
  {
   "cell_type": "code",
   "execution_count": 11,
   "metadata": {},
   "outputs": [
    {
     "data": {
      "text/plain": [
       "0    143.16\n",
       "1     92.43\n",
       "2    171.60\n",
       "3    172.46\n",
       "4    207.19\n",
       "dtype: float64"
      ]
     },
     "execution_count": 11,
     "metadata": {},
     "output_type": "execute_result"
    }
   ],
   "source": [
    "# Create random data\n",
    "weight = pd.Series(\n",
    "    data=stats.norm.rvs(loc=172, scale=29, size=1000)\n",
    ")\n",
    "\n",
    "# Round it\n",
    "rounded_w = weight.round(2)\n",
    "\n",
    "# Write it to disk.\n",
    "rounded_w.to_csv('data/weight_in_pounds.csv')\n",
    "\n",
    "# Display\n",
    "rounded_w.head(5)"
   ]
  },
  {
   "cell_type": "markdown",
   "metadata": {},
   "source": [
    "# Height Generation\n",
    "\n",
    "Using a normally distributed height of 5.66 feet (68 inches) and stdev of .33 (4 inches)."
   ]
  },
  {
   "cell_type": "code",
   "execution_count": 12,
   "metadata": {},
   "outputs": [
    {
     "data": {
      "text/plain": [
       "0    5.57\n",
       "1    5.70\n",
       "2    6.12\n",
       "3    5.90\n",
       "4    5.87\n",
       "dtype: float64"
      ]
     },
     "execution_count": 12,
     "metadata": {},
     "output_type": "execute_result"
    }
   ],
   "source": [
    "# Create random data\n",
    "height = pd.Series(\n",
    "    data=stats.norm.rvs(loc=5.66, scale=.33, size=1000)\n",
    ")\n",
    "\n",
    "# Round it\n",
    "rounded_h = height.round(2)\n",
    "\n",
    "# Write it to disk.\n",
    "rounded_h.to_csv('data/height_in_feet.csv')\n",
    "\n",
    "# Display\n",
    "rounded_h.head()"
   ]
  }
 ],
 "metadata": {
  "kernelspec": {
   "display_name": "Python 3",
   "language": "python",
   "name": "python3"
  },
  "language_info": {
   "codemirror_mode": {
    "name": "ipython",
    "version": 3
   },
   "file_extension": ".py",
   "mimetype": "text/x-python",
   "name": "python",
   "nbconvert_exporter": "python",
   "pygments_lexer": "ipython3",
   "version": "3.6.5"
  }
 },
 "nbformat": 4,
 "nbformat_minor": 2
}
