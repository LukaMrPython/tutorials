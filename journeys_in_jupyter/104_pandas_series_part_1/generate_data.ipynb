{
 "cells": [
  {
   "cell_type": "markdown",
   "metadata": {},
   "source": [
    "# Fake data\n",
    "\n",
    "This is a notebook for generating data for use in the exerises, including:\n",
    "\n",
    "1) fictious names with a high proportion of Steves\n",
    "\n",
    "2) normally distributed weights in pounds\n",
    "\n",
    "3) normally distributed heights in feet\n",
    "\n",
    "4) embassy staff and spies.\n",
    "\n",
    "This uses dataframes, so if it doesn't make sense to you, that's perfectly normal. So far you've only learned about Series objects.\n",
    "\n",
    "Note: this does not take sex into account when generating weights and heights, which you could do if you were less lazy than I am."
   ]
  },
  {
   "cell_type": "code",
   "execution_count": null,
   "metadata": {},
   "outputs": [],
   "source": [
    "# Define URLs to pull from \n",
    "CENSUS_SURNAME_URL = 'https://www2.census.gov/topics/genealogy/2010surnames/Names_2010Census_Top1000.xlsx'\n",
    "HADLEY_FORENAME_URL = 'https://github.com/hadley/data-baby-names/raw/master/baby-names.csv'"
   ]
  },
  {
   "cell_type": "code",
   "execution_count": null,
   "metadata": {},
   "outputs": [],
   "source": [
    "# imports\n",
    "import pandas as pd\n",
    "import scipy.stats as stats"
   ]
  },
  {
   "cell_type": "markdown",
   "metadata": {},
   "source": [
    "# Name generation"
   ]
  },
  {
   "cell_type": "code",
   "execution_count": null,
   "metadata": {},
   "outputs": [],
   "source": [
    "# Pandas can read CSVs directly from the internet\n",
    "forenames = pd.read_csv(HADLEY_FORENAME_URL)\n",
    "forenames.head()"
   ]
  },
  {
   "cell_type": "code",
   "execution_count": null,
   "metadata": {},
   "outputs": [],
   "source": [
    "# And now an Excel\n",
    "surnames = pd.read_excel(CENSUS_SURNAME_URL, header=1)['SURNAME']\n",
    "\n",
    "# Drop junk on end\n",
    "surnames = surnames.head(1000).str.title()"
   ]
  },
  {
   "cell_type": "code",
   "execution_count": null,
   "metadata": {},
   "outputs": [],
   "source": [
    "# Get forenames from after 2000.\n",
    "modern_forenames = forenames.loc[forenames['year'] > 2000, 'name']\n",
    "\n",
    "# Get a sample of 1,000.\n",
    "forename_sample = modern_forenames.sample(1000)\n",
    "\n",
    "# Replace 10% of those with 'Steve'\n",
    "forename_sample.iloc[:int(len(forename_sample) / 10)] = 'Steve'\n",
    "forename_sample.index = pd.RangeIndex(0,1000)# Show"
   ]
  },
  {
   "cell_type": "code",
   "execution_count": null,
   "metadata": {},
   "outputs": [],
   "source": [
    "# Show\n",
    "forename_sample.head()"
   ]
  },
  {
   "cell_type": "code",
   "execution_count": null,
   "metadata": {},
   "outputs": [],
   "source": [
    "# Show\n",
    "surnames.head()"
   ]
  },
  {
   "cell_type": "code",
   "execution_count": null,
   "metadata": {},
   "outputs": [],
   "source": [
    "# Make combos\n",
    "full_names = forename_sample + ' ' + surnames"
   ]
  },
  {
   "cell_type": "code",
   "execution_count": null,
   "metadata": {},
   "outputs": [],
   "source": [
    "# Show example\n",
    "full_names.sample(5)"
   ]
  },
  {
   "cell_type": "code",
   "execution_count": null,
   "metadata": {},
   "outputs": [],
   "source": [
    "# Write to file.\n",
    "full_names.name = 'names'\n",
    "full_names.to_csv('data/subject_names.csv', header=True, index=False)"
   ]
  },
  {
   "cell_type": "markdown",
   "metadata": {},
   "source": [
    "# Weight Generation\n",
    "\n",
    "Using a normally distributed height of 172 pounds and a standard deviation of 29 pounds."
   ]
  },
  {
   "cell_type": "code",
   "execution_count": null,
   "metadata": {},
   "outputs": [],
   "source": [
    "# Create random data\n",
    "weight = pd.Series(\n",
    "    data=stats.norm.rvs(loc=172, scale=29, size=1000)\n",
    ")\n",
    "\n",
    "# Round it\n",
    "rounded_w = weight.round(2)\n",
    "\n",
    "# Write it to disk.\n",
    "rounded_w.name = 'pounds'\n",
    "rounded_w.to_csv('data/weight_in_pounds.csv', header=True, index=False)\n",
    "\n",
    "# Display\n",
    "rounded_w.head(5)"
   ]
  },
  {
   "cell_type": "markdown",
   "metadata": {},
   "source": [
    "# Height Generation\n",
    "\n",
    "Using a normally distributed height of 5.66 feet (68 inches) and stdev of .33 (4 inches)."
   ]
  },
  {
   "cell_type": "code",
   "execution_count": null,
   "metadata": {},
   "outputs": [],
   "source": [
    "# Create random data\n",
    "height = pd.Series(\n",
    "    data=stats.norm.rvs(loc=5.66, scale=.33, size=1000)\n",
    ")\n",
    "\n",
    "# Round it\n",
    "rounded_h = height.round(2)\n",
    "\n",
    "# Write it to disk.\n",
    "rounded_h.name = 'feet'\n",
    "rounded_h.to_csv('data/height_in_feet.csv', header=True, index=False)\n",
    "\n",
    "# Display\n",
    "rounded_h.head()"
   ]
  },
  {
   "cell_type": "markdown",
   "metadata": {},
   "source": [
    "# Spy and Staff Generation\n",
    "\n",
    "Create a list of spies and embassy staff."
   ]
  },
  {
   "cell_type": "code",
   "execution_count": null,
   "metadata": {},
   "outputs": [],
   "source": [
    "spies = pd.Series({\n",
    "    'Mata'    : 40,\n",
    "    'Casanova': 41,\n",
    "    'Julius'  : 51,\n",
    "    'Ethel'   : 48,\n",
    "    'Klaus'   : 35,\n",
    "    'Belle'   : 30,\n",
    "    'Valery'  : 28,\n",
    "})\n",
    "\n",
    "embassy_staff = pd.Series({\n",
    "    'Dave'    : 30,\n",
    "    'Julius'  : 51,\n",
    "    'Ethel'   : 48,\n",
    "    'Jenna'   : 25,\n",
    "    'Klaus'   : 35,\n",
    "    'Aloysius': 84,\n",
    "    'Carlos'  : 40,\n",
    "    'Michael' : 28,\n",
    "    'Tito'    : 32,\n",
    "    'Jermaine': 30,\n",
    "    'Janet'   : 28,\n",
    "    'Marlon'  : 25,\n",
    "    'Jackie'  : 22,\n",
    "})\n",
    "\n",
    "# No headers\n",
    "spies.to_csv('data/spies.csv')\n",
    "embassy_staff.to_csv('data/embassy_staff.csv')"
   ]
  }
 ],
 "metadata": {
  "kernelspec": {
   "display_name": "Python 3",
   "language": "python",
   "name": "python3"
  },
  "language_info": {
   "codemirror_mode": {
    "name": "ipython",
    "version": 3
   },
   "file_extension": ".py",
   "mimetype": "text/x-python",
   "name": "python",
   "nbconvert_exporter": "python",
   "pygments_lexer": "ipython3",
   "version": "3.6.5"
  }
 },
 "nbformat": 4,
 "nbformat_minor": 2
}
