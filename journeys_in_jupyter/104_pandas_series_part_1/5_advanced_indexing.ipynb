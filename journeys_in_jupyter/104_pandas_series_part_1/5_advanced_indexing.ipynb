{
 "cells": [
  {
   "cell_type": "markdown",
   "metadata": {
    "collapsed": true
   },
   "source": [
    "<a href=\"https://github.com/theonaunheim\">\n",
    "    <img style=\"border-radius: 100%; float: right;\" src=\"static/strawberry_thief_square.png\" width=10% alt=\"Theo Naunheim's Github\">\n",
    "</a>\n",
    "\n",
    "<br style=\"clear: both\">\n",
    "<hr>\n",
    "<br>\n",
    "\n",
    "<h1 align='center'>Advanced Indexing</h1>\n",
    "\n",
    "<br>\n",
    "\n",
    "<div style=\"display: table; width: 100%\">\n",
    "    <div style=\"display: table-row; width: 100%;\">\n",
    "        <div style=\"display: table-cell; width: 50%; align: middle; text-align: center;\">            \n",
    "            $\\huge{{x}_{i}}$            \n",
    "        </div>\n",
    "        <div style=\"display: table-cell; width: 10%\">\n",
    "        </div>\n",
    "        <div style=\"display: table-cell; width: 40%; vertical-align: top;\">\n",
    "            <blockquote>\n",
    "                <p style=\"font-style: italic;\">\"Simplify, simplify.\"</p>\n",
    "                <br>\n",
    "                <p>-Henry David Thoreau</p>\n",
    "            </blockquote>\n",
    "        </div>\n",
    "    </div>\n",
    "</div>\n",
    "\n",
    "<br>\n",
    "\n",
    "\n",
    "\n",
    "<hr>"
   ]
  },
  {
   "cell_type": "code",
   "execution_count": 1,
   "metadata": {},
   "outputs": [],
   "source": [
    "import numpy as np\n",
    "import pandas as pd"
   ]
  },
  {
   "cell_type": "markdown",
   "metadata": {},
   "source": [
    "## What other kind of more complex indexers can we use?\n",
    "\n",
    "In addition to using simple values for indexers, you can also use:\n",
    "* Boolean (a.k.a. \"fancy\") indexes\n",
    "* Index objects"
   ]
  },
  {
   "cell_type": "markdown",
   "metadata": {},
   "source": [
    "### Boolean (a.k.a. \"fancy\") indexing\n",
    "\n",
    "No, I didn't come up with that name.\n",
    "\n",
    "One of the nifty things that pandas stole from R was the concept of\n",
    "boolean indexing.\n",
    "\n",
    "Explained simply, if we have a series of True/False values that share an index with another series, we an pass that **boolean index** to loc[]. This is super useful when we get to dataframes.\n",
    "\n",
    "The result will be that we get back all the rows with True and all the False rows will be excluded. We can also do this with non-series provided certain requirements are met.\n",
    "\n",
    "This makes a lot more sense if you see it in action."
   ]
  },
  {
   "cell_type": "code",
   "execution_count": 2,
   "metadata": {},
   "outputs": [
    {
     "data": {
      "text/plain": [
       "0       Jim\n",
       "1      Jane\n",
       "2     Steve\n",
       "3    Stacey\n",
       "4      Mark\n",
       "dtype: object"
      ]
     },
     "execution_count": 2,
     "metadata": {},
     "output_type": "execute_result"
    }
   ],
   "source": [
    "# Here we have a list of names.\n",
    "data = pd.Series(['Jim', 'Jane', 'Steve', 'Stacey', 'Mark'])\n",
    "data"
   ]
  },
  {
   "cell_type": "code",
   "execution_count": 3,
   "metadata": {},
   "outputs": [
    {
     "data": {
      "text/plain": [
       "0    False\n",
       "1     True\n",
       "2    False\n",
       "3     True\n",
       "4    False\n",
       "dtype: bool"
      ]
     },
     "execution_count": 3,
     "metadata": {},
     "output_type": "execute_result"
    }
   ],
   "source": [
    "# And here we have a boolean index\n",
    "bix = pd.Series([False, True, False, True, False])\n",
    "bix"
   ]
  },
  {
   "cell_type": "code",
   "execution_count": 4,
   "metadata": {},
   "outputs": [
    {
     "data": {
      "text/plain": [
       "1      Jane\n",
       "3    Stacey\n",
       "dtype: object"
      ]
     },
     "execution_count": 4,
     "metadata": {},
     "output_type": "execute_result"
    }
   ],
   "source": [
    "# Now we can use the loc attribute and boolean index\n",
    "data.loc[bix]"
   ]
  },
  {
   "cell_type": "markdown",
   "metadata": {},
   "source": [
    "As you can see, index items 1 and 3 of the boolean index are True, so a new Series with items 1 and 3 of the data.\n",
    "\n",
    "This is a silly example, so let's do something more pragmatic. As you may remember, we can get a boolean series by operating on a data series as a whole. For example, if you evaluated:\n",
    "\n",
    "    series > 5\n",
    "    \n",
    "... you will get back a Series that has True or False for each item depending on whether it was greater than 5 or not. This boolean series will be indexed like the data series ... and in turn it can be used for loc[]ing."
   ]
  },
  {
   "cell_type": "code",
   "execution_count": 5,
   "metadata": {},
   "outputs": [
    {
     "data": {
      "text/plain": [
       "0    Sarah\n",
       "1      Sam\n",
       "2    David\n",
       "3    Sadie\n",
       "4     Elsa\n",
       "5     Dave\n",
       "dtype: object"
      ]
     },
     "execution_count": 5,
     "metadata": {},
     "output_type": "execute_result"
    }
   ],
   "source": [
    "# An example say we have want all names that start with SA\n",
    "name_series = pd.Series(['Sarah', 'Sam', 'David', 'Sadie', 'Elsa', 'Dave'])\n",
    "name_series"
   ]
  },
  {
   "cell_type": "code",
   "execution_count": 6,
   "metadata": {},
   "outputs": [
    {
     "data": {
      "text/plain": [
       "0     True\n",
       "1     True\n",
       "2    False\n",
       "3     True\n",
       "4    False\n",
       "5    False\n",
       "dtype: bool"
      ]
     },
     "execution_count": 6,
     "metadata": {},
     "output_type": "execute_result"
    }
   ],
   "source": [
    "# We can use the handy Python string method startswith in the .str namespace\n",
    "# There are a bajillion of these.\n",
    "sa_bix = name_series.str.startswith('Sa')\n",
    "sa_bix"
   ]
  },
  {
   "cell_type": "code",
   "execution_count": 7,
   "metadata": {},
   "outputs": [
    {
     "data": {
      "text/plain": [
       "0    Sarah\n",
       "1      Sam\n",
       "3    Sadie\n",
       "dtype: object"
      ]
     },
     "execution_count": 7,
     "metadata": {},
     "output_type": "execute_result"
    }
   ],
   "source": [
    "# And get the names we want. Doesn't matter if it's 10 or 10 million.\n",
    "sa_series = name_series.loc[sa_bix]\n",
    "sa_series"
   ]
  },
  {
   "cell_type": "code",
   "execution_count": 8,
   "metadata": {},
   "outputs": [
    {
     "data": {
      "text/plain": [
       "0    False\n",
       "1     True\n",
       "2    False\n",
       "3    False\n",
       "4    False\n",
       "5    False\n",
       "dtype: bool"
      ]
     },
     "execution_count": 8,
     "metadata": {},
     "output_type": "execute_result"
    }
   ],
   "source": [
    "# Another thing you will see is equality with series\n",
    "only_sam_bix  = name_series == 'Sam'\n",
    "only_sam_bix"
   ]
  },
  {
   "cell_type": "code",
   "execution_count": 9,
   "metadata": {},
   "outputs": [
    {
     "data": {
      "text/plain": [
       "1    Sam\n",
       "dtype: object"
      ]
     },
     "execution_count": 9,
     "metadata": {},
     "output_type": "execute_result"
    }
   ],
   "source": [
    "# And we can get Sam.\n",
    "name_series.loc[only_sam_bix]"
   ]
  },
  {
   "cell_type": "markdown",
   "metadata": {},
   "source": [
    "Note: you can do this in a single line, but the caveat is that if you are going to use multiple conditions without assigning to a separate series, you will have to separate your conditions using parenthesis and operators.\n",
    "\n",
    "* **|** is your 'or' operator\n",
    "* **&** is your 'and' operator\n",
    "* **^** is your 'xor' operator.\n",
    "* **~** is your 'not' operator."
   ]
  },
  {
   "cell_type": "code",
   "execution_count": 10,
   "metadata": {},
   "outputs": [
    {
     "data": {
      "text/plain": [
       "0    Sarah\n",
       "2    David\n",
       "3    Sadie\n",
       "4     Elsa\n",
       "5     Dave\n",
       "dtype: object"
      ]
     },
     "execution_count": 10,
     "metadata": {},
     "output_type": "execute_result"
    }
   ],
   "source": [
    "# Here we negate the Sam only bix, giving us everything but Sam in a bix.\n",
    "opposite_of_sam_only_bix = ~only_sam_bix\n",
    "\n",
    "# And selecting everyone but Sam\n",
    "name_series.loc[opposite_of_sam_only_bix]"
   ]
  },
  {
   "cell_type": "code",
   "execution_count": 11,
   "metadata": {},
   "outputs": [
    {
     "data": {
      "text/plain": [
       "0    Sarah\n",
       "2    David\n",
       "3    Sadie\n",
       "5     Dave\n",
       "dtype: object"
      ]
     },
     "execution_count": 11,
     "metadata": {},
     "output_type": "execute_result"
    }
   ],
   "source": [
    "# Here we have a condition of 1) Name is 5 letters in length or 2) name is 'Mark'\n",
    "# You can get as granular as you want, but be warned this can get really messy really quickly.\n",
    "# Because space doesn't matter inside delimiters, I like to separate each condition on a line.\n",
    "name_series[\n",
    "    (name_series.str.len() == 5) | \n",
    "    (name_series == 'Dave')\n",
    "]"
   ]
  },
  {
   "cell_type": "markdown",
   "metadata": {},
   "source": [
    "## Index object indexing\n",
    "\n",
    "We can also use index objects for indexing. This is useful for when we want to use one of the large numbers of Index [methods](https://pandas.pydata.org/pandas-docs/stable/api.html#index). Most useful ones:\n",
    "\n",
    "* [Index.difference](https://pandas.pydata.org/pandas-docs/stable/generated/pandas.Index.union.html#pandas.Index.difference): get the difference between index a and index b.\n",
    "* [Index.duplicated](https://pandas.pydata.org/pandas-docs/stable/generated/pandas.Index.duplicated.html#pandas.Index.duplicated): whether an index item occurs more than once\n",
    "* [Index.get_loc](https://pandas.pydata.org/pandas-docs/stable/generated/pandas.Index.get_loc.html): get an integer location based on an index value\n",
    "* [Index.intersection](https://pandas.pydata.org/pandas-docs/stable/generated/pandas.Index.intersection.html): a list of the shared items.\n",
    "* [Index.isin](https://pandas.pydata.org/pandas-docs/stable/generated/pandas.Index.isin.html#pandas.Index.isin): whether an index vlaue is in an arbitrary list.\n",
    "* [Index.symmetric_difference](https://pandas.pydata.org/pandas-docs/stable/generated/pandas.Index.symmetric_difference.html): the the items that are only listed in one index.\n",
    "* [Index.union](https://pandas.pydata.org/pandas-docs/stable/generated/pandas.Index.union.html#pandas.Index.union): merge two indexes."
   ]
  },
  {
   "cell_type": "code",
   "execution_count": 12,
   "metadata": {},
   "outputs": [
    {
     "data": {
      "text/plain": [
       "Jane        0\n",
       "Jessica    48\n",
       "dtype: int32"
      ]
     },
     "execution_count": 12,
     "metadata": {},
     "output_type": "execute_result"
    }
   ],
   "source": [
    "# Say we have a series ...\n",
    "original_series = pd.Series(\n",
    "    index=['Jane', 'John', 'Jenny', 'Julie', 'Jessica'],\n",
    "    data=np.random.randint(0,100,5)\n",
    ")\n",
    "\n",
    "# and an index ...\n",
    "index = pd.Index(['Jane', 'Jessica'])\n",
    "\n",
    "# we can use loc with the index to get a result.\n",
    "original_series.loc[index]"
   ]
  },
  {
   "cell_type": "code",
   "execution_count": 13,
   "metadata": {},
   "outputs": [
    {
     "data": {
      "text/plain": [
       "Jenny      14\n",
       "Jessica    48\n",
       "Julie      57\n",
       "dtype: int32"
      ]
     },
     "execution_count": 13,
     "metadata": {},
     "output_type": "execute_result"
    }
   ],
   "source": [
    "# Get a random sample of our frame\n",
    "s1 = original_series.sample(3)\n",
    "s1"
   ]
  },
  {
   "cell_type": "code",
   "execution_count": 14,
   "metadata": {},
   "outputs": [
    {
     "data": {
      "text/plain": [
       "John     94\n",
       "Jane      0\n",
       "Jenny    14\n",
       "dtype: int32"
      ]
     },
     "execution_count": 14,
     "metadata": {},
     "output_type": "execute_result"
    }
   ],
   "source": [
    "# Another random sample\n",
    "s2 = original_series.sample(3)\n",
    "s2"
   ]
  },
  {
   "cell_type": "code",
   "execution_count": 15,
   "metadata": {},
   "outputs": [
    {
     "data": {
      "text/plain": [
       "Index(['Jane', 'Jenny', 'Jessica', 'John', 'Julie'], dtype='object')"
      ]
     },
     "execution_count": 15,
     "metadata": {},
     "output_type": "execute_result"
    }
   ],
   "source": [
    "# Combined index values of s1 and s2\n",
    "union = s1.index.union(s2.index)\n",
    "union"
   ]
  },
  {
   "cell_type": "code",
   "execution_count": 16,
   "metadata": {},
   "outputs": [
    {
     "data": {
      "text/plain": [
       "Index(['Jenny'], dtype='object')"
      ]
     },
     "execution_count": 16,
     "metadata": {},
     "output_type": "execute_result"
    }
   ],
   "source": [
    "# The intersecting values of s1 and s2\n",
    "intersect = s1.index.intersection(s2.index)\n",
    "intersect"
   ]
  },
  {
   "cell_type": "code",
   "execution_count": 17,
   "metadata": {},
   "outputs": [
    {
     "data": {
      "text/plain": [
       "Index(['Jessica', 'Julie'], dtype='object')"
      ]
     },
     "execution_count": 17,
     "metadata": {},
     "output_type": "execute_result"
    }
   ],
   "source": [
    "# The items in s1 but not s2.\n",
    "s1_diff = s1.index.difference(s2.index)\n",
    "s1_diff"
   ]
  },
  {
   "cell_type": "code",
   "execution_count": 18,
   "metadata": {},
   "outputs": [
    {
     "data": {
      "text/plain": [
       "Index(['Jane', 'John'], dtype='object')"
      ]
     },
     "execution_count": 18,
     "metadata": {},
     "output_type": "execute_result"
    }
   ],
   "source": [
    "# The items in s2 and not s1.\n",
    "s2_diff = s2.index.difference(s1.index)\n",
    "s2_diff"
   ]
  },
  {
   "cell_type": "code",
   "execution_count": 19,
   "metadata": {},
   "outputs": [
    {
     "data": {
      "text/plain": [
       "Index(['Jane', 'Jessica', 'John', 'Julie'], dtype='object')"
      ]
     },
     "execution_count": 19,
     "metadata": {},
     "output_type": "execute_result"
    }
   ],
   "source": [
    "# The items that are in s1 or s2, but that are not shared.\n",
    "sym_diff = s2.index.symmetric_difference(s1.index)\n",
    "sym_diff"
   ]
  },
  {
   "cell_type": "code",
   "execution_count": 20,
   "metadata": {},
   "outputs": [
    {
     "data": {
      "text/plain": [
       "array([ True, False,  True])"
      ]
     },
     "execution_count": 20,
     "metadata": {},
     "output_type": "execute_result"
    }
   ],
   "source": [
    "# Boolean index of items in s1 that are included in an arbitrary list.\n",
    "included = s1.index.isin(['Jenny', 'Jebediah', 'Julie'])\n",
    "included"
   ]
  },
  {
   "cell_type": "code",
   "execution_count": 21,
   "metadata": {},
   "outputs": [
    {
     "data": {
      "text/plain": [
       "dtype('O')"
      ]
     },
     "execution_count": 21,
     "metadata": {},
     "output_type": "execute_result"
    }
   ],
   "source": [
    "# The datatype of our series\n",
    "datatype = s1.index.dtype\n",
    "datatype"
   ]
  },
  {
   "cell_type": "code",
   "execution_count": 22,
   "metadata": {},
   "outputs": [
    {
     "data": {
      "text/plain": [
       "array(['Jenny', 'Jessica', 'Julie'], dtype=object)"
      ]
     },
     "execution_count": 22,
     "metadata": {},
     "output_type": "execute_result"
    }
   ],
   "source": [
    "# The raw values of our series\n",
    "raw_values = s1.index.values\n",
    "raw_values"
   ]
  },
  {
   "cell_type": "code",
   "execution_count": 23,
   "metadata": {},
   "outputs": [
    {
     "data": {
      "text/plain": [
       "Index(['Jenny', 'Jessica', 'Julie'], dtype='object')"
      ]
     },
     "execution_count": 23,
     "metadata": {},
     "output_type": "execute_result"
    }
   ],
   "source": [
    "# The index of s1 sorted by a sort function.\n",
    "sorted_index = s1.index.sort_values()\n",
    "sorted_index"
   ]
  },
  {
   "cell_type": "code",
   "execution_count": 24,
   "metadata": {},
   "outputs": [
    {
     "data": {
      "text/plain": [
       "array([False, False, False])"
      ]
     },
     "execution_count": 24,
     "metadata": {},
     "output_type": "execute_result"
    }
   ],
   "source": [
    "# The index of duplicated items (leaves one duplicated item only)\n",
    "duplicated_bix = s1.index.duplicated()\n",
    "duplicated_bix"
   ]
  },
  {
   "cell_type": "code",
   "execution_count": 25,
   "metadata": {},
   "outputs": [
    {
     "data": {
      "text/plain": [
       "Index(['Jane', 'John', 'Jenny', 'Julie'], dtype='object')"
      ]
     },
     "execution_count": 25,
     "metadata": {},
     "output_type": "execute_result"
    }
   ],
   "source": [
    "# A new index with values of previous index dropped.\n",
    "jessicaless_index = original_series.index.drop('Jessica')\n",
    "jessicaless_index"
   ]
  },
  {
   "cell_type": "markdown",
   "metadata": {},
   "source": [
    "##### This pays off because we can loc[] the original series based on our new indexes!\n",
    "\n",
    "    series.loc[new_index]"
   ]
  },
  {
   "cell_type": "code",
   "execution_count": 26,
   "metadata": {},
   "outputs": [
    {
     "data": {
      "text/plain": [
       "Jenny    14\n",
       "dtype: int32"
      ]
     },
     "execution_count": 26,
     "metadata": {},
     "output_type": "execute_result"
    }
   ],
   "source": [
    "# Here we have the intersection of s1 and s2 as an indexer for the original series.\n",
    "original_series.loc[intersect]"
   ]
  },
  {
   "cell_type": "code",
   "execution_count": 27,
   "metadata": {},
   "outputs": [
    {
     "data": {
      "text/plain": [
       "Jenny      14\n",
       "Jessica    48\n",
       "Julie      57\n",
       "dtype: int32"
      ]
     },
     "execution_count": 27,
     "metadata": {},
     "output_type": "execute_result"
    }
   ],
   "source": [
    "# Here we use s1's index as an indexer for the original series.\n",
    "# This is useful for transferring results across series and dataframes.\n",
    "s1_index = s1.index\n",
    "original_series.loc[s1_index]"
   ]
  },
  {
   "cell_type": "markdown",
   "metadata": {},
   "source": [
    "## Multiindexes\n",
    "\n",
    "Pandas also allows for hierarchical indexes, which are called 'multiindexes'. We're not going to go too far into these, but just know this is a great way to deal with subpopulations of data. The best way to access multiindexes is to use loc[] and then pass it a tuple with one key per level of your index.\n",
    "\n",
    "Side note: generally a groupby(column_1, column_2) is a really way to generate a multiindex."
   ]
  },
  {
   "cell_type": "code",
   "execution_count": 28,
   "metadata": {},
   "outputs": [
    {
     "name": "stdout",
     "output_type": "stream",
     "text": [
      "The number of big/tall people are:\n",
      "5\n",
      "\n",
      "The number of big people are:\n",
      "short    1\n",
      "tall     5\n",
      "dtype: int64\n"
     ]
    },
    {
     "data": {
      "text/plain": [
       "big    short    1\n",
       "       tall     5\n",
       "small  short    3\n",
       "       tall     0\n",
       "dtype: int64"
      ]
     },
     "execution_count": 28,
     "metadata": {},
     "output_type": "execute_result"
    }
   ],
   "source": [
    "# We won't discuss this, but we can also use multiindexes\n",
    "## Note: there are hierarchical indexes (multiindexes), but we won't get to that until later.\n",
    "multiindex = pd.MultiIndex.from_tuples([('big', 'short'), ('big', 'tall'), ('small', 'short'), ('small', 'tall')])\n",
    "\n",
    "# Create multiindexed series\n",
    "ms = pd.Series(\n",
    "    index=multiindex,\n",
    "    data=[1,5,3,0]\n",
    ")\n",
    "\n",
    "# Demonstrate indexing a multiindex\n",
    "print('The number of big/tall people are:')\n",
    "print(ms.loc[('big', 'tall')])\n",
    "print()\n",
    "\n",
    "# You can also select bigger chunks\n",
    "print('The number of big people are:')\n",
    "print(ms.loc['big'])\n",
    "\n",
    "# Show multiindexed series\n",
    "ms"
   ]
  },
  {
   "cell_type": "markdown",
   "metadata": {},
   "source": [
    "# Additional Learing Resources\n",
    "\n",
    "* ### [Official Pandas Advanced Indexing](https://pandas.pydata.org/pandas-docs/stable/advanced.html#advanced)\n",
    "* ### [Multiindex API](http://pandas.pydata.org/pandas-docs/stable/generated/pandas.MultiIndex.html)\n"
   ]
  },
  {
   "cell_type": "markdown",
   "metadata": {},
   "source": [
    "---\n",
    "\n",
    "# Next Up: [Series Part 1 Exervises](6_series_part_1_exercises.ipynb)\n",
    "\n",
    "<br>\n",
    "\n",
    "<h1 align=\"left\"> $W=-\\Delta PE$ </h1>\n",
    "\n",
    "---"
   ]
  }
 ],
 "metadata": {
  "anaconda-cloud": {},
  "kernelspec": {
   "display_name": "Python 3",
   "language": "python",
   "name": "python3"
  },
  "language_info": {
   "codemirror_mode": {
    "name": "ipython",
    "version": 3
   },
   "file_extension": ".py",
   "mimetype": "text/x-python",
   "name": "python",
   "nbconvert_exporter": "python",
   "pygments_lexer": "ipython3",
   "version": "3.6.5"
  }
 },
 "nbformat": 4,
 "nbformat_minor": 1
}
