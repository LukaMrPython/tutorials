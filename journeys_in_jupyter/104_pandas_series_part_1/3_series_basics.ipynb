{
 "cells": [
  {
   "cell_type": "markdown",
   "metadata": {
    "collapsed": true
   },
   "source": [
    "<a href=\"https://github.com/theonaunheim\">\n",
    "    <img style=\"border-radius: 100%; float: right;\" src=\"static/strawberry_thief_square.png\" width=10% alt=\"Theo Naunheim's Github\">\n",
    "</a>\n",
    "\n",
    "<br style=\"clear: both\">\n",
    "<hr>\n",
    "<br>\n",
    "\n",
    "<h1 align='center'>Series Basics</h1>\n",
    "\n",
    "<br>\n",
    "\n",
    "<div style=\"display: table; width: 100%\">\n",
    "    <div style=\"display: table-row; width: 100%;\">\n",
    "        <div style=\"display: table-cell; width: 50%; vertical-align: middle;\">\n",
    "            <img src=\"static/laozi.jpg\">\n",
    "        </div>\n",
    "        <div style=\"display: table-cell; width: 10%\">\n",
    "        </div>\n",
    "        <div style=\"display: table-cell; width: 40%; vertical-align: top;\">\n",
    "            <blockquote>\n",
    "                <p style=\"font-style: italic;\">\"Act without doing; work without effort. Think of the small as large and the few as many. Confront the difficult while it is still easy; accomplish the great task by a series of small acts.\"</p>\n",
    "                <br>\n",
    "                <p>-Laozi (by way of Wes McKinney)</p>\n",
    "            </blockquote>\n",
    "        </div>\n",
    "    </div>\n",
    "</div>\n",
    "\n",
    "<br>\n",
    "\n",
    "<div align='left'>\n",
    "    Image courtesy of <a href='https://commons.wikimedia.org/wiki/File:Laozi.jpg'>ManosHacker</a>; released into the public domain.\n",
    "</div>\n",
    "\n",
    "<hr>"
   ]
  },
  {
   "cell_type": "code",
   "execution_count": 1,
   "metadata": {},
   "outputs": [],
   "source": [
    "# Import stuff so we can use libraries.\n",
    "import numpy as np\n",
    "import pandas as pd"
   ]
  },
  {
   "cell_type": "markdown",
   "metadata": {},
   "source": [
    "---\n",
    "\n",
    "# What is a Series?\n",
    "\n",
    "Conceptually, the [Series](https://pandas.pydata.org/pandas-docs/stable/generated/pandas.Series.html) object in Pandas is simple. It is just a data container comprised of data attached to an index."
   ]
  },
  {
   "cell_type": "code",
   "execution_count": 2,
   "metadata": {},
   "outputs": [
    {
     "data": {
      "text/plain": [
       "0     50\n",
       "1    100\n",
       "2    150\n",
       "3    100\n",
       "4     50\n",
       "Name: data, dtype: int64"
      ]
     },
     "execution_count": 2,
     "metadata": {},
     "output_type": "execute_result"
    }
   ],
   "source": [
    "# You can directly create series using the pd.Series constructor. Which takes lists ...\n",
    "s1 = pd.Series([50, 100, 150, 100, 50])\n",
    "\n",
    "# Or dictionaries\n",
    "s1 = pd.Series({0: 50, 1: 100, 2: 150, 3: 100, 4: 50})\n",
    "\n",
    "# Or any iterable, really ...\n",
    "s1 = pd.Series(data=tuple([50,100,150,100,50]), index=[0,1,2,3,4])\n",
    "\n",
    "# We can also load it from a data file. This is ugly because read_csv() is for dataframes.\n",
    "# We need the \"squeeze\" option to get a Series instead of a frame.\n",
    "s1 = pd.read_csv('data/simple.csv', squeeze=True)\n",
    "\n",
    "# Remember the last item in a cell is displayed.\n",
    "s1"
   ]
  },
  {
   "cell_type": "markdown",
   "metadata": {},
   "source": [
    "What do we have here? Looking at the above, we can see that we have our data listed in a column on the right, and a list of numbers on the left. And what are these labels on the left? These numbers are the \"index\".\n",
    "\n",
    "At it's core, a Series is a container that has an index and data ... which allows us to do a ton of useful stuff with it.\n",
    "\n",
    "The purpose of the data is self-evident. It is the information we are analyzing. The purpose of the index is to allow for us to select/lookup parts of the data (\"indexing\") or to help associate data from one series to another. \n",
    "\n",
    "Generally, an index should be unique key (usually but not always a number or a string)--in this case Pandas auto-assigned us an index."
   ]
  },
  {
   "cell_type": "code",
   "execution_count": 3,
   "metadata": {},
   "outputs": [
    {
     "name": "stdout",
     "output_type": "stream",
     "text": [
      "We are accessing our index!\n",
      "\n",
      "RangeIndex(start=0, stop=5, step=1)\n"
     ]
    }
   ],
   "source": [
    "# We can access our index directly using dot notaiton.\n",
    "my_index = s1.index\n",
    "\n",
    "print('We are accessing our index!\\n')\n",
    "print(my_index)"
   ]
  },
  {
   "cell_type": "code",
   "execution_count": 4,
   "metadata": {},
   "outputs": [
    {
     "name": "stdout",
     "output_type": "stream",
     "text": [
      "\n",
      "Pandas has helpfully auto-assigned the following numbers for our index!\n",
      "\n",
      "[0 1 2 3 4]\n",
      "\n",
      "... because we failed to do so.\n"
     ]
    }
   ],
   "source": [
    "# And take a look at it's values\n",
    "value_of_my_index = my_index.values\n",
    "\n",
    "print('\\nPandas has helpfully auto-assigned the following numbers for our index!\\n')\n",
    "print(value_of_my_index)\n",
    "print('\\n... because we failed to do so.')"
   ]
  },
  {
   "cell_type": "code",
   "execution_count": 5,
   "metadata": {},
   "outputs": [
    {
     "name": "stdout",
     "output_type": "stream",
     "text": [
      "\n",
      "Our data values are below!\n",
      "\n",
      "[ 50 100 150 100  50]\n"
     ]
    }
   ],
   "source": [
    "# We can also directly inspect the data values\n",
    "data_values = s1.values\n",
    "\n",
    "print('\\nOur data values are below!\\n')\n",
    "print(data_values)"
   ]
  },
  {
   "cell_type": "code",
   "execution_count": 6,
   "metadata": {},
   "outputs": [
    {
     "name": "stdout",
     "output_type": "stream",
     "text": [
      "The list of values is stored as <class 'numpy.ndarray'>.\n",
      "\n",
      "The data itself is stored as <class 'numpy.int64'>, but we can just treat it as if it is a regular number.\n",
      "\n"
     ]
    }
   ],
   "source": [
    "# Series are built on top of numpy arrays for speed.\n",
    "underlying_type = type(data_values)\n",
    "number_type = type(data_values[0])\n",
    "\n",
    "print(f'The list of values is stored as {underlying_type}.\\n')\n",
    "print(f'The data itself is stored as {number_type}, but we can just treat it as if it is a regular number.\\n')"
   ]
  },
  {
   "cell_type": "code",
   "execution_count": 7,
   "metadata": {},
   "outputs": [
    {
     "data": {
      "text/plain": [
       "Brewers       0.0\n",
       "Cubs          1.0\n",
       "Cardinals     7.0\n",
       "Pirates      13.0\n",
       "Reds         28.0\n",
       "Name: Games Back, dtype: float64"
      ]
     },
     "execution_count": 7,
     "metadata": {},
     "output_type": "execute_result"
    }
   ],
   "source": [
    "# Creating some slighly more complicated series.\n",
    "nl_central = pd.Series(\n",
    "    data=[0, 1, 7, 13, 28],\n",
    "    index=['Brewers', 'Cubs', 'Cardinals', 'Pirates', 'Reds'],\n",
    "    dtype=np.float64,\n",
    "    name='Games Back'\n",
    ")\n",
    "\n",
    "# 'data' is the data we are storing\n",
    "# 'index' is out lookup keys\n",
    "# 'dtype' is generally inferred, but you can specify if need be\n",
    "# 'name' is used for internal references within dataframes.\n",
    "nl_central"
   ]
  },
  {
   "cell_type": "markdown",
   "metadata": {},
   "source": [
    "Note: Numpy trades flexibility for speed. Python usually resolves types of unknown size at runtime. If we use a \"static\"-like type, we can organize our data into arrays that are compact and provide quick lookups/operations."
   ]
  },
  {
   "cell_type": "markdown",
   "metadata": {},
   "source": [
    "---\n",
    "\n",
    "# What does this Series allow us to do?\n",
    "\n",
    "Whole bunch. Let's take a look see."
   ]
  },
  {
   "cell_type": "markdown",
   "metadata": {},
   "source": [
    "### Convenience attrributes and methods.\n",
    "\n",
    "First off, the Pandas [Series API](https://pandas.pydata.org/pandas-docs/stable/api.html#series) has a huge number of different types of calculations and operations to make your life easier. A brief sampling is below."
   ]
  },
  {
   "cell_type": "code",
   "execution_count": 8,
   "metadata": {},
   "outputs": [
    {
     "name": "stdout",
     "output_type": "stream",
     "text": [
      "Our series object has 450 attributes and methods.\n"
     ]
    }
   ],
   "source": [
    "# Lets take a look at how many available attibutes and methods we have\n",
    "count = len(dir(s1))\n",
    "print(f'Our series object has {count} attributes and methods.')"
   ]
  },
  {
   "cell_type": "code",
   "execution_count": 9,
   "metadata": {},
   "outputs": [
    {
     "data": {
      "text/plain": [
       "100    2\n",
       "50     2\n",
       "150    1\n",
       "Name: data, dtype: int64"
      ]
     },
     "execution_count": 9,
     "metadata": {},
     "output_type": "execute_result"
    }
   ],
   "source": [
    "# How many of each value are there?\n",
    "s1.value_counts()"
   ]
  },
  {
   "cell_type": "code",
   "execution_count": 10,
   "metadata": {},
   "outputs": [
    {
     "data": {
      "text/plain": [
       "90.0"
      ]
     },
     "execution_count": 10,
     "metadata": {},
     "output_type": "execute_result"
    }
   ],
   "source": [
    "# What's the mean value?\n",
    "s1.mean()"
   ]
  },
  {
   "cell_type": "code",
   "execution_count": 11,
   "metadata": {},
   "outputs": [
    {
     "data": {
      "text/plain": [
       "array([ 50, 100, 150], dtype=int64)"
      ]
     },
     "execution_count": 11,
     "metadata": {},
     "output_type": "execute_result"
    }
   ],
   "source": [
    "# What unique values do we have?\n",
    "s1.unique()"
   ]
  },
  {
   "cell_type": "code",
   "execution_count": 12,
   "metadata": {},
   "outputs": [
    {
     "data": {
      "text/plain": [
       "2    150\n",
       "3    100\n",
       "1    100\n",
       "4     50\n",
       "0     50\n",
       "Name: data, dtype: int64"
      ]
     },
     "execution_count": 12,
     "metadata": {},
     "output_type": "execute_result"
    }
   ],
   "source": [
    "# What are our values sorted descending?\n",
    "s1.sort_values(ascending=False)"
   ]
  },
  {
   "cell_type": "markdown",
   "metadata": {},
   "source": [
    "### Vectorized mathematics\n",
    "\n",
    "Secondly, and perhaps more importantly, putting the data in a container allows us to operate on the container as a whole, which makes computation much more convenient."
   ]
  },
  {
   "cell_type": "code",
   "execution_count": 13,
   "metadata": {},
   "outputs": [
    {
     "data": {
      "text/plain": [
       "0     50\n",
       "1    100\n",
       "2    150\n",
       "3    100\n",
       "4     50\n",
       "Name: data, dtype: int64"
      ]
     },
     "execution_count": 13,
     "metadata": {},
     "output_type": "execute_result"
    }
   ],
   "source": [
    "# Again, here's s1 ...\n",
    "s1"
   ]
  },
  {
   "cell_type": "code",
   "execution_count": 14,
   "metadata": {},
   "outputs": [
    {
     "data": {
      "text/plain": [
       "0     500\n",
       "1    1000\n",
       "2    1500\n",
       "3    1000\n",
       "4     500\n",
       "Name: data, dtype: int64"
      ]
     },
     "execution_count": 14,
     "metadata": {},
     "output_type": "execute_result"
    }
   ],
   "source": [
    "# Say we want to create a new series that is just every item in the series times 10?\n",
    "s2 = s1 * 10\n",
    "s2"
   ]
  },
  {
   "cell_type": "code",
   "execution_count": 15,
   "metadata": {},
   "outputs": [
    {
     "data": {
      "text/plain": [
       "0     450\n",
       "1     900\n",
       "2    1350\n",
       "3     900\n",
       "4     450\n",
       "Name: data, dtype: int64"
      ]
     },
     "execution_count": 15,
     "metadata": {},
     "output_type": "execute_result"
    }
   ],
   "source": [
    "# And then we want to make a new series that is just Series 2 minus Series 1?\n",
    "s3 = s2 - s1\n",
    "s3"
   ]
  },
  {
   "cell_type": "markdown",
   "metadata": {},
   "source": [
    "That's pretty nifty, but how does pandas know which row to subtract from which?\n",
    "\n",
    "As you can see, pandas uses the index to figure out what gets subtracted from what. It in other words, it is subtracting the item at the zero index of Series one from the zero index of Series Two, to give us the item at the zero index of Series 3."
   ]
  },
  {
   "cell_type": "code",
   "execution_count": 16,
   "metadata": {},
   "outputs": [
    {
     "name": "stdout",
     "output_type": "stream",
     "text": [
      "The first item in s2 is:             500\n",
      "The first item in s1 is:             50\n",
      "Our operation is s2 - s1.\n",
      "Therefore, the first item in s3 is:  450\n"
     ]
    }
   ],
   "source": [
    "# Demnostrating the above:\n",
    "print('The first item in s2 is:            ', s2[0])\n",
    "print('The first item in s1 is:            ', s1[0])\n",
    "print('Our operation is s2 - s1.')\n",
    "print('Therefore, the first item in s3 is: ', s3[0])"
   ]
  },
  {
   "cell_type": "code",
   "execution_count": 17,
   "metadata": {},
   "outputs": [
    {
     "data": {
      "text/plain": [
       "0     450.0\n",
       "1     900.0\n",
       "2    1350.0\n",
       "3       NaN\n",
       "4       NaN\n",
       "Name: data, dtype: float64"
      ]
     },
     "execution_count": 17,
     "metadata": {},
     "output_type": "execute_result"
    }
   ],
   "source": [
    "# Be aware that if you're combining two series and an index is only\n",
    "# in one series, you will get a missing value\n",
    "#\n",
    "# What is this mysterious missing value named NaN? More on this later ...\n",
    "# loc[] is your friend\n",
    "first_3_elements_of_s1 = s1.iloc[:3]\n",
    "s2 - first_3_elements_of_s1"
   ]
  },
  {
   "cell_type": "code",
   "execution_count": 18,
   "metadata": {},
   "outputs": [
    {
     "data": {
      "text/plain": [
       "0    False\n",
       "1     True\n",
       "2     True\n",
       "3     True\n",
       "4    False\n",
       "Name: data, dtype: bool"
      ]
     },
     "execution_count": 18,
     "metadata": {},
     "output_type": "execute_result"
    }
   ],
   "source": [
    "# We can also go logical operations\n",
    "s1 > 50"
   ]
  },
  {
   "cell_type": "code",
   "execution_count": 19,
   "metadata": {},
   "outputs": [
    {
     "data": {
      "text/plain": [
       "1    100\n",
       "2    150\n",
       "3    100\n",
       "Name: data, dtype: int64"
      ]
     },
     "execution_count": 19,
     "metadata": {},
     "output_type": "execute_result"
    }
   ],
   "source": [
    "# And what are all the numbers greater than 50 (we'll get to this)?\n",
    "s1.loc[s1 > 50]"
   ]
  },
  {
   "cell_type": "markdown",
   "metadata": {},
   "source": [
    "##### Side Note\n",
    "\n",
    "There are certain limitations to pay attention to operating on a series as a whole; this is due to [\"broadcasting\" rules](https://docs.scipy.org/doc/numpy/user/basics.broadcasting.html). You can safely ignore most of these provided:\n",
    "\n",
    "* You are using a single value, a.k.a. \"scalar\" \n",
    "\n",
    "\n",
    "    # scalar examples\n",
    "    s1 + 1.5\n",
    "    s2 * 3\n",
    "    \n",
    "\n",
    "* You are using two series, a.k.a. \"array\" or \"vector\"\n",
    "\n",
    "\n",
    "    # series examples\n",
    "    s1 * s2\n",
    "    s1 + sl.iloc[:3]\n"
   ]
  },
  {
   "cell_type": "markdown",
   "metadata": {},
   "source": [
    "### Cross-Data Associations\n",
    "\n",
    "Lastly, and most importantly, Series can come together Voltron-style to create \"dataframes\". We're not going to touch dataframes just yet, so just be aware that Dataframes are a collection of Series based around a shared index ... and they are totally awesome.\n",
    "\n",
    "Here we are supplying our own index of names (strings). We create a group of series with the same index, and then use them to create a dataframe."
   ]
  },
  {
   "cell_type": "code",
   "execution_count": 20,
   "metadata": {},
   "outputs": [
    {
     "data": {
      "text/html": [
       "<div>\n",
       "<style scoped>\n",
       "    .dataframe tbody tr th:only-of-type {\n",
       "        vertical-align: middle;\n",
       "    }\n",
       "\n",
       "    .dataframe tbody tr th {\n",
       "        vertical-align: top;\n",
       "    }\n",
       "\n",
       "    .dataframe thead th {\n",
       "        text-align: right;\n",
       "    }\n",
       "</style>\n",
       "<table border=\"1\" class=\"dataframe\">\n",
       "  <thead>\n",
       "    <tr style=\"text-align: right;\">\n",
       "      <th></th>\n",
       "      <th>Handle</th>\n",
       "      <th>Color</th>\n",
       "      <th>Last Update</th>\n",
       "      <th>Favorite Module</th>\n",
       "    </tr>\n",
       "  </thead>\n",
       "  <tbody>\n",
       "    <tr>\n",
       "      <th>Keith Kogane</th>\n",
       "      <td>Captain</td>\n",
       "      <td>Black</td>\n",
       "      <td>2018-11-03 20:18:40.663605</td>\n",
       "      <td>&lt;module 'pandas' from 'C:\\\\Program Files (x86)...</td>\n",
       "    </tr>\n",
       "    <tr>\n",
       "      <th>Lance McClain</th>\n",
       "      <td>NaN</td>\n",
       "      <td>Red</td>\n",
       "      <td>2018-11-03 20:18:40.663605</td>\n",
       "      <td>&lt;module 'numpy' from 'C:\\\\Program Files (x86)\\...</td>\n",
       "    </tr>\n",
       "    <tr>\n",
       "      <th>Darrell Stoker</th>\n",
       "      <td>Pidge</td>\n",
       "      <td>Green</td>\n",
       "      <td>2018-11-03 20:18:40.663605</td>\n",
       "      <td>&lt;module 'numpy' from 'C:\\\\Program Files (x86)\\...</td>\n",
       "    </tr>\n",
       "    <tr>\n",
       "      <th>Princess Allura</th>\n",
       "      <td>NaN</td>\n",
       "      <td>Pink</td>\n",
       "      <td>2018-11-03 20:18:40.663605</td>\n",
       "      <td>NaN</td>\n",
       "    </tr>\n",
       "    <tr>\n",
       "      <th>Tsuyoshi Garett</th>\n",
       "      <td>Hunk</td>\n",
       "      <td>Yellow</td>\n",
       "      <td>2018-11-03 20:18:40.663605</td>\n",
       "      <td>&lt;module 'pandas' from 'C:\\\\Program Files (x86)...</td>\n",
       "    </tr>\n",
       "  </tbody>\n",
       "</table>\n",
       "</div>"
      ],
      "text/plain": [
       "                  Handle   Color                Last Update  \\\n",
       "Keith Kogane     Captain   Black 2018-11-03 20:18:40.663605   \n",
       "Lance McClain        NaN     Red 2018-11-03 20:18:40.663605   \n",
       "Darrell Stoker     Pidge   Green 2018-11-03 20:18:40.663605   \n",
       "Princess Allura      NaN    Pink 2018-11-03 20:18:40.663605   \n",
       "Tsuyoshi Garett     Hunk  Yellow 2018-11-03 20:18:40.663605   \n",
       "\n",
       "                                                   Favorite Module  \n",
       "Keith Kogane     <module 'pandas' from 'C:\\\\Program Files (x86)...  \n",
       "Lance McClain    <module 'numpy' from 'C:\\\\Program Files (x86)\\...  \n",
       "Darrell Stoker   <module 'numpy' from 'C:\\\\Program Files (x86)\\...  \n",
       "Princess Allura                                                NaN  \n",
       "Tsuyoshi Garett  <module 'pandas' from 'C:\\\\Program Files (x86)...  "
      ]
     },
     "execution_count": 20,
     "metadata": {},
     "output_type": "execute_result"
    }
   ],
   "source": [
    "# List Data\n",
    "names     = ['Keith Kogane', 'Lance McClain',  'Darrell Stoker', 'Princess Allura', 'Tsuyoshi Garett']\n",
    "# Series data\n",
    "nicknames = pd.Series(['Captain', np.NaN, 'Pidge', np.NaN , 'Hunk'  ], index=names)\n",
    "color     = pd.Series(['Black'  , 'Red' , 'Green', 'Pink' , 'Yellow'], index=names)\n",
    "updated   = pd.Series(pd.datetime.now(), index=names)\n",
    "favorite  = pd.Series([pd       , np    , np     , np.NaN , pd      ], index=names)\n",
    "\n",
    "# Don't worry about dataframes yet! We'll get there ...\n",
    "# Dataframes allow us to track multiple types of data on a row-by-row basis.\n",
    "voltron = pd.DataFrame({\n",
    "    'Handle'         : nicknames,\n",
    "    'Color'          : color,\n",
    "    'Last Update'    : updated,\n",
    "    'Favorite Module': favorite,\n",
    "})\n",
    "\n",
    "voltron"
   ]
  },
  {
   "cell_type": "markdown",
   "metadata": {},
   "source": [
    "---\n",
    "\n",
    "# What can a Series hold?\n",
    "\n",
    "It ***can*** hold pretty much anything. What it ***should*** and **does** hold is another matter.\n",
    "\n",
    "As mentioned before, Pandas uses Numpy to speed up computations. Numpy attaches a datatype to all arrays which allows those arrays to be faster and more compact than Python lists. In Pandas, we will generally use the following [datatypes](https://pandas.pydata.org/pandas-docs/stable/basics.html#dtypes):\n",
    "\n",
    "* **object** (abbreviated **'O'**): which can be any Python object. Most notably this includes strings. This type supports np.NaN, which is used for missing data.\n",
    "* **bool**: which can be either True or False.\n",
    "* **int64**: an integer type. This type does not support np.NaN, so if your expected int64 column ends up as float64, that's probably why.\n",
    "* **float64**: a floating point type. This type supports the np.NaN.\n",
    "* **datetime64[ns]**: the basic time and/or date type with a resolution of nanoseconds. This comes in regular and time-zone enabled. This type supports pd.NaT.\n",
    "* **timedelta64[ns]**: a type used for a period of time between two datetimes, with a resolution in nanoseconds.\n",
    "* **category**: this is a pandas-specific type that is used to substitute a small integer for a frequently occuring value. This supports np.NaN.\n",
    "\n",
    "---\n",
    "\n",
    "Weird detour: np.NaN is the missing object type. Oddly enough:\n",
    "* it's actually a float\n",
    "* it is not equal to anything, including itself (np.NaN != np.NaN).\n",
    "* If you want to see if a value is NaN, you must use pd.isnull(your_series), pd.notnull(your_series), your_series.isnull(), or your_series.notnull().\n",
    "* only the object and float types support np.NaN.\n",
    "* if you have null values in an integer type, it will convert to float.\n",
    "\n",
    "For more detail, see [the official Pandas tutorial on missing data](http://pandas.pydata.org/pandas-docs/stable/missing_data.html).\n",
    "\n",
    "---"
   ]
  },
  {
   "cell_type": "code",
   "execution_count": 21,
   "metadata": {},
   "outputs": [
    {
     "data": {
      "text/plain": [
       "dtype('O')"
      ]
     },
     "execution_count": 21,
     "metadata": {},
     "output_type": "execute_result"
    }
   ],
   "source": [
    "# You can get the datatype of a particular Series by accessing its dtype method.\n",
    "nicknames.dtype"
   ]
  },
  {
   "cell_type": "code",
   "execution_count": 22,
   "metadata": {},
   "outputs": [
    {
     "data": {
      "text/plain": [
       "Keith Kogane        BLACK\n",
       "Lance McClain         RED\n",
       "Darrell Stoker      GREEN\n",
       "Princess Allura      PINK\n",
       "Tsuyoshi Garett    YELLOW\n",
       "dtype: object"
      ]
     },
     "execution_count": 22,
     "metadata": {},
     "output_type": "execute_result"
    }
   ],
   "source": [
    "# And depending on the type, you may have special namespaces such as .str for strings ...\n",
    "color.str.upper()"
   ]
  },
  {
   "cell_type": "code",
   "execution_count": 23,
   "metadata": {},
   "outputs": [
    {
     "data": {
      "text/plain": [
       "Keith Kogane       Saturday\n",
       "Lance McClain      Saturday\n",
       "Darrell Stoker     Saturday\n",
       "Princess Allura    Saturday\n",
       "Tsuyoshi Garett    Saturday\n",
       "dtype: object"
      ]
     },
     "execution_count": 23,
     "metadata": {},
     "output_type": "execute_result"
    }
   ],
   "source": [
    "# Or .dt for datetimes.\n",
    "updated.dt.day_name()"
   ]
  },
  {
   "cell_type": "markdown",
   "metadata": {},
   "source": [
    "---\n",
    "\n",
    "# Recap\n",
    "\n",
    "1. Series are a flexible datatype for holding data\n",
    "2. They have two major parts, and index and data\n",
    "3. Unlike regular lists, they have a type\n",
    "4. Series can be operated on as a unit\n",
    "5. Series associate with other series via the index"
   ]
  },
  {
   "cell_type": "markdown",
   "metadata": {},
   "source": [
    "---\n",
    "\n",
    "# So now what?\n",
    "\n",
    "Now that we have a better understanding of what a Series is, we're going to take a look at indexing and all the cool stuff it can do for us."
   ]
  },
  {
   "cell_type": "markdown",
   "metadata": {},
   "source": [
    "# Additional Learing Resources\n",
    "\n",
    "* ### [Official Pandas Datatypes](https://pandas.pydata.org/pandas-docs/stable/basics.html#dtypes)\n",
    "* ### [Practical Business Python: Pandas Datatypes](pbpython.com/pandas_dtypes.html)\n",
    "* ### [Series Reference](https://pandas.pydata.org/pandas-docs/stable/generated/pandas.Series.html)\n",
    "* ### [Tutorials Point: Series](https://www.tutorialspoint.com/python_pandas/python_pandas_series.htm)"
   ]
  },
  {
   "cell_type": "markdown",
   "metadata": {},
   "source": [
    "---\n",
    "\n",
    "# Next Up: [Basic Indexing](4_basic_indexing.ipynb)\n",
    "\n",
    "<br>\n",
    "\n",
    "\n",
    "$\\large{{{a} ={\\begin{pmatrix}a_{1}\\\\a_{2}\\\\\\vdots \\\\a_{n}\\end{pmatrix}}}}$\n",
    "\n",
    "---"
   ]
  }
 ],
 "metadata": {
  "anaconda-cloud": {},
  "kernelspec": {
   "display_name": "Python 3",
   "language": "python",
   "name": "python3"
  },
  "language_info": {
   "codemirror_mode": {
    "name": "ipython",
    "version": 3
   },
   "file_extension": ".py",
   "mimetype": "text/x-python",
   "name": "python",
   "nbconvert_exporter": "python",
   "pygments_lexer": "ipython3",
   "version": "3.6.5"
  }
 },
 "nbformat": 4,
 "nbformat_minor": 1
}
