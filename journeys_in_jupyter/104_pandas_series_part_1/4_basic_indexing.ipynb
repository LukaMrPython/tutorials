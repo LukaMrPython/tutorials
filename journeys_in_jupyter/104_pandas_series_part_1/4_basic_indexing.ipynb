{
 "cells": [
  {
   "cell_type": "markdown",
   "metadata": {
    "collapsed": true
   },
   "source": [
    "<a href=\"https://github.com/theonaunheim\">\n",
    "    <img style=\"border-radius: 100%; float: right;\" src=\"static/strawberry_thief_square.png\" width=10% alt=\"Theo Naunheim's Github\">\n",
    "</a>\n",
    "\n",
    "<br style=\"clear: both\">\n",
    "<hr>\n",
    "<br>\n",
    "\n",
    "<h1 align='center'>Basic Indexing</h1>\n",
    "\n",
    "<br>\n",
    "\n",
    "<div style=\"display: table; width: 100%\">\n",
    "    <div style=\"display: table-row; width: 100%;\">\n",
    "        <div style=\"display: table-cell; width: 50%; align: middle; text-align: center;\">            \n",
    "            $\\large{{{a} ={\\begin{pmatrix}a_{1}\\\\a_{2}\\\\\\vdots \\\\a_{n}\\end{pmatrix}}}}$            \n",
    "        </div>\n",
    "        <div style=\"display: table-cell; width: 10%\">\n",
    "        </div>\n",
    "        <div style=\"display: table-cell; width: 40%; vertical-align: top;\">\n",
    "            <blockquote>\n",
    "                <p style=\"font-style: italic;\">\"An index is a great leveller.\"</p>\n",
    "                <br>\n",
    "                <p>-George Bernard Shaw</p>\n",
    "            </blockquote>\n",
    "        </div>\n",
    "    </div>\n",
    "</div>\n",
    "\n",
    "<br>\n",
    "\n",
    "\n",
    "\n",
    "<hr>"
   ]
  },
  {
   "cell_type": "code",
   "execution_count": 1,
   "metadata": {},
   "outputs": [],
   "source": [
    "# Import stuff so we can use libraries.\n",
    "import numpy as np\n",
    "import pandas as pd"
   ]
  },
  {
   "cell_type": "markdown",
   "metadata": {},
   "source": [
    "## Generally\n",
    "\n",
    "In Pandas, \"indexing\" is simply the process of using a key (or \"indexer\") to select zero or more pieces of data from an object. We can then use this selection to set or get data. We do this by using a look-up structure called an \"index\". As we've seen, Series are a type of object that can be indexed. Here we're going to look at indexing in more detail.\n",
    "\n",
    "To reiterate, to perform the **process of \"indexing\"**: \n",
    "\n",
    "* we use an **\"indexer\" (lookup key)**\n",
    "* this indexer performs a look up on an **\"index\" (data structure)**\n",
    "* this process gives us back a Series or single value, or alternatively allows us to set values for a selected area.\n",
    "\n",
    "Note: Indexing isn't glamorous, but it is abso-f***ing-lutely crucial to getting stuff done in Pandas"
   ]
  },
  {
   "cell_type": "code",
   "execution_count": 2,
   "metadata": {},
   "outputs": [
    {
     "data": {
      "text/plain": [
       "zero     0\n",
       "one      1\n",
       "two      2\n",
       "three    3\n",
       "four     4\n",
       "five     5\n",
       "dtype: int64"
      ]
     },
     "execution_count": 2,
     "metadata": {},
     "output_type": "execute_result"
    }
   ],
   "source": [
    "# Let's start with a pd.Series.\n",
    "# Here we supply an index composed of strings and data composed of integers.\n",
    "# If we do not supply an index, pandas will give us an integer index.\n",
    "s = pd.Series(\n",
    "    data=[0, 1, 2, 3, 4, 5],\n",
    "    index=['zero', 'one', 'two', 'three', 'four', 'five']\n",
    ")\n",
    "\n",
    "# Again, your index (s.index) is on the left\n",
    "# Your data (s.values) is on the right\n",
    "s"
   ]
  },
  {
   "cell_type": "markdown",
   "metadata": {},
   "source": [
    "# What kind of indexers and indexes can we use?\n",
    "\n",
    "Pretty much any [hashable type](https://docs.python.org/3.7/glossary.html). In other words, you can use things like ..."
   ]
  },
  {
   "cell_type": "code",
   "execution_count": 3,
   "metadata": {},
   "outputs": [
    {
     "data": {
      "text/plain": [
       "Int64Index([100, 200, 300, 400, 500], dtype='int64')"
      ]
     },
     "execution_count": 3,
     "metadata": {},
     "output_type": "execute_result"
    }
   ],
   "source": [
    "# Like integers (autoconverted to np.int64)\n",
    "integer_index = pd.Index([100, 200, 300, 400, 500])\n",
    "integer_index"
   ]
  },
  {
   "cell_type": "code",
   "execution_count": 4,
   "metadata": {},
   "outputs": [
    {
     "data": {
      "text/plain": [
       "Float64Index([2.1, 2.2, 3.4, 5.0], dtype='float64')"
      ]
     },
     "execution_count": 4,
     "metadata": {},
     "output_type": "execute_result"
    }
   ],
   "source": [
    "# Like floats (autoconverted to np.float64)\n",
    "float_index   = pd.Index([2.1,2.2,3.4,5])\n",
    "float_index"
   ]
  },
  {
   "cell_type": "code",
   "execution_count": 5,
   "metadata": {},
   "outputs": [
    {
     "data": {
      "text/plain": [
       "Index([True, False, True], dtype='object')"
      ]
     },
     "execution_count": 5,
     "metadata": {},
     "output_type": "execute_result"
    }
   ],
   "source": [
    "# Like Python boolean objects\n",
    "# Notice the non-unique index. This is a bad idea.\n",
    "boolean_index = pd.Index([True, False, True])\n",
    "boolean_index"
   ]
  },
  {
   "cell_type": "code",
   "execution_count": 6,
   "metadata": {},
   "outputs": [
    {
     "data": {
      "text/plain": [
       "DatetimeIndex(['2018-01-07', '2018-01-21', '2018-02-04', '2018-02-18',\n",
       "               '2018-03-04', '2018-03-18', '2018-04-01', '2018-04-15',\n",
       "               '2018-04-29', '2018-05-13', '2018-05-27', '2018-06-10',\n",
       "               '2018-06-24', '2018-07-08', '2018-07-22', '2018-08-05',\n",
       "               '2018-08-19', '2018-09-02', '2018-09-16', '2018-09-30',\n",
       "               '2018-10-14', '2018-10-28', '2018-11-11', '2018-11-25',\n",
       "               '2018-12-09', '2018-12-23'],\n",
       "              dtype='datetime64[ns]', freq='2W-SUN')"
      ]
     },
     "execution_count": 6,
     "metadata": {},
     "output_type": "execute_result"
    }
   ],
   "source": [
    "# Like datetimes (autoconverted to np.datetime64)\n",
    "# See offset aliases to get your freq on: pandas.pydata.org/pandas-docs/stable/timeseries.html#offset-aliases\n",
    "# Here we'll do every two weeks\n",
    "dt_index = pd.DatetimeIndex(start='2018-01-01', end='2018-12-31', freq='2W')\n",
    "dt_index"
   ]
  },
  {
   "cell_type": "code",
   "execution_count": 7,
   "metadata": {},
   "outputs": [
    {
     "data": {
      "text/plain": [
       "Index(['Frankie Knuckles', 'Danny Tenaglia', 'Teddy Rockspin'], dtype='object')"
      ]
     },
     "execution_count": 7,
     "metadata": {},
     "output_type": "execute_result"
    }
   ],
   "source": [
    "# Like strings\n",
    "str_index = pd.Index(['Frankie Knuckles', 'Danny Tenaglia', 'Teddy Rockspin'])\n",
    "str_index"
   ]
  },
  {
   "cell_type": "code",
   "execution_count": 8,
   "metadata": {},
   "outputs": [
    {
     "data": {
      "text/plain": [
       "Index([[1, 2], [2]], dtype='object')"
      ]
     },
     "execution_count": 8,
     "metadata": {},
     "output_type": "execute_result"
    }
   ],
   "source": [
    "# Like arbitrary Python objects\n",
    "tuple_index = pd.Index([(True, 4.4), (True, 4.9), (False, 4.4)])\n",
    "tuple_index\n",
    "\n",
    "list_index = pd.Index([[1,2], [2]])\n",
    "list_index"
   ]
  },
  {
   "cell_type": "markdown",
   "metadata": {},
   "source": [
    "# So how how can we index Series?\n",
    "\n",
    "Again, \"indexing\" is the process of using a key to get data.\n",
    "\n",
    "### Bracket Notation\n",
    "\n",
    "There are a couple of ways to go about it. First, the **least preferred option** is the Python subscription or bracket notation that you've probably seen with lists:\n",
    "\n",
    "    # Take a list\n",
    "    my_list    = [0, 1, 2, 3, 4, 5]\n",
    "    \n",
    "    # Get an item using __getitem__() magic method\n",
    "    first_item = my_list[0]\n",
    "    \n",
    "    # Get a slice similarly\n",
    "    list_slice = my_list[0:3]\n",
    "    \n",
    "We can also do this with a Series!"
   ]
  },
  {
   "cell_type": "code",
   "execution_count": 9,
   "metadata": {},
   "outputs": [
    {
     "name": "stdout",
     "output_type": "stream",
     "text": [
      "Here is a single item from the series:\n"
     ]
    },
    {
     "data": {
      "text/plain": [
       "0"
      ]
     },
     "execution_count": 9,
     "metadata": {},
     "output_type": "execute_result"
    }
   ],
   "source": [
    "# First, we can use simple list-like subscripting using __getitem__()\n",
    "item_1 = s[0]\n",
    "print(\"Here is a single item from the series:\")\n",
    "\n",
    "item_1"
   ]
  },
  {
   "cell_type": "code",
   "execution_count": 10,
   "metadata": {},
   "outputs": [
    {
     "name": "stdout",
     "output_type": "stream",
     "text": [
      "Here is a the first 3 elements of the Series.\n",
      "The return value is itself a Series.\n"
     ]
    },
    {
     "data": {
      "text/plain": [
       "zero    0\n",
       "one     1\n",
       "two     2\n",
       "dtype: int64"
      ]
     },
     "execution_count": 10,
     "metadata": {},
     "output_type": "execute_result"
    }
   ],
   "source": [
    "# Note that if we ask for multiple items, we get a series object back.\n",
    "# This series shares the exact same index, but chopped down.\n",
    "sub_series = s[0:3]\n",
    "print('Here is a the first 3 elements of the Series.')\n",
    "print('The return value is itself a Series.')\n",
    "\n",
    "sub_series"
   ]
  },
  {
   "cell_type": "markdown",
   "metadata": {},
   "source": [
    "### The .loc[] attribute, your new best friend\n",
    "\n",
    "Note: if you don't have a lot of time to spend on this, spend your time learning about loc[] and boolean indexing in the advanced indexing section.\n",
    "\n",
    "The best way to select something from a series is using the the Series [.loc attribute](https://pandas.pydata.org/pandas-docs/stable/generated/pandas.Series.loc.html). Loc[] is not a function! This is a special object uses bracket notation on steroids to mimic languages like R. We feed the loc object our indexer and get our result.\n",
    "\n",
    "What kind of indexers can we feed it?"
   ]
  },
  {
   "cell_type": "code",
   "execution_count": 11,
   "metadata": {},
   "outputs": [
    {
     "data": {
      "text/plain": [
       "3"
      ]
     },
     "execution_count": 11,
     "metadata": {},
     "output_type": "execute_result"
    }
   ],
   "source": [
    "# We can feed it a single index, giving us a scalar value\n",
    "s.loc['three']"
   ]
  },
  {
   "cell_type": "code",
   "execution_count": 12,
   "metadata": {},
   "outputs": [
    {
     "name": "stdout",
     "output_type": "stream",
     "text": [
      "Error:  'the label [nonexistant key] is not in the [index]'\n"
     ]
    }
   ],
   "source": [
    "# Notice that invalid keys will raise a KeyError error:\n",
    "try:\n",
    "    s.loc['nonexistant key']\n",
    "except KeyError as e:\n",
    "    print('Error: ', e)"
   ]
  },
  {
   "cell_type": "code",
   "execution_count": 13,
   "metadata": {},
   "outputs": [
    {
     "data": {
      "text/plain": [
       "one      1\n",
       "three    3\n",
       "five     5\n",
       "dtype: int64"
      ]
     },
     "execution_count": 13,
     "metadata": {},
     "output_type": "execute_result"
    }
   ],
   "source": [
    "# We can feed loc a list of keys we want to fetch, giving us a series composed of those indexes.\n",
    "index_list = ['one', 'three', 'five']\n",
    "s.loc[index_list]"
   ]
  },
  {
   "cell_type": "code",
   "execution_count": 14,
   "metadata": {},
   "outputs": [
    {
     "data": {
      "text/plain": [
       "one      1\n",
       "three    3\n",
       "five     5\n",
       "dtype: int64"
      ]
     },
     "execution_count": 14,
     "metadata": {},
     "output_type": "execute_result"
    }
   ],
   "source": [
    "# This is identical to the previous example (list inside a list), but this double bracket can frighten and confuse people\n",
    "s.loc[['one', 'three', 'five']]"
   ]
  },
  {
   "cell_type": "code",
   "execution_count": 15,
   "metadata": {},
   "outputs": [
    {
     "data": {
      "text/plain": [
       "zero     0\n",
       "one      1\n",
       "two      2\n",
       "three    3\n",
       "dtype: int64"
      ]
     },
     "execution_count": 15,
     "metadata": {},
     "output_type": "execute_result"
    }
   ],
   "source": [
    "# We can ask for ranges of keys\n",
    "s.loc['zero': 'three']"
   ]
  },
  {
   "cell_type": "markdown",
   "metadata": {},
   "source": [
    "##### Note: Notice anything about the following?\n",
    "\n",
    "    >>> len(s[0:3])\n",
    "    3\n",
    "    \n",
    "    >>> len(my_list[0:3]\n",
    "    3\n",
    "    \n",
    "    >>> len(s.loc['zero': 'three'])\n",
    "    4\n",
    "\n",
    "Loc[] includes the first and last item in your result. Regular bracket notation gives you the first item but not the last item. Because R. In all honesty, pretty much anything that doesn't make sense in Pandas is \"because R\"."
   ]
  },
  {
   "cell_type": "markdown",
   "metadata": {},
   "source": [
    "### The iloc[] attribute\n",
    "\n",
    "You can optionally uses the [iloc](http://pandas.pydata.org/pandas-docs/version/0.17.0/generated/pandas.DataFrame.iloc.html) attribute. This is like the loc[] attribute but it only works with integer indexing."
   ]
  },
  {
   "cell_type": "code",
   "execution_count": 16,
   "metadata": {},
   "outputs": [
    {
     "data": {
      "text/plain": [
       "0"
      ]
     },
     "execution_count": 16,
     "metadata": {},
     "output_type": "execute_result"
    }
   ],
   "source": [
    "# Get first item\n",
    "s.iloc[0]"
   ]
  },
  {
   "cell_type": "code",
   "execution_count": 17,
   "metadata": {},
   "outputs": [
    {
     "data": {
      "text/plain": [
       "zero    0\n",
       "two     2\n",
       "four    4\n",
       "dtype: int64"
      ]
     },
     "execution_count": 17,
     "metadata": {},
     "output_type": "execute_result"
    }
   ],
   "source": [
    "# Get 1st, 3rd, and fith elements\n",
    "s.iloc[[0, 2, 4]]"
   ]
  },
  {
   "cell_type": "code",
   "execution_count": 18,
   "metadata": {},
   "outputs": [
    {
     "data": {
      "text/plain": [
       "two      2\n",
       "three    3\n",
       "dtype: int64"
      ]
     },
     "execution_count": 18,
     "metadata": {},
     "output_type": "execute_result"
    }
   ],
   "source": [
    "# Get 3rd to 5th element\n",
    "# Note: this excludes the upper end of the range\n",
    "s.iloc[2:4]"
   ]
  },
  {
   "cell_type": "markdown",
   "metadata": {},
   "source": [
    "# Setting data via indexing\n",
    "\n",
    "We can do more than simply get data. We can also set values based on selection. We do that by simply putting the loc[] expression on the left side of the assignment ('=') operator."
   ]
  },
  {
   "cell_type": "code",
   "execution_count": 19,
   "metadata": {},
   "outputs": [
    {
     "data": {
      "text/plain": [
       "zero     0\n",
       "one      1\n",
       "two      2\n",
       "three    3\n",
       "four     4\n",
       "five     5\n",
       "dtype: int64"
      ]
     },
     "execution_count": 19,
     "metadata": {},
     "output_type": "execute_result"
    }
   ],
   "source": [
    "# Again, here's out base series \n",
    "s"
   ]
  },
  {
   "cell_type": "code",
   "execution_count": 20,
   "metadata": {},
   "outputs": [
    {
     "data": {
      "text/plain": [
       "zero     0\n",
       "one      8\n",
       "two      2\n",
       "three    3\n",
       "four     4\n",
       "five     5\n",
       "dtype: int64"
      ]
     },
     "execution_count": 20,
     "metadata": {},
     "output_type": "execute_result"
    }
   ],
   "source": [
    "# Lets first try setting a single value\n",
    "s.loc['one'] = 8\n",
    "s"
   ]
  },
  {
   "cell_type": "code",
   "execution_count": 21,
   "metadata": {},
   "outputs": [
    {
     "data": {
      "text/plain": [
       "zero     0\n",
       "one      8\n",
       "two      9\n",
       "three    3\n",
       "four     4\n",
       "five     9\n",
       "dtype: int64"
      ]
     },
     "execution_count": 21,
     "metadata": {},
     "output_type": "execute_result"
    }
   ],
   "source": [
    "# Then as a list. Notice we're changing the original object\n",
    "# The single value from above is still changed.\n",
    "s.loc[['two', 'five']] = 9\n",
    "s"
   ]
  },
  {
   "cell_type": "code",
   "execution_count": 22,
   "metadata": {},
   "outputs": [
    {
     "data": {
      "text/plain": [
       "zero      0\n",
       "one       8\n",
       "two       9\n",
       "three    10\n",
       "four     10\n",
       "five     10\n",
       "dtype: int64"
      ]
     },
     "execution_count": 22,
     "metadata": {},
     "output_type": "execute_result"
    }
   ],
   "source": [
    "# And finally as range. If you omit the endpoint, it will go all the way to the end.\n",
    "s.loc['three':] = 10\n",
    "s"
   ]
  },
  {
   "cell_type": "code",
   "execution_count": 23,
   "metadata": {},
   "outputs": [
    {
     "data": {
      "text/plain": [
       "zero      0\n",
       "one       8\n",
       "two      12\n",
       "three    13\n",
       "four     13\n",
       "five     10\n",
       "dtype: int64"
      ]
     },
     "execution_count": 23,
     "metadata": {},
     "output_type": "execute_result"
    }
   ],
   "source": [
    "# This can also use += style syntax.\n",
    "s.loc['two': 'four'] += 3\n",
    "s"
   ]
  },
  {
   "cell_type": "code",
   "execution_count": 24,
   "metadata": {},
   "outputs": [
    {
     "data": {
      "text/plain": [
       "zero                0\n",
       "one                 8\n",
       "two                12\n",
       "three              13\n",
       "four               13\n",
       "five               10\n",
       "Nonexistant Key    99\n",
       "dtype: int64"
      ]
     },
     "execution_count": 24,
     "metadata": {},
     "output_type": "execute_result"
    }
   ],
   "source": [
    "# Notice that you can assign to invalid keys, which will add to your Series.\n",
    "s.loc['Nonexistant Key'] = 99\n",
    "s"
   ]
  },
  {
   "cell_type": "code",
   "execution_count": 25,
   "metadata": {},
   "outputs": [
    {
     "data": {
      "text/plain": [
       "zero                0.0\n",
       "one                 5.9\n",
       "two                12.0\n",
       "three              13.0\n",
       "four               13.0\n",
       "five               10.0\n",
       "Nonexistant Key    99.0\n",
       "dtype: float64"
      ]
     },
     "execution_count": 25,
     "metadata": {},
     "output_type": "execute_result"
    }
   ],
   "source": [
    "# Be aware that if you assign a different type, the series will be coerced.\n",
    "s.loc['one'] = 5.9\n",
    "s"
   ]
  },
  {
   "cell_type": "markdown",
   "metadata": {},
   "source": [
    "---\n",
    "\n",
    "# Recap\n",
    "* Pandas uses the process of indexing to select data.\n",
    "* Indexing uses an index for look ups.\n",
    "* Indexing uses an indexer as a key (can be many types).\n",
    "* It can use slices, lists, or single elements.\n",
    "* Indexing can be used to get a series or a single value.\n",
    "* Indexing can be used to set a value or group of values.\n",
    "\n",
    "---"
   ]
  },
  {
   "cell_type": "markdown",
   "metadata": {},
   "source": [
    "# Additional Learing Resources\n",
    "\n",
    "* ### [Official Pandas Indexing and Selecting Data](https://pandas.pydata.org/pandas-docs/stable/indexing.html)\n",
    "* ### [Index API](https://pandas.pydata.org/pandas-docs/stable/generated/pandas.Index.html)\n",
    "* ### [Returning a View vs. Returning a Copy](http://pandas.pydata.org/pandas-docs/stable/indexing.html#indexing-view-versus-copy)\n"
   ]
  },
  {
   "cell_type": "markdown",
   "metadata": {},
   "source": [
    "---\n",
    "\n",
    "# Next Up: [Advanced Indexing](5_advanced_indexing.ipynb)\n",
    "\n",
    "<br>\n",
    "\n",
    "$\\huge{{x}_{i}}$ \n",
    "\n",
    "---"
   ]
  }
 ],
 "metadata": {
  "anaconda-cloud": {},
  "kernelspec": {
   "display_name": "Python 3",
   "language": "python",
   "name": "python3"
  },
  "language_info": {
   "codemirror_mode": {
    "name": "ipython",
    "version": 3
   },
   "file_extension": ".py",
   "mimetype": "text/x-python",
   "name": "python",
   "nbconvert_exporter": "python",
   "pygments_lexer": "ipython3",
   "version": "3.6.5"
  }
 },
 "nbformat": 4,
 "nbformat_minor": 1
}
