{
 "cells": [
  {
   "cell_type": "markdown",
   "metadata": {
    "collapsed": true
   },
   "source": [
    "<a href=\"https://github.com/theonaunheim\">\n",
    "    <img style=\"border-radius: 100%; float: right;\" src=\"static/strawberry_thief_square.png\" width=10% alt=\"Theo Naunheim's Github\">\n",
    "</a>\n",
    "\n",
    "<br style=\"clear: both\">\n",
    "<hr>\n",
    "<br>\n",
    "\n",
    "<h1 align='center'>Series Part 1 Exercises</h1>\n",
    "\n",
    "<br>\n",
    "\n",
    "<div style=\"display: table; width: 100%\">\n",
    "    <div style=\"display: table-row; width: 100%;\">\n",
    "        <div style=\"display: table-cell; width: 50%; vertical-align: middle;\">\n",
    "            <h1 align=\"center\"> $W=-\\Delta PE$ </h1>\n",
    "        </div>\n",
    "        <div style=\"display: table-cell; width: 10%\">\n",
    "        </div>\n",
    "        <div style=\"display: table-cell; width: 40%; vertical-align: top;\">\n",
    "            <blockquote>\n",
    "                <p style=\"font-style: italic;\">\"I hear and I forget. I see and I remember. I do and I understand.\"</p>\n",
    "                <br>\n",
    "                <p>-Confucius</p>\n",
    "            </blockquote>\n",
    "        </div>\n",
    "    </div>\n",
    "</div>\n",
    "\n",
    "<br>\n",
    "\n",
    "<hr>"
   ]
  },
  {
   "cell_type": "markdown",
   "metadata": {},
   "source": [
    "# Problem 1\n",
    "\n",
    "* Import Numpy and Pandas under the `np` and `pd` aliases.\n",
    "\n",
    "\n",
    "* Create a Series from the 'height_in_feet.csv' in the data folder and assign it to variable `height_feet`.\n",
    "\n",
    "\n",
    "* Create a Series from the 'weight_in_pounds.csv' in the data folder and assign it to variable `weight_pounds`.\n",
    "\n",
    "\n",
    "* Display your `height_feet` Series.\n",
    "\n",
    "<br>\n",
    "\n",
    "Hint: [`pd.read_csv()`](https://pandas.pydata.org/pandas-docs/stable/generated/pandas.read_csv.html) takes your CSV path as its first argument, e.g.: `'data/height_in_feet.csv'`, followed by `squeeze=True`. This will coerce your CSV to a Series (because you will generally use this method for DataFrame creation).\n",
    "\n",
    "Hint: if you end your cell with a variable name, the Jupyter Notebook will display that item."
   ]
  },
  {
   "cell_type": "code",
   "execution_count": 1,
   "metadata": {},
   "outputs": [
    {
     "data": {
      "text/plain": [
       "0      5.82\n",
       "1      5.58\n",
       "2      5.70\n",
       "3      6.38\n",
       "4      5.76\n",
       "5      5.40\n",
       "6      5.51\n",
       "7      5.57\n",
       "8      5.99\n",
       "9      5.35\n",
       "10     5.50\n",
       "11     6.07\n",
       "12     5.58\n",
       "13     5.38\n",
       "14     5.77\n",
       "15     6.55\n",
       "16     5.75\n",
       "17     5.70\n",
       "18     5.34\n",
       "19     5.54\n",
       "20     6.25\n",
       "21     5.40\n",
       "22     6.37\n",
       "23     5.64\n",
       "24     5.61\n",
       "25     5.64\n",
       "26     5.97\n",
       "27     5.08\n",
       "28     5.77\n",
       "29     5.62\n",
       "       ... \n",
       "970    6.00\n",
       "971    5.78\n",
       "972    5.67\n",
       "973    5.84\n",
       "974    5.50\n",
       "975    5.67\n",
       "976    5.16\n",
       "977    5.43\n",
       "978    5.50\n",
       "979    5.58\n",
       "980    5.44\n",
       "981    6.08\n",
       "982    5.76\n",
       "983    5.90\n",
       "984    5.55\n",
       "985    5.77\n",
       "986    5.65\n",
       "987    5.41\n",
       "988    5.47\n",
       "989    5.89\n",
       "990    5.93\n",
       "991    5.60\n",
       "992    6.01\n",
       "993    6.43\n",
       "994    5.64\n",
       "995    5.74\n",
       "996    5.17\n",
       "997    5.37\n",
       "998    5.43\n",
       "999    5.76\n",
       "Name: feet, Length: 1000, dtype: float64"
      ]
     },
     "execution_count": 1,
     "metadata": {},
     "output_type": "execute_result"
    }
   ],
   "source": [
    "# Import stuff so we can use libraries.\n",
    "import numpy as np\n",
    "import pandas as pd\n",
    "\n",
    "# Create our data series.\n",
    "height_feet   = pd.read_csv('data/height_in_feet.csv'  , squeeze=True)\n",
    "weight_pounds = pd.read_csv('data/weight_in_pounds.csv', squeeze=True)\n",
    "\n",
    "# Display\n",
    "height_feet"
   ]
  },
  {
   "cell_type": "markdown",
   "metadata": {},
   "source": [
    "# Problem 2\n",
    "\n",
    "* Print the length of both Series.\n",
    "\n",
    "\n",
    "* Convert `height_feet` to meters and save the resulting Series to `height_meters`. \n",
    "\n",
    "\n",
    "* Convert `weight_pounds` to kilograms and save the resulting Series to `weight_kilograms`.\n",
    "\n",
    "\n",
    "* Display `height_meters`.\n",
    "\n",
    "<br>\n",
    "\n",
    "Hint: the regular Python function [`len()`](https://docs.python.org/3/library/functions.html?highlight=len#len) works on Series as well.\n",
    "\n",
    "Hint: the formula for converting feet to meters is:\n",
    "\n",
    "$feet * .3 = meters$\n",
    "\n",
    "Hint: the formula for converting pounds to kilograms is:\n",
    "\n",
    "$\\frac{pounds}{2.2} = kilograms$"
   ]
  },
  {
   "cell_type": "code",
   "execution_count": 2,
   "metadata": {},
   "outputs": [
    {
     "name": "stdout",
     "output_type": "stream",
     "text": [
      "The height and weight Series are 1000 and 1000 in length, respectively.\n"
     ]
    },
    {
     "data": {
      "text/plain": [
       "0    1.746\n",
       "1    1.674\n",
       "2    1.710\n",
       "3    1.914\n",
       "4    1.728\n",
       "Name: feet, dtype: float64"
      ]
     },
     "execution_count": 2,
     "metadata": {},
     "output_type": "execute_result"
    }
   ],
   "source": [
    "# Print length\n",
    "count_height = len(height_feet)\n",
    "count_weight = len(weight_pounds)\n",
    "print(\n",
    "    f'The height and weight Series are '\n",
    "    f'{count_height} and {count_weight} in length, respectively.'\n",
    ")\n",
    "\n",
    "# Convert the values\n",
    "height_meters = height_feet * .3\n",
    "weight_kilograms = weight_pounds / 2.2\n",
    "\n",
    "# Display height\n",
    "# Don't worry about .head() yet. I'm just using it to cut down output from 1,000 to 5.\n",
    "height_meters.head()"
   ]
  },
  {
   "cell_type": "markdown",
   "metadata": {},
   "source": [
    "# Problem 3\n",
    "\n",
    "* Presume that the first weight of your weight series corresponds with the first height of the height series, the second weight corresponds with the second height, etc. Use your `weight_kilograms` and `height_meters` Series to calculate the [BMI](https://en.wikipedia.org/wiki/Body_mass_index) for each of your samples and store it to the variable `bmis`.\n",
    "\n",
    "\n",
    "* Get a Series of all the BMIs corresponding with obese persons (i.e. BMI above 30) and store it to varible `obese_bmis`.\n",
    "\n",
    "\n",
    "* Get the [`len()`](https://docs.python.org/3/library/functions.html?highlight=len#len) of `obese_bmis`.\n",
    "\n",
    "\n",
    "* Use the lengths of `obese_bmis` and `bmis` to get the percentage of obese people in your population. Print it.\n",
    "\n",
    "\n",
    "* Display the `obese_bmis` Series.\n",
    "\n",
    "<br>\n",
    "\n",
    "Hint: BMI can be calculated via the following formula:\n",
    "\n",
    "$bmi = \\frac{kilograms}{meters^2}$\n",
    "\n",
    "Hint: You can use boolean indexing to filter your list like this:\n",
    "\n",
    "    # Lets get everyone over six feet in height\n",
    "    bix = height_feet > 6\n",
    "    taller_people = height_feet.loc[bix]"
   ]
  },
  {
   "cell_type": "code",
   "execution_count": 3,
   "metadata": {},
   "outputs": [
    {
     "name": "stdout",
     "output_type": "stream",
     "text": [
      "The percentage of obese people is 0.286\n"
     ]
    },
    {
     "data": {
      "text/plain": [
       "2     34.049327\n",
       "4     31.489543\n",
       "5     33.619806\n",
       "6     37.748907\n",
       "13    30.698006\n",
       "dtype: float64"
      ]
     },
     "execution_count": 3,
     "metadata": {},
     "output_type": "execute_result"
    }
   ],
   "source": [
    "# Create BMI series\n",
    "bmis = weight_kilograms / (height_meters) ** 2\n",
    "\n",
    "# Get obese equal or greater than 30 using a boolean index\n",
    "obese_bix = bmis >= 30\n",
    "obese_bmis = bmis.loc[obese_bix]\n",
    "\n",
    "# Alternatively\n",
    "obese_bmis = bmis[bmis >= 30]\n",
    "\n",
    "# Get percentage\n",
    "len_all       = len(bmis)\n",
    "len_obese     = len(obese_bmis)\n",
    "percent_obese = len_obese / len_all \n",
    "print(f'The percentage of obese people is {percent_obese}')\n",
    "\n",
    "# Display\n",
    "obese_bmis.head()"
   ]
  },
  {
   "cell_type": "markdown",
   "metadata": {},
   "source": [
    "# Problem 4\n",
    "\n",
    "* Get the index values of `obese_bmi` and assign them to a variable called `patient_numbers`.\n",
    "\n",
    "* Create a Series called `patient_series` by passing `patient_numbers` to the [`pd.Series()`](https://pandas.pydata.org/pandas-docs/stable/generated/pandas.Series.html) constructor.\n",
    "\n",
    "* Display your new `patient_numbers` series.\n",
    "\n",
    "<br>\n",
    "\n",
    "Hint: you can access your index via its `index` attribute like this:\n",
    "        \n",
    "    # Get the index\n",
    "    temp_index = height_feet.index\n",
    "    \n",
    "Hint: you can get the `index`'s values by accessing the index's `values` object. \n",
    "\n",
    "    # Get the index's values\n",
    "    temp_index.values\n",
    "    \n",
    "    # Access the values in a single step\n",
    "    height_feet.index.values"
   ]
  },
  {
   "cell_type": "code",
   "execution_count": 4,
   "metadata": {
    "scrolled": true
   },
   "outputs": [
    {
     "data": {
      "text/plain": [
       "0     2\n",
       "1     4\n",
       "2     5\n",
       "3     6\n",
       "4    13\n",
       "dtype: int64"
      ]
     },
     "execution_count": 4,
     "metadata": {},
     "output_type": "execute_result"
    }
   ],
   "source": [
    "# Get the index values and assign to patient numbers\n",
    "patient_numbers = obese_bmis.index.values\n",
    "\n",
    "# Create patient_series using patient_numbers\n",
    "patient_series = pd.Series(patient_numbers)\n",
    "\n",
    "# Display\n",
    "patient_series.head()"
   ]
  },
  {
   "cell_type": "markdown",
   "metadata": {},
   "source": [
    "# Problem 5\n",
    "\n",
    "* Greate a [`pd.DatetimeIndex`](https://pandas.pydata.org/pandas-docs/stable/generated/pandas.DatetimeIndex.html) starting at Jan 1, 2018, going to Dec 31, 2018, with a frequency of 'MS' (month start) and assign it to the name `ix`.\n",
    "\n",
    "\n",
    "* Create a Series using `pd.Series()` and pass it `index=ix` and assign it to the variable `school_year`.\n",
    "\n",
    "\n",
    "* Set the entire Series to zero using `.loc[]`.\n",
    "\n",
    "\n",
    "* Display your Series.\n",
    "\n",
    "<br>\n",
    "\n",
    "Hint: creating a DatetimeIndex is a bit complicated, so I'm just going to give you the code.\n",
    "        \n",
    "    # Create datetime index\n",
    "    ix = pd.DatetimeIndex(start='2018-01-01', end='2018-12-31', freq='MS')\n",
    "    \n",
    "Hint: you do not necessarily need to pass anything to an Series on creation. Here you will pass only the index.\n",
    "\n",
    "\n",
    "Hint: the idiom for setting the entire Series to a value using the Series' loc attribute is `loc[:] = value`."
   ]
  },
  {
   "cell_type": "code",
   "execution_count": 5,
   "metadata": {},
   "outputs": [],
   "source": [
    "# Create DatetimeIndex for your Series\n",
    "ix = pd.DatetimeIndex(start='2018-01-01', end='2018-12-31', freq='MS')\n",
    "\n",
    "# Create a series with an index but no data\n",
    "school_year = pd.Series(index=ix)\n",
    "\n",
    "# Set data equal to zero\n",
    "school_year.loc[:] = 0"
   ]
  },
  {
   "cell_type": "markdown",
   "metadata": {},
   "source": [
    "# Problem 6\n",
    "\n",
    "* Take your previous `school_year` Series and set months February through May to 85.0.\n",
    "\n",
    "\n",
    "* Select May and the months before May and assign them to a variable `winter_semester`.\n",
    "\n",
    "\n",
    "* Select the score for the month of March from `winter_semester` and print the value.\n",
    "\n",
    "\n",
    "* Display `winter_semester`.\n",
    "\n",
    "<br>\n",
    "\n",
    "\n",
    "Hint: even though it works on a `DatetimeIndex`, `loc[]` is smart enough to use strings.\n",
    "\n",
    "    # Select a range of dates returning a Series\n",
    "    school_year.loc['2018-07-01': '2018-12-01']\n",
    "    \n",
    "    # Select a single value returning a scalar\n",
    "    school_year.loc['2018-09-01']\n",
    "    \n",
    "    # Select an open ended range returning a Series\n",
    "    school_year.loc['2018-07-01':]\n"
   ]
  },
  {
   "cell_type": "code",
   "execution_count": 6,
   "metadata": {},
   "outputs": [
    {
     "name": "stdout",
     "output_type": "stream",
     "text": [
      "85.0\n"
     ]
    },
    {
     "data": {
      "text/plain": [
       "2018-01-01     0.0\n",
       "2018-02-01    85.0\n",
       "2018-03-01    85.0\n",
       "2018-04-01    85.0\n",
       "2018-05-01    85.0\n",
       "Freq: MS, dtype: float64"
      ]
     },
     "execution_count": 6,
     "metadata": {},
     "output_type": "execute_result"
    }
   ],
   "source": [
    "# Set Feb, March, April, May to 85.0\n",
    "school_year.loc['2018-02-01': '2018-05-01'] = 85.0\n",
    "\n",
    "# Select May and previous months and assign to winter_semester\n",
    "winter_semester = school_year.loc[:'2018-05-01']\n",
    "\n",
    "# Print March score\n",
    "print(winter_semester.loc['2018-03-01'])\n",
    "\n",
    "# Display winter_semester\n",
    "winter_semester"
   ]
  },
  {
   "cell_type": "markdown",
   "metadata": {},
   "source": [
    "# Problem 7\n",
    "\n",
    "\n",
    "* Use `pd.read_csv()` to load a Series from 'data/spies.csv' and save it to the variable `spies`.\n",
    "\n",
    "\n",
    "* Do the same with 'data/embassy_staff.csv' and save it to variable `staff`.\n",
    "\n",
    "\n",
    "* Display `staff`.\n",
    "\n",
    "<br>\n",
    "\n",
    "\n",
    "Hint: these CSVs have index data stored with them which necessetates the use of a `index_col=0` argument with `pd.read_csv()`.\n",
    "\n",
    "Hint: these CSVs do not have a header, so it will use your first row of data as a header unless you supply a `header=None` argument to `pd.read_csv` as well.\n",
    "\n",
    "Hint: you will still need `squeeze=True`."
   ]
  },
  {
   "cell_type": "code",
   "execution_count": 7,
   "metadata": {},
   "outputs": [
    {
     "data": {
      "text/plain": [
       "0\n",
       "Dave        30\n",
       "Julius      51\n",
       "Ethel       48\n",
       "Jenna       25\n",
       "Klaus       35\n",
       "Aloysius    84\n",
       "Carlos      40\n",
       "Michael     28\n",
       "Tito        32\n",
       "Jermaine    30\n",
       "Janet       28\n",
       "Marlon      25\n",
       "Jackie      22\n",
       "Name: 1, dtype: int64"
      ]
     },
     "execution_count": 7,
     "metadata": {},
     "output_type": "execute_result"
    }
   ],
   "source": [
    "# Note: it's header=None ... not header=False.\n",
    "# You aren't specifying the existence or not existence of a header.\n",
    "# You are specifying what row the header is found in.\n",
    "\n",
    "# Load\n",
    "staff = pd.read_csv('data/embassy_staff.csv', squeeze=True, header=None, index_col=0)\n",
    "\n",
    "# Sometimes it's easier to do this on multiple lines.\n",
    "spies = pd.read_csv(\n",
    "    'data/spies.csv', \n",
    "    squeeze=True, \n",
    "    header=None, \n",
    "    index_col=0\n",
    ")\n",
    "\n",
    "# Display\n",
    "staff"
   ]
  },
  {
   "cell_type": "markdown",
   "metadata": {},
   "source": [
    "# Problem 8\n",
    "\n",
    "* Check if each item of the `staff` Series is over 40 and assign the result to `over_fourty_bix`.\n",
    "\n",
    "\n",
    "* Check if each item of the `staff.index` item is equal to 'Michael' and assign the result to `michael_bix`.\n",
    "\n",
    "\n",
    "* Combine these two indexes using the `|` operator to get a bix that gives all elements over 40 and all elements equal to 'Michael'. Write the resulting Series to `combined_bix`.\n",
    "\n",
    "\n",
    "* Use `combined_bix` as your indexer for the `.loc[]` object of `staff`. Write the result to result of `staff.loc[combined_bix]` to `target_staff`, a new variable.\n",
    "\n",
    "\n",
    "* Display `target_staff`.\n",
    "\n",
    "<br>\n",
    "\n",
    "\n",
    "Hint: When doing comparisons (`>`) or equalities (`==`), you can simply use the vectorized logical operations (e.g. `staff == 'Carlos'`).\n",
    "\n",
    "Hint: boolean indexes can be simply combined to create a new boolean index. Again, these boolean indexes are just Series of True and False values.\n",
    "\n",
    "Hint: you can overwrite a Series in place (e.g. `staff = staff + 10`).\n"
   ]
  },
  {
   "cell_type": "code",
   "execution_count": 8,
   "metadata": {},
   "outputs": [
    {
     "data": {
      "text/plain": [
       "0\n",
       "Julius      51\n",
       "Ethel       48\n",
       "Aloysius    84\n",
       "Michael     28\n",
       "Name: 1, dtype: int64"
      ]
     },
     "execution_count": 8,
     "metadata": {},
     "output_type": "execute_result"
    }
   ],
   "source": [
    "# Creats a boolean index (i.e. a series of True/Falses based on criterion)\n",
    "over_fourty_bix = staff > 40\n",
    "\n",
    "# Create a boolean index for 'Michael'\n",
    "michael_bix = staff.index == 'Michael'\n",
    "\n",
    "# Combine the two bixes, so it will give us everyone over 40 and Michael.\n",
    "combined_bix = over_fourty_bix | michael_bix\n",
    "\n",
    "# Overwrite staff with using the loc[combined bix].\n",
    "target_staff = staff.loc[combined_bix]\n",
    "\n",
    "# Display\n",
    "target_staff"
   ]
  },
  {
   "cell_type": "markdown",
   "metadata": {},
   "source": [
    "# Problem 9\n",
    "\n",
    "* Create a union of the indexes of `spies` and `staff` called `union_ix`.\n",
    "\n",
    "\n",
    "* Create an intersection of the indexes of `spies` and `staff` called `intersection_ix`.\n",
    "\n",
    "\n",
    "* Display the intersecting values of the two indexes .\n",
    "\n",
    "\n",
    "<br>\n",
    "\n",
    "Hint: `spies.index` and `staff.index` are the objects you will be working with here.\n",
    "\n",
    "Hint: these indexes have attached methods that return new indexes based on the inputs, such as `index_1.union(index_2)`."
   ]
  },
  {
   "cell_type": "code",
   "execution_count": 9,
   "metadata": {},
   "outputs": [
    {
     "data": {
      "text/plain": [
       "Index(['Julius', 'Ethel', 'Klaus'], dtype='object', name=0)"
      ]
     },
     "execution_count": 9,
     "metadata": {},
     "output_type": "execute_result"
    }
   ],
   "source": [
    "# Get the index of spies\n",
    "spies_ix = spies.index\n",
    "\n",
    "# Get the index of staff\n",
    "staff_ix = staff.index\n",
    "\n",
    "# Create a union index (e.g. everyone) using the staff_ix.union() method.\n",
    "union_ix = spies_ix.union(staff_ix)\n",
    "\n",
    "# Create intersection index by doing the same.\n",
    "intersection_ix = spies_ix.intersection(staff_ix)\n",
    "\n",
    "# Show the intersection values.\n",
    "intersection_ix"
   ]
  },
  {
   "cell_type": "markdown",
   "metadata": {},
   "source": [
    "# Problem 10\n",
    "\n",
    "* Take the intersection index and drop the value 'Klaus'. Assign the resulting index with the dropped element to `rosenberg_ix`.\n",
    "\n",
    "\n",
    "* Create a Series under the variable `rosenberg_series` by taking `staff` and then using the `rosenberg_ix` as an indexer with `loc[]`.\n",
    "\n",
    "\n",
    "* Display the `rosenberg_series`.\n",
    "\n",
    "<br>\n",
    "\n",
    "Hint: dropping a value from an index will return a new index that lacks that value."
   ]
  },
  {
   "cell_type": "code",
   "execution_count": 10,
   "metadata": {},
   "outputs": [
    {
     "data": {
      "text/plain": [
       "0\n",
       "Julius    51\n",
       "Ethel     48\n",
       "Name: 1, dtype: int64"
      ]
     },
     "execution_count": 10,
     "metadata": {},
     "output_type": "execute_result"
    }
   ],
   "source": [
    "# Drop 'Klaus' from the Rosenberg index and assign it to rosenberg_ix\n",
    "rosenberg_ix = intersection_ix.drop('Klaus')\n",
    "\n",
    "# Create a Series of Rosenbergs by using staff.loc and the rosenberg_ix\n",
    "rosenberg_series = staff.loc[rosenberg_ix]\n",
    "\n",
    "# Display the Rosenberg Series.\n",
    "rosenberg_series"
   ]
  }
 ],
 "metadata": {
  "anaconda-cloud": {},
  "kernelspec": {
   "display_name": "Python 3",
   "language": "python",
   "name": "python3"
  },
  "language_info": {
   "codemirror_mode": {
    "name": "ipython",
    "version": 3
   },
   "file_extension": ".py",
   "mimetype": "text/x-python",
   "name": "python",
   "nbconvert_exporter": "python",
   "pygments_lexer": "ipython3",
   "version": "3.6.5"
  }
 },
 "nbformat": 4,
 "nbformat_minor": 1
}
