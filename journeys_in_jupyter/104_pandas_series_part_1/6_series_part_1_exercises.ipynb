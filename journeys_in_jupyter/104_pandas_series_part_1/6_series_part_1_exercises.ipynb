{
 "cells": [
  {
   "cell_type": "markdown",
   "metadata": {
    "collapsed": true
   },
   "source": [
    "<a href=\"https://github.com/theonaunheim\">\n",
    "    <img style=\"border-radius: 100%; float: right;\" src=\"static/strawberry_thief_square.png\" width=10% alt=\"Theo Naunheim's Github\">\n",
    "</a>\n",
    "\n",
    "<br style=\"clear: both\">\n",
    "<hr>\n",
    "<br>\n",
    "\n",
    "<h1 align='center'>Series Exercises</h1>\n",
    "\n",
    "<br>\n",
    "\n",
    "<div style=\"display: table; width: 100%\">\n",
    "    <div style=\"display: table-row; width: 100%;\">\n",
    "        <div style=\"display: table-cell; width: 50%; vertical-align: middle;\">\n",
    "            <h1 align=\"center\"> $W=-\\Delta PE$ </h1>\n",
    "        </div>\n",
    "        <div style=\"display: table-cell; width: 10%\">\n",
    "        </div>\n",
    "        <div style=\"display: table-cell; width: 40%; vertical-align: top;\">\n",
    "            <blockquote>\n",
    "                <p style=\"font-style: italic;\">\"I hear and I forget. I see and I remember. I do and I understand.\"</p>\n",
    "                <br>\n",
    "                <p>-Confucius</p>\n",
    "            </blockquote>\n",
    "        </div>\n",
    "    </div>\n",
    "</div>\n",
    "\n",
    "<br>\n",
    "\n",
    "<hr>"
   ]
  },
  {
   "cell_type": "markdown",
   "metadata": {},
   "source": [
    "# Problem 1\n",
    "\n",
    "* Import Numpy and Pandas under the np and pd aliases.\n",
    "\n",
    "\n",
    "* Create a Series from the 'height_in_feet.csv' in the data folder and assign it to variable `height_feet`.\n",
    "\n",
    "\n",
    "* Create a Series from the 'weight_in_pounds.csv' in the data folder and assign it to variable `weight_pounds`.\n",
    "\n",
    "\n",
    "* Display your `height_feet` Series.\n",
    "\n",
    "<br>\n",
    "\n",
    "Hint: [`pd.read_csv()`](https://pandas.pydata.org/pandas-docs/stable/generated/pandas.read_csv.html) takes your CSV path as its first argument, e.g.: `'data/height_in_feet.csv'`, followed by `header=None`, and finally followed by `squeeze=True`. This will coerce your CSV to a Series and will supply a header.\n",
    "\n",
    "Hint: if you end your cell with a variable name, the Jupyter Notebook will display that item."
   ]
  },
  {
   "cell_type": "code",
   "execution_count": 19,
   "metadata": {},
   "outputs": [
    {
     "data": {
      "text/plain": [
       "0      5.57\n",
       "1      5.70\n",
       "2      6.12\n",
       "3      5.90\n",
       "4      5.87\n",
       "5      5.45\n",
       "6      5.54\n",
       "7      5.84\n",
       "8      6.24\n",
       "9      5.96\n",
       "10     5.25\n",
       "11     5.31\n",
       "12     6.03\n",
       "13     5.71\n",
       "14     5.32\n",
       "15     5.44\n",
       "16     6.01\n",
       "17     5.88\n",
       "18     5.91\n",
       "19     5.66\n",
       "20     5.46\n",
       "21     5.74\n",
       "22     5.54\n",
       "23     5.89\n",
       "24     5.69\n",
       "25     5.35\n",
       "26     5.60\n",
       "27     5.56\n",
       "28     5.46\n",
       "29     5.93\n",
       "       ... \n",
       "970    6.04\n",
       "971    5.74\n",
       "972    5.77\n",
       "973    5.50\n",
       "974    6.15\n",
       "975    5.44\n",
       "976    5.88\n",
       "977    5.60\n",
       "978    5.20\n",
       "979    5.59\n",
       "980    6.33\n",
       "981    4.99\n",
       "982    5.40\n",
       "983    5.98\n",
       "984    5.56\n",
       "985    5.57\n",
       "986    5.64\n",
       "987    5.97\n",
       "988    5.63\n",
       "989    5.63\n",
       "990    5.81\n",
       "991    5.72\n",
       "992    5.98\n",
       "993    5.45\n",
       "994    5.54\n",
       "995    5.74\n",
       "996    5.39\n",
       "997    5.40\n",
       "998    4.91\n",
       "999    6.02\n",
       "Name: 0, Length: 1000, dtype: float64"
      ]
     },
     "execution_count": 19,
     "metadata": {},
     "output_type": "execute_result"
    }
   ],
   "source": [
    "# Import stuff so we can use libraries.\n",
    "import numpy as np\n",
    "import pandas as pd\n",
    "\n",
    "# Create our data series.\n",
    "height_feet   = pd.read_csv('data/height_in_feet.csv'  , header=None, squeeze=True)\n",
    "weight_pounds = pd.read_csv('data/weight_in_pounds.csv', header=None, squeeze=True)\n",
    "\n",
    "# Display\n",
    "height_feet"
   ]
  },
  {
   "cell_type": "markdown",
   "metadata": {},
   "source": [
    "# Problem 2\n",
    "\n",
    "* Print the length of both Series.\n",
    "\n",
    "\n",
    "* Convert `height_feet` to meters and save the resulting Series to `height_meters`. \n",
    "\n",
    "\n",
    "* Convert `weight_pounds` to kilograms and save the resulting Series to `weight_kilograms`.\n",
    "\n",
    "\n",
    "* Display `height_meters`.\n",
    "\n",
    "<br>\n",
    "\n",
    "Hint: the regular Python function [`len()`](https://docs.python.org/3/library/functions.html?highlight=len#len) works on Series as well.\n",
    "\n",
    "Hint: the formula for converting feet to meters is:\n",
    "\n",
    "$feet * .3 = meters$\n",
    "\n",
    "Hint: the formula for converting pounds to kilograms is:\n",
    "\n",
    "$\\frac{pounds}{2.2} = kilograms$"
   ]
  },
  {
   "cell_type": "code",
   "execution_count": 20,
   "metadata": {},
   "outputs": [
    {
     "name": "stdout",
     "output_type": "stream",
     "text": [
      "The height and weight Series are 1000 and 1000 in length, respectively.\n"
     ]
    },
    {
     "data": {
      "text/plain": [
       "0    1.671\n",
       "1    1.710\n",
       "2    1.836\n",
       "3    1.770\n",
       "4    1.761\n",
       "Name: 0, dtype: float64"
      ]
     },
     "execution_count": 20,
     "metadata": {},
     "output_type": "execute_result"
    }
   ],
   "source": [
    "# Print length\n",
    "count_height = len(height_feet)\n",
    "count_weight = len(weight_pounds)\n",
    "print(\n",
    "    f'The height and weight Series are '\n",
    "    f'{count_height} and {count_weight} in length, respectively.'\n",
    ")\n",
    "\n",
    "# Convert the values\n",
    "height_meters = height_feet * .3\n",
    "weight_kilograms = weight_pounds / 2.2\n",
    "\n",
    "# Display height\n",
    "# Don't worry about .head() yet. I'm just using it to cut down output from 1,000 to 5.\n",
    "height_meters.head()"
   ]
  },
  {
   "cell_type": "markdown",
   "metadata": {},
   "source": [
    "# Problem 3\n",
    "\n",
    "* Presume that the first weight of your weight series corresponds with the first height of the height series, the second weight corresponds with the second height, etc. Use your `weight_kilograms` and `height_meters` Series to calculate the [BMI](https://en.wikipedia.org/wiki/Body_mass_index) for each of your samples and store it to the variable `bmis`.\n",
    "\n",
    "\n",
    "* Get a Series of all the BMIs corresponding with obese persons (i.e. BMI above 30) and store it to varible `obese_bmis`.\n",
    "\n",
    "\n",
    "* Get the [`len()`](https://docs.python.org/3/library/functions.html?highlight=len#len) of `obese_bmis`.\n",
    "\n",
    "\n",
    "* Use the lengths of `obese_bmis` and `bmis` to get the percentage of obese people in your population. Print it.\n",
    "\n",
    "\n",
    "* Display the `obese_bmis` Series.\n",
    "\n",
    "<br>\n",
    "\n",
    "Hint: BMI can be calculated via the following formula:\n",
    "\n",
    "$bmi = \\frac{kilograms}{meters^2}$\n",
    "\n",
    "Hint: You can use boolean indexing to filter your list like this:\n",
    "\n",
    "    # Lets get everyone over six feet in height\n",
    "    bix = height_feet > 6\n",
    "    taller_people = height_feet.loc[bix]"
   ]
  },
  {
   "cell_type": "code",
   "execution_count": 21,
   "metadata": {},
   "outputs": [
    {
     "name": "stdout",
     "output_type": "stream",
     "text": [
      "The percentage of obese people is 0.309\n"
     ]
    },
    {
     "data": {
      "text/plain": [
       "4     30.368784\n",
       "6     31.650815\n",
       "10    32.451499\n",
       "15    30.297637\n",
       "18    35.841305\n",
       "Name: 0, dtype: float64"
      ]
     },
     "execution_count": 21,
     "metadata": {},
     "output_type": "execute_result"
    }
   ],
   "source": [
    "# Create BMI series\n",
    "bmis = weight_kilograms / (height_meters) ** 2\n",
    "\n",
    "# Get obese equal or greater than 30 using a boolean index\n",
    "obese_bix = bmis >= 30\n",
    "obese_bmis = bmis.loc[obese_bix]\n",
    "\n",
    "# Alternatively\n",
    "obese_bmis = bmis[bmis >= 30]\n",
    "\n",
    "# Get percentage\n",
    "len_all       = len(bmis)\n",
    "len_obese     = len(obese_bmis)\n",
    "percent_obese = len_obese / len_all \n",
    "print(f'The percentage of obese people is {percent_obese}')\n",
    "\n",
    "# Display\n",
    "obese_bmis.head()"
   ]
  },
  {
   "cell_type": "markdown",
   "metadata": {},
   "source": [
    "# Problem 4\n",
    "\n",
    "* Get the index values of `obese_bmi` and assign them to a variable called `patient_numbers`.\n",
    "\n",
    "* Create a Series called `patient_series` by passing `patient_numbers` to the [`pd.Series()`](https://pandas.pydata.org/pandas-docs/stable/generated/pandas.Series.html) constructor.\n",
    "\n",
    "* Display your new `patient_numbers` series.\n",
    "\n",
    "<br>\n",
    "\n",
    "Hint: you can access your index via its `index` attribute like this:\n",
    "        \n",
    "    # Get the index\n",
    "    temp_index = height_feet.index\n",
    "    \n",
    "Hint: you can get the `index`'s values by accessing the index's `values` object. \n",
    "\n",
    "    # Get the index's values\n",
    "    temp_index.values\n",
    "    \n",
    "    # Access the values in a single step\n",
    "    height_feet.index.values"
   ]
  },
  {
   "cell_type": "code",
   "execution_count": 22,
   "metadata": {
    "scrolled": true
   },
   "outputs": [
    {
     "data": {
      "text/plain": [
       "0     4\n",
       "1     6\n",
       "2    10\n",
       "3    15\n",
       "4    18\n",
       "dtype: int64"
      ]
     },
     "execution_count": 22,
     "metadata": {},
     "output_type": "execute_result"
    }
   ],
   "source": [
    "# Get the index values and assign to patient numbers\n",
    "patient_numbers = obese_bmis.index.values\n",
    "\n",
    "# Create patient_series using patient_numbers\n",
    "patient_series = pd.Series(patient_numbers)\n",
    "\n",
    "# Display\n",
    "patient_series.head()"
   ]
  },
  {
   "cell_type": "markdown",
   "metadata": {},
   "source": [
    "# Problem 5\n",
    "\n",
    "* Greate a [`pd.DatetimeIndex`](https://pandas.pydata.org/pandas-docs/stable/generated/pandas.DatetimeIndex.html) starting at Jan 1, 2018, going to Dec 31, 2018, with a frequency of 'MS' (month start) and assign it to the name `ix`.\n",
    "\n",
    "\n",
    "* Create a Series using `pd.Series()` and pass it `index=ix` and assign it to the variable `school_year`.\n",
    "\n",
    "\n",
    "* Set the entire Series to zero using `.loc[]`.\n",
    "\n",
    "\n",
    "* Display your Series.\n",
    "\n",
    "<br>\n",
    "\n",
    "Hint: creating a DatetimeIndex is a bit complicated, so I'm just going to give you the code.\n",
    "        \n",
    "    # Create datetime index\n",
    "    ix = pd.DatetimeIndex(start='2018-01-01', end='2018-12-31', freq='MS')\n",
    "    \n",
    "Hint: you do not necessarily need to pass anything to an Series on creation. Here you will pass only the index.\n",
    "\n",
    "\n",
    "Hint: the idiom for setting the entire Series to a value using the Series' loc attribute is `loc[:] = value`."
   ]
  },
  {
   "cell_type": "code",
   "execution_count": 25,
   "metadata": {},
   "outputs": [],
   "source": [
    "# Create DatetimeIndex for your Series\n",
    "ix = pd.DatetimeIndex(start='2018-01-01', end='2018-12-31', freq='MS')\n",
    "\n",
    "# Create a series with an index but no data\n",
    "school_year = pd.Series(index=ix)\n",
    "\n",
    "# Set data equal to zero\n",
    "school_year.loc[:] = 0"
   ]
  },
  {
   "cell_type": "markdown",
   "metadata": {},
   "source": [
    "# Problem 6\n",
    "\n",
    "* Take your previous `school_year` Series and set months February through May to 85.0.\n",
    "\n",
    "\n",
    "* Select May and the months before May and assign them to a variable `winter_semester`.\n",
    "\n",
    "\n",
    "* Select the score for the month of March from `winter_semester` and print the value.\n",
    "\n",
    "\n",
    "* Display `winter_semester`.\n",
    "\n",
    "<br>\n",
    "\n",
    "\n",
    "Hint: even though it works on a `DatetimeIndex`, `loc[]` is smart enough to use strings.\n",
    "\n",
    "    # Select a range of dates returning a Series\n",
    "    school_year.loc['2018-07-01': '2018-12-01']\n",
    "    \n",
    "    # Select a single value returning a scalar\n",
    "    school_year.loc['2018-09-01']\n",
    "    \n",
    "    # Select an open ended range returning a Series\n",
    "    school_year.loc['2018-07-01':]\n"
   ]
  },
  {
   "cell_type": "code",
   "execution_count": 24,
   "metadata": {},
   "outputs": [
    {
     "name": "stdout",
     "output_type": "stream",
     "text": [
      "85.0\n"
     ]
    },
    {
     "data": {
      "text/plain": [
       "2018-01-01    85.0\n",
       "2018-02-01    85.0\n",
       "2018-03-01    85.0\n",
       "2018-04-01    85.0\n",
       "2018-05-01    85.0\n",
       "Freq: MS, dtype: float64"
      ]
     },
     "execution_count": 24,
     "metadata": {},
     "output_type": "execute_result"
    }
   ],
   "source": [
    "# Set Feb, March, April, May to 85.0\n",
    "school_year.loc['2018-02-01': '2018-05-01'] = 85.0\n",
    "\n",
    "# Select May and previous months and assign to winter_semester\n",
    "winter_semester = school_year.loc[:'2018-05-01']\n",
    "\n",
    "# Print March score\n",
    "print(winter_semester.loc['2018-03-01'])\n",
    "\n",
    "# Display winter_semester\n",
    "winter_semester"
   ]
  },
  {
   "cell_type": "code",
   "execution_count": null,
   "metadata": {},
   "outputs": [],
   "source": [
    "compiund condition bixes\n",
    "then in a single step\n",
    "embassy workers, spies\n",
    "name, gender\n",
    "series 1, series 2, all\n",
    "create two series from two csvs \n",
    "indexes create series from series values\n",
    "get intersection of two series."
   ]
  },
  {
   "cell_type": "code",
   "execution_count": null,
   "metadata": {},
   "outputs": [],
   "source": []
  },
  {
   "cell_type": "code",
   "execution_count": null,
   "metadata": {},
   "outputs": [],
   "source": []
  },
  {
   "cell_type": "code",
   "execution_count": null,
   "metadata": {},
   "outputs": [],
   "source": []
  },
  {
   "cell_type": "code",
   "execution_count": null,
   "metadata": {},
   "outputs": [],
   "source": []
  },
  {
   "cell_type": "code",
   "execution_count": null,
   "metadata": {},
   "outputs": [],
   "source": []
  },
  {
   "cell_type": "code",
   "execution_count": null,
   "metadata": {},
   "outputs": [],
   "source": []
  },
  {
   "cell_type": "code",
   "execution_count": null,
   "metadata": {},
   "outputs": [],
   "source": []
  },
  {
   "cell_type": "code",
   "execution_count": null,
   "metadata": {},
   "outputs": [],
   "source": []
  },
  {
   "cell_type": "markdown",
   "metadata": {},
   "source": []
  },
  {
   "cell_type": "code",
   "execution_count": null,
   "metadata": {},
   "outputs": [],
   "source": []
  },
  {
   "cell_type": "markdown",
   "metadata": {},
   "source": [
    "---\n",
    "\n",
    "# Next Up: [Series Part 1 Solutions](7_series_part_1_solutions.ipynb)\n",
    "\n",
    "<br>\n",
    "\n",
    "<h1 align=\"left\"> $W=-\\Delta PE$ </h1>\n",
    "\n",
    "<br>\n",
    "\n",
    "---"
   ]
  }
 ],
 "metadata": {
  "anaconda-cloud": {},
  "kernelspec": {
   "display_name": "Python 3",
   "language": "python",
   "name": "python3"
  }
 },
 "nbformat": 4,
 "nbformat_minor": 1
}
