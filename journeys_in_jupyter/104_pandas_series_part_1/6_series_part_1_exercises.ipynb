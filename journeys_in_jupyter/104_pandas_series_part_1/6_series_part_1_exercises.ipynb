{
 "cells": [
  {
   "cell_type": "markdown",
   "metadata": {
    "collapsed": true
   },
   "source": [
    "<a href=\"https://github.com/theonaunheim\">\n",
    "    <img style=\"border-radius: 100%; float: right;\" src=\"static/strawberry_thief_square.png\" width=10% alt=\"Theo Naunheim's Github\">\n",
    "</a>\n",
    "\n",
    "<br style=\"clear: both\">\n",
    "<hr>\n",
    "<br>\n",
    "\n",
    "<h1 align='center'>Series Part 1 Exercises</h1>\n",
    "\n",
    "<br>\n",
    "\n",
    "<div style=\"display: table; width: 100%\">\n",
    "    <div style=\"display: table-row; width: 100%;\">\n",
    "        <div style=\"display: table-cell; width: 50%; vertical-align: middle;\">\n",
    "            <h1 align=\"center\"> $W=-\\Delta PE$ </h1>\n",
    "        </div>\n",
    "        <div style=\"display: table-cell; width: 10%\">\n",
    "        </div>\n",
    "        <div style=\"display: table-cell; width: 40%; vertical-align: top;\">\n",
    "            <blockquote>\n",
    "                <p style=\"font-style: italic;\">\"I hear and I forget. I see and I remember. I do and I understand.\"</p>\n",
    "                <br>\n",
    "                <p>-Confucius</p>\n",
    "            </blockquote>\n",
    "        </div>\n",
    "    </div>\n",
    "</div>\n",
    "\n",
    "<br>\n",
    "\n",
    "<hr>"
   ]
  },
  {
   "cell_type": "markdown",
   "metadata": {},
   "source": [
    "# Problem 1\n",
    "\n",
    "* Import Numpy and Pandas under the `np` and `pd` aliases.\n",
    "\n",
    "\n",
    "* Create a Series from the 'height_in_feet.csv' in the data folder and assign it to variable `height_feet`.\n",
    "\n",
    "\n",
    "* Create a Series from the 'weight_in_pounds.csv' in the data folder and assign it to variable `weight_pounds`.\n",
    "\n",
    "\n",
    "* Display your `height_feet` Series.\n",
    "\n",
    "<br>\n",
    "\n",
    "Hint: [`pd.read_csv()`](https://pandas.pydata.org/pandas-docs/stable/generated/pandas.read_csv.html) takes your CSV path as its first argument, e.g.: `'data/height_in_feet.csv'`, followed by `squeeze=True`. This will coerce your CSV to a Series (because you will generally use this method for DataFrame creation).\n",
    "\n",
    "Hint: if you end your cell with a variable name, the Jupyter Notebook will display that item."
   ]
  },
  {
   "cell_type": "code",
   "execution_count": null,
   "metadata": {},
   "outputs": [],
   "source": []
  },
  {
   "cell_type": "markdown",
   "metadata": {},
   "source": [
    "# Problem 2\n",
    "\n",
    "* Print the length of both Series.\n",
    "\n",
    "\n",
    "* Convert `height_feet` to meters and save the resulting Series to `height_meters`. \n",
    "\n",
    "\n",
    "* Convert `weight_pounds` to kilograms and save the resulting Series to `weight_kilograms`.\n",
    "\n",
    "\n",
    "* Display `height_meters`.\n",
    "\n",
    "<br>\n",
    "\n",
    "Hint: the regular Python function [`len()`](https://docs.python.org/3/library/functions.html?highlight=len#len) works on Series as well.\n",
    "\n",
    "Hint: the formula for converting feet to meters is:\n",
    "\n",
    "$feet * .3 = meters$\n",
    "\n",
    "Hint: the formula for converting pounds to kilograms is:\n",
    "\n",
    "$\\frac{pounds}{2.2} = kilograms$"
   ]
  },
  {
   "cell_type": "code",
   "execution_count": null,
   "metadata": {},
   "outputs": [],
   "source": []
  },
  {
   "cell_type": "markdown",
   "metadata": {},
   "source": [
    "# Problem 3\n",
    "\n",
    "* Presume that the first weight of your weight series corresponds with the first height of the height series, the second weight corresponds with the second height, etc. Use your `weight_kilograms` and `height_meters` Series to calculate the [BMI](https://en.wikipedia.org/wiki/Body_mass_index) for each of your samples and store it to the variable `bmis`.\n",
    "\n",
    "\n",
    "* Get a Series of all the BMIs corresponding with obese persons (i.e. BMI above 30) and store it to varible `obese_bmis`.\n",
    "\n",
    "\n",
    "* Get the [`len()`](https://docs.python.org/3/library/functions.html?highlight=len#len) of `obese_bmis`.\n",
    "\n",
    "\n",
    "* Use the lengths of `obese_bmis` and `bmis` to get the percentage of obese people in your population. Print it.\n",
    "\n",
    "\n",
    "* Display the `obese_bmis` Series.\n",
    "\n",
    "<br>\n",
    "\n",
    "Hint: BMI can be calculated via the following formula:\n",
    "\n",
    "$bmi = \\frac{kilograms}{meters^2}$\n",
    "\n",
    "Hint: You can use boolean indexing to filter your list like this:\n",
    "\n",
    "    # Lets get everyone over six feet in height\n",
    "    bix = height_feet > 6\n",
    "    taller_people = height_feet.loc[bix]"
   ]
  },
  {
   "cell_type": "code",
   "execution_count": null,
   "metadata": {},
   "outputs": [],
   "source": []
  },
  {
   "cell_type": "markdown",
   "metadata": {},
   "source": [
    "# Problem 4\n",
    "\n",
    "* Get the index values of `obese_bmi` and assign them to a variable called `patient_numbers`.\n",
    "\n",
    "* Create a Series called `patient_series` by passing `patient_numbers` to the [`pd.Series()`](https://pandas.pydata.org/pandas-docs/stable/generated/pandas.Series.html) constructor.\n",
    "\n",
    "* Display your new `patient_numbers` series.\n",
    "\n",
    "<br>\n",
    "\n",
    "Hint: you can access your index via its `index` attribute like this:\n",
    "        \n",
    "    # Get the index\n",
    "    temp_index = height_feet.index\n",
    "    \n",
    "Hint: you can get the `index`'s values by accessing the index's `values` object. \n",
    "\n",
    "    # Get the index's values\n",
    "    temp_index.values\n",
    "    \n",
    "    # Access the values in a single step\n",
    "    height_feet.index.values"
   ]
  },
  {
   "cell_type": "code",
   "execution_count": null,
   "metadata": {
    "scrolled": true
   },
   "outputs": [],
   "source": []
  },
  {
   "cell_type": "markdown",
   "metadata": {},
   "source": [
    "# Problem 5\n",
    "\n",
    "* Greate a [`pd.DatetimeIndex`](https://pandas.pydata.org/pandas-docs/stable/generated/pandas.DatetimeIndex.html) starting at Jan 1, 2018, going to Dec 31, 2018, with a frequency of 'MS' (month start) and assign it to the name `ix`.\n",
    "\n",
    "\n",
    "* Create a Series using `pd.Series()` and pass it `index=ix` and assign it to the variable `school_year`.\n",
    "\n",
    "\n",
    "* Set the entire Series to zero using `.loc[]`.\n",
    "\n",
    "\n",
    "* Display your Series.\n",
    "\n",
    "<br>\n",
    "\n",
    "Hint: creating a DatetimeIndex is a bit complicated, so I'm just going to give you the code.\n",
    "        \n",
    "    # Create datetime index\n",
    "    ix = pd.DatetimeIndex(start='2018-01-01', end='2018-12-31', freq='MS')\n",
    "    \n",
    "Hint: you do not necessarily need to pass anything to an Series on creation. Here you will pass only the index.\n",
    "\n",
    "\n",
    "Hint: the idiom for setting the entire Series to a value using the Series' loc attribute is `loc[:] = value`."
   ]
  },
  {
   "cell_type": "code",
   "execution_count": null,
   "metadata": {},
   "outputs": [],
   "source": []
  },
  {
   "cell_type": "markdown",
   "metadata": {},
   "source": [
    "# Problem 6\n",
    "\n",
    "* Take your previous `school_year` Series and set months February through May to 85.0.\n",
    "\n",
    "\n",
    "* Select May and the months before May and assign them to a variable `winter_semester`.\n",
    "\n",
    "\n",
    "* Select the score for the month of March from `winter_semester` and print the value.\n",
    "\n",
    "\n",
    "* Display `winter_semester`.\n",
    "\n",
    "<br>\n",
    "\n",
    "\n",
    "Hint: even though it works on a `DatetimeIndex`, `loc[]` is smart enough to use strings.\n",
    "\n",
    "    # Select a range of dates returning a Series\n",
    "    school_year.loc['2018-07-01': '2018-12-01']\n",
    "    \n",
    "    # Select a single value returning a scalar\n",
    "    school_year.loc['2018-09-01']\n",
    "    \n",
    "    # Select an open ended range returning a Series\n",
    "    school_year.loc['2018-07-01':]\n"
   ]
  },
  {
   "cell_type": "code",
   "execution_count": null,
   "metadata": {},
   "outputs": [],
   "source": []
  },
  {
   "cell_type": "markdown",
   "metadata": {},
   "source": [
    "# Problem 7\n",
    "\n",
    "\n",
    "* Use `pd.read_csv()` to load a Series from 'data/spies.csv' and save it to the variable `spies`.\n",
    "\n",
    "\n",
    "* Do the same with 'data/embassy_staff.csv' and save it to variable `staff`.\n",
    "\n",
    "\n",
    "* Display `staff`.\n",
    "\n",
    "<br>\n",
    "\n",
    "\n",
    "Hint: these CSVs have index data stored with them which necessetates the use of a `index_col=0` argument with `pd.read_csv()`.\n",
    "\n",
    "Hint: these CSVs do not have a header, so it will use your first row of data as a header unless you supply a `header=None` argument to `pd.read_csv` as well.\n",
    "\n",
    "Hint: you will still need `squeeze=True`."
   ]
  },
  {
   "cell_type": "code",
   "execution_count": null,
   "metadata": {},
   "outputs": [],
   "source": []
  },
  {
   "cell_type": "markdown",
   "metadata": {},
   "source": [
    "# Problem 8\n",
    "\n",
    "* Check if each item of the `staff` Series is over 40 and assign the result to `over_fourty_bix`.\n",
    "\n",
    "\n",
    "* Check if each item of the `staff.index` item is equal to 'Michael' and assign the result to `michael_bix`.\n",
    "\n",
    "\n",
    "* Combine these two indexes using the `|` operator to get a bix that gives all elements over 40 and all elements equal to 'Michael'. Write the resulting Series to `combined_bix`.\n",
    "\n",
    "\n",
    "* Use `combined_bix` as your indexer for the `.loc[]` object of `staff`. Write the result to result of `staff.loc[combined_bix]` to `target_staff`, a new variable.\n",
    "\n",
    "\n",
    "* Display `target_staff`.\n",
    "\n",
    "<br>\n",
    "\n",
    "\n",
    "Hint: When doing comparisons (`>`) or equalities (`==`), you can simply use the vectorized logical operations (e.g. `staff == 'Carlos'`).\n",
    "\n",
    "Hint: boolean indexes can be simply combined to create a new boolean index. Again, these boolean indexes are just Series of True and False values.\n",
    "\n",
    "Hint: you can overwrite a Series in place (e.g. `staff = staff + 10`).\n"
   ]
  },
  {
   "cell_type": "code",
   "execution_count": null,
   "metadata": {},
   "outputs": [],
   "source": []
  },
  {
   "cell_type": "markdown",
   "metadata": {},
   "source": [
    "# Problem 9\n",
    "\n",
    "* Create a union of the indexes of `spies` and `staff` called `union_ix`.\n",
    "\n",
    "\n",
    "* Create an intersection of the indexes of `spies` and `staff` called `intersection_ix`.\n",
    "\n",
    "\n",
    "* Display the intersecting values of the two indexes .\n",
    "\n",
    "\n",
    "<br>\n",
    "\n",
    "Hint: `spies.index` and `staff.index` are the objects you will be working with here.\n",
    "\n",
    "Hint: these indexes have attached methods that return new indexes based on the inputs, such as `index_1.union(index_2)`."
   ]
  },
  {
   "cell_type": "code",
   "execution_count": null,
   "metadata": {},
   "outputs": [],
   "source": []
  },
  {
   "cell_type": "markdown",
   "metadata": {},
   "source": [
    "# Problem 10\n",
    "\n",
    "* Take the intersection index and drop the value 'Klaus'. Assign the resulting index with the dropped element to `rosenberg_ix`.\n",
    "\n",
    "\n",
    "* Create a Series under the variable `rosenberg_series` by taking `staff` and then using the `rosenberg_ix` as an indexer with `loc[]`.\n",
    "\n",
    "\n",
    "* Display the `rosenberg_series`.\n",
    "\n",
    "<br>\n",
    "\n",
    "Hint: dropping a value from an index will return a new index that lacks that value."
   ]
  },
  {
   "cell_type": "code",
   "execution_count": null,
   "metadata": {},
   "outputs": [],
   "source": []
  },
  {
   "cell_type": "markdown",
   "metadata": {},
   "source": [
    "---\n",
    "\n",
    "# Next Up: [Series Part 1 Solutions](7_series_part_1_solutions.ipynb)\n",
    "\n",
    "<br>\n",
    "\n",
    "<h1 align=\"left\"> $W=-\\Delta PE$ </h1>\n",
    "\n",
    "<br>\n",
    "\n",
    "---"
   ]
  }
 ],
 "metadata": {
  "anaconda-cloud": {},
  "kernelspec": {
   "display_name": "Python 3",
   "language": "python",
   "name": "python3"
  },
  "language_info": {
   "codemirror_mode": {
    "name": "ipython",
    "version": 3
   },
   "file_extension": ".py",
   "mimetype": "text/x-python",
   "name": "python",
   "nbconvert_exporter": "python",
   "pygments_lexer": "ipython3",
   "version": "3.6.7"
  }
 },
 "nbformat": 4,
 "nbformat_minor": 1
}
