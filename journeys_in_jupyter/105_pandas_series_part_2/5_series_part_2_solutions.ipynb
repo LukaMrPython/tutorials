{
 "cells": [
  {
   "cell_type": "markdown",
   "metadata": {
    "collapsed": true
   },
   "source": [
    "<a href=\"https://github.com/theonaunheim\">\n",
    "    <img style=\"border-radius: 100%; float: right;\" src=\"static/strawberry_thief_square.png\" width=10% alt=\"Theo Naunheim's Github\">\n",
    "</a>\n",
    "\n",
    "<br style=\"clear: both\">\n",
    "<hr>\n",
    "<br>\n",
    "\n",
    "<h1 align='center'>Series Part 2 Solutions</h1>\n",
    "\n",
    "<br>\n",
    "\n",
    "<div style=\"display: table; width: 100%\">\n",
    "    <div style=\"display: table-row; width: 100%;\">\n",
    "        <div style=\"display: table-cell; width: 50%; vertical-align: middle;\">\n",
    "            <h1 align=\"center\"> $W=-\\Delta PE$ </h1>\n",
    "        </div>\n",
    "        <div style=\"display: table-cell; width: 10%\">\n",
    "        </div>\n",
    "        <div style=\"display: table-cell; width: 40%; vertical-align: top;\">\n",
    "            <blockquote>\n",
    "                <p style=\"font-style: italic;\">\"Diligence is the mother of good fortune.\"</p>\n",
    "                <br>\n",
    "                <p>-Miguel de Cervantes</p>\n",
    "            </blockquote>\n",
    "        </div>\n",
    "    </div>\n",
    "</div>\n",
    "\n",
    "<br>\n",
    "\n",
    "<hr>"
   ]
  },
  {
   "cell_type": "markdown",
   "metadata": {},
   "source": [
    "# Problem 1\n",
    "\n",
    "* Import numpy and pandas as `np` and `pd`.\n",
    "\n",
    "\n",
    "* Create a series from the './data/height_in_feet.csv' file using `pd.read_csv()`, and assign it to variable `height`.\n",
    "\n",
    "\n",
    "* Display the first 10 items of `height` using `head()`.\n",
    "\n",
    "\n",
    "* In a new cell, round each height to the nearest foot using the `round()` method and store the result to a variable called `rounded`.\n",
    "\n",
    "\n",
    "* Display the first 10 items of `rounded` using `head()`."
   ]
  },
  {
   "cell_type": "markdown",
   "metadata": {},
   "source": [
    "---\n",
    "\n",
    "### Double click for hints.\n",
    "\n",
    "---\n",
    "\n",
    "<div hidden=true>\n",
    "\n",
    "**Hint**: Again, you will have to use `header=None` and `squeeze=True` to coerce your CSV to a Series.\n",
    "\n",
    "**Hint**: `head()` defaults to 5, so you will need to supply a value of 10 as an argument.\n",
    "    \n",
    "</div>"
   ]
  },
  {
   "cell_type": "code",
   "execution_count": 1,
   "metadata": {},
   "outputs": [
    {
     "data": {
      "text/plain": [
       "0    5.57\n",
       "1    5.70\n",
       "2    6.12\n",
       "3    5.90\n",
       "4    5.87\n",
       "5    5.45\n",
       "6    5.54\n",
       "7    5.84\n",
       "8    6.24\n",
       "9    5.96\n",
       "Name: 0, dtype: float64"
      ]
     },
     "execution_count": 1,
     "metadata": {},
     "output_type": "execute_result"
    }
   ],
   "source": [
    "# Import under aliases\n",
    "import numpy as np\n",
    "import pandas as pd\n",
    "\n",
    "# Create a height Series.\n",
    "height = pd.read_csv(\n",
    "    './data/height_in_feet.csv', \n",
    "    header=None, \n",
    "    squeeze=True\n",
    ")\n",
    "\n",
    "# Display the first 10 items of height\n",
    "height.head(10)"
   ]
  },
  {
   "cell_type": "code",
   "execution_count": 2,
   "metadata": {},
   "outputs": [
    {
     "data": {
      "text/plain": [
       "0    6.0\n",
       "1    6.0\n",
       "2    6.0\n",
       "3    6.0\n",
       "4    6.0\n",
       "5    5.0\n",
       "6    6.0\n",
       "7    6.0\n",
       "8    6.0\n",
       "9    6.0\n",
       "Name: 0, dtype: float64"
      ]
     },
     "execution_count": 2,
     "metadata": {},
     "output_type": "execute_result"
    }
   ],
   "source": [
    "# Round the height series and store in rounded.\n",
    "rounded = height.round()\n",
    "\n",
    "# Display rounded first 10 items\n",
    "rounded.head(10)"
   ]
  },
  {
   "cell_type": "markdown",
   "metadata": {},
   "source": [
    "# Problem 2\n",
    "\n",
    "\n",
    "* Get the count of each value in  in `rounded`, save it to a variable called `counts`, and display it.\n",
    "\n",
    "\n",
    "* In the next cell, sort `counts` from tallest to shortest and store the result in a variable called `sorted_counts`.\n",
    "\n",
    "\n",
    "* Print the number of people that are approximately 5 feet tall.\n",
    "\n",
    "\n",
    "* Display `sorted_counts`."
   ]
  },
  {
   "cell_type": "markdown",
   "metadata": {},
   "source": [
    "---\n",
    "\n",
    "### Double click for hints.\n",
    "\n",
    "---\n",
    "\n",
    "<div hidden=true>\n",
    "\n",
    "**Hint**: Use `value_counts()` to get the count of values.\n",
    "\n",
    "**Hint**: when using `loc[]` to get the number of people that are 5 feet tall, you can use `5`, but it would be better to use `5.0` as that's what's in the index.\n",
    "\n",
    "**Hint**: Use `sort_index()` as opposed to `sort_values()` to sort by index values. You will need to pass an `ascending=False` argument to avoid the default.\n",
    "\n",
    "</div>"
   ]
  },
  {
   "cell_type": "code",
   "execution_count": 3,
   "metadata": {},
   "outputs": [
    {
     "data": {
      "text/plain": [
       "6.0    681\n",
       "5.0    318\n",
       "7.0      1\n",
       "Name: 0, dtype: int64"
      ]
     },
     "execution_count": 3,
     "metadata": {},
     "output_type": "execute_result"
    }
   ],
   "source": [
    "# Get the counts of the rounded values and assign to counts.\n",
    "counts = rounded.value_counts()\n",
    "counts"
   ]
  },
  {
   "cell_type": "code",
   "execution_count": 4,
   "metadata": {},
   "outputs": [
    {
     "name": "stdout",
     "output_type": "stream",
     "text": [
      "Number of people 5 feet tall:  318\n"
     ]
    },
    {
     "data": {
      "text/plain": [
       "7.0      1\n",
       "6.0    681\n",
       "5.0    318\n",
       "Name: 0, dtype: int64"
      ]
     },
     "execution_count": 4,
     "metadata": {},
     "output_type": "execute_result"
    }
   ],
   "source": [
    "# Get the counts of the rounded values and assign to counts.\n",
    "sorted_counts = counts.sort_index(ascending=False)\n",
    "\n",
    "# Print number of people that are 5 feet tall.\n",
    "print('Number of people 5 feet tall: ', sorted_counts.loc[5.0])\n",
    "\n",
    "# Display\n",
    "sorted_counts"
   ]
  },
  {
   "cell_type": "markdown",
   "metadata": {},
   "source": [
    "# Problem 3\n",
    "\n",
    "A Pandas koan ...\n",
    "\n",
    "The [canonical solution](https://stackoverflow.com/questions/23451244/how-to-zscore-normalize-pandas-column-with-nans) for getting Z scores in Pandas looks something like this:\n",
    "\n",
    "    number_series = pd.Series([0, 1, 2, 3, 4, 5, 4, 3, 2, 1])\n",
    "    z_scores    = (number_series - number_series.mean()) / number_series.std()\n",
    "\n",
    "<br>\n",
    "\n",
    "* How does `(number_series - number_series.mean()) / number_series.std()` work?\n",
    "\n",
    "<br>\n",
    "\n",
    "\n",
    "**Hint**: a [Z-score](https://en.wikipedia.org/wiki/Standard_score) is essentially the number of standard deviations from the mean.\n",
    "\n",
    "The Z-score for each observation is calculated as:\n",
    "\n",
    "## $z={(x-\\mu) \\over \\sigma }$\n",
    "\n",
    "where: \n",
    "\n",
    "* **x** is the observation\n",
    "\n",
    "* **$\\mu$** is the mean of the population.\n",
    "\n",
    "* **$\\sigma$** is the standard deviation of the population."
   ]
  },
  {
   "cell_type": "markdown",
   "metadata": {},
   "source": [
    "---\n",
    "\n",
    "### Double click for hints.\n",
    "\n",
    "---\n",
    "\n",
    "<div hidden=true>\n",
    "\n",
    "**Hint**: it has to do with the difference in behavior between vectors and scalars.\n",
    "\n",
    "**Hint**: `(raw_numbers - raw_numbers.mean()) / raw_numbers.std()` two of these are scalars and one is a Series. Try breaking it into more steps/intermediates if unclear.\n",
    "    \n",
    "</div>"
   ]
  },
  {
   "cell_type": "code",
   "execution_count": 5,
   "metadata": {},
   "outputs": [
    {
     "data": {
      "text/plain": [
       "0    0\n",
       "1    1\n",
       "2    2\n",
       "3    3\n",
       "4    4\n",
       "5    5\n",
       "6    4\n",
       "7    3\n",
       "8    2\n",
       "9    1\n",
       "dtype: int64"
      ]
     },
     "execution_count": 5,
     "metadata": {},
     "output_type": "execute_result"
    }
   ],
   "source": [
    "# Displaying the series\n",
    "number_series = pd.Series([0, 1, 2, 3, 4, 5, 4, 3, 2, 1])\n",
    "number_series"
   ]
  },
  {
   "cell_type": "code",
   "execution_count": 6,
   "metadata": {},
   "outputs": [
    {
     "data": {
      "text/plain": [
       "0     0\n",
       "1    10\n",
       "2    20\n",
       "3    30\n",
       "4    40\n",
       "5    50\n",
       "6    40\n",
       "7    30\n",
       "8    20\n",
       "9    10\n",
       "dtype: int64"
      ]
     },
     "execution_count": 6,
     "metadata": {},
     "output_type": "execute_result"
    }
   ],
   "source": [
    "# This works because the results of .mean() and std() are scalars, while raw_numbers is a Series.\n",
    "# Recall that when you do an operation with a scalar, it is done to each item in the Series.\n",
    "number_series * 10"
   ]
  },
  {
   "cell_type": "code",
   "execution_count": 7,
   "metadata": {},
   "outputs": [
    {
     "name": "stdout",
     "output_type": "stream",
     "text": [
      "Mean is 2.5 and stdev is 1.6\n"
     ]
    }
   ],
   "source": [
    "# Both mean() and std() give us back scalars\n",
    "mean_scalar  = round(number_series.mean(), 1)\n",
    "stdev_scalar = round(number_series.std() , 1)\n",
    "\n",
    "print(f'Mean is {mean_scalar} and stdev is {stdev_scalar}')"
   ]
  },
  {
   "cell_type": "code",
   "execution_count": 8,
   "metadata": {},
   "outputs": [
    {
     "name": "stdout",
     "output_type": "stream",
     "text": [
      "This means our formula:\n",
      "\n",
      "\traw_numbers - raw_numbers.mean() / raw_numbers.std()\n",
      "\n",
      "is the same as:\n",
      "\n",
      "\t (raw_numbers - 2.5) / 1.6\n",
      "\n",
      "is the same as:\n",
      "\n",
      "\t raw_minus_mean / 1.6\n",
      "\n"
     ]
    }
   ],
   "source": [
    "# Which means our operations are basically this:\n",
    "print(f'This means our formula:\\n\\n\\traw_numbers - raw_numbers.mean() / raw_numbers.std()\\n')\n",
    "\n",
    "# Is functionally equivalent to\n",
    "print(f'is the same as:\\n\\n\\t (raw_numbers - {mean_scalar}) / {stdev_scalar}\\n')\n",
    "\n",
    "# Is functionally equivalent to\n",
    "print(f'is the same as:\\n\\n\\t raw_minus_mean / {stdev_scalar}\\n')"
   ]
  },
  {
   "cell_type": "code",
   "execution_count": 9,
   "metadata": {},
   "outputs": [
    {
     "data": {
      "text/plain": [
       "0   -2.5\n",
       "1   -1.5\n",
       "2   -0.5\n",
       "3    0.5\n",
       "4    1.5\n",
       "5    2.5\n",
       "6    1.5\n",
       "7    0.5\n",
       "8   -0.5\n",
       "9   -1.5\n",
       "dtype: float64"
      ]
     },
     "execution_count": 9,
     "metadata": {},
     "output_type": "execute_result"
    }
   ],
   "source": [
    "# So breaking this down ... we subtract the mean from the Series, yielding a new Series.\n",
    "number_minus_mean_series = number_series - mean_scalar\n",
    "number_minus_mean_series"
   ]
  },
  {
   "cell_type": "code",
   "execution_count": 10,
   "metadata": {},
   "outputs": [
    {
     "data": {
      "text/plain": [
       "0   -1.5625\n",
       "1   -0.9375\n",
       "2   -0.3125\n",
       "3    0.3125\n",
       "4    0.9375\n",
       "5    1.5625\n",
       "6    0.9375\n",
       "7    0.3125\n",
       "8   -0.3125\n",
       "9   -0.9375\n",
       "dtype: float64"
      ]
     },
     "execution_count": 10,
     "metadata": {},
     "output_type": "execute_result"
    }
   ],
   "source": [
    "# We then divide that difference Series by another scalar yielding a new Series.\n",
    "z_score_series = number_minus_mean_series / stdev_scalar\n",
    "z_score_series"
   ]
  },
  {
   "cell_type": "markdown",
   "metadata": {},
   "source": [
    "# Problem 4\n",
    "\n",
    "\n",
    "* Load '.data/lob_characters.csv' using `squeeze=True` into a variable called `lob`. Display the first 5 items.\n",
    "\n",
    "\n",
    "* In a new cell, determine whether each character in the Series is in the list `['Gaoler', 'Jimbo', 'Judith Escariot']` and save the resulting boolean Series into `character_bix`. Display the first 5 items.\n",
    "\n",
    "\n",
    "* In a new cell, use lob's `loc[]` attribute to get all the entries that are True in `character_bix`.\n",
    "\n",
    "\n",
    "* In a new cell, check whether each item in `lob` is NA/null. Assign the result to `null_bix` and display the first 5 items.\n",
    "\n",
    "\n",
    "* In a new cell, check whether each item in `lob` is equal to `np.NaN` using the equality operator (`==`). Save the result to `useless_bix` and display the first 5 items. Is this different than `null_bix`? Why?\n",
    "\n",
    "\n",
    "* In a new cell, replace all `np.NaN` values with the string 'Unknown' and save the resulting Series to `filled`. Display the first 5 items.\n",
    "\n",
    "\n",
    "* In a new cell, drop all NA values and assign the result to `dropped_na`. Then drop the duplicates from `dropped_na` and assign the resulting Series to `dropped_na_and_dupes`. Display the final Series.\n",
    "\n",
    "\n",
    "* In a new cell, save `dropped_na_and_dupes` to an Excel file with no index."
   ]
  },
  {
   "cell_type": "markdown",
   "metadata": {},
   "source": [
    "---\n",
    "\n",
    "### Double click for hints.\n",
    "\n",
    "---\n",
    "\n",
    "<div hidden=true>\n",
    "\n",
    "**Hint**: Use the `isin()` method to determine if each element of a Series falls within a particular list or Series. Your list or Series will be the first (and usually only) argument.\n",
    "\n",
    "**Hint**: Use `isnull()` to find which items of a Series are null.\n",
    "\n",
    "**Hint**: Use `fillna()` to fill NA values with a new value (your new value will be the argument to `fillna()`.\n",
    "\n",
    "**Hint**: Use `dropna()` to drop NaN values.\n",
    "\n",
    "**Hint**: Use `drop_duplicates()` to drop duplicate values.\n",
    "\n",
    "**Hint**: Use `to_excel()` to save to an Excel file (remember to use a '.xlsx' suffix on your filename).\n",
    "                                                             \n",
    "</div>"
   ]
  },
  {
   "cell_type": "code",
   "execution_count": 11,
   "metadata": {},
   "outputs": [
    {
     "data": {
      "text/plain": [
       "0                    Brian\n",
       "1                      NaN\n",
       "2    Centurion of the Yard\n",
       "3                   Gaoler\n",
       "4                      NaN\n",
       "Name: characters, dtype: object"
      ]
     },
     "execution_count": 11,
     "metadata": {},
     "output_type": "execute_result"
    }
   ],
   "source": [
    "# Load data and display\n",
    "lob = pd.read_csv('./data/lob_characters.csv', squeeze=True)\n",
    "lob.head()"
   ]
  },
  {
   "cell_type": "code",
   "execution_count": 12,
   "metadata": {},
   "outputs": [
    {
     "data": {
      "text/plain": [
       "0    False\n",
       "1    False\n",
       "2    False\n",
       "3     True\n",
       "4    False\n",
       "Name: characters, dtype: bool"
      ]
     },
     "execution_count": 12,
     "metadata": {},
     "output_type": "execute_result"
    }
   ],
   "source": [
    "# Check whether each character is in the list ['Gaoler', 'Jimbo', 'Judith Escariot']\n",
    "character_bix = lob.isin(['Gaoler', 'Judith Escariot'])\n",
    "character_bix.head()"
   ]
  },
  {
   "cell_type": "code",
   "execution_count": 13,
   "metadata": {},
   "outputs": [
    {
     "data": {
      "text/plain": [
       "3              Gaoler\n",
       "8     Judith Escariot\n",
       "14             Gaoler\n",
       "Name: characters, dtype: object"
      ]
     },
     "execution_count": 13,
     "metadata": {},
     "output_type": "execute_result"
    }
   ],
   "source": [
    "# Get a Series entirely composed of items in character_gix\n",
    "lob.loc[character_bix]"
   ]
  },
  {
   "cell_type": "code",
   "execution_count": 14,
   "metadata": {},
   "outputs": [
    {
     "data": {
      "text/plain": [
       "0    False\n",
       "1     True\n",
       "2    False\n",
       "3    False\n",
       "4     True\n",
       "Name: characters, dtype: bool"
      ]
     },
     "execution_count": 14,
     "metadata": {},
     "output_type": "execute_result"
    }
   ],
   "source": [
    "# Check whether each item in the Series is null.\n",
    "null_bix = lob.isnull()\n",
    "null_bix.head()"
   ]
  },
  {
   "cell_type": "code",
   "execution_count": 15,
   "metadata": {},
   "outputs": [
    {
     "name": "stdout",
     "output_type": "stream",
     "text": [
      "False\n"
     ]
    },
    {
     "data": {
      "text/plain": [
       "0    False\n",
       "1    False\n",
       "2    False\n",
       "3    False\n",
       "4    False\n",
       "Name: characters, dtype: bool"
      ]
     },
     "execution_count": 15,
     "metadata": {},
     "output_type": "execute_result"
    }
   ],
   "source": [
    "# Check whether each item is equal to NaN\n",
    "useless_bix = lob == np.NaN\n",
    "\n",
    "# It's different becausee np.NaN is not equal to anything, including itself!\n",
    "# You should use specialized functions to find NaN values.\n",
    "print(np.NaN == np.NaN)\n",
    "useless_bix.head()"
   ]
  },
  {
   "cell_type": "code",
   "execution_count": 16,
   "metadata": {},
   "outputs": [
    {
     "data": {
      "text/plain": [
       "0                    Brian\n",
       "1                  Unknown\n",
       "2    Centurion of the Yard\n",
       "3                   Gaoler\n",
       "4                  Unknown\n",
       "Name: characters, dtype: object"
      ]
     },
     "execution_count": 16,
     "metadata": {},
     "output_type": "execute_result"
    }
   ],
   "source": [
    "# Fill NA items with \"Unknown\"\n",
    "filled = lob.fillna('Unknown')\n",
    "filled.head()"
   ]
  },
  {
   "cell_type": "code",
   "execution_count": 17,
   "metadata": {},
   "outputs": [
    {
     "data": {
      "text/plain": [
       "0                     Brian\n",
       "2     Centurion of the Yard\n",
       "3                    Gaoler\n",
       "5         Harry the Haggler\n",
       "6                  Ex-Leper\n",
       "7                   Gregory\n",
       "8           Judith Escariot\n",
       "9        Simon the Holy Man\n",
       "10           Pontius Pilate\n",
       "11                 Matthias\n",
       "Name: characters, dtype: object"
      ]
     },
     "execution_count": 17,
     "metadata": {},
     "output_type": "execute_result"
    }
   ],
   "source": [
    "# Drop NA values\n",
    "dropped_na = lob.dropna()\n",
    "\n",
    "# Drop duplicates from dropped_na\n",
    "dropped_na_and_dupes = dropped_na.drop_duplicates()\n",
    "\n",
    "# Display\n",
    "dropped_na_and_dupes"
   ]
  },
  {
   "cell_type": "code",
   "execution_count": 18,
   "metadata": {},
   "outputs": [],
   "source": [
    "# Write to Excel\n",
    "dropped_na_and_dupes.to_excel('./data/dropped_na_and_dupes.xlsx', index=False)"
   ]
  },
  {
   "cell_type": "markdown",
   "metadata": {},
   "source": [
    "# Problem 5\n",
    "\n",
    "* Load './data/mixed_bag.csv' using the `squeeze` keyword and assign the result to `mixed`. Display the Series.\n",
    "\n",
    "\n",
    "* In a new cell, show `mixed`'s datatype.\n",
    "\n",
    "\n",
    "* In a new cell, convert `mixed` to numeric values in a fault tolerant manner. Write the result to `mixed_numeric`. Display.\n",
    "\n",
    "\n",
    "* In a new cell, convert `mixed` to datetime values in a fault tolerant manner. Write the results to `mixed_datetime`. Display.\n",
    "\n",
    "\n",
    "* In a new cell, convert `mixed_numeric` to a string and save the result to `mixed_string`. Display."
   ]
  },
  {
   "cell_type": "markdown",
   "metadata": {},
   "source": [
    "---\n",
    "\n",
    "### Double click for hints.\n",
    "\n",
    "---\n",
    "\n",
    "<div hidden=true>\n",
    "\n",
    "**Hint**: the `dtype` attribute will give you the original datatype.\n",
    "\n",
    "**Hint**: the best way to convert to numerics in a fault tolerant manner is `pd.to_numeric()` with an `errors='coerce'` argument.\n",
    "\n",
    "**Hint**: the best way to convert to datetimes in a fault tolerant manner is `pd.to_datetime()` with an `errors='coerce'` argument.\n",
    "\n",
    "**Hint**: string conversion can be accomplished relatively easily using `astype(str)`.\n",
    "    \n",
    "</div>"
   ]
  },
  {
   "cell_type": "code",
   "execution_count": 19,
   "metadata": {},
   "outputs": [
    {
     "data": {
      "text/plain": [
       "0    2018-01-01\n",
       "1             4\n",
       "2           2.0\n",
       "3    2019-01-01\n",
       "4    12/31/2015\n",
       "5           2.8\n",
       "6         hola!\n",
       "7           2.9\n",
       "8           NaN\n",
       "Name: hot_mess, dtype: object"
      ]
     },
     "execution_count": 19,
     "metadata": {},
     "output_type": "execute_result"
    }
   ],
   "source": [
    "# Load Series\n",
    "mixed = pd.read_csv('./data/mixed_bag.csv', squeeze=True)\n",
    "mixed"
   ]
  },
  {
   "cell_type": "code",
   "execution_count": 20,
   "metadata": {},
   "outputs": [
    {
     "data": {
      "text/plain": [
       "dtype('O')"
      ]
     },
     "execution_count": 20,
     "metadata": {},
     "output_type": "execute_result"
    }
   ],
   "source": [
    "# Show dtype\n",
    "mixed.dtype"
   ]
  },
  {
   "cell_type": "code",
   "execution_count": 21,
   "metadata": {},
   "outputs": [
    {
     "data": {
      "text/plain": [
       "0    NaN\n",
       "1    4.0\n",
       "2    2.0\n",
       "3    NaN\n",
       "4    NaN\n",
       "5    2.8\n",
       "6    NaN\n",
       "7    2.9\n",
       "8    NaN\n",
       "Name: hot_mess, dtype: float64"
      ]
     },
     "execution_count": 21,
     "metadata": {},
     "output_type": "execute_result"
    }
   ],
   "source": [
    "# Convert to numeric\n",
    "mixed_numeric = pd.to_numeric(mixed, errors='coerce')\n",
    "mixed_numeric"
   ]
  },
  {
   "cell_type": "code",
   "execution_count": 22,
   "metadata": {},
   "outputs": [
    {
     "data": {
      "text/plain": [
       "0   2018-01-01\n",
       "1          NaT\n",
       "2          NaT\n",
       "3   2019-01-01\n",
       "4   2015-12-31\n",
       "5          NaT\n",
       "6          NaT\n",
       "7          NaT\n",
       "8          NaT\n",
       "Name: hot_mess, dtype: datetime64[ns]"
      ]
     },
     "execution_count": 22,
     "metadata": {},
     "output_type": "execute_result"
    }
   ],
   "source": [
    "# Convert to datetime\n",
    "mixed_datetime = pd.to_datetime(mixed, errors='coerce')\n",
    "mixed_datetime"
   ]
  },
  {
   "cell_type": "code",
   "execution_count": 23,
   "metadata": {},
   "outputs": [
    {
     "data": {
      "text/plain": [
       "0    nan\n",
       "1    4.0\n",
       "2    2.0\n",
       "3    nan\n",
       "4    nan\n",
       "5    2.8\n",
       "6    nan\n",
       "7    2.9\n",
       "8    nan\n",
       "Name: hot_mess, dtype: object"
      ]
     },
     "execution_count": 23,
     "metadata": {},
     "output_type": "execute_result"
    }
   ],
   "source": [
    "# Convert numeric to string\n",
    "mixed_string = mixed_numeric.astype(str)\n",
    "mixed_string"
   ]
  },
  {
   "cell_type": "markdown",
   "metadata": {},
   "source": [
    "# Problem 6\n",
    "\n",
    "* Read the data from './data/morse.csv' using 'character' as an index column and the `squeeze` keyword argument and assign the data to `morse`. Display the first 5 items.\n",
    "\n",
    "\n",
    "* In a new cell, reset the index to a simple integer index without converting to a Dataframe and assign the data to `reset_morse`. Display the first 5 items.\n",
    "\n",
    "\n",
    "* In a new cell reindex `reset_morse` using the original index of `morse`. Assign the result to `morse_again` and display the first 5 items.\n",
    "\n",
    "\n",
    "* In a new cell, get a 25% sample of morse and assign it to `sample`. Get the index values of `sample` and assign them to `sample_ix`.\n",
    "\n",
    "\n",
    "* In a new cell, drop the `sample_ix` items from `morse`, and display the first 5 items of the resulting Series."
   ]
  },
  {
   "cell_type": "markdown",
   "metadata": {},
   "source": [
    "---\n",
    "\n",
    "### Double click for hints.\n",
    "\n",
    "---\n",
    "\n",
    "<div hidden=true>\n",
    "\n",
    "**Hint**: use `index_col='character'` to index your Series on the 'character' column.\n",
    "\n",
    "**Hint**: use `reset_index(drop=True)` to reset your Series without converting to a DataFrame.\n",
    "\n",
    "**Hint**: use `reindex()`  on `morse_again` with an argument of `morse.index` to reset the index based on `morse`'s index.\n",
    "\n",
    "**Hint**: use `sample(frac=.25)` to get a 25% sample, and use `sample.index.values` to get the index values of that sample.\n",
    "\n",
    "**Hint**: use `drop()` to drop index items from a Series.\n",
    "\n",
    "</div>"
   ]
  },
  {
   "cell_type": "code",
   "execution_count": 24,
   "metadata": {},
   "outputs": [
    {
     "data": {
      "text/plain": [
       "character\n",
       "\"    . _ . . _ .\n",
       "'    . _ _ _ _ .\n",
       "(      _ . _ _ .\n",
       ")    _ . _ _ . _\n",
       "+      . _ . _ .\n",
       "Name: morse_representation, dtype: object"
      ]
     },
     "execution_count": 24,
     "metadata": {},
     "output_type": "execute_result"
    }
   ],
   "source": [
    "# Load the morse csv using 'character' as an index column\n",
    "morse = pd.read_csv('./data/morse.csv', index_col='character', squeeze=True)\n",
    "morse.head()"
   ]
  },
  {
   "cell_type": "code",
   "execution_count": 25,
   "metadata": {},
   "outputs": [
    {
     "data": {
      "text/plain": [
       "0    . _ . . _ .\n",
       "1    . _ _ _ _ .\n",
       "2      _ . _ _ .\n",
       "3    _ . _ _ . _\n",
       "4      . _ . _ .\n",
       "Name: morse_representation, dtype: object"
      ]
     },
     "execution_count": 25,
     "metadata": {},
     "output_type": "execute_result"
    }
   ],
   "source": [
    "# Reset index\n",
    "reset_morse = morse.reset_index(drop=True)\n",
    "reset_morse.head()"
   ]
  },
  {
   "cell_type": "code",
   "execution_count": 26,
   "metadata": {},
   "outputs": [
    {
     "data": {
      "text/plain": [
       "character\n",
       "\"    NaN\n",
       "'    NaN\n",
       "(    NaN\n",
       ")    NaN\n",
       "+    NaN\n",
       "Name: morse_representation, dtype: object"
      ]
     },
     "execution_count": 26,
     "metadata": {},
     "output_type": "execute_result"
    }
   ],
   "source": [
    "# Set the index to 'morse_representation', effectively inverting our\n",
    "morse_again = reset_morse.reindex(morse.index)\n",
    "morse_again.head()"
   ]
  },
  {
   "cell_type": "code",
   "execution_count": 27,
   "metadata": {},
   "outputs": [],
   "source": [
    "# Get a random sample of our morse characters.\n",
    "sample = morse.sample(frac=.25)\n",
    "\n",
    "# Convert that sample into a series of index values\n",
    "sample_ix = sample.index.values"
   ]
  },
  {
   "cell_type": "code",
   "execution_count": 28,
   "metadata": {},
   "outputs": [
    {
     "data": {
      "text/plain": [
       "character\n",
       "'    . _ _ _ _ .\n",
       "(      _ . _ _ .\n",
       ")    _ . _ _ . _\n",
       "+      . _ . _ .\n",
       ",    _ _ . . _ _\n",
       "Name: morse_representation, dtype: object"
      ]
     },
     "execution_count": 28,
     "metadata": {},
     "output_type": "execute_result"
    }
   ],
   "source": [
    "# Use those sample index values to drop the sample from the morse Series\n",
    "morse.drop(sample_ix).head()"
   ]
  },
  {
   "cell_type": "markdown",
   "metadata": {},
   "source": [
    "# Problem 7\n",
    "\n",
    "\n",
    "* Load the data from './data/morse.csv' using `pd.read_csv()` with 'character' as an index column and `squeeze=True`. Assign the resulting Series to the variable `morse`.\n",
    "\n",
    "\n",
    "* Display the morse object using `loc[]` from index 'A' to index 'B'.\n",
    "\n",
    "\n",
    "* In a new cell, create a list from the string 'The rain in Spain falls mainly on the plain.' with one letter per list element. Store that list in variable `string_list`. Then feed this list into a Series, which you should call `string_series`. Display the first 10 items of this series.\n",
    "\n",
    "\n",
    "* Define a function called `make_uppercase` that takes a single letter, and returns the upper case version of that letter. Then use the `map()` method of your string series to map your `make_uppercase()` function. Store the result to `function_mapped` and display the first 10 items.\n",
    "\n",
    "\n",
    "* Then take your `function_mapped` series and use `map()` again, this time mapping values using a Series. Save the result to `series_mapped` and display the first 10 items."
   ]
  },
  {
   "cell_type": "markdown",
   "metadata": {},
   "source": [
    "---\n",
    "\n",
    "### Double click for hints.\n",
    "\n",
    "---\n",
    "\n",
    "<div hidden=true>\n",
    "\n",
    "**Note**: to specify an index column, use an `index_col` argument (e.g. `index_col='character'`)\n",
    "\n",
    "**Note**: to split a string into a list, simply use the list constructor `list('Your string here')`.\n",
    "\n",
    "**Note**: you are first creating a new Series based on a function mapping. You are then creating a new Series based on a  translation-table-like Series mapping.\n",
    "\n",
    "**Note**: don't worry about the NaNs. Morse code does not have a representation for spaces. Because there's nothing to map, pandas fills these values with NaN.\n",
    "\n",
    "</div>"
   ]
  },
  {
   "cell_type": "code",
   "execution_count": 29,
   "metadata": {},
   "outputs": [
    {
     "data": {
      "text/plain": [
       "character\n",
       "A        . _\n",
       "B    _ . . .\n",
       "C    _ . _ .\n",
       "D      _ . .\n",
       "E          .\n",
       "F    . . _ .\n",
       "G      _ _ .\n",
       "H    . . . .\n",
       "I        . .\n",
       "J    . _ _ _\n",
       "K      _ . _\n",
       "L    . _ . .\n",
       "M        _ _\n",
       "N        _ .\n",
       "O      _ _ _\n",
       "P    . _ _ .\n",
       "Q    _ _ . _\n",
       "R      . _ .\n",
       "S      . . .\n",
       "T          _\n",
       "U      . . _\n",
       "V    . . . _\n",
       "W      . _ _\n",
       "X    _ . . _\n",
       "Y    _ . _ _\n",
       "Z    _ _ . .\n",
       "Name: morse_representation, dtype: object"
      ]
     },
     "execution_count": 29,
     "metadata": {},
     "output_type": "execute_result"
    }
   ],
   "source": [
    "# Load the character to morse code mapping\n",
    "morse = pd.read_csv('./data/morse.csv', index_col='character', squeeze=True)\n",
    "\n",
    "# Display letters A through Z.\n",
    "morse.loc['A': 'Z']"
   ]
  },
  {
   "cell_type": "code",
   "execution_count": 30,
   "metadata": {},
   "outputs": [
    {
     "data": {
      "text/plain": [
       "0    T\n",
       "1    h\n",
       "2    e\n",
       "3     \n",
       "4    r\n",
       "5    a\n",
       "6    i\n",
       "7    n\n",
       "8     \n",
       "9    i\n",
       "dtype: object"
      ]
     },
     "execution_count": 30,
     "metadata": {},
     "output_type": "execute_result"
    }
   ],
   "source": [
    "# Create a list from the string, \"The rain in Spain falls mainly on the plain.\"\n",
    "string_list = list('The rain in Spain falls mainly on the plain.')\n",
    "\n",
    "# Create a Series from that list\n",
    "string_series = pd.Series(string_list)\n",
    "\n",
    "# Display first 10.\n",
    "string_series.head(10)"
   ]
  },
  {
   "cell_type": "code",
   "execution_count": 31,
   "metadata": {},
   "outputs": [
    {
     "data": {
      "text/plain": [
       "0    T\n",
       "1    H\n",
       "2    E\n",
       "3     \n",
       "4    R\n",
       "5    A\n",
       "6    I\n",
       "7    N\n",
       "8     \n",
       "9    I\n",
       "dtype: object"
      ]
     },
     "execution_count": 31,
     "metadata": {},
     "output_type": "execute_result"
    }
   ],
   "source": [
    "# Define a function to capitalize something\n",
    "def make_uppercase(letter):\n",
    "    return letter.upper()\n",
    "\n",
    "\n",
    "# Map the make_uppercase function to the string and save to upper_string\n",
    "function_mapped = string_series.map(make_uppercase)\n",
    "\n",
    "# Display first 10\n",
    "function_mapped.head(10)"
   ]
  },
  {
   "cell_type": "code",
   "execution_count": 32,
   "metadata": {},
   "outputs": [
    {
     "data": {
      "text/plain": [
       "0          _\n",
       "1    . . . .\n",
       "2          .\n",
       "3        NaN\n",
       "4      . _ .\n",
       "5        . _\n",
       "6        . .\n",
       "7        _ .\n",
       "8        NaN\n",
       "9        . .\n",
       "dtype: object"
      ]
     },
     "execution_count": 32,
     "metadata": {},
     "output_type": "execute_result"
    }
   ],
   "source": [
    "# Map the morse code Series\n",
    "series_mapped = function_mapped.map(morse)\n",
    "\n",
    "# Display first 10\n",
    "series_mapped.head(10)"
   ]
  },
  {
   "cell_type": "markdown",
   "metadata": {},
   "source": [
    "# Problem 8\n",
    "\n",
    "\n",
    "* Load './data/salaries.csv' using `pd.read_csv()` and assign it to a variable called `salaries`. Load './data/professions.csv' and assign it to a cariable called `professions`.\n",
    "\n",
    "\n",
    "* In a new cell, show the first 5 elements of `professions`.\n",
    "\n",
    "\n",
    "* In a new cell, show the first 5 elements of `salaries`. What do you see?\n",
    "\n",
    "\n",
    "* In a new cell, use `groupby()` to group `salaries` by `professions`. Assign the result to a variable called `gb`.\n",
    "\n",
    "\n",
    "* In a new cell, get the median of your groupby object, and sort the values.\n",
    "\n",
    "\n",
    "* In a new cell, get the count of your groupby object and sort the values."
   ]
  },
  {
   "cell_type": "markdown",
   "metadata": {},
   "source": [
    "---\n",
    "\n",
    "### Double click for hints.\n",
    "\n",
    "---\n",
    "\n",
    "<div hidden=true>\n",
    "\n",
    "**Hint**: you'll again have to use the `squeeze=True` argument for both Series.\n",
    "\n",
    "**Hint**: you group one Series by another by using the `groupby()` method and passing the Series used for grouping to that method. For details, see the previous notebook.\n",
    "\n",
    "**Hint**: the median of your groupby object is unsurprisingly obtained by using the `median()` method.\n",
    "\n",
    "**Hint**: the count of your groupby object can be found using `size()`.\n",
    "    \n",
    "</div>"
   ]
  },
  {
   "cell_type": "code",
   "execution_count": 33,
   "metadata": {},
   "outputs": [],
   "source": [
    "# Load our Series.\n",
    "salaries    = pd.read_csv('./data/salaries.csv', squeeze=True)\n",
    "professions = pd.read_csv('./data/professions.csv', squeeze=True)"
   ]
  },
  {
   "cell_type": "code",
   "execution_count": 34,
   "metadata": {},
   "outputs": [
    {
     "data": {
      "text/plain": [
       "0    Soldier\n",
       "1     Tailor\n",
       "2    Soldier\n",
       "3     Tailor\n",
       "4    Soldier\n",
       "Name: profession, dtype: object"
      ]
     },
     "execution_count": 34,
     "metadata": {},
     "output_type": "execute_result"
    }
   ],
   "source": [
    "# Show professions\n",
    "professions.head()"
   ]
  },
  {
   "cell_type": "code",
   "execution_count": 35,
   "metadata": {},
   "outputs": [
    {
     "data": {
      "text/plain": [
       "0    40000.00\n",
       "1    35970.85\n",
       "2    40000.00\n",
       "3    59732.74\n",
       "4    40000.00\n",
       "Name: salary, dtype: float64"
      ]
     },
     "execution_count": 35,
     "metadata": {},
     "output_type": "execute_result"
    }
   ],
   "source": [
    "# Show salaries. There is no variablility around soldier salaries.\n",
    "salaries.head()"
   ]
  },
  {
   "cell_type": "code",
   "execution_count": 36,
   "metadata": {},
   "outputs": [],
   "source": [
    "# Group salaries by profession\n",
    "gb = salaries.groupby(professions)"
   ]
  },
  {
   "cell_type": "code",
   "execution_count": 37,
   "metadata": {},
   "outputs": [
    {
     "data": {
      "text/plain": [
       "profession\n",
       "Tinker     34987.51\n",
       "Soldier    40000.00\n",
       "Tailor     46427.35\n",
       "Spy        71137.06\n",
       "Name: salary, dtype: float64"
      ]
     },
     "execution_count": 37,
     "metadata": {},
     "output_type": "execute_result"
    }
   ],
   "source": [
    "# Get the median salary\n",
    "gb.median().sort_values()"
   ]
  },
  {
   "cell_type": "code",
   "execution_count": 38,
   "metadata": {},
   "outputs": [
    {
     "data": {
      "text/plain": [
       "profession\n",
       "Spy         50\n",
       "Tailor      87\n",
       "Tinker     168\n",
       "Soldier    695\n",
       "Name: salary, dtype: int64"
      ]
     },
     "execution_count": 38,
     "metadata": {},
     "output_type": "execute_result"
    }
   ],
   "source": [
    "# Get the size of each group.\n",
    "gb.size().sort_values()"
   ]
  },
  {
   "cell_type": "markdown",
   "metadata": {},
   "source": [
    "# Problem 9\n",
    "\n",
    "\n",
    "* Import matplotlib then import matplotlib.pyplot as `plt`.\n",
    "\n",
    "\n",
    "* Set up Matplotlib to plot inline intead of in a separate window.\n",
    "\n",
    "\n",
    "* Tell matplotlib to use 'fivethirtyeight' styling.\n",
    "\n",
    "\n",
    "* In a new cell, plot a histogram of `height`. Use a `bins=25` argument.\n",
    "\n",
    "\n",
    "* In a new cell, create a horizontal bar graph of `counts`. Pass a `title='Primitive Bar Chart'` and a `figsize=(10,10)` argument.\n",
    "\n",
    "\n",
    "* In a new cell, Create a pie chart of `counts` with a `colors=['teal', 'gray', 'white']` argument. Save a .png of the graph to './data/pie_chart.png'."
   ]
  },
  {
   "cell_type": "markdown",
   "metadata": {},
   "source": [
    "---\n",
    "\n",
    "### Double click for hints.\n",
    "\n",
    "---\n",
    "\n",
    "<div hidden=true>\n",
    "\n",
    "**Hint**: `%matplotlib inline` is the cell magic used to show a graph in the notebook.\n",
    "\n",
    "**Hint**: `matplotlib.style.use('fivethirtyeight')` will set up fivethirtyeight styling.\n",
    "\n",
    "**Hint**: horizontal graphs can be generated with `plot.barh()`. Pie charts can be done via `plot.pie()`. Histograms can be created with `plot.hist()`\n",
    "\n",
    "**Hint**: you can output your most recent figure using `plt.savefig()`.\n",
    "\n",
    "**Hint**: you will want to plot each plot in a separate cell so you don't overwrite your previous graphs.\n",
    "    \n",
    "</div>"
   ]
  },
  {
   "cell_type": "code",
   "execution_count": 39,
   "metadata": {},
   "outputs": [],
   "source": [
    "# Use cell magic to print inline\n",
    "import matplotlib\n",
    "import matplotlib.pyplot as plt\n",
    "\n",
    "%matplotlib inline\n",
    "matplotlib.style.use('fivethirtyeight')"
   ]
  },
  {
   "cell_type": "code",
   "execution_count": 40,
   "metadata": {},
   "outputs": [
    {
     "data": {
      "text/plain": [
       "<matplotlib.axes._subplots.AxesSubplot at 0x19066ca6d68>"
      ]
     },
     "execution_count": 40,
     "metadata": {},
     "output_type": "execute_result"
    },
    {
     "data": {
      "image/png": "[encoded data removed]",
      "text/plain": [
       "<Figure size 432x288 with 1 Axes>"
      ]
     },
     "metadata": {
      "needs_background": "light"
     },
     "output_type": "display_data"
    }
   ],
   "source": [
    "# Histogram with 25 bins.\n",
    "height.plot.hist(bins=25)"
   ]
  },
  {
   "cell_type": "code",
   "execution_count": 41,
   "metadata": {},
   "outputs": [
    {
     "data": {
      "text/plain": [
       "<matplotlib.axes._subplots.AxesSubplot at 0x19066ff3128>"
      ]
     },
     "execution_count": 41,
     "metadata": {},
     "output_type": "execute_result"
    },
    {
     "data": {
      "image/png": "[encoded data removed]",
      "text/plain": [
       "<Figure size 720x360 with 1 Axes>"
      ]
     },
     "metadata": {
      "needs_background": "light"
     },
     "output_type": "display_data"
    }
   ],
   "source": [
    "# Plot counts as horizontal bar chart\n",
    "counts.plot.barh(\n",
    "    title='Primitive Bar Chart', \n",
    "    figsize=(10, 5)\n",
    ")"
   ]
  },
  {
   "cell_type": "code",
   "execution_count": 42,
   "metadata": {},
   "outputs": [
    {
     "data": {
      "image/png": "[encoded data removed]",
      "text/plain": [
       "<Figure size 432x288 with 1 Axes>"
      ]
     },
     "metadata": {},
     "output_type": "display_data"
    }
   ],
   "source": [
    "# Plot counts as a pie chart.\n",
    "counts.plot.pie(colors=['teal', 'gray', 'white'])\n",
    "\n",
    "# Output to pie_chart.png\n",
    "plt.savefig('./data/pie_chart.png')"
   ]
  },
  {
   "cell_type": "markdown",
   "metadata": {},
   "source": [
    "# Problem 10\n",
    "\n",
    "\n",
    "* Load the data from './data/unemployment.csv' using `squeeze=True` and `index_col='month'` arguments. Assign the data to a `unemployment`. Display the first 10 items of `unemployment`.\n",
    "\n",
    "\n",
    "* In a new cell, create a rolling object with a window of 12 observations and assign it to the name `rolling`.\n",
    "\n",
    "\n",
    "* In a new cell, get the rolling mean of your `rolling` object and assign it to `rmean`. Plot `rmean` using the default line chart and then display the last 12 items of the `rmean` series.\n",
    "\n",
    "\n",
    "* In a new cell, get the rolling max of your `rolling` object and assign it to `rmax`. Plot `rmax` using the default line chart and then display the last 12 items of the `rmax` series.\n",
    "\n",
    "\n",
    "* Take the `rmean` series and write it to './data/rolling.csv'."
   ]
  },
  {
   "cell_type": "markdown",
   "metadata": {},
   "source": [
    "---\n",
    "\n",
    "### Double click for hints.\n",
    "\n",
    "---\n",
    "\n",
    "<div hidden=true>\n",
    "\n",
    "**Hint**: `index_col` allows you to specify which column will be used as an index for your Series/DataFrame.\n",
    "\n",
    "**Hint**: `rolling()` takes the number of observations used for the window as it's first argument. E.G. if you have a Series indexed on month, and you want the rolling observation for the previous 18 months, you would do `rolling = old_series.rolling(18)`. \n",
    "\n",
    "**Hint**: a method from a rolling object will give you a new Series.\n",
    "\n",
    "**Hint**: `plot()` defaults to a basic line chart, so you can just plot without any arguments.\n",
    "\n",
    "**Hint**: even if you `plot()`, you can still display the last item of the cell.\n",
    "    \n",
    "</div>"
   ]
  },
  {
   "cell_type": "code",
   "execution_count": 43,
   "metadata": {},
   "outputs": [
    {
     "data": {
      "text/plain": [
       "month\n",
       "2000-01    4.0\n",
       "2000-02    4.1\n",
       "2000-03    4.0\n",
       "2000-04    3.8\n",
       "2000-05    4.0\n",
       "2000-06    4.0\n",
       "2000-07    4.0\n",
       "2000-08    4.1\n",
       "2000-09    3.9\n",
       "2000-10    3.9\n",
       "Name: unemployment_rate, dtype: float64"
      ]
     },
     "execution_count": 43,
     "metadata": {},
     "output_type": "execute_result"
    }
   ],
   "source": [
    "# Load unemployment data\n",
    "unemployment = pd.read_csv('./data/unemployment.csv', squeeze=True, index_col='month')\n",
    "unemployment.head(10)"
   ]
  },
  {
   "cell_type": "code",
   "execution_count": 44,
   "metadata": {},
   "outputs": [],
   "source": [
    "# Rolling\n",
    "rolling = unemployment.rolling(window=12)"
   ]
  },
  {
   "cell_type": "code",
   "execution_count": 45,
   "metadata": {},
   "outputs": [
    {
     "data": {
      "text/plain": [
       "month\n",
       "2017-11    4.400000\n",
       "2017-12    4.350000\n",
       "2018-01    4.291667\n",
       "2018-02    4.241667\n",
       "2018-03    4.208333\n",
       "2018-04    4.166667\n",
       "2018-05    4.125000\n",
       "2018-06    4.100000\n",
       "2018-07    4.066667\n",
       "2018-08    4.025000\n",
       "2018-09    3.983333\n",
       "2018-10    3.950000\n",
       "Name: unemployment_rate, dtype: float64"
      ]
     },
     "execution_count": 45,
     "metadata": {},
     "output_type": "execute_result"
    },
    {
     "data": {
      "image/png": "[encoded data removed]",
      "text/plain": [
       "<Figure size 432x288 with 1 Axes>"
      ]
     },
     "metadata": {
      "needs_background": "light"
     },
     "output_type": "display_data"
    }
   ],
   "source": [
    "# Generate rolling average, plot, and display last 12.\n",
    "rmean = rolling.mean()\n",
    "rmean.plot()\n",
    "rmean.tail(12)"
   ]
  },
  {
   "cell_type": "code",
   "execution_count": 46,
   "metadata": {},
   "outputs": [
    {
     "data": {
      "text/plain": [
       "month\n",
       "2017-11    4.8\n",
       "2017-12    4.8\n",
       "2018-01    4.7\n",
       "2018-02    4.5\n",
       "2018-03    4.4\n",
       "2018-04    4.4\n",
       "2018-05    4.4\n",
       "2018-06    4.4\n",
       "2018-07    4.4\n",
       "2018-08    4.2\n",
       "2018-09    4.1\n",
       "2018-10    4.1\n",
       "Name: unemployment_rate, dtype: float64"
      ]
     },
     "execution_count": 46,
     "metadata": {},
     "output_type": "execute_result"
    },
    {
     "data": {
      "image/png": "[encoded data removed]",
      "text/plain": [
       "<Figure size 432x288 with 1 Axes>"
      ]
     },
     "metadata": {
      "needs_background": "light"
     },
     "output_type": "display_data"
    }
   ],
   "source": [
    "# Generate rolling max, plot, and display last 12.\n",
    "rmax = rolling.max()\n",
    "rmax.plot()\n",
    "rmax.tail(12)"
   ]
  },
  {
   "cell_type": "code",
   "execution_count": 47,
   "metadata": {},
   "outputs": [],
   "source": [
    "# Write rolling 12 month mean to CSV\n",
    "rmean.to_csv('./data/rolling.csv')"
   ]
  }
 ],
 "metadata": {
  "anaconda-cloud": {},
  "kernelspec": {
   "display_name": "Python 3",
   "language": "python",
   "name": "python3"
  },
  "language_info": {
   "codemirror_mode": {
    "name": "ipython",
    "version": 3
   },
   "file_extension": ".py",
   "mimetype": "text/x-python",
   "name": "python",
   "nbconvert_exporter": "python",
   "pygments_lexer": "ipython3",
   "version": "3.6.7"
  }
 },
 "nbformat": 4,
 "nbformat_minor": 1
}
