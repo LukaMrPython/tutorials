{
 "cells": [
  {
   "cell_type": "markdown",
   "metadata": {
    "collapsed": true
   },
   "source": [
    "<a href=\"https://github.com/theonaunheim\">\n",
    "    <img style=\"border-radius: 100%; float: right;\" src=\"static/strawberry_thief_square.png\" width=10% alt=\"Theo Naunheim's Github\">\n",
    "</a>\n",
    "\n",
    "<br style=\"clear: both\">\n",
    "<hr>\n",
    "<br>\n",
    "\n",
    "<h1 align='center'>Series Exercises</h1>\n",
    "\n",
    "<br>\n",
    "\n",
    "<div style=\"display: table; width: 100%\">\n",
    "    <div style=\"display: table-row; width: 100%;\">\n",
    "        <div style=\"display: table-cell; width: 50%; vertical-align: middle;\">\n",
    "            <h1 align=\"center\"> $W=-\\Delta PE$ </h1>\n",
    "        </div>\n",
    "        <div style=\"display: table-cell; width: 10%\">\n",
    "        </div>\n",
    "        <div style=\"display: table-cell; width: 40%; vertical-align: top;\">\n",
    "            <blockquote>\n",
    "                <p style=\"font-style: italic;\">\"Diligence is the mother of good fortune.\"</p>\n",
    "                <br>\n",
    "                <p>-Miguel de Cervantes</p>\n",
    "            </blockquote>\n",
    "        </div>\n",
    "    </div>\n",
    "</div>\n",
    "\n",
    "<br>\n",
    "\n",
    "<hr>"
   ]
  },
  {
   "cell_type": "code",
   "execution_count": 2,
   "metadata": {},
   "outputs": [],
   "source": [
    "# Import stuff so we can use libraries.\n",
    "import pandas as pd\n",
    "\n",
    "import matplotlib\n",
    "%matplotlib inline"
   ]
  },
  {
   "cell_type": "code",
   "execution_count": null,
   "metadata": {},
   "outputs": [],
   "source": [
    "# Explain how this works.\n",
    "s4 = pd.Series([1,2,3])\n",
    "s5 = s4 - s4.mean() / s4.std()\n",
    "\n",
    "print(s5)\n",
    "# Hint: it has to do with the difference in behavior between vectors and scalars.\n",
    "# Hint: two of these are scalars. Put breaking it into more steps if unclear."
   ]
  },
  {
   "cell_type": "code",
   "execution_count": null,
   "metadata": {},
   "outputs": [],
   "source": [
    "# Problem 3\n",
    "\n",
    "A Pandas koan ...\n",
    "\n",
    "The [canonical solution](https://stackoverflow.com/questions/23451244/how-to-zscore-normalize-pandas-column-with-nans) for getting Z scores in Pandas looks something like this:"
   ]
  },
  {
   "cell_type": "markdown",
   "metadata": {},
   "source": [
    "## Background\n",
    "\n",
    "You are a public health researcher who is looking into [Body Mass Index (BMI)](https://www.cdc.gov/healthyweight/assessing/bmi/index.html), which is a crude measure of obesity. Your boss has three CSVs with 1,000 entries each (these are in the 'data' folder):\n",
    "\n",
    "1. height_in_feet.csv\n",
    "2. weight_in_pounds.csv\n",
    "3. subject_names.csv\n",
    "\n",
    "**Your boss wants:**\n",
    "\n",
    "1. A CSV of the height of the subjects in meters.\n",
    "2. A CSV of the weight of the subjects in kilos.\n",
    "3. Separate Excel files of name/BMI for:\n",
    "    * Underweight people (BMI < 18.5)\n",
    "    * Overweight people (25 < BMI < 30)\n",
    "    * Obese people (BMI > 30)\n",
    "4. A histogram of the BMIs, which optionally can be color-coded.\n",
    "5. The mean and standard deviation of the population BMI.\n",
    "6. The names of the people with the top 10 BMIs.\n",
    "7. The BMI of everyone named 'Steve'.\n",
    "\n",
    "... do as your boss commands.\n",
    "\n",
    "** You are prohibited from:**\n",
    "\n",
    "* Using dataframes\n",
    "* Calculating BMI directly from Imperial Units (feet/inches/pounds)\n",
    "\n",
    "... because your boss is weird like that."
   ]
  },
  {
   "cell_type": "markdown",
   "metadata": {},
   "source": [
    "## Problem 1:\n",
    "\n",
    "The best way to learn this material would be to try to figure out the above problem on your own by Googling and using publically available sources on the internet. \n",
    "\n",
    "Here are two links to get you started:\n",
    "\n",
    "* [BMI](https://en.wikipedia.org/wiki/Body_mass_index)\n",
    "* [Unit conversion](https://en.wikipedia.org/wiki/Conversion_of_units)\n",
    "\n",
    "If you complete this without any help ... congrats! You've completed the exercise.\n",
    "\n",
    "If you get stuck, then go to the step-by-step guidance with hints that follows."
   ]
  },
  {
   "cell_type": "code",
   "execution_count": null,
   "metadata": {},
   "outputs": [],
   "source": [
    "# Complete problem 1 here.\n"
   ]
  },
  {
   "cell_type": "code",
   "execution_count": null,
   "metadata": {},
   "outputs": [],
   "source": []
  },
  {
   "cell_type": "code",
   "execution_count": null,
   "metadata": {},
   "outputs": [],
   "source": []
  },
  {
   "cell_type": "code",
   "execution_count": null,
   "metadata": {},
   "outputs": [],
   "source": []
  },
  {
   "cell_type": "code",
   "execution_count": null,
   "metadata": {},
   "outputs": [],
   "source": []
  },
  {
   "cell_type": "code",
   "execution_count": null,
   "metadata": {},
   "outputs": [],
   "source": []
  },
  {
   "cell_type": "code",
   "execution_count": null,
   "metadata": {},
   "outputs": [],
   "source": []
  },
  {
   "cell_type": "code",
   "execution_count": null,
   "metadata": {},
   "outputs": [],
   "source": []
  },
  {
   "cell_type": "code",
   "execution_count": null,
   "metadata": {},
   "outputs": [],
   "source": []
  },
  {
   "cell_type": "code",
   "execution_count": null,
   "metadata": {},
   "outputs": [],
   "source": []
  },
  {
   "cell_type": "code",
   "execution_count": null,
   "metadata": {},
   "outputs": [],
   "source": []
  },
  {
   "cell_type": "markdown",
   "metadata": {},
   "source": [
    "# Problem 3\n",
    "\n",
    "A Pandas koan ...\n",
    "\n",
    "The [canonical solution](https://stackoverflow.com/questions/23451244/how-to-zscore-normalize-pandas-column-with-nans) for getting Z scores in Pandas looks something like this:"
   ]
  },
  {
   "cell_type": "code",
   "execution_count": 4,
   "metadata": {},
   "outputs": [
    {
     "name": "stdout",
     "output_type": "stream",
     "text": [
      "0   -1.0\n",
      "1    0.0\n",
      "2    1.0\n",
      "dtype: float64\n"
     ]
    }
   ],
   "source": [
    "# Explain how this works.\n",
    "s4 = pd.Series([1,2,3])\n",
    "s5 = s4 - s4.mean() / s4.std()\n",
    "\n",
    "print(s5)\n",
    "# Hint: it has to do with the difference in behavior between vectors and scalars.\n",
    "# Hint: two of these are scalars. Put breaking it into more steps if unclear."
   ]
  },
  {
   "cell_type": "markdown",
   "metadata": {},
   "source": [
    "---\n",
    "\n",
    "# Next Up: [Preprocessing](3_preprocessing.ipynb)\n",
    "\n",
    "<br>\n",
    "\n",
    "<img style=\"margin-left: 0;\" src=\"static/log_transform.svg\" width=\"20%\">\n",
    "\n",
    "<br>\n",
    "\n",
    "<div align='left'>\n",
    "    Image courtesy of <a href='https://commons.wikimedia.org/wiki/File:Population_vs_area.svg'>Skbkekas</a> under the <a href='https://creativecommons.org/licenses/by-sa/3.0/deed.en'>CC BY-SA 3.0</a>\n",
    "</div>\n",
    "\n",
    "---"
   ]
  }
 ],
 "metadata": {
  "anaconda-cloud": {},
  "kernelspec": {
   "display_name": "Python 3",
   "language": "python",
   "name": "python3"
  },
  "language_info": {
   "codemirror_mode": {
    "name": "ipython",
    "version": 3
   },
   "file_extension": ".py",
   "mimetype": "text/x-python",
   "name": "python",
   "nbconvert_exporter": "python",
   "pygments_lexer": "ipython3",
   "version": "3.6.7"
  }
 },
 "nbformat": 4,
 "nbformat_minor": 1
}
