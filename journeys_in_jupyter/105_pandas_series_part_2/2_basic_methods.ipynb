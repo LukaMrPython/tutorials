{
 "cells": [
  {
   "cell_type": "markdown",
   "metadata": {
    "collapsed": true
   },
   "source": [
    "<a href=\"https://github.com/theonaunheim\">\n",
    "    <img style=\"border-radius: 100%; float: right;\" src=\"static/strawberry_thief_square.png\" width=10% alt=\"Theo Naunheim's Github\">\n",
    "</a>\n",
    "\n",
    "<br style=\"clear: both\">\n",
    "<hr>\n",
    "<br>\n",
    "\n",
    "<h1 align='center'>Basic Methods</h1>\n",
    "\n",
    "<br>\n",
    "\n",
    "<div style=\"display: table; width: 100%\">\n",
    "    <div style=\"display: table-row; width: 100%;\">\n",
    "        <div style=\"display: table-cell; width: 50%; vertical-align: middle;\">\n",
    "            <img src=\"static/xiao_liwu.jpg\" width=\"400\">\n",
    "        </div>\n",
    "        <div style=\"display: table-cell; width: 10%\">\n",
    "        </div>\n",
    "        <div style=\"display: table-cell; width: 40%; vertical-align: top;\">\n",
    "            <blockquote>\n",
    "                <p style=\"font-style: italic;\">\"Object-oriented programming is an exceptionally bad idea which could only have originated in California.\"</p>\n",
    "                <br>\n",
    "                <p>-Edsger Dijkstra</p>\n",
    "            </blockquote>\n",
    "        </div>\n",
    "    </div>\n",
    "</div>\n",
    "\n",
    "\n",
    "<br>\n",
    "\n",
    "<div align='left'>\n",
    "    Image courtesy of <a href='https://commons.wikimedia.org/wiki/File:Xiao_Liwu_im_San_Diego_Zoo_-_Foto_2.jpeg'>jballeis</a> under the <a href='https://creativecommons.org/licenses/by-sa/3.0/deed.en'>CC BY-SA 3.0</a>\n",
    "</div>\n",
    "\n",
    "<hr>"
   ]
  },
  {
   "cell_type": "code",
   "execution_count": null,
   "metadata": {},
   "outputs": [],
   "source": [
    "# Import stuff so we can use libraries.\n",
    "import numpy as np\n",
    "import pandas as pd"
   ]
  },
  {
   "cell_type": "markdown",
   "metadata": {},
   "source": [
    "## Series Attributes and Methods, Generally\n",
    "\n",
    "### You won't remember all of this. This is just to give you an idea what is out there.\n",
    "\n",
    "As we've mentioned before, Series in Pandas are more than just a data container. Series also have many attributes and methods that you can use. If you're not familiar with object-oriented programming, you can think of attributes as objects that are attached to our Series objects, and methods as functions or behaviors attached to our object that are accessed via 'dot' ('.') notation.\n",
    "\n",
    "Note: we are only scratching the surface of what you can do with methods. Each of these methods has additional options you can use to tweak their usage. Again, we're shooting for a broad but shallow base of knowledge.\n",
    "\n",
    "Note: certain methods may not be available for all types (e.g. Pandas can't calculate the standard deviation of a string)."
   ]
  },
  {
   "cell_type": "code",
   "execution_count": null,
   "metadata": {},
   "outputs": [],
   "source": [
    "# Create a series with the name \"Example series!\"\n",
    "s1 = pd.Series([1,2,3,4,5,6], name='Example series!')"
   ]
  },
  {
   "cell_type": "code",
   "execution_count": null,
   "metadata": {},
   "outputs": [],
   "source": [
    "# And now it has this data attached to it, accessible via dot notation.\n",
    "s1.name"
   ]
  },
  {
   "cell_type": "code",
   "execution_count": null,
   "metadata": {},
   "outputs": [],
   "source": [
    "# And we can trigger activities based on the data. Methods can be passed arguments.\n",
    "s1.median(skipna=True)"
   ]
  },
  {
   "cell_type": "markdown",
   "metadata": {},
   "source": [
    "## Attributes\n",
    "\n",
    "First, let's examine the more useful attributes (there aren't a lot).\n",
    "\n",
    "* **dtype**: the Numpy datatype of the Series, which dictates what you can do with your data.\n",
    "* **hasnans**: a convenience attribute for whether you have NaNs in your Series.\n",
    "* **empty**: a convenience attribute for len(series) == 0.\n",
    "* **is_monotonic**: does it go only up or down [1,2,3] or [3,2,1], not [1,3,2]?\n",
    "* **is_unique**: is there only one of each type of value?\n",
    "* **name**: the series identifier, which is important for dataframe organization.\n",
    "* **index**: the attached index for the Series (which has its own attributes/methods).\n",
    "* **values**: the raw values of the Series as a Numpy array."
   ]
  },
  {
   "cell_type": "code",
   "execution_count": null,
   "metadata": {},
   "outputs": [],
   "source": [
    "s1_attributes = {\n",
    "    's1.dtype'       : s1.dtype,\n",
    "    's1.hasnans'     : s1.hasnans,\n",
    "    's1.empty'       : s1.empty,\n",
    "    's1.is_monotonic': s1.is_monotonic,\n",
    "    's1.is_unique'   : s1.is_unique,\n",
    "    's1.name'        : s1.name, \n",
    "    's1.index'       : s1.index, \n",
    "    's1.values'      : s1.values,\n",
    "}\n",
    "\n",
    "pd.Series(s1_attributes)"
   ]
  },
  {
   "cell_type": "markdown",
   "metadata": {},
   "source": [
    "## Methods: Selectors\n",
    "\n",
    "The first group of methods we'll discuss are basic view functions. A lot of times you'll only want to take a peek at a tiny portion of your data. \n",
    "\n",
    "* [**head**](http://pandas.pydata.org/pandas-docs/stable/generated/pandas.Series.head.html): select the first X items (default 5).\n",
    "* [**tail**](http://pandas.pydata.org/pandas-docs/stable/generated/pandas.DataFrame.tail.html#pandas.DataFrame.tail): select the last X items (default 5)."
   ]
  },
  {
   "cell_type": "code",
   "execution_count": null,
   "metadata": {},
   "outputs": [],
   "source": [
    "s1.head(3)"
   ]
  },
  {
   "cell_type": "code",
   "execution_count": null,
   "metadata": {},
   "outputs": [],
   "source": [
    "s1.tail()"
   ]
  },
  {
   "cell_type": "markdown",
   "metadata": {},
   "source": [
    "## Methods: Logical\n",
    "\n",
    "The are simply vectorized versions of Python's all() and any() functions.\n",
    "\n",
    "* [**all**](https://pandas.pydata.org/pandas-docs/stable/generated/pandas.Series.all.html): are all of the values equal to True?\n",
    "* [**any**](https://pandas.pydata.org/pandas-docs/stable/generated/pandas.Series.any.html): are any of the values equal to True?"
   ]
  },
  {
   "cell_type": "code",
   "execution_count": null,
   "metadata": {},
   "outputs": [],
   "source": [
    "# Do all of the values == 20?\n",
    "s3 = pd.Series([20, 20, 30])\n",
    "s4 = s3 == 20  \n",
    "# s4 == pd.Series([True, True, False])\n",
    "s4.all()"
   ]
  },
  {
   "cell_type": "code",
   "execution_count": null,
   "metadata": {},
   "outputs": [],
   "source": [
    "# Are any of the values True?\n",
    "s2 = pd.Series([False, True, False])\n",
    "s2.any()"
   ]
  },
  {
   "cell_type": "markdown",
   "metadata": {},
   "source": [
    "## Methods: Simple Mathematical\n",
    "\n",
    "Pandas has an array of statistics functions for you to use (but you'll want Scipy for the fancy stats stuff). As we mentioned before, your garden vareity mathematics can be done by simple operators.\n",
    "\n",
    "    series_2 = series_1 + 20\n",
    "    series_3 = series_1 * series_2 \n",
    "\n",
    "* [**corr**](https://pandas.pydata.org/pandas-docs/stable/generated/pandas.Series.corr.html): the statistical correlation between two series.\n",
    "* [**describe**](https://pandas.pydata.org/pandas-docs/stable/generated/pandas.Series.describe.html): a utility function that provides a group of statistical meansures.\n",
    "* [**max**](http://pandas.pydata.org/pandas-docs/stable/generated/pandas.Series.max.html): the maximum value.\n",
    "* [**mean**](http://pandas.pydata.org/pandas-docs/stable/generated/pandas.Series.mean.html): the average (mean) value.\n",
    "* [**median**](https://pandas.pydata.org/pandas-docs/stable/generated/pandas.Series.median.html): the average (median) value.\n",
    "* [**min**](https://pandas.pydata.org/pandas-docs/stable/generated/pandas.Series.min.html): the minimum value.\n",
    "* **[quantile](http://pandas.pydata.org/pandas-docs/stable/generated/pandas.Series.quantile.html)**: get particular value for given quantiles.\n",
    "* **[round](http://pandas.pydata.org/pandas-docs/stable/generated/pandas.Series.round.html)**: round to N decimal places.\n",
    "* **[sample](https://pandas.pydata.org/pandas-docs/stable/generated/pandas.Series.sample.html)**: get a random sample of values from the Series with or without replacement.\n",
    "* [**std**](http://pandas.pydata.org/pandas-docs/stable/generated/pandas.Series.std.html): the sample standard deviation.\n",
    "* [**sum**](http://pandas.pydata.org/pandas-docs/stable/generated/pandas.Series.sum.html): the sum of all series elements."
   ]
  },
  {
   "cell_type": "code",
   "execution_count": null,
   "metadata": {},
   "outputs": [],
   "source": [
    "# Medley of statistical functions\n",
    "s5 = pd.Series([-10, 3, 4, 6, 200, 1, 4])\n",
    "s6 = pd.Series([100, 5, -100, 0, 150, 0, 2])\n",
    "\n",
    "# Results as a series\n",
    "pd.Series({\n",
    "    'max': s5.max(),\n",
    "    'min': s5.min(),\n",
    "    'mean': s5.mean(),\n",
    "    '90th quantile': s5.quantile(.95),\n",
    "    '10th quantile': s5.quantile(.10),\n",
    "    'median': s5.median(),\n",
    "    'sum': s5.sum(),\n",
    "    'std': s5.std(),\n",
    "    'sum': s5.sum(),\n",
    "    'corr': s5.corr(s6)\n",
    "})"
   ]
  },
  {
   "cell_type": "code",
   "execution_count": null,
   "metadata": {},
   "outputs": [],
   "source": [
    "# The basic describe function (the result is itself a series)\n",
    "s5.describe()"
   ]
  },
  {
   "cell_type": "code",
   "execution_count": null,
   "metadata": {},
   "outputs": [],
   "source": [
    "# Sample gives you a random sample (by n or by fraction)\n",
    "s5.sample(3)"
   ]
  },
  {
   "cell_type": "markdown",
   "metadata": {},
   "source": [
    "### Quick note: we're running these methods on the last line of the cell to display it simply. We're not saving the result anywhere. In other words, even after we run s5.sample(3), s5 is the exact same as it was before. If you wanted to change s5 in place, you would have to run:\n",
    "\n",
    "    s5 = sample(3)\n",
    "    \n",
    "### Which would then replace s5 with the 3 element sample. Most things do not change in place unless you use an assignment of some sort. E.g.:\n",
    "\n",
    "    s5.loc[0] = 10\n",
    "    s5.loc[1] += 1\n",
    "    s5        = s5.loc[3:4]"
   ]
  },
  {
   "cell_type": "markdown",
   "metadata": {},
   "source": [
    "## Methods: Identity\n",
    "\n",
    "Often you will want information about your Series that isn't readily available elsewhere. Series have a specialized series of methods to help with that.\n",
    "\n",
    "* **[isin](https://pandas.pydata.org/pandas-docs/stable/generated/pandas.Series.isin.html)**: returns True if the Series has an item in common with a second list.\n",
    "* **[isnull](http://pandas.pydata.org/pandas-docs/stable/generated/pandas.Series.isnull.html)**: returns a same-indexed Series with True for Nones/NaNs and False for valid values.\n",
    "* **[nonzero](https://pandas.pydata.org/pandas-docs/stable/generated/pandas.Series.nonzero.html)**: returns an array of the indices for all non-zero items.\n",
    "* **[notnull](https://pandas.pydata.org/pandas-docs/stable/generated/pandas.Series.notnull.html)**: returns a same-indexed Series with False for Nones/NaNs and True for valid values.\n",
    "\n",
    "Note: isna() is an alias for isnull(). notna() is an alias for notnull()."
   ]
  },
  {
   "cell_type": "code",
   "execution_count": null,
   "metadata": {},
   "outputs": [],
   "source": [
    "# Create two series\n",
    "s7 = pd.Series([0, np.NaN, 5, 3])\n",
    "s8 = pd.Series([np.NaN, None, 0])"
   ]
  },
  {
   "cell_type": "code",
   "execution_count": null,
   "metadata": {},
   "outputs": [],
   "source": [
    "# For each item in S7, is it also in S8?\n",
    "s7.isin(s8)"
   ]
  },
  {
   "cell_type": "code",
   "execution_count": null,
   "metadata": {},
   "outputs": [],
   "source": [
    "# What are the nonzero indices in s7\n",
    "s7.nonzero()"
   ]
  },
  {
   "cell_type": "code",
   "execution_count": null,
   "metadata": {},
   "outputs": [],
   "source": [
    "# What are the null values in s8?\n",
    "s8.isnull()"
   ]
  },
  {
   "cell_type": "code",
   "execution_count": null,
   "metadata": {},
   "outputs": [],
   "source": [
    "# What are the not null values in s8?\n",
    "s8.notnull()"
   ]
  },
  {
   "cell_type": "code",
   "execution_count": null,
   "metadata": {},
   "outputs": [],
   "source": [
    "# Note, this isn't all that useful in itself, but with loc[] ...\n",
    "bix = s7.notnull()\n",
    "s7.loc[bix]"
   ]
  },
  {
   "cell_type": "markdown",
   "metadata": {},
   "source": [
    "## Methods: Transformative\n",
    "\n",
    "The are also a bunch of methods for mutating things in place. These do everything from changing your Series type to dropping duplicates to clipping values.\n",
    "\n",
    "* **[astype](https://pandas.pydata.org/pandas-docs/stable/generated/pandas.Series.astype.html)**: convert one type of datatype for a column to a second datatype.\n",
    "* **[clip](https://pandas.pydata.org/pandas-docs/stable/generated/pandas.Series.clip.html)**: put a ceiling or floor in values for a particular Series.\n",
    "* **[cumsum](https://pandas.pydata.org/pandas-docs/stable/generated/pandas.Series.cumsum.html)**: create a running cumulative sum for the column.\n",
    "* **[diff](https://pandas.pydata.org/pandas-docs/stable/generated/pandas.Series.diff.html)**: the the difference between an item and the one immediately before it in the series.\n",
    "* **[drop](https://pandas.pydata.org/pandas-docs/stable/generated/pandas.Series.drop.html)**: drop a particular value from a Series based on indexer.\n",
    "* **[drop_duplicates](https://pandas.pydata.org/pandas-docs/stable/generated/pandas.Series.drop_duplicates.html)**: drop all duplicate values.\n",
    "* **[dropna](https://pandas.pydata.org/pandas-docs/stable/generated/pandas.Series.dropna.html)**: drop all NaN values.\n",
    "* **[fillna](https://pandas.pydata.org/pandas-docs/stable/generated/pandas.Series.fillna.html)**: fill all NaN values with an arbitrary input.\n",
    "* **[interpolate](https://pandas.pydata.org/pandas-docs/stable/generated/pandas.Series.interpolate.html)**: fill in the gaps between the Series items.\n",
    "* **[pct_change](http://pandas.pydata.org/pandas-docs/stable/generated/pandas.Series.pct_change.html)**: the percent change between one value and the value immediately previous.\n",
    "* **[rank](https://pandas.pydata.org/pandas-docs/stable/generated/pandas.Series.rank.html)**: assign an integer to the data by rank.\n",
    "* **[unique](https://pandas.pydata.org/pandas-docs/stable/generated/pandas.Series.unique.html)**: return all the unique values found in the series."
   ]
  },
  {
   "cell_type": "markdown",
   "metadata": {},
   "source": [
    "### Drop and fill"
   ]
  },
  {
   "cell_type": "code",
   "execution_count": null,
   "metadata": {},
   "outputs": [],
   "source": [
    "# Create a series for the drop and fill functions.\n",
    "s9 = pd.Series([np.NaN, 'One', 'Two', 'Two'])\n",
    "s9"
   ]
  },
  {
   "cell_type": "code",
   "execution_count": null,
   "metadata": {},
   "outputs": [],
   "source": [
    "# fillna() fills the null value with a substitute value.\n",
    "s9.fillna('Unknown')"
   ]
  },
  {
   "cell_type": "code",
   "execution_count": null,
   "metadata": {},
   "outputs": [],
   "source": [
    "# Drop NAs simply drops all indexes that have NA values.\n",
    "s9.dropna()"
   ]
  },
  {
   "cell_type": "code",
   "execution_count": null,
   "metadata": {},
   "outputs": [],
   "source": [
    "# Drop duplicates drops all duplicate vales so we only have one of each.\n",
    "s9.drop_duplicates()"
   ]
  },
  {
   "cell_type": "code",
   "execution_count": null,
   "metadata": {},
   "outputs": [],
   "source": [
    "# Drop duplicates drops all duplicate vales so we only have one of each.\n",
    "s9.drop_duplicates().dropna()"
   ]
  },
  {
   "cell_type": "code",
   "execution_count": null,
   "metadata": {},
   "outputs": [],
   "source": [
    "# Drop, unsurprisingly, drops stuff from your index.\n",
    "s9.drop(1)"
   ]
  },
  {
   "cell_type": "code",
   "execution_count": null,
   "metadata": {},
   "outputs": [],
   "source": [
    "# Unique is like deduped, but returns a numpy array\n",
    "s9.unique()"
   ]
  },
  {
   "cell_type": "markdown",
   "metadata": {},
   "source": [
    "### Type Conversions\n",
    "\n",
    "Note: [pd.to_numeric()](https://pandas.pydata.org/pandas-docs/stable/generated/pandas.to_numeric.html) is generally better than astype() for converting to a numeric type, and [pd.to_datetime()](https://pandas.pydata.org/pandas-docs/stable/generated/pandas.to_datetime.html) is better for converting to datetimes.\n",
    "\n",
    "Note: do not fear the float. `float64` is a workhorse. While the '.0' may not appeal to your aesthetic sense, converting to `int64` for the sake of converting to int is more trouble than it's worth. The benefits of floats far ourweight the drawbacks. If you want to make something pretty for the sake of exporting them, use strings."
   ]
  },
  {
   "cell_type": "code",
   "execution_count": null,
   "metadata": {},
   "outputs": [],
   "source": [
    "# As type converts to a different type.\n",
    "s10 = pd.Series([3, 0, 1])\n",
    "s10"
   ]
  },
  {
   "cell_type": "code",
   "execution_count": null,
   "metadata": {},
   "outputs": [],
   "source": [
    "# S10 As a float\n",
    "s10.astype(np.float64)"
   ]
  },
  {
   "cell_type": "code",
   "execution_count": null,
   "metadata": {},
   "outputs": [],
   "source": [
    "# s10 as a string\n",
    "s10.astype(str)"
   ]
  },
  {
   "cell_type": "code",
   "execution_count": null,
   "metadata": {},
   "outputs": [],
   "source": [
    "# s10 as a booleans\n",
    "s10.astype(bool)"
   ]
  },
  {
   "cell_type": "markdown",
   "metadata": {},
   "source": [
    "### Miscellaneous Order based-transformation\n",
    "\n",
    "There are a few methods that depend on the relative positions of the items."
   ]
  },
  {
   "cell_type": "code",
   "execution_count": null,
   "metadata": {},
   "outputs": [],
   "source": [
    "s11 = pd.Series([10,9,11])\n",
    "s11"
   ]
  },
  {
   "cell_type": "code",
   "execution_count": null,
   "metadata": {},
   "outputs": [],
   "source": [
    "# cumsum() is for cumulative sum (see also cumdiff, cum, etc)\n",
    "s11.cumsum()"
   ]
  },
  {
   "cell_type": "code",
   "execution_count": null,
   "metadata": {},
   "outputs": [],
   "source": [
    "# diff() gives the change between one item and the next\n",
    "s11.diff()"
   ]
  },
  {
   "cell_type": "code",
   "execution_count": null,
   "metadata": {},
   "outputs": [],
   "source": [
    "#pct_change() is like diff but on a percentage basis (e.g. stock pricing)\n",
    "s11.pct_change()"
   ]
  },
  {
   "cell_type": "markdown",
   "metadata": {},
   "source": [
    "### Miscellaneous Transformations\n",
    "\n",
    "Items that don't fit elsewhere."
   ]
  },
  {
   "cell_type": "code",
   "execution_count": null,
   "metadata": {},
   "outputs": [],
   "source": [
    "s12 = pd.Series([88, 115, -10, 95, 65])\n",
    "s12"
   ]
  },
  {
   "cell_type": "code",
   "execution_count": null,
   "metadata": {},
   "outputs": [],
   "source": [
    "# Clip sets a ceiling or floor on possible values (here only between 0 and 100)\n",
    "s12.clip(lower=0, upper=100)"
   ]
  },
  {
   "cell_type": "code",
   "execution_count": null,
   "metadata": {},
   "outputs": [],
   "source": [
    "# Rank assigns an integer rank to each item (ascending or descending)\n",
    "s12.rank()"
   ]
  },
  {
   "cell_type": "code",
   "execution_count": null,
   "metadata": {},
   "outputs": [],
   "source": [
    "# Interpolate fills in any NA gaps with interventing values\n",
    "pd.Series([0, np.NaN, 10, np.NaN, 15]).interpolate()"
   ]
  },
  {
   "cell_type": "markdown",
   "metadata": {},
   "source": [
    "## Methods: Utility\n",
    "\n",
    "These are useful methods that aren't easily categorized.\n",
    "\n",
    "* **[copy](http://pandas.pydata.org/pandas-docs/stable/generated/pandas.Series.copy.html)**: create a complete new Series instead of a view of a previous series.\n",
    "* **[iteritems](https://pandas.pydata.org/pandas-docs/stable/generated/pandas.Series.iteritems.html)**: iterate through each item in the Series as (key, value) tuples. **Sometimes it's necessary, but odds are if you're using this method, you are probably doing the wrong thing.**\n",
    "* **[replace](https://pandas.pydata.org/pandas-docs/stable/generated/pandas.Series.replace.html)**: replace Series items with replacement values.\n",
    "* **[value_counts](https://pandas.pydata.org/pandas-docs/stable/generated/pandas.Series.value_counts.html)**: get the number of each value in the Series as a new Series."
   ]
  },
  {
   "cell_type": "code",
   "execution_count": null,
   "metadata": {},
   "outputs": [],
   "source": [
    "s13 = pd.Series(['MacReady', 'Windows', 'MacReady', 'Childs', 'Childs'])\n",
    "s13"
   ]
  },
  {
   "cell_type": "code",
   "execution_count": null,
   "metadata": {},
   "outputs": [],
   "source": [
    "# Copy gives you an exact copy. Changing the copy won't change the original\n",
    "s14 = s13.copy()\n",
    "\n",
    "# Change the original (sub Nauls for Windows)\n",
    "s13.loc[1] = 'Nauls'\n",
    "\n",
    "# Doesn't affect the new one\n",
    "s14"
   ]
  },
  {
   "cell_type": "code",
   "execution_count": null,
   "metadata": {},
   "outputs": [],
   "source": [
    "# Iteritems gives you each item  as a tuple (again, there are usually better ways)\n",
    "for index, item in s14.iteritems():\n",
    "    print(item + ' is at index ' + str(index))\n",
    "    print('Next!')"
   ]
  },
  {
   "cell_type": "code",
   "execution_count": null,
   "metadata": {},
   "outputs": [],
   "source": [
    "# replace will replace values using a scalar\n",
    "s14.replace('Childs', 'Blair')\n",
    "\n",
    "# Or a dict\n",
    "s14.replace({\n",
    "    'MacReady': 'Russell',\n",
    "    'Childs'  : 'David'\n",
    "})"
   ]
  },
  {
   "cell_type": "code",
   "execution_count": null,
   "metadata": {},
   "outputs": [],
   "source": [
    "# value_counts() is a convenience method to get the counts of all elements. Returns a Series.\n",
    "s14.value_counts()"
   ]
  },
  {
   "cell_type": "markdown",
   "metadata": {},
   "source": [
    "## Methods: Index\n",
    "\n",
    "These methods work by tweaking the index.\n",
    "\n",
    "* **[idxmax](https://pandas.pydata.org/pandas-docs/stable/generated/pandas.Series.idxmax.html)**: get the index of the greatest item in the Series (gets first max if multiple).\n",
    "* **[idxmin](https://pandas.pydata.org/pandas-docs/stable/generated/pandas.Series.idxmin.html#pandas.Series.idxmin)**: get the index of the smallest item in the Series (gets first min if multiple).\n",
    "* **[reindex](https://pandas.pydata.org/pandas-docs/stable/generated/pandas.Series.reindex.html)**: coerce the Series to use a new index.\n",
    "* **[reset_index](https://pandas.pydata.org/pandas-docs/stable/generated/pandas.Series.reset_index.html)**: remove index and put in a plain 0 to n range index. Returns a DataFrame.\n",
    "* **[shift](https://pandas.pydata.org/pandas-docs/stable/generated/pandas.Series.shift.html)**: move the Series data down N items so that the index is now associated with the data at index + N or - N.\n",
    "* **[sort_index](http://pandas.pydata.org/pandas-docs/version/0.17.0/generated/pandas.Series.sort_index.html)**: sort the index based on index values or an arbitrary function.\n",
    "* **[sort_values](https://pandas.pydata.org/pandas-docs/stable/generated/pandas.Series.sort_values.html)**: sort the values based on a particular value or arbitrary function.\n",
    "* **[unstack](https://pandas.pydata.org/pandas-docs/stable/generated/pandas.Series.unstack.html)**: for a multi index, take a level and make it into separate dimensions. Returns a DataFrame."
   ]
  },
  {
   "cell_type": "code",
   "execution_count": null,
   "metadata": {},
   "outputs": [],
   "source": [
    "s15 = pd.Series(\n",
    "    data=[20, -4, 99, 0], \n",
    "    index=['A', 'C', 'B', 'D']\n",
    ")\n",
    "\n",
    "s15"
   ]
  },
  {
   "cell_type": "code",
   "execution_count": null,
   "metadata": {},
   "outputs": [],
   "source": [
    "# sort_values can sort values ascending or descending\n",
    "s15.sort_values()"
   ]
  },
  {
   "cell_type": "code",
   "execution_count": null,
   "metadata": {},
   "outputs": [],
   "source": [
    "# sort_index can sort index values ascending or descending\n",
    "s15.sort_index()"
   ]
  },
  {
   "cell_type": "code",
   "execution_count": null,
   "metadata": {},
   "outputs": [],
   "source": [
    "# idxmin gives you the index for the smallest item.\n",
    "minimum_index = s15.idxmin()\n",
    "minimum_value = s15.loc[minimum_index] # or s15.min()\n",
    "\n",
    "# idxmax gives you the index for the largest.\n",
    "maximum_index = s15.idxmax()\n",
    "maximum_value = s15.loc[maximum_index] # or s15.max()\n",
    "\n",
    "print(f'Smallest item is {minimum_value} at index \\'{minimum_index}\\'.')\n",
    "print(f'Largest item is {maximum_value} at index \\'{maximum_index}\\'.')"
   ]
  },
  {
   "cell_type": "code",
   "execution_count": null,
   "metadata": {},
   "outputs": [],
   "source": [
    "# Reindex makes your Series use a new index\n",
    "# Items previously in the previous index will be repositioned.\n",
    "# Items not in the previous index will be np.NaN\n",
    "# Note: integer columns can't have NaNs, ergo float64.\n",
    "s15.reindex(['A', 'B', 'F'])"
   ]
  },
  {
   "cell_type": "code",
   "execution_count": null,
   "metadata": {},
   "outputs": [],
   "source": [
    "# To write over the index values without changing anything ekse, use the index attribute.\n",
    "# Note: this is an assignment and will alter the Series in place.\n",
    "s15.index = ['F', 'G', 'H', 'I']\n",
    "s15"
   ]
  },
  {
   "cell_type": "code",
   "execution_count": null,
   "metadata": {},
   "outputs": [],
   "source": [
    "# reset_index is a hard reset.\n",
    "# Your index is obliterated and replaced wtih the default. Returns a DataFrame.\n",
    "s15.reset_index()"
   ]
  },
  {
   "cell_type": "code",
   "execution_count": null,
   "metadata": {},
   "outputs": [],
   "source": [
    "# Shift moves each item up or down X times, which is useful time series analysis.\n",
    "s15.shift(-1)"
   ]
  },
  {
   "cell_type": "code",
   "execution_count": null,
   "metadata": {},
   "outputs": [],
   "source": [
    "# Multiindexed series can be unstacked as a dataframe (useful for groupbys later on)\n",
    "m_ix = pd.MultiIndex.from_product([('Chevy', 'Ford', 'Dodge'), ('Compact', 'Full Size', 'Truck')])\n",
    "s16 = pd.Series(\n",
    "    data=[item for item in range(0, len(m_ix))],\n",
    "    index=m_ix\n",
    ")\n",
    "\n",
    "print(s16)\n",
    "\n",
    "s16.unstack()"
   ]
  },
  {
   "cell_type": "markdown",
   "metadata": {},
   "source": [
    "## Methods: Output\n",
    "\n",
    "This methods output the Series in various formats. Fairly self-explanatory.\n",
    "\n",
    "* **[to_clipboard](https://pandas.pydata.org/pandas-docs/stable/generated/pandas.Series.to_clipboard.html)**: exports data to the clipboard.\n",
    "* **[to_csv](https://pandas.pydata.org/pandas-docs/stable/generated/pandas.Series.to_csv.html)**: exports CSVs in various encodings and formats.\n",
    "* **[to_dict](https://pandas.pydata.org/pandas-docs/stable/generated/pandas.Series.to_dict.html)**: exports index/data as a dict with key/value pairs.\n",
    "* **[to_excel](https://pandas.pydata.org/pandas-docs/stable/generated/pandas.Series.to_excel.html)**: exports to Microsoft Excel.\n",
    "* **[to_json](https://pandas.pydata.org/pandas-docs/stable/generated/pandas.Series.to_json.html)**: exports to JavaScript Object Notation.\n",
    "* **[to_pickle](https://pandas.pydata.org/pandas-docs/stable/generated/pandas.Series.to_pickle.html)**: exports to Python's native serialization format (usually unnecessary)\n",
    "* **[to_string](https://pandas.pydata.org/pandas-docs/stable/generated/pandas.Series.to_string.html)**: exports to a string that looks like a fixed width table.\n",
    "* **[tolist](https://pandas.pydata.org/pandas-docs/stable/generated/pandas.Series.tolist.html)**: exports the data only to a native Python list."
   ]
  },
  {
   "cell_type": "markdown",
   "metadata": {},
   "source": [
    "### to_x() methods returning data"
   ]
  },
  {
   "cell_type": "code",
   "execution_count": null,
   "metadata": {},
   "outputs": [],
   "source": [
    "# Take a Series.\n",
    "s17 = pd.Series([1, 2.0, True, np.NaN, 'last'])"
   ]
  },
  {
   "cell_type": "code",
   "execution_count": null,
   "metadata": {},
   "outputs": [],
   "source": [
    "# List of vlaues\n",
    "s17.tolist()"
   ]
  },
  {
   "cell_type": "code",
   "execution_count": null,
   "metadata": {},
   "outputs": [],
   "source": [
    "# Dict with index\n",
    "s17.to_dict()"
   ]
  },
  {
   "cell_type": "code",
   "execution_count": null,
   "metadata": {},
   "outputs": [],
   "source": [
    "# As a printable string.\n",
    "s17.to_string()"
   ]
  },
  {
   "cell_type": "code",
   "execution_count": null,
   "metadata": {},
   "outputs": [],
   "source": [
    "# As json\n",
    "s17.to_json()"
   ]
  },
  {
   "cell_type": "markdown",
   "metadata": {},
   "source": [
    "### to_x() methods generating outputs"
   ]
  },
  {
   "cell_type": "code",
   "execution_count": null,
   "metadata": {},
   "outputs": [],
   "source": [
    "# CSV is the preferred method.\n",
    "# You can omit the index if you use the index=False option.\n",
    "# You can optionally change the encoding.\n",
    "s17.to_csv('data/csv_output.csv', encoding='cp1252', index=False)"
   ]
  },
  {
   "cell_type": "code",
   "execution_count": null,
   "metadata": {},
   "outputs": [],
   "source": [
    "# Excel (requires xlwt and xlrd which is included in Anaconda)\n",
    "s17.to_excel('data/excel_output.xlsx')"
   ]
  },
  {
   "cell_type": "code",
   "execution_count": null,
   "metadata": {},
   "outputs": [],
   "source": [
    "# Pickle is Python's binary serialization format. Probably unnecessary for Series.\n",
    "s17.to_pickle('data/pickle_output.p')"
   ]
  },
  {
   "cell_type": "code",
   "execution_count": null,
   "metadata": {},
   "outputs": [],
   "source": [
    "# Clipboard if you just want to copy paste.\n",
    "s17.to_clipboard()\n",
    "\n",
    "# If you were to Control V:\n",
    "#\n",
    "# 0       1\n",
    "# 1       2\n",
    "# 2    True\n",
    "# 3     NaN\n",
    "# 4    last\n",
    "# dtype: object"
   ]
  },
  {
   "cell_type": "markdown",
   "metadata": {},
   "source": [
    "# Additional Learing Resources\n",
    "\n",
    "* ### [Pandas Series API Reference](https://pandas.pydata.org/pandas-docs/stable/api.html#series)\n",
    "* ### [Pandas Intro to Data Structures](https://pandas.pydata.org/pandas-docs/stable/dsintro.html)"
   ]
  },
  {
   "cell_type": "markdown",
   "metadata": {},
   "source": [
    "---\n",
    "\n",
    "# Next Up: [Advanced Methods](3_advanced_methods.ipynb)\n",
    "\n",
    "<br>\n",
    "\n",
    "<img style=\"margin-left: 0;\" src=\"static/red_panda.jpg\" width=\"20%\">\n",
    "\n",
    "<br>\n",
    "\n",
    "<div align='left'>\n",
    "    Image courtesy of <a href='https://commons.wikimedia.org/wiki/File:Red_Panda_-_Nashville_Zoo.jpg'>Pmeenen</a> under the <a href='https://creativecommons.org/licenses/by/2.5/deed.en'>CC BY 2.5</a>\n",
    "</div>\n",
    "\n",
    "---"
   ]
  }
 ],
 "metadata": {
  "anaconda-cloud": {},
  "kernelspec": {
   "display_name": "Python 3",
   "language": "python",
   "name": "python3"
  },
  "language_info": {
   "codemirror_mode": {
    "name": "ipython",
    "version": 3
   },
   "file_extension": ".py",
   "mimetype": "text/x-python",
   "name": "python",
   "nbconvert_exporter": "python",
   "pygments_lexer": "ipython3",
   "version": "3.6.7"
  }
 },
 "nbformat": 4,
 "nbformat_minor": 1
}
