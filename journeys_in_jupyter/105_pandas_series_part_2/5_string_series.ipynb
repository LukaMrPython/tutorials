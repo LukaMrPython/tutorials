{
 "cells": [
  {
   "cell_type": "markdown",
   "metadata": {
    "collapsed": true
   },
   "source": [
    "<a href=\"https://github.com/theonaunheim\">\n",
    "    <img style=\"border-radius: 100%; float: right;\" src=\"static/strawberry_thief_square.png\" width=10% alt=\"Theo Naunheim's Github\">\n",
    "</a>\n",
    "\n",
    "<br style=\"clear: both\">\n",
    "<hr>\n",
    "<br>\n",
    "\n",
    "<h1 align='center'>String Series</h1>\n",
    "\n",
    "<br>\n",
    "\n",
    "<div style=\"display: table; width: 100%\">\n",
    "    <div style=\"display: table-row; width: 100%;\">\n",
    "        <div style=\"display: table-cell; width: 50%; vertical-align: middle;\">\n",
    "            <img src=\"static/red_panda.jpg\" width=\"80%\">\n",
    "        </div>\n",
    "        <div style=\"display: table-cell; width: 10%\">\n",
    "        </div>\n",
    "        <div style=\"display: table-cell; width: 40%; vertical-align: top;\">\n",
    "            <blockquote>\n",
    "                <p style=\"font-style: italic;\">\"Words are good servants but bad masters.\"</p>\n",
    "                <br>\n",
    "                <p>-Aldous Huxley</p>\n",
    "            </blockquote>\n",
    "        </div>\n",
    "    </div>\n",
    "</div>\n",
    "\n",
    "\n",
    "<br>\n",
    "\n",
    "\n",
    "\n",
    "\n",
    "<br>\n",
    "\n",
    "<div align='left'>\n",
    "    Image courtesy of <a href='https://commons.wikimedia.org/wiki/File:Red_Panda_-_Nashville_Zoo.jpg'>Pmeenen</a> under the <a href='https://creativecommons.org/licenses/by/2.5/deed.en'>CC BY 2.5</a>\n",
    "</div>\n",
    "\n",
    "<hr>"
   ]
  },
  {
   "cell_type": "code",
   "execution_count": null,
   "metadata": {},
   "outputs": [],
   "source": [
    "WARNING REGEX STRINGS."
   ]
  },
  {
   "cell_type": "code",
   "execution_count": null,
   "metadata": {},
   "outputs": [],
   "source": []
  },
  {
   "cell_type": "code",
   "execution_count": null,
   "metadata": {},
   "outputs": [],
   "source": [
    "# Import stuff so we can use libraries.\n",
    "import numpy as np\n",
    "import pandas as pd\n",
    "\n",
    "# Use %matplotlib inline to plot in this screen.\n",
    "import matplotlib\n",
    "%matplotlib inline"
   ]
  },
  {
   "cell_type": "markdown",
   "metadata": {},
   "source": [
    "## Advanced Methods\n",
    "\n",
    "In addition to the methods we discussed previously, there is a set of special methods that warrant separate examination. They are:\n",
    "\n",
    "* **[groupby](http://pandas.pydata.org/pandas-docs/stable/generated/pandas.Series.groupby.html)**: create a special object for analyzing groups collectively.\n",
    "* **[map](https://pandas.pydata.org/pandas-docs/stable/generated/pandas.Series.map.html)**: allows you conveniently transform each value in the Series with a function or key-value mapping.\n",
    "* **[plot](https://pandas.pydata.org/pandas-docs/stable/generated/pandas.Series.plot.html)**: this function creates different types of visualizations.\n",
    "* **[rolling](https://pandas.pydata.org/pandas-docs/stable/generated/pandas.DataFrame.rolling.html)**: create a special object for performing window functions.\n",
    "* **[str namespace methods](https://pandas.pydata.org/pandas-docs/stable/api.html#string-handling)**: a namespace/collection of vectorized Python string functions.\n",
    "* **[dt namespace methods](https://pandas.pydata.org/pandas-docs/stable/api.html#datetimelike-properties)**: a namespace/collection of methods for dealing with datetimes."
   ]
  },
  {
   "cell_type": "markdown",
   "metadata": {},
   "source": [
    "# Series.map()\n",
    "\n",
    "The map method creates a new Series with each item in the Series transformed in a similar way. Map can use a variety of inputs, but most commonly uses either a 1) a function, 2) a dictionary or Series.\n",
    "\n",
    "This is useful for when you need an arbitrary function instead of the default vectorized operations (unless you set it up that way) attached to the Series. Note: you generally won't get the speed of a true vectorized operation, but it does let you use Pandas syntax."
   ]
  },
  {
   "cell_type": "markdown",
   "metadata": {},
   "source": [
    "### Functions Passed to Map()\n",
    "\n",
    "If you pass a function to map, it will:\n",
    "\n",
    "1. Take the Series.\n",
    "2. For each value in the Series, pass the value as an argument for a specific function you passed.\n",
    "\n",
    "\n",
    "    new_value = function(old_value)\n",
    "\n",
    "3. Stuff that new value (can be a different type) into a new Series.\n",
    "4. Return the new Series, which is the same length as the old Series.\n",
    "\n",
    "This makes more sense when you see it in action."
   ]
  },
  {
   "cell_type": "code",
   "execution_count": null,
   "metadata": {},
   "outputs": [],
   "source": [
    "# We define an arbitrary mapping function\n",
    "def is_2(input_item):\n",
    "    '''This function:\n",
    "    \n",
    "       Takes a single data value as an input.\n",
    "       Returns True if input is 2.\n",
    "       Returns False if input is greater than 2.\n",
    "       Does not provide a return value otherwise (implicitly returns None).\n",
    "       \n",
    "    '''\n",
    "    # Print newline.\n",
    "    print(f'\\nRunning is_2() for item {input_item}', end=' ... ')\n",
    "    \n",
    "    # Check if equal to 2.\n",
    "    if input_item == 2:\n",
    "        print(f'Input item {input_item} is equal to 2! Returning True.')\n",
    "        return True\n",
    "    \n",
    "    # Check if greater than 2\n",
    "    if input_item > 2:\n",
    "        print(f'Input item {input_item} is greater than 2! Returning False.')\n",
    "        return False\n",
    "    \n",
    "    print(f'Input item {input_item} not equal or greater than 2! Implicitly returning None.')\n",
    "    \n",
    "    # Fall off end."
   ]
  },
  {
   "cell_type": "code",
   "execution_count": null,
   "metadata": {},
   "outputs": [],
   "source": [
    "is_2(5)"
   ]
  },
  {
   "cell_type": "code",
   "execution_count": null,
   "metadata": {},
   "outputs": [],
   "source": [
    "is_2(2)"
   ]
  },
  {
   "cell_type": "code",
   "execution_count": null,
   "metadata": {},
   "outputs": [],
   "source": [
    "is_2(-5)"
   ]
  },
  {
   "cell_type": "code",
   "execution_count": null,
   "metadata": {},
   "outputs": [],
   "source": [
    "# Create a series\n",
    "s1 = pd.Series([1,2,3])\n",
    "\n",
    "# Note, you want to pass a function object to our function without calling it ...\n",
    "# Yes: series.map( function   )\n",
    "# No!: series.map( function() )\n",
    "# Which returns a transformed Series.\n",
    "s2 = s1.map(is_2)\n",
    "\n",
    "# Which is now a regular Series we can now use as a boolean indexer\n",
    "print()\n",
    "print(s1.loc[s2.fillna(False)])\n",
    "\n",
    "# Showing transformed series\n",
    "s2"
   ]
  },
  {
   "cell_type": "code",
   "execution_count": null,
   "metadata": {},
   "outputs": [],
   "source": [
    "# Again, this can be whatever function that takes a single argument. E.g. get log of number.\n",
    "s1.map(np.log)"
   ]
  },
  {
   "cell_type": "markdown",
   "metadata": {},
   "source": [
    "### Dictionaries or Series passed to map()\n",
    "\n",
    "This is much simpler. It's a lot like using a surrogate key in SQL. This will:\n",
    "\n",
    "1. Take the Series.\n",
    "2. For each value in Series:\n",
    "\n",
    "    a. if using a mapping dict, if the value is a key, replace with the value.\n",
    "    \n",
    "    b. if using a mapping Series, if the value is an index value, replace with the data value.\n",
    "    \n",
    "    c. if the value is not found, replace with np.NaN (which may change your dtype)\n",
    "\n",
    "Again, this makes more sense when you see it in action."
   ]
  },
  {
   "cell_type": "code",
   "execution_count": null,
   "metadata": {},
   "outputs": [],
   "source": [
    "# Data Series\n",
    "s3 = pd.Series(['one', 'two', 'three', 'four', 'five'])\n",
    "\n",
    "# Mapping Series\n",
    "s4 = pd.Series(\n",
    "    index=['one', 'two', 'four'],\n",
    "    data=['uno', 'dos', 'cuatro']\n",
    ")\n",
    "\n",
    "# Equivalent mapping dict\n",
    "map_dict = {'one': 'uno', 'two': 'dos', 'four': 'cuatro'}\n",
    "\n",
    "# Original series \n",
    "print('\\nShowing original:\\n')\n",
    "print(s3)\n",
    "\n",
    "# Mapping dict\n",
    "print('\\nShowing mapping Series:\\n')\n",
    "print(s4)\n",
    "\n",
    "# Showing output\n",
    "print('\\nShowing the new mapped Series:\\n')\n",
    "s5 = s3.map(s4)\n",
    "s5 = s3.map(map_dict)\n",
    "print(s5)"
   ]
  },
  {
   "cell_type": "code",
   "execution_count": null,
   "metadata": {},
   "outputs": [],
   "source": [
    "# Note: you will also often see lambda functions used with map.\n",
    "s6 = pd.Series([5, 3, 2], name='radii')\n",
    "\n",
    "# Anonymous function / lambda for generating circumference\n",
    "s6.map(lambda value: np.pi * value / 2 ** 2)"
   ]
  },
  {
   "cell_type": "markdown",
   "metadata": {},
   "source": [
    "# Series.groupby()\n",
    "\n",
    "The groupby method creates a special object for analyzing data in aggregate. In other words, it puts your data into groups and then allows you to analyze all these groups simply and efficiently.\n",
    "\n",
    "This is done by: \n",
    "1. Creating your groupby object by giving your Series the group of each item in the series.\n",
    "2. Using the methods and attributes of the groupby object to get the data for your groups. Your result will generally have the groups as the index and the group data as the values. \n",
    "\n",
    "Like we've said time and time again, this is easier to understand it when you see it. "
   ]
  },
  {
   "cell_type": "code",
   "execution_count": null,
   "metadata": {},
   "outputs": [],
   "source": [
    "# Say we have the following scores\n",
    "data = pd.Series([93, 84, 93, 86, 76, 96])"
   ]
  },
  {
   "cell_type": "code",
   "execution_count": null,
   "metadata": {},
   "outputs": [],
   "source": [
    "# For the following people\n",
    "groups = pd.Series(['Davidson', 'Brown', 'Davidson', 'Brown', 'Williamson', 'Davidson'])"
   ]
  },
  {
   "cell_type": "code",
   "execution_count": null,
   "metadata": {},
   "outputs": [],
   "source": [
    "# If we want to group the scores by the people, we pass that info to a groupby()\n",
    "gb = data.groupby(groups)"
   ]
  },
  {
   "cell_type": "code",
   "execution_count": null,
   "metadata": {},
   "outputs": [],
   "source": [
    "# Which gives us a groupby object we can analyze.\n",
    "print(gb.mean())"
   ]
  },
  {
   "cell_type": "code",
   "execution_count": null,
   "metadata": {},
   "outputs": [],
   "source": [
    "# Or get a specific group (but that generally defeats the purpose of grouping)\n",
    "gb.get_group('Davidson')"
   ]
  },
  {
   "cell_type": "code",
   "execution_count": null,
   "metadata": {},
   "outputs": [],
   "source": [
    "# Or we can apply arbitrary methods and get the results by group.\n",
    "def is_even(input_series):\n",
    "    output_series = input_series % 2 == 0\n",
    "    return output_series.value_counts()\n",
    "\n",
    "                                                                                       \n",
    "gb.apply(is_even)"
   ]
  },
  {
   "cell_type": "code",
   "execution_count": null,
   "metadata": {},
   "outputs": [],
   "source": [
    "# It's important not to think of these as a Series, but you can get Series back.\n",
    "for name, ix in gb.groups.items():\n",
    "    print(name, ' has index:\\n', str(ix), '\\n')"
   ]
  },
  {
   "cell_type": "markdown",
   "metadata": {},
   "source": [
    "# Series.rolling()\n",
    "\n",
    "The rolling method creates an object that is used for rolling windows (e.g. 30 day rolling average).\n",
    "\n",
    "This is done by:\n",
    "\n",
    "1. Creating your roling object by supplying a window based on your index or datetime index.\n",
    "2. Using the methods and attributes of the rolling object."
   ]
  },
  {
   "cell_type": "code",
   "execution_count": 158,
   "metadata": {},
   "outputs": [
    {
     "data": {
      "text/plain": [
       "2018-01-01          NaN\n",
       "2018-01-02          NaN\n",
       "2018-01-03    12.333333\n",
       "2018-01-04    18.333333\n",
       "2018-01-05    12.000000\n",
       "2018-01-06     7.000000\n",
       "2018-01-07     6.000000\n",
       "2018-01-08     7.333333\n",
       "2018-01-09    14.333333\n",
       "2018-01-10    18.333333\n",
       "2018-01-11    18.666667\n",
       "2018-01-12    16.333333\n",
       "2018-01-13    12.333333\n",
       "2018-01-14    17.000000\n",
       "2018-01-15    14.333333\n",
       "Freq: D, dtype: float64"
      ]
     },
     "execution_count": 158,
     "metadata": {},
     "output_type": "execute_result"
    }
   ],
   "source": [
    "# Create random data for a 30 day period.\n",
    "dt_index = pd.DatetimeIndex(start='2018-01-01', end='2018-01-15', freq='d')\n",
    "random_data = np.random.randint(0, 30, len(dt_index))\n",
    "\n",
    "# Turn it into a series.\n",
    "s7 = pd.Series(\n",
    "    data=random_data,\n",
    "    index=dt_index,\n",
    ")\n",
    "\n",
    "# Using rolling method to create object with a 7 day window period.\n",
    "roll = s7.rolling('3d', min_periods=3)\n",
    "\n",
    "# Get rolling average (e.g. the 3 day rolling average on 2018-01-03 is X)\n",
    "rolling_3_day_average = roll.mean()\n",
    "rolling_3_day_average"
   ]
  },
  {
   "cell_type": "markdown",
   "metadata": {},
   "source": [
    "# Series.plot()\n",
    "\n",
    "For detail, see the official [Visualization](http://pandas.pydata.org/pandas-docs/stable/visualization.html) tutorial\n",
    "\n",
    "The plot function deserves a tutorial in itself, and is listed here only for the sake of completeness. See \"Pandas Visualization\" below for the official tutorial."
   ]
  },
  {
   "cell_type": "code",
   "execution_count": 159,
   "metadata": {},
   "outputs": [
    {
     "data": {
      "text/plain": [
       "<matplotlib.axes._subplots.AxesSubplot at 0x20c3210a390>"
      ]
     },
     "execution_count": 159,
     "metadata": {},
     "output_type": "execute_result"
    },
    {
     "data": {
      "image/png": "[encoded data removed]",
      "text/plain": [
       "<Figure size 432x288 with 1 Axes>"
      ]
     },
     "metadata": {},
     "output_type": "display_data"
    }
   ],
   "source": [
    "# Plot the rolling mean from the previous exercise as a line graph.\n",
    "rolling_3_day_average.plot()"
   ]
  },
  {
   "cell_type": "markdown",
   "metadata": {},
   "source": [
    "# Series.str (String Namespace)\n",
    "\n",
    "For detail, see the official [Working with Text Data](http://pandas.pydata.org/pandas-docs/stable/text.html) tutorial."
   ]
  },
  {
   "cell_type": "code",
   "execution_count": null,
   "metadata": {},
   "outputs": [],
   "source": [
    "format conversion"
   ]
  },
  {
   "cell_type": "markdown",
   "metadata": {},
   "source": [
    "# Series.dt (Datetime Namespace)\n",
    "\n",
    "For detail, see the official tutorial."
   ]
  },
  {
   "cell_type": "code",
   "execution_count": null,
   "metadata": {},
   "outputs": [],
   "source": []
  },
  {
   "cell_type": "markdown",
   "metadata": {},
   "source": [
    "# Additional Learing Resources\n",
    "\n",
    "* ### [Working with Text Data](http://pandas.pydata.org/pandas-docs/stable/text.html)"
   ]
  },
  {
   "cell_type": "markdown",
   "metadata": {},
   "source": [
    "---\n",
    "\n",
    "# Next Up: [Preprocessing](3_preprocessing.ipynb)\n",
    "\n",
    "<br>\n",
    "\n",
    "<img style=\"margin-left: 0;\" src=\"static/log_transform.svg\" width=\"20%\">\n",
    "\n",
    "<br>\n",
    "\n",
    "<div align='left'>\n",
    "    Image courtesy of <a href='https://commons.wikimedia.org/wiki/File:Population_vs_area.svg'>Skbkekas</a> under the <a href='https://creativecommons.org/licenses/by-sa/3.0/deed.en'>CC BY-SA 3.0</a>\n",
    "</div>\n",
    "\n",
    "---"
   ]
  }
 ],
 "metadata": {
  "anaconda-cloud": {},
  "kernelspec": {
   "display_name": "Python 3",
   "language": "python",
   "name": "python3"
  },
  "language_info": {
   "codemirror_mode": {
    "name": "ipython",
    "version": 3
   },
   "file_extension": ".py",
   "mimetype": "text/x-python",
   "name": "python",
   "nbconvert_exporter": "python",
   "pygments_lexer": "ipython3",
   "version": "3.6.7"
  }
 },
 "nbformat": 4,
 "nbformat_minor": 1
}
