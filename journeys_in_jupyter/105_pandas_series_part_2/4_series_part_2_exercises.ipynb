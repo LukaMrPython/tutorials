{
 "cells": [
  {
   "cell_type": "markdown",
   "metadata": {
    "collapsed": true
   },
   "source": [
    "<a href=\"https://github.com/theonaunheim\">\n",
    "    <img style=\"border-radius: 100%; float: right;\" src=\"static/strawberry_thief_square.png\" width=10% alt=\"Theo Naunheim's Github\">\n",
    "</a>\n",
    "\n",
    "<br style=\"clear: both\">\n",
    "<hr>\n",
    "<br>\n",
    "\n",
    "<h1 align='center'>Series Exercises</h1>\n",
    "\n",
    "<br>\n",
    "\n",
    "<div style=\"display: table; width: 100%\">\n",
    "    <div style=\"display: table-row; width: 100%;\">\n",
    "        <div style=\"display: table-cell; width: 50%; vertical-align: middle;\">\n",
    "            <h1 align=\"center\"> $W=-\\Delta PE$ </h1>\n",
    "        </div>\n",
    "        <div style=\"display: table-cell; width: 10%\">\n",
    "        </div>\n",
    "        <div style=\"display: table-cell; width: 40%; vertical-align: top;\">\n",
    "            <blockquote>\n",
    "                <p style=\"font-style: italic;\">\"Diligence is the mother of good fortune.\"</p>\n",
    "                <br>\n",
    "                <p>-Miguel de Cervantes</p>\n",
    "            </blockquote>\n",
    "        </div>\n",
    "    </div>\n",
    "</div>\n",
    "\n",
    "<br>\n",
    "\n",
    "<hr>"
   ]
  },
  {
   "cell_type": "markdown",
   "metadata": {},
   "source": [
    "# Problem 1\n",
    "\n",
    "* Import numpy and pandas as `np` and `pd`.\n",
    "\n",
    "\n",
    "* Create a series from the './data/height_in_feet.csv' file using `pd.read_csv()`, and assign it to variable `height`.\n",
    "\n",
    "\n",
    "* Display the first 10 items of `height` using `head()`.\n",
    "\n",
    "\n",
    "* In a new cell, round each height to the nearest foot using the `round()` method and store the result to a variable called `rounded`.\n",
    "\n",
    "\n",
    "* Display the first 10 items of `rounded` using `head()`.\n",
    "\n",
    "<br>\n",
    "\n",
    "**Hint**: Again, you will have to use `header=None` and `squeeze=True` to coerce your CSV to a Series.\n",
    "\n",
    "**Hint**: `head()` defaults to 5, so you will need to supply a value of 10 as an argument."
   ]
  },
  {
   "cell_type": "code",
   "execution_count": null,
   "metadata": {},
   "outputs": [],
   "source": [
    "# Import under aliases\n",
    "import numpy as np\n",
    "import pandas as pd\n",
    "\n",
    "# Create a height Series.\n",
    "height = pd.read_csv(\n",
    "    './data/height_in_feet.csv', \n",
    "    header=None, \n",
    "    squeeze=True\n",
    ")\n",
    "\n",
    "# Display the first 10 items of height\n",
    "height.head(10)"
   ]
  },
  {
   "cell_type": "code",
   "execution_count": null,
   "metadata": {},
   "outputs": [],
   "source": [
    "# Round the height series and store in rounded.\n",
    "rounded = height.round()\n",
    "\n",
    "# Display rounded first 10 items\n",
    "rounded.head(10)"
   ]
  },
  {
   "cell_type": "markdown",
   "metadata": {},
   "source": [
    "# Problem 2\n",
    "\n",
    "\n",
    "* Get the count of each value in  in `rounded`, save it to a variable called `counts`, and display it.\n",
    "\n",
    "\n",
    "* In the next cell, sort `counts` from tallest to shortest and store the result in a variable called `sorted_counts`.\n",
    "\n",
    "\n",
    "* Print the number of people that are approximately 5 feet tall.\n",
    "\n",
    "\n",
    "* Display `sorted_counts`.\n",
    "\n",
    "<br>\n",
    "\n",
    "**Hint**: Use `value_counts()` to get the count of values.\n",
    "\n",
    "**Hints**: when using `loc[]` to get the number of people that are 5 feet tall, you can use `5`, but it would be better to use `5.0` as that's what's in the index.\n",
    "\n",
    "**Hint**: Use `sort_index()` as opposed to `sort_values()` to sort by index values. You will need to pass an `ascending=False` argument to avoid the default."
   ]
  },
  {
   "cell_type": "code",
   "execution_count": null,
   "metadata": {},
   "outputs": [],
   "source": [
    "# Get the counts of the rounded values and assign to counts.\n",
    "counts = rounded.value_counts()\n",
    "counts"
   ]
  },
  {
   "cell_type": "code",
   "execution_count": null,
   "metadata": {},
   "outputs": [],
   "source": [
    "# Get the counts of the rounded values and assign to counts.\n",
    "sorted_counts = counts.sort_index(ascending=False)\n",
    "\n",
    "# Print number of people that are 5 feet tall.\n",
    "print('Number of people 5 feet tall: ', sorted_counts.loc[5.0])\n",
    "\n",
    "# Display\n",
    "sorted_counts"
   ]
  },
  {
   "cell_type": "markdown",
   "metadata": {},
   "source": [
    "# Problem 3\n",
    "\n",
    "A Pandas koan ...\n",
    "\n",
    "The [canonical solution](https://stackoverflow.com/questions/23451244/how-to-zscore-normalize-pandas-column-with-nans) for getting Z scores in Pandas looks something like this:\n",
    "\n",
    "    number_series = pd.Series([0, 1, 2, 3, 4, 5, 4, 3, 2, 1])\n",
    "    z_scores    = (number_series - number_series.mean()) / number_series.std()\n",
    "\n",
    "<br>\n",
    "\n",
    "* How does `(number_series - number_series.mean()) / number_series.std()` work?\n",
    "\n",
    "<br>\n",
    "\n",
    "\n",
    "**Hint**: a [Z-score](https://en.wikipedia.org/wiki/Standard_score) is essentially the number of standard deviations from the mean.\n",
    "\n",
    "The Z-score for each observation is calculated as:\n",
    "\n",
    "## $z={(x-\\mu) \\over \\sigma }$\n",
    "\n",
    "where: \n",
    "\n",
    "* **x** is the observation\n",
    "\n",
    "* **$\\mu$** is the mean of the population.\n",
    "\n",
    "* **$\\sigma$** is the standard deviation of the population.\n",
    "\n",
    "\n",
    "\n",
    "<br>\n",
    "\n",
    "**Hint**: it has to do with the difference in behavior between vectors and scalars.\n",
    "\n",
    "**Hint**: `(raw_numbers - raw_numbers.mean()) / raw_numbers.std()` two of these are scalars and one is a Series. Try breaking it into more steps/intermediates if unclear."
   ]
  },
  {
   "cell_type": "code",
   "execution_count": null,
   "metadata": {},
   "outputs": [],
   "source": [
    "# Displaying the series\n",
    "number_series = pd.Series([0, 1, 2, 3, 4, 5, 4, 3, 2, 1])\n",
    "number_series"
   ]
  },
  {
   "cell_type": "code",
   "execution_count": null,
   "metadata": {},
   "outputs": [],
   "source": [
    "# This works because the results of .mean() and std() are scalars, while raw_numbers is a Series.\n",
    "# Recall that when you do an operation with a scalar, it is done to each item in the Series.\n",
    "number_series * 10"
   ]
  },
  {
   "cell_type": "code",
   "execution_count": null,
   "metadata": {},
   "outputs": [],
   "source": [
    "# Both mean() and std() give us back scalars\n",
    "mean_scalar  = round(number_seriess.mean(), 1)\n",
    "stdev_scalar = round(number_series.std() , 1)\n",
    "\n",
    "print(f'Mean is {mean_scalar} and stdev is {stdev_scalar}')"
   ]
  },
  {
   "cell_type": "code",
   "execution_count": null,
   "metadata": {},
   "outputs": [],
   "source": [
    "# Which means our operations are basically this:\n",
    "print(f'This means our formula:\\n\\n\\traw_numbers - raw_numbers.mean() / raw_numbers.std()\\n')\n",
    "\n",
    "# Is functionally equivalent to\n",
    "print(f'is the same as:\\n\\n\\t (raw_numbers - {mean_scalar}) / {stdev_scalar}\\n')\n",
    "\n",
    "# Is functionally equivalent to\n",
    "print(f'is the same as:\\n\\n\\t raw_minus_mean / {stdev_scalar}\\n')"
   ]
  },
  {
   "cell_type": "code",
   "execution_count": null,
   "metadata": {},
   "outputs": [],
   "source": [
    "# So breaking this down ... we subtract the mean from the Series, yielding a new Series.\n",
    "number_minus_mean_series = number_series - mean_scalar\n",
    "number_minus_mean_series"
   ]
  },
  {
   "cell_type": "code",
   "execution_count": null,
   "metadata": {},
   "outputs": [],
   "source": [
    "# We then divide that difference Series by another scalar yielding a new Series.\n",
    "z_score_series = number_minus_mean_series / stdev_scalar\n",
    "z_score_series"
   ]
  },
  {
   "cell_type": "markdown",
   "metadata": {},
   "source": [
    "# Problem 4"
   ]
  },
  {
   "cell_type": "code",
   "execution_count": 80,
   "metadata": {},
   "outputs": [
    {
     "data": {
      "text/plain": [
       "0                    Brian\n",
       "1                      NaN\n",
       "2    Centurion of the Yard\n",
       "3                   Gaoler\n",
       "4                      NaN\n",
       "Name: characters, dtype: object"
      ]
     },
     "execution_count": 80,
     "metadata": {},
     "output_type": "execute_result"
    }
   ],
   "source": [
    "lob = pd.read_csv('./data/lob_characters.csv', squeeze=True)\n",
    "lob.head()"
   ]
  },
  {
   "cell_type": "code",
   "execution_count": 79,
   "metadata": {},
   "outputs": [
    {
     "data": {
      "text/plain": [
       "0    False\n",
       "1    False\n",
       "2    False\n",
       "3     True\n",
       "4    False\n",
       "Name: characters, dtype: bool"
      ]
     },
     "execution_count": 79,
     "metadata": {},
     "output_type": "execute_result"
    }
   ],
   "source": [
    "character_bix = lob.isin(['Gaoler', 'Judith Escariot', 5, True])\n",
    "character_bix.head()"
   ]
  },
  {
   "cell_type": "code",
   "execution_count": 81,
   "metadata": {},
   "outputs": [
    {
     "data": {
      "text/plain": [
       "3              Gaoler\n",
       "8     Judith Escariot\n",
       "14             Gaoler\n",
       "Name: characters, dtype: object"
      ]
     },
     "execution_count": 81,
     "metadata": {},
     "output_type": "execute_result"
    }
   ],
   "source": [
    "lob.loc[character_bix]"
   ]
  },
  {
   "cell_type": "code",
   "execution_count": 83,
   "metadata": {},
   "outputs": [
    {
     "data": {
      "text/plain": [
       "0    False\n",
       "1     True\n",
       "2    False\n",
       "3    False\n",
       "4     True\n",
       "Name: characters, dtype: bool"
      ]
     },
     "execution_count": 83,
     "metadata": {},
     "output_type": "execute_result"
    }
   ],
   "source": [
    "null_bix = lob.isnull()\n",
    "null_bix.head()"
   ]
  },
  {
   "cell_type": "code",
   "execution_count": 85,
   "metadata": {},
   "outputs": [
    {
     "data": {
      "text/plain": [
       "0    False\n",
       "1    False\n",
       "2    False\n",
       "3    False\n",
       "4    False\n",
       "Name: characters, dtype: bool"
      ]
     },
     "execution_count": 85,
     "metadata": {},
     "output_type": "execute_result"
    }
   ],
   "source": [
    "useless_bix = lob == np.NaN\n",
    "useless_bix.head()"
   ]
  },
  {
   "cell_type": "code",
   "execution_count": 86,
   "metadata": {},
   "outputs": [
    {
     "data": {
      "text/plain": [
       "0                    Brian\n",
       "1                  Unknown\n",
       "2    Centurion of the Yard\n",
       "3                   Gaoler\n",
       "4                  Unknown\n",
       "Name: characters, dtype: object"
      ]
     },
     "execution_count": 86,
     "metadata": {},
     "output_type": "execute_result"
    }
   ],
   "source": [
    "filled = lob.fillna('Unknown')\n",
    "filled.head()"
   ]
  },
  {
   "cell_type": "code",
   "execution_count": 89,
   "metadata": {},
   "outputs": [
    {
     "data": {
      "text/plain": [
       "0                     Brian\n",
       "2     Centurion of the Yard\n",
       "3                    Gaoler\n",
       "5         Harry the Haggler\n",
       "6                  Ex-Leper\n",
       "7                   Gregory\n",
       "8           Judith Escariot\n",
       "9        Simon the Holy Man\n",
       "10           Pontius Pilate\n",
       "11                 Matthias\n",
       "Name: characters, dtype: object"
      ]
     },
     "execution_count": 89,
     "metadata": {},
     "output_type": "execute_result"
    }
   ],
   "source": [
    "dropped_na = lob.dropna()\n",
    "dropped_na_and_dupes = dropped_na.drop_duplicates()\n",
    "dropped_na_and_dupes"
   ]
  },
  {
   "cell_type": "code",
   "execution_count": null,
   "metadata": {},
   "outputs": [],
   "source": [
    "dropped.to_excel('./data/dropped_na_and_dupes.xlsx')"
   ]
  },
  {
   "cell_type": "markdown",
   "metadata": {},
   "source": [
    "# Problem 5"
   ]
  },
  {
   "cell_type": "code",
   "execution_count": 97,
   "metadata": {},
   "outputs": [
    {
     "data": {
      "text/plain": [
       "0    2018-01-01\n",
       "1             4\n",
       "2           2.0\n",
       "3    2019-01-01\n",
       "4    12/31/2015\n",
       "5           2.8\n",
       "6         hola!\n",
       "7           2.9\n",
       "8           NaN\n",
       "Name: hot_mess, dtype: object"
      ]
     },
     "execution_count": 97,
     "metadata": {},
     "output_type": "execute_result"
    }
   ],
   "source": [
    "mixed = pd.read_csv('./data/mixed_bag.csv', squeeze=True)\n",
    "mixed"
   ]
  },
  {
   "cell_type": "code",
   "execution_count": 99,
   "metadata": {},
   "outputs": [
    {
     "data": {
      "text/plain": [
       "dtype('O')"
      ]
     },
     "execution_count": 99,
     "metadata": {},
     "output_type": "execute_result"
    }
   ],
   "source": [
    "mixed.dtype"
   ]
  },
  {
   "cell_type": "code",
   "execution_count": 101,
   "metadata": {},
   "outputs": [
    {
     "data": {
      "text/plain": [
       "0    NaN\n",
       "1    4.0\n",
       "2    2.0\n",
       "3    NaN\n",
       "4    NaN\n",
       "5    2.8\n",
       "6    NaN\n",
       "7    2.9\n",
       "8    NaN\n",
       "Name: hot_mess, dtype: float64"
      ]
     },
     "execution_count": 101,
     "metadata": {},
     "output_type": "execute_result"
    }
   ],
   "source": [
    "mixed_numeric = pd.to_numeric(mixed, errors='coerce')\n",
    "mixed_numeric"
   ]
  },
  {
   "cell_type": "code",
   "execution_count": 103,
   "metadata": {},
   "outputs": [
    {
     "data": {
      "text/plain": [
       "0   2018-01-01\n",
       "1          NaT\n",
       "2          NaT\n",
       "3   2019-01-01\n",
       "4   2015-12-31\n",
       "5          NaT\n",
       "6          NaT\n",
       "7          NaT\n",
       "8          NaT\n",
       "Name: hot_mess, dtype: datetime64[ns]"
      ]
     },
     "execution_count": 103,
     "metadata": {},
     "output_type": "execute_result"
    }
   ],
   "source": [
    "mixed_datetime = pd.to_datetime(mixed, errors='coerce')\n",
    "mixed_datetime"
   ]
  },
  {
   "cell_type": "code",
   "execution_count": 106,
   "metadata": {},
   "outputs": [
    {
     "data": {
      "text/plain": [
       "0    nan\n",
       "1    4.0\n",
       "2    2.0\n",
       "3    nan\n",
       "4    nan\n",
       "5    2.8\n",
       "6    nan\n",
       "7    2.9\n",
       "8    nan\n",
       "Name: hot_mess, dtype: object"
      ]
     },
     "execution_count": 106,
     "metadata": {},
     "output_type": "execute_result"
    }
   ],
   "source": [
    "mixed_string = mixed_numeric.astype(str)\n",
    "mixed_string"
   ]
  },
  {
   "cell_type": "markdown",
   "metadata": {},
   "source": [
    "# Problem 6"
   ]
  },
  {
   "cell_type": "code",
   "execution_count": 110,
   "metadata": {},
   "outputs": [
    {
     "data": {
      "text/html": [
       "<div>\n",
       "<style scoped>\n",
       "    .dataframe tbody tr th:only-of-type {\n",
       "        vertical-align: middle;\n",
       "    }\n",
       "\n",
       "    .dataframe tbody tr th {\n",
       "        vertical-align: top;\n",
       "    }\n",
       "\n",
       "    .dataframe thead th {\n",
       "        text-align: right;\n",
       "    }\n",
       "</style>\n",
       "<table border=\"1\" class=\"dataframe\">\n",
       "  <thead>\n",
       "    <tr style=\"text-align: right;\">\n",
       "      <th></th>\n",
       "      <th>morse_representation</th>\n",
       "    </tr>\n",
       "    <tr>\n",
       "      <th>character</th>\n",
       "      <th></th>\n",
       "    </tr>\n",
       "  </thead>\n",
       "  <tbody>\n",
       "    <tr>\n",
       "      <th>\"</th>\n",
       "      <td>. _ . . _ .</td>\n",
       "    </tr>\n",
       "    <tr>\n",
       "      <th>'</th>\n",
       "      <td>. _ _ _ _ .</td>\n",
       "    </tr>\n",
       "    <tr>\n",
       "      <th>(</th>\n",
       "      <td>_ . _ _ .</td>\n",
       "    </tr>\n",
       "    <tr>\n",
       "      <th>)</th>\n",
       "      <td>_ . _ _ . _</td>\n",
       "    </tr>\n",
       "    <tr>\n",
       "      <th>+</th>\n",
       "      <td>. _ . _ .</td>\n",
       "    </tr>\n",
       "  </tbody>\n",
       "</table>\n",
       "</div>"
      ],
      "text/plain": [
       "          morse_representation\n",
       "character                     \n",
       "\"                  . _ . . _ .\n",
       "'                  . _ _ _ _ .\n",
       "(                    _ . _ _ .\n",
       ")                  _ . _ _ . _\n",
       "+                    . _ . _ ."
      ]
     },
     "execution_count": 110,
     "metadata": {},
     "output_type": "execute_result"
    }
   ],
   "source": [
    "morse = pd.read_csv('./data/morse.csv', index_col='character')\n",
    "morse.head()"
   ]
  },
  {
   "cell_type": "code",
   "execution_count": 127,
   "metadata": {},
   "outputs": [
    {
     "data": {
      "text/html": [
       "<div>\n",
       "<style scoped>\n",
       "    .dataframe tbody tr th:only-of-type {\n",
       "        vertical-align: middle;\n",
       "    }\n",
       "\n",
       "    .dataframe tbody tr th {\n",
       "        vertical-align: top;\n",
       "    }\n",
       "\n",
       "    .dataframe thead th {\n",
       "        text-align: right;\n",
       "    }\n",
       "</style>\n",
       "<table border=\"1\" class=\"dataframe\">\n",
       "  <thead>\n",
       "    <tr style=\"text-align: right;\">\n",
       "      <th></th>\n",
       "      <th>character</th>\n",
       "    </tr>\n",
       "    <tr>\n",
       "      <th>morse_representation</th>\n",
       "      <th></th>\n",
       "    </tr>\n",
       "  </thead>\n",
       "  <tbody>\n",
       "    <tr>\n",
       "      <th>. _ . . _ .</th>\n",
       "      <td>\"</td>\n",
       "    </tr>\n",
       "    <tr>\n",
       "      <th>. _ _ _ _ .</th>\n",
       "      <td>'</td>\n",
       "    </tr>\n",
       "    <tr>\n",
       "      <th>_ . _ _ .</th>\n",
       "      <td>(</td>\n",
       "    </tr>\n",
       "    <tr>\n",
       "      <th>_ . _ _ . _</th>\n",
       "      <td>)</td>\n",
       "    </tr>\n",
       "    <tr>\n",
       "      <th>. _ . _ .</th>\n",
       "      <td>+</td>\n",
       "    </tr>\n",
       "    <tr>\n",
       "      <th>_ _ . . _ _</th>\n",
       "      <td>,</td>\n",
       "    </tr>\n",
       "    <tr>\n",
       "      <th>_ . . . . _</th>\n",
       "      <td>-</td>\n",
       "    </tr>\n",
       "    <tr>\n",
       "      <th>. _ . _ . _</th>\n",
       "      <td>.</td>\n",
       "    </tr>\n",
       "    <tr>\n",
       "      <th>_ . . _ .</th>\n",
       "      <td>/</td>\n",
       "    </tr>\n",
       "    <tr>\n",
       "      <th>_ _ _ _ _</th>\n",
       "      <td>0</td>\n",
       "    </tr>\n",
       "    <tr>\n",
       "      <th>. _ _ _ _</th>\n",
       "      <td>1</td>\n",
       "    </tr>\n",
       "    <tr>\n",
       "      <th>. . _ _ _</th>\n",
       "      <td>2</td>\n",
       "    </tr>\n",
       "    <tr>\n",
       "      <th>. . . _ _</th>\n",
       "      <td>3</td>\n",
       "    </tr>\n",
       "    <tr>\n",
       "      <th>. . . . _</th>\n",
       "      <td>4</td>\n",
       "    </tr>\n",
       "    <tr>\n",
       "      <th>. . . . .</th>\n",
       "      <td>5</td>\n",
       "    </tr>\n",
       "    <tr>\n",
       "      <th>_ . . . .</th>\n",
       "      <td>6</td>\n",
       "    </tr>\n",
       "    <tr>\n",
       "      <th>_ _ . . .</th>\n",
       "      <td>7</td>\n",
       "    </tr>\n",
       "    <tr>\n",
       "      <th>_ _ _ . .</th>\n",
       "      <td>8</td>\n",
       "    </tr>\n",
       "    <tr>\n",
       "      <th>_ _ _ _ .</th>\n",
       "      <td>9</td>\n",
       "    </tr>\n",
       "    <tr>\n",
       "      <th>_ _ _ . . .</th>\n",
       "      <td>:</td>\n",
       "    </tr>\n",
       "    <tr>\n",
       "      <th>_ . _ . _ .</th>\n",
       "      <td>;</td>\n",
       "    </tr>\n",
       "    <tr>\n",
       "      <th>_ . . . _</th>\n",
       "      <td>=</td>\n",
       "    </tr>\n",
       "    <tr>\n",
       "      <th>. . _ _ . .</th>\n",
       "      <td>?</td>\n",
       "    </tr>\n",
       "    <tr>\n",
       "      <th>. _ _ . _ .</th>\n",
       "      <td>@</td>\n",
       "    </tr>\n",
       "    <tr>\n",
       "      <th>. _</th>\n",
       "      <td>A</td>\n",
       "    </tr>\n",
       "    <tr>\n",
       "      <th>_ . . .</th>\n",
       "      <td>B</td>\n",
       "    </tr>\n",
       "    <tr>\n",
       "      <th>_ . _ .</th>\n",
       "      <td>C</td>\n",
       "    </tr>\n",
       "    <tr>\n",
       "      <th>_ . .</th>\n",
       "      <td>D</td>\n",
       "    </tr>\n",
       "    <tr>\n",
       "      <th>.</th>\n",
       "      <td>E</td>\n",
       "    </tr>\n",
       "    <tr>\n",
       "      <th>. . _ .</th>\n",
       "      <td>F</td>\n",
       "    </tr>\n",
       "    <tr>\n",
       "      <th>_ _ .</th>\n",
       "      <td>G</td>\n",
       "    </tr>\n",
       "    <tr>\n",
       "      <th>. . . .</th>\n",
       "      <td>H</td>\n",
       "    </tr>\n",
       "    <tr>\n",
       "      <th>. .</th>\n",
       "      <td>I</td>\n",
       "    </tr>\n",
       "    <tr>\n",
       "      <th>. _ _ _</th>\n",
       "      <td>J</td>\n",
       "    </tr>\n",
       "    <tr>\n",
       "      <th>_ . _</th>\n",
       "      <td>K</td>\n",
       "    </tr>\n",
       "    <tr>\n",
       "      <th>. _ . .</th>\n",
       "      <td>L</td>\n",
       "    </tr>\n",
       "    <tr>\n",
       "      <th>_ _</th>\n",
       "      <td>M</td>\n",
       "    </tr>\n",
       "    <tr>\n",
       "      <th>_ .</th>\n",
       "      <td>N</td>\n",
       "    </tr>\n",
       "    <tr>\n",
       "      <th>_ _ _</th>\n",
       "      <td>O</td>\n",
       "    </tr>\n",
       "    <tr>\n",
       "      <th>. _ _ .</th>\n",
       "      <td>P</td>\n",
       "    </tr>\n",
       "    <tr>\n",
       "      <th>_ _ . _</th>\n",
       "      <td>Q</td>\n",
       "    </tr>\n",
       "    <tr>\n",
       "      <th>. _ .</th>\n",
       "      <td>R</td>\n",
       "    </tr>\n",
       "    <tr>\n",
       "      <th>. . .</th>\n",
       "      <td>S</td>\n",
       "    </tr>\n",
       "    <tr>\n",
       "      <th>_</th>\n",
       "      <td>T</td>\n",
       "    </tr>\n",
       "    <tr>\n",
       "      <th>. . _</th>\n",
       "      <td>U</td>\n",
       "    </tr>\n",
       "    <tr>\n",
       "      <th>. . . _</th>\n",
       "      <td>V</td>\n",
       "    </tr>\n",
       "    <tr>\n",
       "      <th>. _ _</th>\n",
       "      <td>W</td>\n",
       "    </tr>\n",
       "    <tr>\n",
       "      <th>_ . . _</th>\n",
       "      <td>X</td>\n",
       "    </tr>\n",
       "    <tr>\n",
       "      <th>_ . _ _</th>\n",
       "      <td>Y</td>\n",
       "    </tr>\n",
       "    <tr>\n",
       "      <th>_ _ . .</th>\n",
       "      <td>Z</td>\n",
       "    </tr>\n",
       "    <tr>\n",
       "      <th>. . _ _ . _</th>\n",
       "      <td>_</td>\n",
       "    </tr>\n",
       "    <tr>\n",
       "      <th>_ . . _</th>\n",
       "      <td>x</td>\n",
       "    </tr>\n",
       "  </tbody>\n",
       "</table>\n",
       "</div>"
      ],
      "text/plain": [
       "                     character\n",
       "morse_representation          \n",
       ". _ . . _ .                  \"\n",
       ". _ _ _ _ .                  '\n",
       "_ . _ _ .                    (\n",
       "_ . _ _ . _                  )\n",
       ". _ . _ .                    +\n",
       "_ _ . . _ _                  ,\n",
       "_ . . . . _                  -\n",
       ". _ . _ . _                  .\n",
       "_ . . _ .                    /\n",
       "_ _ _ _ _                    0\n",
       ". _ _ _ _                    1\n",
       ". . _ _ _                    2\n",
       ". . . _ _                    3\n",
       ". . . . _                    4\n",
       ". . . . .                    5\n",
       "_ . . . .                    6\n",
       "_ _ . . .                    7\n",
       "_ _ _ . .                    8\n",
       "_ _ _ _ .                    9\n",
       "_ _ _ . . .                  :\n",
       "_ . _ . _ .                  ;\n",
       "_ . . . _                    =\n",
       ". . _ _ . .                  ?\n",
       ". _ _ . _ .                  @\n",
       ". _                          A\n",
       "_ . . .                      B\n",
       "_ . _ .                      C\n",
       "_ . .                        D\n",
       ".                            E\n",
       ". . _ .                      F\n",
       "_ _ .                        G\n",
       ". . . .                      H\n",
       ". .                          I\n",
       ". _ _ _                      J\n",
       "_ . _                        K\n",
       ". _ . .                      L\n",
       "_ _                          M\n",
       "_ .                          N\n",
       "_ _ _                        O\n",
       ". _ _ .                      P\n",
       "_ _ . _                      Q\n",
       ". _ .                        R\n",
       ". . .                        S\n",
       "_                            T\n",
       ". . _                        U\n",
       ". . . _                      V\n",
       ". _ _                        W\n",
       "_ . . _                      X\n",
       "_ . _ _                      Y\n",
       "_ _ . .                      Z\n",
       ". . _ _ . _                  _\n",
       "_ . . _                      x"
      ]
     },
     "execution_count": 127,
     "metadata": {},
     "output_type": "execute_result"
    }
   ],
   "source": [
    "morse.set_index('morse_representation')\n",
    "morse.reset_index().set_index('morse_representation')"
   ]
  },
  {
   "cell_type": "code",
   "execution_count": 118,
   "metadata": {},
   "outputs": [],
   "source": [
    "sample = morse.sample(frac=.25)\n",
    "sample_ix = sample.index.values"
   ]
  },
  {
   "cell_type": "code",
   "execution_count": 120,
   "metadata": {},
   "outputs": [
    {
     "data": {
      "text/html": [
       "<div>\n",
       "<style scoped>\n",
       "    .dataframe tbody tr th:only-of-type {\n",
       "        vertical-align: middle;\n",
       "    }\n",
       "\n",
       "    .dataframe tbody tr th {\n",
       "        vertical-align: top;\n",
       "    }\n",
       "\n",
       "    .dataframe thead th {\n",
       "        text-align: right;\n",
       "    }\n",
       "</style>\n",
       "<table border=\"1\" class=\"dataframe\">\n",
       "  <thead>\n",
       "    <tr style=\"text-align: right;\">\n",
       "      <th></th>\n",
       "      <th>morse_representation</th>\n",
       "    </tr>\n",
       "    <tr>\n",
       "      <th>character</th>\n",
       "      <th></th>\n",
       "    </tr>\n",
       "  </thead>\n",
       "  <tbody>\n",
       "    <tr>\n",
       "      <th>'</th>\n",
       "      <td>. _ _ _ _ .</td>\n",
       "    </tr>\n",
       "    <tr>\n",
       "      <th>(</th>\n",
       "      <td>_ . _ _ .</td>\n",
       "    </tr>\n",
       "    <tr>\n",
       "      <th>+</th>\n",
       "      <td>. _ . _ .</td>\n",
       "    </tr>\n",
       "    <tr>\n",
       "      <th>,</th>\n",
       "      <td>_ _ . . _ _</td>\n",
       "    </tr>\n",
       "    <tr>\n",
       "      <th>-</th>\n",
       "      <td>_ . . . . _</td>\n",
       "    </tr>\n",
       "  </tbody>\n",
       "</table>\n",
       "</div>"
      ],
      "text/plain": [
       "          morse_representation\n",
       "character                     \n",
       "'                  . _ _ _ _ .\n",
       "(                    _ . _ _ .\n",
       "+                    . _ . _ .\n",
       ",                  _ _ . . _ _\n",
       "-                  _ . . . . _"
      ]
     },
     "execution_count": 120,
     "metadata": {},
     "output_type": "execute_result"
    }
   ],
   "source": [
    "morse.drop(sample_ix).head()"
   ]
  },
  {
   "cell_type": "code",
   "execution_count": null,
   "metadata": {},
   "outputs": [],
   "source": []
  },
  {
   "cell_type": "markdown",
   "metadata": {},
   "source": [
    "# Problem 7\n",
    "\n",
    "\n",
    "* Load the data from './data/morse.csv' using `pd.read_csv()` with 'character' as an index column and `squeeze=True`. Assign the resulting Series to the variable `morse`.\n",
    "\n",
    "\n",
    "* Display the morse object using `loc[]` from index 'A' to index 'B'.\n",
    "\n",
    "\n",
    "* In a new cell, create a list from the string 'The rain in Spain falls mainly on the plain.' with one letter per list element. Store that list in variable `string_list`. Then feed this list into a Series, which you should call `string_series`. Display the first 10 items of this series.\n",
    "\n",
    "\n",
    "* Define a function called `make_uppercase` that takes a single letter, and returns the upper case version of that letter. Then use the `map()` method of your string series to map your `make_uppercase()` function. Store the result to `function_mapped` and display the first 10 items.\n",
    "\n",
    "\n",
    "* Then take your `function_mapped` series and use `map()` again, this time mapping values using a Series. Save the result to `series_mapped` and display the first 10 items.\n",
    "\n",
    "<br>\n",
    "\n",
    "**Note**: to specify an index column, use an `index_col` argument (e.g. `index_col='character'`)\n",
    "\n",
    "**Note**: to split a string into a list, simply use the list constructor `list('Your string here')`.\n",
    "\n",
    "**Note**: you are first creating a new Series based on a function mapping. You are then creating a new Series based on a  translation-table-like Series mapping.\n",
    "\n",
    "**Note**: don't worry about the NaNs. Morse code does not have a representation for spaces. Because there's nothing to map, pandas fills these values with NaN."
   ]
  },
  {
   "cell_type": "code",
   "execution_count": 71,
   "metadata": {},
   "outputs": [
    {
     "data": {
      "text/plain": [
       "character\n",
       "A        . _\n",
       "B    _ . . .\n",
       "C    _ . _ .\n",
       "D      _ . .\n",
       "E          .\n",
       "F    . . _ .\n",
       "G      _ _ .\n",
       "H    . . . .\n",
       "I        . .\n",
       "J    . _ _ _\n",
       "K      _ . _\n",
       "L    . _ . .\n",
       "M        _ _\n",
       "N        _ .\n",
       "O      _ _ _\n",
       "P    . _ _ .\n",
       "Q    _ _ . _\n",
       "R      . _ .\n",
       "S      . . .\n",
       "T          _\n",
       "U      . . _\n",
       "V    . . . _\n",
       "W      . _ _\n",
       "X    _ . . _\n",
       "Y    _ . _ _\n",
       "Z    _ _ . .\n",
       "Name: morse_representation, dtype: object"
      ]
     },
     "execution_count": 71,
     "metadata": {},
     "output_type": "execute_result"
    }
   ],
   "source": [
    "# Load the character to morse code mapping\n",
    "morse = pd.read_csv('./data/morse.csv', index_col='character', squeeze=True)\n",
    "\n",
    "# Display letters A through Z.\n",
    "morse.loc['A': 'Z']"
   ]
  },
  {
   "cell_type": "code",
   "execution_count": 72,
   "metadata": {},
   "outputs": [
    {
     "data": {
      "text/plain": [
       "0    T\n",
       "1    h\n",
       "2    e\n",
       "3     \n",
       "4    r\n",
       "5    a\n",
       "6    i\n",
       "7    n\n",
       "8     \n",
       "9    i\n",
       "dtype: object"
      ]
     },
     "execution_count": 72,
     "metadata": {},
     "output_type": "execute_result"
    }
   ],
   "source": [
    "# Create a list from the string, \"The rain in Spain falls mainly on the plain.\"\n",
    "string_list = list('The rain in Spain falls mainly on the plain.')\n",
    "\n",
    "# Create a Series from that list\n",
    "string_series = pd.Series(string_list)\n",
    "\n",
    "# Display first 10.\n",
    "string.head(10)"
   ]
  },
  {
   "cell_type": "code",
   "execution_count": 73,
   "metadata": {},
   "outputs": [
    {
     "data": {
      "text/plain": [
       "0    T\n",
       "1    H\n",
       "2    E\n",
       "3     \n",
       "4    R\n",
       "5    A\n",
       "6    I\n",
       "7    N\n",
       "8     \n",
       "9    I\n",
       "dtype: object"
      ]
     },
     "execution_count": 73,
     "metadata": {},
     "output_type": "execute_result"
    }
   ],
   "source": [
    "# Define a function to capitalize something\n",
    "def make_uppercase(letter):\n",
    "    return letter.upper()\n",
    "\n",
    "\n",
    "# Map the make_uppercase function to the string and save to upper_string\n",
    "function_mapped = string_series.map(make_uppercase)\n",
    "\n",
    "# Display first 10\n",
    "function_mapped.head(10)"
   ]
  },
  {
   "cell_type": "code",
   "execution_count": 74,
   "metadata": {},
   "outputs": [
    {
     "data": {
      "text/plain": [
       "0          _\n",
       "1    . . . .\n",
       "2          .\n",
       "3        NaN\n",
       "4      . _ .\n",
       "5        . _\n",
       "6        . .\n",
       "7        _ .\n",
       "8        NaN\n",
       "9        . .\n",
       "dtype: object"
      ]
     },
     "execution_count": 74,
     "metadata": {},
     "output_type": "execute_result"
    }
   ],
   "source": [
    "# Map the morse code Series\n",
    "series_mapped = function_mapped.map(morse)\n",
    "\n",
    "# Display first 10\n",
    "series_mapped.head(10)"
   ]
  },
  {
   "cell_type": "markdown",
   "metadata": {},
   "source": [
    "# Problem 8\n",
    "\n",
    "\n",
    "* Load './data/salaries.csv' using `pd.read_csv()` and assign it to a variable called `salaries`. Load './data/professions.csv' and assign it to a cariable called `professions`.\n",
    "\n",
    "\n",
    "* In a new cell, show the first 5 elements of `professions`.\n",
    "\n",
    "\n",
    "* In a new cell, show the first 5 elements of `salaries`. What do you see?\n",
    "\n",
    "\n",
    "* In a new cell, use `groupby()` to group `salaries` by `professions`. Assign the result to a variable called `gb`.\n",
    "\n",
    "\n",
    "* In a new cell, get the median of your groupby object, and sort the values.\n",
    "\n",
    "\n",
    "* In a new cell, get the count of your groupby object and sort the values.\n",
    "\n",
    "\n",
    "<br>\n",
    "\n",
    "**Hint**: you'll again have to use the `squeeze=True` argument for both Series.\n",
    "\n",
    "**Hint**: you group one Series by another by using the `groupby()` method and passing the Series used for grouping to that method. For details, see the previous notebook.\n",
    "\n",
    "**Hint**: the median of your groupby object is unsurprisingly obtained by using the `median()` method.\n",
    "\n",
    "**Hint**: the count of your groupby object can be found using `size()`."
   ]
  },
  {
   "cell_type": "code",
   "execution_count": null,
   "metadata": {},
   "outputs": [],
   "source": [
    "# Load our Series.\n",
    "salaries    = pd.read_csv('./data/salaries.csv', squeeze=True)\n",
    "professions = pd.read_csv('./data/professions.csv', squeeze=True)"
   ]
  },
  {
   "cell_type": "code",
   "execution_count": null,
   "metadata": {},
   "outputs": [],
   "source": [
    "# Show professions\n",
    "professions.head()"
   ]
  },
  {
   "cell_type": "code",
   "execution_count": null,
   "metadata": {},
   "outputs": [],
   "source": [
    "# Show salaries. There is no variablility around soldier salaries.\n",
    "salaries.head()"
   ]
  },
  {
   "cell_type": "code",
   "execution_count": null,
   "metadata": {},
   "outputs": [],
   "source": [
    "# Group salaries by profession\n",
    "gb = salaries.groupby(professions)"
   ]
  },
  {
   "cell_type": "code",
   "execution_count": null,
   "metadata": {},
   "outputs": [],
   "source": [
    "# Get the median salary\n",
    "gb.median().sort_values()"
   ]
  },
  {
   "cell_type": "code",
   "execution_count": null,
   "metadata": {},
   "outputs": [],
   "source": [
    "# Get the size of each group.\n",
    "gb.size().sort_values()"
   ]
  },
  {
   "cell_type": "markdown",
   "metadata": {},
   "source": [
    "# Problem 9\n",
    "\n",
    "\n",
    "* Import matplotlib then import matplotlib.pyplot as `plt`.\n",
    "\n",
    "\n",
    "* Set up Matplotlib to plot inline intead of in a separate window.\n",
    "\n",
    "\n",
    "* Tell matplotlib to use 'fivethirtyeight' styling.\n",
    "\n",
    "\n",
    "* In a new cell, plot a histogram of `height`. Use a `bins=25` argument.\n",
    "\n",
    "\n",
    "* In a new cell, create a horizontal bar graph of `counts`. Pass a `title='Primitive Bar Chart'` and a `figsize=(10,10)` argument.\n",
    "\n",
    "\n",
    "* In a new cell, Create a pie chart of `counts` with a `colors=['teal', 'gray', 'white']` argument. Save a .png of the graph to './data/pie_chart.png'.\n",
    "\n",
    "<br>\n",
    "\n",
    "**Hint**: `%matplotlib inline` is the cell magic used to show a graph in the notebook.\n",
    "\n",
    "**Hint**: `matplotlib.style.use('fivethirtyeight')` will set up fivethirtyeight styling.\n",
    "\n",
    "**Hint**: horizontal graphs can be generated with `plot.barh()`. Pie charts can be done via `plot.pie()`. Histograms can be created with `plot.hist()`\n",
    "\n",
    "**Hint**: you can output your most recent figure using `plt.savefig()`.\n",
    "\n",
    "**Hint**: you will want to plot each plot in a separate cell so you don't overwrite your previous graphs."
   ]
  },
  {
   "cell_type": "code",
   "execution_count": null,
   "metadata": {},
   "outputs": [],
   "source": [
    "# Use cell magic to print inline\n",
    "import matplotlib\n",
    "import matplotlib.pyplot as plt\n",
    "\n",
    "%matplotlib inline\n",
    "matplotlib.style.use('fivethirtyeight')"
   ]
  },
  {
   "cell_type": "code",
   "execution_count": null,
   "metadata": {},
   "outputs": [],
   "source": [
    "# Histogram with 25 bins.\n",
    "height.plot.hist(bins=25)"
   ]
  },
  {
   "cell_type": "code",
   "execution_count": null,
   "metadata": {},
   "outputs": [],
   "source": [
    "# Plot counts as horizontal bar chart\n",
    "counts.plot.barh(\n",
    "    title='Primitive Bar Chart', \n",
    "    figsize=(10, 5)\n",
    ")"
   ]
  },
  {
   "cell_type": "code",
   "execution_count": null,
   "metadata": {},
   "outputs": [],
   "source": [
    "# Plot counts as a pie chart.\n",
    "counts.plot.pie(colors=['teal', 'gray', 'white'])\n",
    "\n",
    "# Output to pie_chart.png\n",
    "plt.savefig('./data/pie_chart.png')"
   ]
  },
  {
   "cell_type": "markdown",
   "metadata": {},
   "source": [
    "# Problem 10\n",
    "\n",
    "\n",
    "* Load the data from './data/unemployment.csv' using `squeeze=True` and `index_col='month'` arguments. Assign the data to a `unemployment`. Display the first 10 items of `unemployment`.\n",
    "\n",
    "\n",
    "* In a new cell, create a rolling object with a window of 12 observations and assign it to the name `rolling`.\n",
    "\n",
    "\n",
    "* In a new cell, get the rolling mean of your `rolling` object and assign it to `rmean`. Plot `rmean` using the default line chart and then display the last 12 items of the `rmean` series.\n",
    "\n",
    "\n",
    "* In a new cell, get the rolling max of your `rolling` object and assign it to `rmax`. Plot `rmax` using the default line chart and then display the last 12 items of the `rmax` series.\n",
    "\n",
    "\n",
    "* Take the `rmean` series and write it to './data/rolling.csv'.\n",
    "\n",
    "<br>\n",
    "\n",
    "\n",
    "**Hint**: `index_col` allows you to specify which column will be used as an index for your Series/DataFrame.\n",
    "\n",
    "**Hint**: `rolling()` takes the number of observations used for the window as it's first argument. E.G. if you have a Series indexed on month, and you want the rolling observation for the previous 18 months, you would do `rolling = old_series.rolling(18)`. \n",
    "\n",
    "**Hint**: a method from a rolling object will give you a new Series.\n",
    "\n",
    "**Hint**: `plot()` defaults to a basic line chart, so you can just plot without any arguments.\n",
    "\n",
    "**Hint**: even if you `plot()`, you can still display the last item of the cell.\n"
   ]
  },
  {
   "cell_type": "code",
   "execution_count": null,
   "metadata": {},
   "outputs": [],
   "source": [
    "# Load unemployment data\n",
    "unemployment = pd.read_csv('./data/unemployment.csv', squeeze=True, index_col='month')\n",
    "unemployment.head(10)"
   ]
  },
  {
   "cell_type": "code",
   "execution_count": null,
   "metadata": {},
   "outputs": [],
   "source": [
    "# Rolling\n",
    "rolling = unemployment.rolling(window=12)"
   ]
  },
  {
   "cell_type": "code",
   "execution_count": null,
   "metadata": {},
   "outputs": [],
   "source": [
    "# Generate rolling average, plot, and display last 12.\n",
    "rmean = rolling.mean()\n",
    "rmean.plot()\n",
    "rmean.tail(12)"
   ]
  },
  {
   "cell_type": "code",
   "execution_count": null,
   "metadata": {},
   "outputs": [],
   "source": [
    "# Generate rolling max, plot, and display last 12.\n",
    "rmax = rolling.max()\n",
    "rmax.plot()\n",
    "rmax.tail(12)"
   ]
  },
  {
   "cell_type": "code",
   "execution_count": null,
   "metadata": {},
   "outputs": [],
   "source": [
    "# Write rolling 12 month mean to CSV\n",
    "rmean.to_csv('./data/rolling.csv')"
   ]
  },
  {
   "cell_type": "markdown",
   "metadata": {},
   "source": [
    "---\n",
    "\n",
    "# Next Up: [Series Part 2 Solutions](5_series_part_2_solutions.ipynb)\n",
    "\n",
    "<br>\n",
    "\n",
    "<h1 align=\"left\"> $W=-\\Delta PE$ </h1>\n",
    "\n",
    "<br>\n",
    "\n",
    "---"
   ]
  }
 ],
 "metadata": {
  "anaconda-cloud": {},
  "kernelspec": {
   "display_name": "Python 3",
   "language": "python",
   "name": "python3"
  },
  "language_info": {
   "codemirror_mode": {
    "name": "ipython",
    "version": 3
   },
   "file_extension": ".py",
   "mimetype": "text/x-python",
   "name": "python",
   "nbconvert_exporter": "python",
   "pygments_lexer": "ipython3",
   "version": "3.6.7"
  }
 },
 "nbformat": 4,
 "nbformat_minor": 1
}
