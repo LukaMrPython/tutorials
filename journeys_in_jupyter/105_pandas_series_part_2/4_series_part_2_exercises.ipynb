{
 "cells": [
  {
   "cell_type": "markdown",
   "metadata": {
    "collapsed": true
   },
   "source": [
    "<a href=\"https://github.com/theonaunheim\">\n",
    "    <img style=\"border-radius: 100%; float: right;\" src=\"static/strawberry_thief_square.png\" width=10% alt=\"Theo Naunheim's Github\">\n",
    "</a>\n",
    "\n",
    "<br style=\"clear: both\">\n",
    "<hr>\n",
    "<br>\n",
    "\n",
    "<h1 align='center'>Series Part 2 Exercises</h1>\n",
    "\n",
    "<br>\n",
    "\n",
    "<div style=\"display: table; width: 100%\">\n",
    "    <div style=\"display: table-row; width: 100%;\">\n",
    "        <div style=\"display: table-cell; width: 50%; vertical-align: middle;\">\n",
    "            <h1 align=\"center\"> $W=-\\Delta PE$ </h1>\n",
    "        </div>\n",
    "        <div style=\"display: table-cell; width: 10%\">\n",
    "        </div>\n",
    "        <div style=\"display: table-cell; width: 40%; vertical-align: top;\">\n",
    "            <blockquote>\n",
    "                <p style=\"font-style: italic;\">\"Diligence is the mother of good fortune.\"</p>\n",
    "                <br>\n",
    "                <p>-Miguel de Cervantes</p>\n",
    "            </blockquote>\n",
    "        </div>\n",
    "    </div>\n",
    "</div>\n",
    "\n",
    "<br>\n",
    "\n",
    "<hr>"
   ]
  },
  {
   "cell_type": "markdown",
   "metadata": {},
   "source": [
    "# Problem 1\n",
    "\n",
    "* Import numpy and pandas as `np` and `pd`.\n",
    "\n",
    "\n",
    "* Create a series from the './data/height_in_feet.csv' file using `pd.read_csv()`, and assign it to variable `height`.\n",
    "\n",
    "\n",
    "* Display the first 10 items of `height` using `head()`.\n",
    "\n",
    "\n",
    "* In a new cell, round each height to the nearest foot using the `round()` method and store the result to a variable called `rounded`.\n",
    "\n",
    "\n",
    "* Display the first 10 items of `rounded` using `head()`."
   ]
  },
  {
   "cell_type": "markdown",
   "metadata": {},
   "source": [
    "---\n",
    "\n",
    "### Double click for hints.\n",
    "\n",
    "---\n",
    "\n",
    "<div hidden=true>\n",
    "\n",
    "**Hint**: Again, you will have to use `header=None` and `squeeze=True` to coerce your CSV to a Series.\n",
    "\n",
    "**Hint**: `head()` defaults to 5, so you will need to supply a value of 10 as an argument.\n",
    "    \n",
    "</div>"
   ]
  },
  {
   "cell_type": "code",
   "execution_count": null,
   "metadata": {},
   "outputs": [],
   "source": []
  },
  {
   "cell_type": "code",
   "execution_count": null,
   "metadata": {},
   "outputs": [],
   "source": []
  },
  {
   "cell_type": "markdown",
   "metadata": {},
   "source": [
    "# Problem 2\n",
    "\n",
    "\n",
    "* Get the count of each value in  in `rounded`, save it to a variable called `counts`, and display it.\n",
    "\n",
    "\n",
    "* In the next cell, sort `counts` from tallest to shortest and store the result in a variable called `sorted_counts`.\n",
    "\n",
    "\n",
    "* Print the number of people that are approximately 5 feet tall.\n",
    "\n",
    "\n",
    "* Display `sorted_counts`."
   ]
  },
  {
   "cell_type": "markdown",
   "metadata": {},
   "source": [
    "---\n",
    "\n",
    "### Double click for hints.\n",
    "\n",
    "---\n",
    "\n",
    "<div hidden=true>\n",
    "\n",
    "**Hint**: Use `value_counts()` to get the count of values.\n",
    "\n",
    "**Hint**: when using `loc[]` to get the number of people that are 5 feet tall, you can use `5`, but it would be better to use `5.0` as that's what's in the index.\n",
    "\n",
    "**Hint**: Use `sort_index()` as opposed to `sort_values()` to sort by index values. You will need to pass an `ascending=False` argument to avoid the default.\n",
    "\n",
    "</div>"
   ]
  },
  {
   "cell_type": "code",
   "execution_count": null,
   "metadata": {},
   "outputs": [],
   "source": []
  },
  {
   "cell_type": "code",
   "execution_count": null,
   "metadata": {},
   "outputs": [],
   "source": []
  },
  {
   "cell_type": "markdown",
   "metadata": {},
   "source": [
    "# Problem 3\n",
    "\n",
    "A Pandas koan ...\n",
    "\n",
    "The [canonical solution](https://stackoverflow.com/questions/23451244/how-to-zscore-normalize-pandas-column-with-nans) for getting Z scores in Pandas looks something like this:\n",
    "\n",
    "    number_series = pd.Series([0, 1, 2, 3, 4, 5, 4, 3, 2, 1])\n",
    "    z_scores    = (number_series - number_series.mean()) / number_series.std()\n",
    "\n",
    "<br>\n",
    "\n",
    "* How does `(number_series - number_series.mean()) / number_series.std()` work?\n",
    "\n",
    "<br>\n",
    "\n",
    "\n",
    "**Hint**: a [Z-score](https://en.wikipedia.org/wiki/Standard_score) is essentially the number of standard deviations from the mean.\n",
    "\n",
    "The Z-score for each observation is calculated as:\n",
    "\n",
    "## $z={(x-\\mu) \\over \\sigma }$\n",
    "\n",
    "where: \n",
    "\n",
    "* **x** is the observation\n",
    "\n",
    "* **$\\mu$** is the mean of the population.\n",
    "\n",
    "* **$\\sigma$** is the standard deviation of the population."
   ]
  },
  {
   "cell_type": "markdown",
   "metadata": {},
   "source": [
    "---\n",
    "\n",
    "### Double click for hints.\n",
    "\n",
    "---\n",
    "\n",
    "<div hidden=true>\n",
    "\n",
    "**Hint**: it has to do with the difference in behavior between vectors and scalars.\n",
    "\n",
    "**Hint**: `(raw_numbers - raw_numbers.mean()) / raw_numbers.std()` two of these are scalars and one is a Series. Try breaking it into more steps/intermediates if unclear.\n",
    "    \n",
    "</div>"
   ]
  },
  {
   "cell_type": "code",
   "execution_count": null,
   "metadata": {},
   "outputs": [],
   "source": []
  },
  {
   "cell_type": "code",
   "execution_count": null,
   "metadata": {},
   "outputs": [],
   "source": []
  },
  {
   "cell_type": "code",
   "execution_count": null,
   "metadata": {},
   "outputs": [],
   "source": []
  },
  {
   "cell_type": "code",
   "execution_count": null,
   "metadata": {},
   "outputs": [],
   "source": []
  },
  {
   "cell_type": "code",
   "execution_count": null,
   "metadata": {},
   "outputs": [],
   "source": []
  },
  {
   "cell_type": "code",
   "execution_count": null,
   "metadata": {},
   "outputs": [],
   "source": []
  },
  {
   "cell_type": "markdown",
   "metadata": {},
   "source": [
    "# Problem 4\n",
    "\n",
    "\n",
    "* Load '.data/lob_characters.csv' using `squeeze=True` into a variable called `lob`. Display the first 5 items.\n",
    "\n",
    "\n",
    "* In a new cell, determine whether each character in the Series is in the list `['Gaoler', 'Jimbo', 'Judith Escariot']` and save the resulting boolean Series into `character_bix`. Display the first 5 items.\n",
    "\n",
    "\n",
    "* In a new cell, use lob's `loc[]` attribute to get all the entries that are True in `character_bix`.\n",
    "\n",
    "\n",
    "* In a new cell, check whether each item in `lob` is NA/null. Assign the result to `null_bix` and display the first 5 items.\n",
    "\n",
    "\n",
    "* In a new cell, check whether each item in `lob` is equal to `np.NaN` using the equality operator (`==`). Save the result to `useless_bix` and display the first 5 items. Is this different than `null_bix`? Why?\n",
    "\n",
    "\n",
    "* In a new cell, replace all `np.NaN` values with the string 'Unknown' and save the resulting Series to `filled`. Display the first 5 items.\n",
    "\n",
    "\n",
    "* In a new cell, drop all NA values and assign the result to `dropped_na`. Then drop the duplicates from `dropped_na` and assign the resulting Series to `dropped_na_and_dupes`. Display the final Series.\n",
    "\n",
    "\n",
    "* In a new cell, save `dropped_na_and_dupes` to an Excel file with no index."
   ]
  },
  {
   "cell_type": "markdown",
   "metadata": {},
   "source": [
    "---\n",
    "\n",
    "### Double click for hints.\n",
    "\n",
    "---\n",
    "\n",
    "<div hidden=true>\n",
    "\n",
    "**Hint**: Use the `isin()` method to determine if each element of a Series falls within a particular list or Series. Your list or Series will be the first (and usually only) argument.\n",
    "\n",
    "**Hint**: Use `isnull()` to find which items of a Series are null.\n",
    "\n",
    "**Hint**: Use `fillna()` to fill NA values with a new value (your new value will be the argument to `fillna()`.\n",
    "\n",
    "**Hint**: Use `dropna()` to drop NaN values.\n",
    "\n",
    "**Hint**: Use `drop_duplicates()` to drop duplicate values.\n",
    "\n",
    "**Hint**: Use `to_excel()` to save to an Excel file (remember to use a '.xlsx' suffix on your filename).\n",
    "                                                             \n",
    "</div>"
   ]
  },
  {
   "cell_type": "code",
   "execution_count": null,
   "metadata": {},
   "outputs": [],
   "source": []
  },
  {
   "cell_type": "code",
   "execution_count": null,
   "metadata": {},
   "outputs": [],
   "source": []
  },
  {
   "cell_type": "code",
   "execution_count": null,
   "metadata": {},
   "outputs": [],
   "source": []
  },
  {
   "cell_type": "code",
   "execution_count": null,
   "metadata": {},
   "outputs": [],
   "source": []
  },
  {
   "cell_type": "code",
   "execution_count": null,
   "metadata": {},
   "outputs": [],
   "source": []
  },
  {
   "cell_type": "code",
   "execution_count": null,
   "metadata": {},
   "outputs": [],
   "source": []
  },
  {
   "cell_type": "code",
   "execution_count": null,
   "metadata": {},
   "outputs": [],
   "source": []
  },
  {
   "cell_type": "code",
   "execution_count": null,
   "metadata": {},
   "outputs": [],
   "source": []
  },
  {
   "cell_type": "markdown",
   "metadata": {},
   "source": [
    "# Problem 5\n",
    "\n",
    "* Load './data/mixed_bag.csv' using the `squeeze` keyword and assign the result to `mixed`. Display the Series.\n",
    "\n",
    "\n",
    "* In a new cell, show `mixed`'s datatype.\n",
    "\n",
    "\n",
    "* In a new cell, convert `mixed` to numeric values in a fault tolerant manner. Write the result to `mixed_numeric`. Display.\n",
    "\n",
    "\n",
    "* In a new cell, convert `mixed` to datetime values in a fault tolerant manner. Write the results to `mixed_datetime`. Display.\n",
    "\n",
    "\n",
    "* In a new cell, convert `mixed_numeric` to a string and save the result to `mixed_string`. Display."
   ]
  },
  {
   "cell_type": "markdown",
   "metadata": {},
   "source": [
    "---\n",
    "\n",
    "### Double click for hints.\n",
    "\n",
    "---\n",
    "\n",
    "<div hidden=true>\n",
    "\n",
    "**Hint**: the `dtype` attribute will give you the original datatype.\n",
    "\n",
    "**Hint**: the best way to convert to numerics in a fault tolerant manner is `pd.to_numeric()` with an `errors='coerce'` argument.\n",
    "\n",
    "**Hint**: the best way to convert to datetimes in a fault tolerant manner is `pd.to_datetime()` with an `errors='coerce'` argument.\n",
    "\n",
    "**Hint**: string conversion can be accomplished relatively easily using `astype(str)`.\n",
    "    \n",
    "</div>"
   ]
  },
  {
   "cell_type": "code",
   "execution_count": null,
   "metadata": {},
   "outputs": [],
   "source": []
  },
  {
   "cell_type": "code",
   "execution_count": null,
   "metadata": {},
   "outputs": [],
   "source": []
  },
  {
   "cell_type": "code",
   "execution_count": null,
   "metadata": {},
   "outputs": [],
   "source": []
  },
  {
   "cell_type": "code",
   "execution_count": null,
   "metadata": {},
   "outputs": [],
   "source": []
  },
  {
   "cell_type": "code",
   "execution_count": null,
   "metadata": {},
   "outputs": [],
   "source": []
  },
  {
   "cell_type": "markdown",
   "metadata": {},
   "source": [
    "# Problem 6\n",
    "\n",
    "* Read the data from './data/morse.csv' using 'character' as an index column and the `squeeze` keyword argument and assign the data to `morse`. Display the first 5 items.\n",
    "\n",
    "\n",
    "* In a new cell, reset the index to a simple integer index without converting to a Dataframe and assign the data to `reset_morse`. Display the first 5 items.\n",
    "\n",
    "\n",
    "* In a new cell reindex `reset_morse` using the original index of `morse`. Assign the result to `morse_again` and display the first 5 items.\n",
    "\n",
    "\n",
    "* In a new cell, get a 25% sample of morse and assign it to `sample`. Get the index values of `sample` and assign them to `sample_ix`.\n",
    "\n",
    "\n",
    "* In a new cell, drop the `sample_ix` items from `morse`, and display the first 5 items of the resulting Series."
   ]
  },
  {
   "cell_type": "markdown",
   "metadata": {},
   "source": [
    "---\n",
    "\n",
    "### Double click for hints.\n",
    "\n",
    "---\n",
    "\n",
    "<div hidden=true>\n",
    "\n",
    "**Hint**: use `index_col='character'` to index your Series on the 'character' column.\n",
    "\n",
    "**Hint**: use `reset_index(drop=True)` to reset your Series without converting to a DataFrame.\n",
    "\n",
    "**Hint**: use `reindex()`  on `morse_again` with an argument of `morse.index` to reset the index based on `morse`'s index.\n",
    "\n",
    "**Hint**: use `sample(frac=.25)` to get a 25% sample, and use `sample.index.values` to get the index values of that sample.\n",
    "\n",
    "**Hint**: use `drop()` to drop index items from a Series.\n",
    "\n",
    "</div>"
   ]
  },
  {
   "cell_type": "code",
   "execution_count": null,
   "metadata": {},
   "outputs": [],
   "source": []
  },
  {
   "cell_type": "code",
   "execution_count": null,
   "metadata": {},
   "outputs": [],
   "source": []
  },
  {
   "cell_type": "code",
   "execution_count": null,
   "metadata": {},
   "outputs": [],
   "source": []
  },
  {
   "cell_type": "code",
   "execution_count": null,
   "metadata": {},
   "outputs": [],
   "source": []
  },
  {
   "cell_type": "code",
   "execution_count": null,
   "metadata": {},
   "outputs": [],
   "source": []
  },
  {
   "cell_type": "markdown",
   "metadata": {},
   "source": [
    "# Problem 7\n",
    "\n",
    "\n",
    "* Load the data from './data/morse.csv' using `pd.read_csv()` with 'character' as an index column and `squeeze=True`. Assign the resulting Series to the variable `morse`.\n",
    "\n",
    "\n",
    "* Display the morse object using `loc[]` from index 'A' to index 'B'.\n",
    "\n",
    "\n",
    "* In a new cell, create a list from the string 'The rain in Spain falls mainly on the plain.' with one letter per list element. Store that list in variable `string_list`. Then feed this list into a Series, which you should call `string_series`. Display the first 10 items of this series.\n",
    "\n",
    "\n",
    "* Define a function called `make_uppercase` that takes a single letter, and returns the upper case version of that letter. Then use the `map()` method of your string series to map your `make_uppercase()` function. Store the result to `function_mapped` and display the first 10 items.\n",
    "\n",
    "\n",
    "* Then take your `function_mapped` series and use `map()` again, this time mapping values using a Series. Save the result to `series_mapped` and display the first 10 items."
   ]
  },
  {
   "cell_type": "markdown",
   "metadata": {},
   "source": [
    "---\n",
    "\n",
    "### Double click for hints.\n",
    "\n",
    "---\n",
    "\n",
    "<div hidden=true>\n",
    "\n",
    "**Note**: to specify an index column, use an `index_col` argument (e.g. `index_col='character'`)\n",
    "\n",
    "**Note**: to split a string into a list, simply use the list constructor `list('Your string here')`.\n",
    "\n",
    "**Note**: you are first creating a new Series based on a function mapping. You are then creating a new Series based on a  translation-table-like Series mapping.\n",
    "\n",
    "**Note**: don't worry about the NaNs. Morse code does not have a representation for spaces. Because there's nothing to map, pandas fills these values with NaN.\n",
    "\n",
    "</div>"
   ]
  },
  {
   "cell_type": "code",
   "execution_count": null,
   "metadata": {},
   "outputs": [],
   "source": []
  },
  {
   "cell_type": "code",
   "execution_count": null,
   "metadata": {},
   "outputs": [],
   "source": []
  },
  {
   "cell_type": "code",
   "execution_count": null,
   "metadata": {},
   "outputs": [],
   "source": []
  },
  {
   "cell_type": "code",
   "execution_count": null,
   "metadata": {},
   "outputs": [],
   "source": []
  },
  {
   "cell_type": "markdown",
   "metadata": {},
   "source": [
    "# Problem 8\n",
    "\n",
    "\n",
    "* Load './data/salaries.csv' using `pd.read_csv()` and assign it to a variable called `salaries`. Load './data/professions.csv' and assign it to a cariable called `professions`.\n",
    "\n",
    "\n",
    "* In a new cell, show the first 5 elements of `professions`.\n",
    "\n",
    "\n",
    "* In a new cell, show the first 5 elements of `salaries`. What do you see?\n",
    "\n",
    "\n",
    "* In a new cell, use `groupby()` to group `salaries` by `professions`. Assign the result to a variable called `gb`.\n",
    "\n",
    "\n",
    "* In a new cell, get the median of your groupby object, and sort the values.\n",
    "\n",
    "\n",
    "* In a new cell, get the count of your groupby object and sort the values."
   ]
  },
  {
   "cell_type": "markdown",
   "metadata": {},
   "source": [
    "---\n",
    "\n",
    "### Double click for hints.\n",
    "\n",
    "---\n",
    "\n",
    "<div hidden=true>\n",
    "\n",
    "**Hint**: you'll again have to use the `squeeze=True` argument for both Series.\n",
    "\n",
    "**Hint**: you group one Series by another by using the `groupby()` method and passing the Series used for grouping to that method. For details, see the previous notebook.\n",
    "\n",
    "**Hint**: the median of your groupby object is unsurprisingly obtained by using the `median()` method.\n",
    "\n",
    "**Hint**: the count of your groupby object can be found using `size()`.\n",
    "    \n",
    "</div>"
   ]
  },
  {
   "cell_type": "code",
   "execution_count": null,
   "metadata": {},
   "outputs": [],
   "source": []
  },
  {
   "cell_type": "code",
   "execution_count": null,
   "metadata": {},
   "outputs": [],
   "source": []
  },
  {
   "cell_type": "code",
   "execution_count": null,
   "metadata": {},
   "outputs": [],
   "source": []
  },
  {
   "cell_type": "code",
   "execution_count": null,
   "metadata": {},
   "outputs": [],
   "source": []
  },
  {
   "cell_type": "code",
   "execution_count": null,
   "metadata": {},
   "outputs": [],
   "source": []
  },
  {
   "cell_type": "code",
   "execution_count": null,
   "metadata": {},
   "outputs": [],
   "source": []
  },
  {
   "cell_type": "markdown",
   "metadata": {},
   "source": [
    "# Problem 9\n",
    "\n",
    "\n",
    "* Import matplotlib then import matplotlib.pyplot as `plt`.\n",
    "\n",
    "\n",
    "* Set up Matplotlib to plot inline intead of in a separate window.\n",
    "\n",
    "\n",
    "* Tell matplotlib to use 'fivethirtyeight' styling.\n",
    "\n",
    "\n",
    "* In a new cell, plot a histogram of `height`. Use a `bins=25` argument.\n",
    "\n",
    "\n",
    "* In a new cell, create a horizontal bar graph of `counts`. Pass a `title='Primitive Bar Chart'` and a `figsize=(10,10)` argument.\n",
    "\n",
    "\n",
    "* In a new cell, Create a pie chart of `counts` with a `colors=['teal', 'gray', 'white']` argument. Save a .png of the graph to './data/pie_chart.png'."
   ]
  },
  {
   "cell_type": "markdown",
   "metadata": {},
   "source": [
    "---\n",
    "\n",
    "### Double click for hints.\n",
    "\n",
    "---\n",
    "\n",
    "<div hidden=true>\n",
    "\n",
    "**Hint**: `%matplotlib inline` is the cell magic used to show a graph in the notebook.\n",
    "\n",
    "**Hint**: `matplotlib.style.use('fivethirtyeight')` will set up fivethirtyeight styling.\n",
    "\n",
    "**Hint**: horizontal graphs can be generated with `plot.barh()`. Pie charts can be done via `plot.pie()`. Histograms can be created with `plot.hist()`\n",
    "\n",
    "**Hint**: you can output your most recent figure using `plt.savefig()`.\n",
    "\n",
    "**Hint**: you will want to plot each plot in a separate cell so you don't overwrite your previous graphs.\n",
    "    \n",
    "</div>"
   ]
  },
  {
   "cell_type": "code",
   "execution_count": null,
   "metadata": {},
   "outputs": [],
   "source": []
  },
  {
   "cell_type": "code",
   "execution_count": null,
   "metadata": {},
   "outputs": [],
   "source": []
  },
  {
   "cell_type": "code",
   "execution_count": null,
   "metadata": {},
   "outputs": [],
   "source": []
  },
  {
   "cell_type": "code",
   "execution_count": null,
   "metadata": {},
   "outputs": [],
   "source": []
  },
  {
   "cell_type": "markdown",
   "metadata": {},
   "source": [
    "# Problem 10\n",
    "\n",
    "\n",
    "* Load the data from './data/unemployment.csv' using `squeeze=True` and `index_col='month'` arguments. Assign the data to a `unemployment`. Display the first 10 items of `unemployment`.\n",
    "\n",
    "\n",
    "* In a new cell, create a rolling object with a window of 12 observations and assign it to the name `rolling`.\n",
    "\n",
    "\n",
    "* In a new cell, get the rolling mean of your `rolling` object and assign it to `rmean`. Plot `rmean` using the default line chart and then display the last 12 items of the `rmean` series.\n",
    "\n",
    "\n",
    "* In a new cell, get the rolling max of your `rolling` object and assign it to `rmax`. Plot `rmax` using the default line chart and then display the last 12 items of the `rmax` series.\n",
    "\n",
    "\n",
    "* Take the `rmean` series and write it to './data/rolling.csv'."
   ]
  },
  {
   "cell_type": "markdown",
   "metadata": {},
   "source": [
    "---\n",
    "\n",
    "### Double click for hints.\n",
    "\n",
    "---\n",
    "\n",
    "<div hidden=true>\n",
    "\n",
    "**Hint**: `index_col` allows you to specify which column will be used as an index for your Series/DataFrame.\n",
    "\n",
    "**Hint**: `rolling()` takes the number of observations used for the window as it's first argument. E.G. if you have a Series indexed on month, and you want the rolling observation for the previous 18 months, you would do `rolling = old_series.rolling(18)`. \n",
    "\n",
    "**Hint**: a method from a rolling object will give you a new Series.\n",
    "\n",
    "**Hint**: `plot()` defaults to a basic line chart, so you can just plot without any arguments.\n",
    "\n",
    "**Hint**: even if you `plot()`, you can still display the last item of the cell.\n",
    "    \n",
    "</div>"
   ]
  },
  {
   "cell_type": "code",
   "execution_count": null,
   "metadata": {},
   "outputs": [],
   "source": []
  },
  {
   "cell_type": "code",
   "execution_count": null,
   "metadata": {},
   "outputs": [],
   "source": []
  },
  {
   "cell_type": "code",
   "execution_count": null,
   "metadata": {},
   "outputs": [],
   "source": []
  },
  {
   "cell_type": "code",
   "execution_count": null,
   "metadata": {},
   "outputs": [],
   "source": []
  },
  {
   "cell_type": "code",
   "execution_count": null,
   "metadata": {},
   "outputs": [],
   "source": []
  },
  {
   "cell_type": "markdown",
   "metadata": {},
   "source": [
    "---\n",
    "\n",
    "# Next Up: [Series Part 2 Solutions](5_series_part_2_solutions.ipynb)\n",
    "\n",
    "<br>\n",
    "\n",
    "<h1 align=\"left\"> $W=-\\Delta PE$ </h1>\n",
    "\n",
    "<br>\n",
    "\n",
    "---"
   ]
  }
 ],
 "metadata": {
  "anaconda-cloud": {},
  "kernelspec": {
   "display_name": "Python 3",
   "language": "python",
   "name": "python3"
  },
  "language_info": {
   "codemirror_mode": {
    "name": "ipython",
    "version": 3
   },
   "file_extension": ".py",
   "mimetype": "text/x-python",
   "name": "python",
   "nbconvert_exporter": "python",
   "pygments_lexer": "ipython3",
   "version": "3.6.7"
  }
 },
 "nbformat": 4,
 "nbformat_minor": 1
}
