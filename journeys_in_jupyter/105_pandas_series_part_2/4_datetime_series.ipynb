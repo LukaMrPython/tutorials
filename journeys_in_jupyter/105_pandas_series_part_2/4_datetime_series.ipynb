{
 "cells": [
  {
   "cell_type": "markdown",
   "metadata": {
    "collapsed": true
   },
   "source": [
    "<a href=\"https://github.com/theonaunheim\">\n",
    "    <img style=\"border-radius: 100%; float: right;\" src=\"static/strawberry_thief_square.png\" width=10% alt=\"Theo Naunheim's Github\">\n",
    "</a>\n",
    "\n",
    "<br style=\"clear: both\">\n",
    "<hr>\n",
    "<br>\n",
    "\n",
    "<h1 align='center'>Datetime Series</h1>\n",
    "\n",
    "<br>\n",
    "\n",
    "<div style=\"display: table; width: 100%\">\n",
    "    <div style=\"display: table-row; width: 100%;\">\n",
    "        <div style=\"display: table-cell; width: 50%; vertical-align: middle;\">\n",
    "        <img src=\"static/chengdu.jpg\">\n",
    "        </div>\n",
    "        <div style=\"display: table-cell; width: 10%\">\n",
    "        </div>\n",
    "        <div style=\"display: table-cell; width: 40%; vertical-align: top;\">\n",
    "            <blockquote>\n",
    "                <p style=\"font-style: italic;\">\"Tempus edax rerum.\"</p>\n",
    "                <br>\n",
    "    <p>-<a href=\"https://en.wikipedia.org/wiki/List_of_sundial_mottos\">Sundial Motto</a></p>\n",
    "            </blockquote>\n",
    "        </div>\n",
    "    </div>\n",
    "</div>\n",
    "\n",
    "\n",
    "<br>\n",
    "\n",
    "\n",
    "\n",
    "\n",
    "\n",
    "\n",
    "<br>\n",
    "\n",
    "<div align='left'>\n",
    "    Image courtesy of <a href='https://commons.wikimedia.org/wiki/File:Chengdu-pandas-d10.jpg'>Colegota</a> under the <a href='https://creativecommons.org/licenses/by-sa/2.5/es/deed.en'>Creative Commons Attribution-Share Alike 2.5 Spain</a>\n",
    "</div>\n",
    "\n",
    "\n",
    "<hr>"
   ]
  },
  {
   "cell_type": "code",
   "execution_count": 1,
   "metadata": {},
   "outputs": [],
   "source": [
    "# Import stuff so we can use libraries.\n",
    "import numpy as np\n",
    "import pandas as pd"
   ]
  },
  {
   "cell_type": "markdown",
   "metadata": {},
   "source": [
    "# Generally\n",
    "\n",
    "As previously mentioned in our earlier sessions, each pandas Series has a particular datatype (even if it's just a generic Python datatype). Because of the importance that time series analysis plays in data analysis as a whole, pandas has specific datetime column types for dealing with time data. These types are the:\n",
    "\n",
    "* **Datetime** series;\n",
    "* **Period** series; and,\n",
    "* **Timedelta** series.\n",
    "\n",
    "Each of these numpy-derived types has a `.dt` namespace (a.k.a. \"datetime properties object\") with attributes/methods and also perform specialized datetime behaviors.\n",
    "\n",
    "**Note**: Python also has the concept of datetimes in its standard library. For the purpose of this presentation we will refer to pandas and numpy datetimes as \"datetimes\". We will refer to Python standard library datetimes as \"Python datetimes\"."
   ]
  },
  {
   "cell_type": "markdown",
   "metadata": {},
   "source": [
    "## The Datetime Series\n",
    "\n",
    "### Generally\n",
    "\n",
    "A datetime is a data structure that pinpoints a moment in time, generally down to the nanosecond. An example of a datetime would be November 11, 1918 at one nanosecond past 11AM (i.e. 1918-11-11T11:00:00.000001). Time object in a datetime series is known as a [`pd.Timestamp`](https://pandas.pydata.org/pandas-docs/stable/generated/pandas.Timestamp.html) object, and these objects in a Series are a datetime Series.\n",
    "\n",
    "The most common ways to generate these datetime series are:\n",
    "\n",
    "* [`pd.read_csv()`](http://pandas.pydata.org/pandas-docs/stable/generated/pandas.read_csv.html) \n",
    "\n",
    "* [`pd.to_datetime()`](https://pandas.pydata.org/pandas-docs/stable/generated/pandas.to_datetime.html) is your workhorse for generating datetimes series from string series.\n",
    "\n",
    "* [`pd.date_range()`](https://pandas.pydata.org/pandas-docs/stable/generated/pandas.date_range.html) can be used manually generate ranges of datetimes as DatetimeIndexes with whatever arbitrary frequency you desire."
   ]
  },
  {
   "cell_type": "code",
   "execution_count": 56,
   "metadata": {},
   "outputs": [
    {
     "data": {
      "text/plain": [
       "0   2020-01-01\n",
       "1   2020-01-02\n",
       "2   2020-01-03\n",
       "3   2020-01-06\n",
       "4   2020-01-07\n",
       "dtype: datetime64[ns]"
      ]
     },
     "execution_count": 56,
     "metadata": {},
     "output_type": "execute_result"
    }
   ],
   "source": [
    "# Let's create a range of datetimes for business day of 2020.\n",
    "# Always use ISO format (e.g. 2018-01-31): https://xkcd.com/1179/\n",
    "daily_2020 = pd.date_range(start='2020-01-01', end='2020-12-31', freq='B')\n",
    "\n",
    "# Create our series\n",
    "series_2020 = pd.Series(daily_2020)\n",
    "\n",
    "# Create series and get first 5.\n",
    "series_2020.head(5)"
   ]
  },
  {
   "cell_type": "code",
   "execution_count": 57,
   "metadata": {},
   "outputs": [
    {
     "data": {
      "text/plain": [
       "Timestamp('2020-01-01 00:00:00')"
      ]
     },
     "execution_count": 57,
     "metadata": {},
     "output_type": "execute_result"
    }
   ],
   "source": [
    "# So if the Series is a datetime series, what are the individual values? Timestamps.\n",
    "series_2020.iloc[0]"
   ]
  },
  {
   "cell_type": "code",
   "execution_count": 58,
   "metadata": {},
   "outputs": [
    {
     "data": {
      "text/plain": [
       "<pandas.core.indexes.accessors.DatetimeProperties object at 0x0000021FCF754080>"
      ]
     },
     "execution_count": 58,
     "metadata": {},
     "output_type": "execute_result"
    }
   ],
   "source": [
    "# And let's take a peek at the datetime properties object\n",
    "series_2020.dt"
   ]
  },
  {
   "cell_type": "code",
   "execution_count": 59,
   "metadata": {},
   "outputs": [
    {
     "data": {
      "text/plain": [
       "Timestamp('2020-01-02 03:19:05', freq='S')"
      ]
     },
     "execution_count": 59,
     "metadata": {},
     "output_type": "execute_result"
    }
   ],
   "source": [
    "# Which you can build on your own if you so choose.\n",
    "ts = pd.Timestamp('2020-01-02 03:04:05')\n",
    "\n",
    "# If you specify frequency, you can add or subtract scalars (e.g. 900 seconds later).\n",
    "pd.Timestamp('2020-01-02 03:04:05', freq='s') + 900"
   ]
  },
  {
   "cell_type": "code",
   "execution_count": 60,
   "metadata": {},
   "outputs": [
    {
     "data": {
      "text/plain": [
       "0   2020-01-01 00:00:00\n",
       "1                   NaT\n",
       "2   2020-01-01 02:00:00\n",
       "3   2020-01-01 03:00:00\n",
       "4   2020-01-01 04:00:00\n",
       "Name: dts, dtype: datetime64[ns]"
      ]
     },
     "execution_count": 60,
     "metadata": {},
     "output_type": "execute_result"
    }
   ],
   "source": [
    "# You can also read from a CSV if you specify what you want to parse.\n",
    "# Note: again, read_csv isn't used to create Series, generally, so it's messy.\n",
    "dts = pd.read_csv(\n",
    "    'data/datetimes.csv', \n",
    "    squeeze=True, \n",
    "    parse_dates=[0], \n",
    "    skip_blank_lines=False\n",
    ")\n",
    "\n",
    "# Display \n",
    "dts.head(5)"
   ]
  },
  {
   "cell_type": "code",
   "execution_count": 61,
   "metadata": {},
   "outputs": [
    {
     "data": {
      "text/plain": [
       "0   2018-01-01 23:00:10.222222\n",
       "1   2019-05-01 23:00:10.555555\n",
       "2                          NaT\n",
       "dtype: datetime64[ns]"
      ]
     },
     "execution_count": 61,
     "metadata": {},
     "output_type": "execute_result"
    }
   ],
   "source": [
    "# The most flexible way to do this is pd.to_datetime(), which allows for strptime'ing.\n",
    "# And error handling!\n",
    "ts = pd.Series(['2018-01-01T23:00:10.222222', '2019-05-01T23:00:10.555555', ''])\n",
    "pd.to_datetime(ts)"
   ]
  },
  {
   "cell_type": "code",
   "execution_count": 62,
   "metadata": {},
   "outputs": [
    {
     "data": {
      "text/plain": [
       "0   2018-01-01\n",
       "1   2019-05-01\n",
       "2          NaT\n",
       "dtype: datetime64[ns]"
      ]
     },
     "execution_count": 62,
     "metadata": {},
     "output_type": "execute_result"
    }
   ],
   "source": [
    "# Notice that [ns] at the end of the datatype?\n",
    "# That's the resolution (how precise it is)\n",
    "# Though not generally adviseable, you can convert\n",
    "ts.astype('datetime64[D]')"
   ]
  },
  {
   "cell_type": "markdown",
   "metadata": {},
   "source": [
    "### So what's this 'NaT' I see?\n",
    "\n",
    "Numpy (and by extension pandas) uses `NaT` to indicate a missing time value. `np.NaN` works with floats and Python objects ... it does not work with datetimes. Generally you can treat these interchangably with `np.NaN` when you're using the `Series.dropna()` or `Series.fillna()` methods, however if you need to manually set something you will have to use `pd.NaT` (not np.NaT)."
   ]
  },
  {
   "cell_type": "markdown",
   "metadata": {},
   "source": [
    "### So how do we work with these datetimes?\n",
    "\n",
    "The first and most useful thing you can do with datetimes use + and - operators to change the series as a whole."
   ]
  },
  {
   "cell_type": "code",
   "execution_count": 63,
   "metadata": {},
   "outputs": [
    {
     "data": {
      "text/plain": [
       "257   359 days\n",
       "258   362 days\n",
       "259   363 days\n",
       "260   364 days\n",
       "261   365 days\n",
       "dtype: timedelta64[ns]"
      ]
     },
     "execution_count": 63,
     "metadata": {},
     "output_type": "execute_result"
    }
   ],
   "source": [
    "# Subtract the year start (scalar) from your 2020 series to get hours from start of year.\n",
    "# This gives us a Timedelta (which we will explore later)\n",
    "hours_from_year_start = series_2020 - pd.Timestamp('2020-01-01')\n",
    "hours_from_year_start.tail()"
   ]
  },
  {
   "cell_type": "code",
   "execution_count": 64,
   "metadata": {},
   "outputs": [
    {
     "data": {
      "text/plain": [
       "0    302 days 10:00:00\n",
       "1   3380 days 00:00:00\n",
       "2      0 days 00:59:55\n",
       "dtype: timedelta64[ns]"
      ]
     },
     "execution_count": 64,
     "metadata": {},
     "output_type": "execute_result"
    }
   ],
   "source": [
    "# Subtract one series from another (the part of the dtype in brackets is the resolution)\n",
    "start_series    = pd.Series(['2018-01-01T12:00:00', '2019-10-05', '2020-10-09T21:00:05'], dtype='datetime64[ns]')\n",
    "end_series      = pd.Series(['2018-10-30T22:00:00', '2029-01-05', '2020-10-09T22:00:00'], dtype='datetime64[ns]')\n",
    "duration_series = end_series - start_series\n",
    "\n",
    "# Display duration\n",
    "duration_series"
   ]
  },
  {
   "cell_type": "markdown",
   "metadata": {},
   "source": [
    "### Detour: so what of this `.dt` namespace?\n",
    "\n",
    "All Datetime and Timedelta Series have a `.dt` namespace that has a variety of attributes and methods you can use. The below is a brief description of what attributes and methods are available."
   ]
  },
  {
   "cell_type": "markdown",
   "metadata": {},
   "source": [
    "#### Python Datetime Component Attributes\n",
    "\n",
    "If you just want the standard library date and time components, you can access them via the following attributes:\n",
    "\n",
    "* [`dt.date`](https://pandas.pydata.org/pandas-docs/stable/generated/pandas.Series.dt.date.html): returns the \"date\" portion of the datetime via Python standard library datetime.date objects.\n",
    "* [`dt.time`](https://pandas.pydata.org/pandas-docs/stable/generated/pandas.Series.dt.time.html): returns the \"time\" portion of the datetime via Python standard library datetime.time objects."
   ]
  },
  {
   "cell_type": "code",
   "execution_count": 65,
   "metadata": {},
   "outputs": [
    {
     "name": "stdout",
     "output_type": "stream",
     "text": [
      "<class 'datetime.date'>\n"
     ]
    },
    {
     "data": {
      "text/plain": [
       "0    2018-01-01\n",
       "1    2019-10-05\n",
       "2    2020-10-09\n",
       "dtype: object"
      ]
     },
     "execution_count": 65,
     "metadata": {},
     "output_type": "execute_result"
    }
   ],
   "source": [
    "# Print the type of the first item from the date attribute series\n",
    "print(type(start_series.dt.date.iloc[0]))\n",
    "\n",
    "# Display entire series\n",
    "start_series.dt.date"
   ]
  },
  {
   "cell_type": "code",
   "execution_count": 66,
   "metadata": {},
   "outputs": [
    {
     "name": "stdout",
     "output_type": "stream",
     "text": [
      "<class 'datetime.time'>\n"
     ]
    },
    {
     "data": {
      "text/plain": [
       "0    12:00:00\n",
       "1    00:00:00\n",
       "2    21:00:05\n",
       "dtype: object"
      ]
     },
     "execution_count": 66,
     "metadata": {},
     "output_type": "execute_result"
    }
   ],
   "source": [
    "# Print the type of the first item from the time attribute series\n",
    "print(type(start_series.dt.time.iloc[0]))\n",
    "\n",
    "# Display entire series\n",
    "start_series.dt.time"
   ]
  },
  {
   "cell_type": "markdown",
   "metadata": {},
   "source": [
    "#### Numeric Components of datetime\n",
    "\n",
    "It is also possible to get the numeric portions of the datetime. For example, for 2018-01-01T12:00:00.000005, I could get 2018 for the year, 1 for the month and 5 for the nanoseconds\n",
    "\n",
    "* `dt.year`\n",
    "* `dt.month`\n",
    "* `dt.day`\n",
    "* `dt.hour`\n",
    "* `dt.minute`\n",
    "* `dt.second`\n",
    "* `dt.microsecond`\n",
    "* `dt.nanosecond`"
   ]
  },
  {
   "cell_type": "code",
   "execution_count": 67,
   "metadata": {},
   "outputs": [
    {
     "data": {
      "text/plain": [
       "0    12\n",
       "1     0\n",
       "2    21\n",
       "dtype: int64"
      ]
     },
     "execution_count": 67,
     "metadata": {},
     "output_type": "execute_result"
    }
   ],
   "source": [
    "# Here we get the hours (we'll skip the others as they are used pretty much the same)\n",
    "start_series.dt.hour"
   ]
  },
  {
   "cell_type": "markdown",
   "metadata": {},
   "source": [
    "#### Descriptive Attributes of Datetime\n",
    "\n",
    "There are also attributes that aren't a numeric part of the datetime itself, but are derived from datetimes.\n",
    "\n",
    "* `dt.quarter`: the quarter in which this datetime falls\n",
    "* `dt.week`: which week of the year (1-52) this datetime falls within\n",
    "* `dt.weekday_name`: the day of the week (e.g. 'Monday', 'Tuesday', etc.)\n",
    "* `dt.dayofweek`: a number for the weekday (0 is Sunday, 1 is Monday, etc)\n",
    "* `dt.dayofyear`: the day between 1 and 365 of the year it is\n",
    "* `dt.days_in_month`: the number of days in the month (e.g. 29 for February leap year)\n",
    "* `dt.daysinmonth`: an alias for days_in_month\n",
    "* `dt.weekday`: an alias for day_of_week\n",
    "* `dt.weekofyear`: an alias for week\n",
    "* `dt.freq`: the frequency of your data (days, months, seconds, etc.)\n",
    "\n",
    "See also the following methods:\n",
    "\n",
    "* `dt.day_name()`: the name of the day\n",
    "* `dt.month_name()`: the name of the month"
   ]
  },
  {
   "cell_type": "code",
   "execution_count": 68,
   "metadata": {},
   "outputs": [
    {
     "data": {
      "text/plain": [
       "0      Monday\n",
       "1    Saturday\n",
       "2      Friday\n",
       "dtype: object"
      ]
     },
     "execution_count": 68,
     "metadata": {},
     "output_type": "execute_result"
    }
   ],
   "source": [
    "# This is weekday name (we'll skip the others).\n",
    "start_series.dt.weekday_name"
   ]
  },
  {
   "cell_type": "markdown",
   "metadata": {},
   "source": [
    "#### Check attributes\n",
    "\n",
    "These attributes give you a True/False value for whether a datetime passes a particular check.\n",
    "\n",
    "* `dt.is_leap_year`\n",
    "* `dt.is_month_end`\n",
    "* `dt.is_month_start`\n",
    "* `dt.is_quarter_end`\n",
    "* `dt.is_quarter_start`\n",
    "* `dt.is_year_end`\n",
    "* `dt.is_year_start`"
   ]
  },
  {
   "cell_type": "code",
   "execution_count": 69,
   "metadata": {},
   "outputs": [
    {
     "data": {
      "text/plain": [
       "0     True\n",
       "1    False\n",
       "2    False\n",
       "dtype: bool"
      ]
     },
     "execution_count": 69,
     "metadata": {},
     "output_type": "execute_result"
    }
   ],
   "source": [
    "# Check if each day is the start of the year.\n",
    "start_series.dt.is_year_start"
   ]
  },
  {
   "cell_type": "markdown",
   "metadata": {},
   "source": [
    "#### Rounding Functions\n",
    "\n",
    "These functions will round datetimes to a value:\n",
    "\n",
    "* [`dt.ceil()`](https://pandas.pydata.org/pandas-docs/stable/generated/pandas.Series.dt.ceil.html#pandas.Series.dt.ceil): round up to a particular frequency\n",
    "* [`dt.floor()`](https://pandas.pydata.org/pandas-docs/stable/generated/pandas.Series.dt.floor.html#pandas.Series.dt.floor): round down to a particular frequency\n",
    "* [`dt.round()`](https://pandas.pydata.org/pandas-docs/stable/generated/pandas.Series.dt.round.html): round to the closest value of a particular frequency\n",
    "* [`dt.normalize()`](https://pandas.pydata.org/pandas-docs/stable/generated/pandas.Series.dt.normalize.html): round to midnight\n",
    "\n",
    "**Note**: See [offset aliases](http://pandas.pydata.org/pandas-docs/stable/timeseries.html#timeseries-offset-aliases) for the codes of things you can round to (minute, month start, business day, etc)."
   ]
  },
  {
   "cell_type": "code",
   "execution_count": 70,
   "metadata": {},
   "outputs": [
    {
     "data": {
      "text/plain": [
       "0   2018-01-02\n",
       "1   2019-10-05\n",
       "2   2020-10-10\n",
       "dtype: datetime64[ns]"
      ]
     },
     "execution_count": 70,
     "metadata": {},
     "output_type": "execute_result"
    }
   ],
   "source": [
    "# Round to next day\n",
    "next_day = start_series.dt.ceil('d')\n",
    "\n",
    "# Round to this minute\n",
    "this_minute = start_series.dt.floor('min')\n",
    "\n",
    "# Rount to nearest second\n",
    "this_second = start_series.dt.round('S')\n",
    "\n",
    "# Normalized to midnight\n",
    "normalized = start_series.dt.normalize()\n",
    "\n",
    "# Display next day\n",
    "next_day"
   ]
  },
  {
   "cell_type": "markdown",
   "metadata": {},
   "source": [
    "Note: these rounding functions do not actually change the time resolution of your data ... they change the actual values of your data but leave the resolution intact."
   ]
  },
  {
   "cell_type": "markdown",
   "metadata": {},
   "source": [
    "#### Conversions\n",
    "\n",
    "* `dt.strftime()`: create a formatted string from a datetime (\"string format time\")\n",
    "* `dt.to_period()`: convert datetimes to ranges of time (a.k.a. periods)\n",
    "* `dt.to_pydatetime()`: convert np.datetime objects to standard library datetimes.\n",
    "\n",
    "Note: [see strftime() and strptime() behavior](https://docs.python.org/3/library/datetime.html#strftime-and-strptime-behavior) for details on strftime formatting."
   ]
  },
  {
   "cell_type": "code",
   "execution_count": 71,
   "metadata": {},
   "outputs": [
    {
     "data": {
      "text/plain": [
       "0    Verily, it was the 01 day in the year 2018 of ...\n",
       "1    Verily, it was the 05 day in the year 2019 of ...\n",
       "2    Verily, it was the 09 day in the year 2020 of ...\n",
       "dtype: object"
      ]
     },
     "execution_count": 71,
     "metadata": {},
     "output_type": "execute_result"
    }
   ],
   "source": [
    "# Do some formatted time strings\n",
    "start_series.dt.strftime(\"Verily, it was the %d day in the year %Y of our lord.\")"
   ]
  },
  {
   "cell_type": "code",
   "execution_count": 72,
   "metadata": {},
   "outputs": [
    {
     "data": {
      "text/plain": [
       "0   2018-07\n",
       "1   2020-04\n",
       "2   2021-04\n",
       "dtype: object"
      ]
     },
     "execution_count": 72,
     "metadata": {},
     "output_type": "execute_result"
    }
   ],
   "source": [
    "# Periods are the best way to deal with ranges as we will see later on.\n",
    "as_period = start_series.dt.to_period('M')\n",
    "\n",
    "# We can add 6 months with simple addition.\n",
    "six_months_after = as_period + 6\n",
    "\n",
    "# Display\n",
    "six_months_after"
   ]
  },
  {
   "cell_type": "markdown",
   "metadata": {},
   "source": [
    "#### Timezone Stuff\n",
    "\n",
    "Dealing with timezones and daylight savings time and is a pain. Never do this manually. Pandas (by way of [pytz](https://pypi.org/project/pytz/\n",
    ") and the [Olson tz database](https://en.wikipedia.org/wiki/Tz_database)) is smarter than you.\n",
    "\n",
    "* `dt.tz`: get the timezone for this time\n",
    "* `dt.tz_convert`: convert to a new timezone\n",
    "* `dt.tz_localize`: set the time zone for this datetime"
   ]
  },
  {
   "cell_type": "code",
   "execution_count": 73,
   "metadata": {},
   "outputs": [
    {
     "data": {
      "text/plain": [
       "0   2018-01-01 12:00:00+00:00\n",
       "1   2019-10-05 00:00:00+00:00\n",
       "2   2020-10-09 21:00:05+00:00\n",
       "dtype: datetime64[ns, UTC]"
      ]
     },
     "execution_count": 73,
     "metadata": {},
     "output_type": "execute_result"
    }
   ],
   "source": [
    "# Set a timezone\n",
    "utc_time = start_series.dt.tz_localize('UTC')\n",
    "utc_time"
   ]
  },
  {
   "cell_type": "code",
   "execution_count": 74,
   "metadata": {},
   "outputs": [
    {
     "data": {
      "text/plain": [
       "<UTC>"
      ]
     },
     "execution_count": 74,
     "metadata": {},
     "output_type": "execute_result"
    }
   ],
   "source": [
    "# Get our timezone\n",
    "utc_time.dt.tz"
   ]
  },
  {
   "cell_type": "code",
   "execution_count": 75,
   "metadata": {},
   "outputs": [
    {
     "data": {
      "text/plain": [
       "0   2018-01-01 06:00:00-06:00\n",
       "1   2019-10-04 19:00:00-05:00\n",
       "2   2020-10-09 16:00:05-05:00\n",
       "dtype: datetime64[ns, America/Chicago]"
      ]
     },
     "execution_count": 75,
     "metadata": {},
     "output_type": "execute_result"
    }
   ],
   "source": [
    "# Convert to another timezone\n",
    "utc_time.dt.tz_convert('America/Chicago')"
   ]
  },
  {
   "cell_type": "markdown",
   "metadata": {},
   "source": [
    "**Note**: if you want to know what timezones are available, you can `import pytz` and then check `pytz.all_timezones`.\n",
    "\n",
    "**Note**: the \"-06:00\" or \"-05:00\" you see at the end of the time is the difference from UTC, which differs based on daylight savings time."
   ]
  },
  {
   "cell_type": "markdown",
   "metadata": {},
   "source": [
    "---\n",
    "\n",
    "## The Period\n",
    "\n",
    "The [`pd.Period`](https://pandas.pydata.org/pandas-docs/stable/generated/pandas.Period.html) in pandas is just a fixed period of time. Am example of a period would be one minute--a minute has a nanosecond on which it starts, a nanosecond on which it ends, and about 60 billion nanoseconds in the middle. Though we could refer to each and everyone one of those datetimes in that minute, it's easier to generalize. \n",
    "\n",
    "If you want to group times by second, by year, by every two hours, by every five minutes or any other which way, Periods are the way to go (e.g. I want to know how many events I have for a given month).\n",
    "\n",
    "The most common ways to generate period series are:\n",
    "\n",
    "* [`pd.Period()`](https://pandas.pydata.org/pandas-docs/stable/generated/pandas.Period.html) can be used on its own if you need to instantiate a particular period.\n",
    "\n",
    "* [`Series.dt.to_period()`](https://pandas.pydata.org/pandas-docs/stable/generated/pandas.Series.dt.to_period.html) if you have a bunch of datetimes and you want to convert them to periods, this is the best way to do it.\n",
    "\n",
    "* [`pd.period_range()`](https://pandas.pydata.org/pandas-docs/stable/generated/pandas.period_range.html) can be used manually generate periods as [`pd.PeriodIndex`](https://pandas.pydata.org/pandas-docs/stable/generated/pandas.PeriodIndex.html)es with whatever arbitrary frequency you desire."
   ]
  },
  {
   "cell_type": "code",
   "execution_count": 76,
   "metadata": {},
   "outputs": [
    {
     "data": {
      "text/plain": [
       "Period('2019-01-01 12:00', 'T')"
      ]
     },
     "execution_count": 76,
     "metadata": {},
     "output_type": "execute_result"
    }
   ],
   "source": [
    "# Let's generate a single period with a frequency of minute.\n",
    "period = pd.Period('2019-01-01T12:00:00', freq='min')\n",
    "period"
   ]
  },
  {
   "cell_type": "code",
   "execution_count": 77,
   "metadata": {},
   "outputs": [
    {
     "data": {
      "text/plain": [
       "PeriodIndex(['1900-01', '1900-07', '1901-01', '1901-07', '1902-01', '1902-07',\n",
       "             '1903-01', '1903-07', '1904-01', '1904-07',\n",
       "             ...\n",
       "             '2016-01', '2016-07', '2017-01', '2017-07', '2018-01', '2018-07',\n",
       "             '2019-01', '2019-07', '2020-01', '2020-07'],\n",
       "            dtype='period[6M]', length=242, freq='6M')"
      ]
     },
     "execution_count": 77,
     "metadata": {},
     "output_type": "execute_result"
    }
   ],
   "source": [
    "# Using period range of every 6 months from 1900 to 2020.\n",
    "period_range = pd.period_range(start='1900-01-01', end='2020-12-31', freq='6M')\n",
    "period_range"
   ]
  },
  {
   "cell_type": "code",
   "execution_count": 78,
   "metadata": {},
   "outputs": [
    {
     "data": {
      "text/plain": [
       "0   2018-01-01/2018-01-07\n",
       "1   2019-09-30/2019-10-06\n",
       "2   2020-10-05/2020-10-11\n",
       "dtype: object"
      ]
     },
     "execution_count": 78,
     "metadata": {},
     "output_type": "execute_result"
    }
   ],
   "source": [
    "# Convert our start_series to 3 week periods.\n",
    "start_periods = start_series.dt.to_period('3w')\n",
    "start_periods"
   ]
  },
  {
   "cell_type": "code",
   "execution_count": 79,
   "metadata": {},
   "outputs": [
    {
     "name": "stdout",
     "output_type": "stream",
     "text": [
      "2019-01-01 12:00\n",
      "\n",
      "2019-01-01 11:57\n",
      "\n",
      "0   2018-03-05/2018-03-11\n",
      "1   2019-12-02/2019-12-08\n",
      "2   2020-12-07/2020-12-13\n",
      "dtype: object\n",
      "\n"
     ]
    }
   ],
   "source": [
    "# Periods and period columns can be simply stepped forward using +/- operators.\n",
    "print(period, end='\\n\\n')\n",
    "\n",
    "# Print freq='min' period three minutes earlier.\n",
    "print(period - 3, end='\\n\\n')\n",
    "\n",
    "# Print the start_period 9 weeks in the future\n",
    "print(start_periods + 3, end='\\n\\n')"
   ]
  },
  {
   "cell_type": "markdown",
   "metadata": {},
   "source": [
    "#### Period `.dt` namepsace\n",
    "\n",
    "Like other datetime objects, period columns have a .dt namespace. Most of the methods and attributes are the same as what you would see for datetimes, but a few specialized attributes and methods are below:\n",
    "\n",
    "* [`dt.start_time`](https://pandas.pydata.org/pandas-docs/stable/generated/pandas.Period.start_time.html#pandas.Period.start_time) gets the timestamp at the start of the period.\n",
    "* [`dt.end_time`](https://pandas.pydata.org/pandas-docs/stable/generated/pandas.Period.end_time.html#pandas.Period.end_time) gets the timestamp at the end of the period.\n",
    "* [`dt.to_timestamp()`](https://pandas.pydata.org/pandas-docs/stable/generated/pandas.Period.to_timestamp.html#pandas.Period.to_timestamp) the timestamp gives a string for the period as a whole."
   ]
  },
  {
   "cell_type": "code",
   "execution_count": 80,
   "metadata": {},
   "outputs": [
    {
     "name": "stdout",
     "output_type": "stream",
     "text": [
      "start\n",
      "0   2018-01-01\n",
      "1   2019-09-30\n",
      "2   2020-10-05\n",
      "dtype: datetime64[ns]\n",
      "\n",
      "end\n",
      "0   2018-01-21\n",
      "1   2019-10-20\n",
      "2   2020-10-25\n",
      "dtype: datetime64[ns]\n",
      "\n",
      "ts\n",
      "0   2018-01-01\n",
      "1   2019-09-30\n",
      "2   2020-10-05\n",
      "dtype: datetime64[ns]\n",
      "\n",
      "freq\n",
      "<3 * Weeks: weekday=6>\n",
      "\n"
     ]
    }
   ],
   "source": [
    "# Lets take a look at some of these\n",
    "dt_items = {\n",
    "    'start': start_periods.dt.start_time,\n",
    "    'end'  : start_periods.dt.end_time,\n",
    "    'ts'   : start_periods.dt.to_timestamp(),\n",
    "    'freq' : start_periods.dt.freq,\n",
    "}\n",
    "\n",
    "# Note how the resolution is nanoseconds, but the period is 3 seconds.\n",
    "for name, data in dt_items.items():\n",
    "    print(name)\n",
    "    print(data, end='\\n\\n')"
   ]
  },
  {
   "cell_type": "code",
   "execution_count": 81,
   "metadata": {},
   "outputs": [
    {
     "data": {
      "text/plain": [
       "0    2020-01-01 00:00:00\n",
       "1                    NaT\n",
       "2    2020-01-01 02:00:00\n",
       "3    2020-01-01 03:00:00\n",
       "4    2020-01-01 04:00:00\n",
       "5    2020-01-01 05:00:00\n",
       "6    2020-01-01 06:00:00\n",
       "7    2020-01-01 07:00:00\n",
       "8    2020-01-01 08:00:00\n",
       "9    2020-01-01 09:00:00\n",
       "10   2020-01-01 10:00:00\n",
       "11                   NaT\n",
       "12   2020-01-01 12:00:00\n",
       "13   2020-01-01 13:00:00\n",
       "14   2020-01-01 14:00:00\n",
       "15   2020-01-01 15:00:00\n",
       "16   2020-01-01 16:00:00\n",
       "17   2020-01-01 17:00:00\n",
       "18   2020-01-01 18:00:00\n",
       "19   2020-01-01 19:00:00\n",
       "20   2020-01-01 20:00:00\n",
       "21                   NaT\n",
       "22   2020-01-01 22:00:00\n",
       "23   2020-01-01 23:00:00\n",
       "24   2020-01-02 00:00:00\n",
       "Name: dts, dtype: datetime64[ns]"
      ]
     },
     "execution_count": 81,
     "metadata": {},
     "output_type": "execute_result"
    }
   ],
   "source": [
    "# A more practical example (we created a datetime data series at the beginning of this notebook)\n",
    "dts"
   ]
  },
  {
   "cell_type": "code",
   "execution_count": 82,
   "metadata": {},
   "outputs": [
    {
     "data": {
      "text/plain": [
       "2020-01-01    21\n",
       "2020-01-02     1\n",
       "Freq: D, Name: dts, dtype: int64"
      ]
     },
     "execution_count": 82,
     "metadata": {},
     "output_type": "execute_result"
    }
   ],
   "source": [
    "# How many of our datetimes occur each day? Convert to day periods, then value count.\n",
    "dts.dt.to_period('d').value_counts()"
   ]
  },
  {
   "cell_type": "markdown",
   "metadata": {},
   "source": [
    "---\n",
    "\n",
    "## The Timedelta\n",
    "\n",
    "The [`pd.Timedelta`](http://pandas.pydata.org/pandas-docs/stable/timedeltas.html) is a data structure that represents the difference between two times. For example, if I were comparing now to thirty minutes from now, my Timedelta would be 30 minutes.\n",
    "\n",
    "Timedeltas can be created by subtracting two times or series of times from one another.\n",
    "\n",
    "It can be also be created using:\n",
    "\n",
    "* [`pd.Timedelta()`](https://pandas.pydata.org/pandas-docs/stable/generated/pandas.Timedelta.html): a constructor for directly creating a timedelta.\n",
    "\n",
    "* [`pd.to_timedelta()`](https://pandas.pydata.org/pandas-docs/stable/generated/pandas.to_timedelta.html): a helper function for creating a series of timedeltas in a fault tolerant manner.\n",
    "\n",
    "The majority of the items in the `.dt` namespace for Timedeltas are the same as what you have seen elsewhere and won't be covered here."
   ]
  },
  {
   "cell_type": "code",
   "execution_count": 83,
   "metadata": {},
   "outputs": [
    {
     "data": {
      "text/plain": [
       "0    302 days 10:00:00\n",
       "1   3380 days 00:00:00\n",
       "2      0 days 00:59:55\n",
       "dtype: timedelta64[ns]"
      ]
     },
     "execution_count": 83,
     "metadata": {},
     "output_type": "execute_result"
    }
   ],
   "source": [
    "# Again, we can generate these by subtracting two datetime series\n",
    "timedelta_series = end_series - start_series\n",
    "timedelta_series"
   ]
  },
  {
   "cell_type": "code",
   "execution_count": 84,
   "metadata": {},
   "outputs": [
    {
     "data": {
      "text/plain": [
       "Timedelta('14 days 00:00:00')"
      ]
     },
     "execution_count": 84,
     "metadata": {},
     "output_type": "execute_result"
    }
   ],
   "source": [
    "# We can also generate them manually.\n",
    "fortnight = pd.Timedelta('14 days')\n",
    "fortnight"
   ]
  },
  {
   "cell_type": "code",
   "execution_count": 85,
   "metadata": {},
   "outputs": [
    {
     "data": {
      "text/plain": [
       "0   2017-12-18 12:00:00\n",
       "1   2019-09-21 00:00:00\n",
       "2   2020-09-25 21:00:05\n",
       "dtype: datetime64[ns]"
      ]
     },
     "execution_count": 85,
     "metadata": {},
     "output_type": "execute_result"
    }
   ],
   "source": [
    "# After we have them, we can use them with our operators get a new datetime (here 2 weeks later)\n",
    "start_series - fortnight"
   ]
  },
  {
   "cell_type": "code",
   "execution_count": 86,
   "metadata": {},
   "outputs": [
    {
     "data": {
      "text/plain": [
       "TimedeltaIndex(['15 days 07:00:00', '0 days 00:03:00', '0 days 02:00:00'], dtype='timedelta64[ns]', freq=None)"
      ]
     },
     "execution_count": 86,
     "metadata": {},
     "output_type": "execute_result"
    }
   ],
   "source": [
    "# Using to_timedelta()\n",
    "pd.to_timedelta(['7 hours 15 days', '3 minutes', '2:00:00'])"
   ]
  },
  {
   "cell_type": "code",
   "execution_count": 87,
   "metadata": {},
   "outputs": [
    {
     "data": {
      "text/plain": [
       "array([datetime.timedelta(302, 36000), datetime.timedelta(3380),\n",
       "       datetime.timedelta(0, 3595)], dtype=object)"
      ]
     },
     "execution_count": 87,
     "metadata": {},
     "output_type": "execute_result"
    }
   ],
   "source": [
    "# You still have .dt\n",
    "timedelta_series.dt.to_pytimedelta()"
   ]
  },
  {
   "cell_type": "markdown",
   "metadata": {},
   "source": [
    "## The offset\n",
    "\n",
    "What if you don't want to add a finite timedelta to your date? What if you just want to go to the next business day? Or the start of the next month? Or something else? You'll probably benefit from something from [`pd.offset`](https://pandas.pydata.org/pandas-docs/stable/timeseries.html#dateoffset-objects). These basically allow you to step through dates however you please. \n",
    "\n",
    "Want to make your own custom business day to automatically skip over specific holidays? [Go for it](https://pandas.pydata.org/pandas-docs/stable/timeseries.html#dateoffset-objects)."
   ]
  },
  {
   "cell_type": "code",
   "execution_count": 88,
   "metadata": {},
   "outputs": [
    {
     "data": {
      "text/plain": [
       "Timestamp('2018-11-15 21:19:09.223271')"
      ]
     },
     "execution_count": 88,
     "metadata": {},
     "output_type": "execute_result"
    }
   ],
   "source": [
    "# What is today?\n",
    "today = pd.Timestamp.now()\n",
    "today"
   ]
  },
  {
   "cell_type": "code",
   "execution_count": 89,
   "metadata": {},
   "outputs": [
    {
     "data": {
      "text/plain": [
       "Timestamp('2018-12-01 21:19:09.223271')"
      ]
     },
     "execution_count": 89,
     "metadata": {},
     "output_type": "execute_result"
    }
   ],
   "source": [
    "# What is the start of the next  month?\n",
    "bm_offset = pd.offsets.MonthBegin()\n",
    "today + bm_offset"
   ]
  },
  {
   "cell_type": "code",
   "execution_count": 90,
   "metadata": {},
   "outputs": [
    {
     "data": {
      "text/plain": [
       "Timestamp('2018-11-08 21:19:09.223271')"
      ]
     },
     "execution_count": 90,
     "metadata": {},
     "output_type": "execute_result"
    }
   ],
   "source": [
    "# You can also do multiples\n",
    "five_biz_days = pd.offsets.BDay(5)\n",
    "\n",
    "# Equivalent\n",
    "five_biz_days = pd.offsets.BDay() * 5\n",
    "\n",
    "# Subtract from today to get five bdays ago\n",
    "today - five_biz_days"
   ]
  },
  {
   "cell_type": "code",
   "execution_count": 91,
   "metadata": {},
   "outputs": [],
   "source": [
    "## The rabbit hole ..."
   ]
  },
  {
   "cell_type": "code",
   "execution_count": null,
   "metadata": {},
   "outputs": [],
   "source": []
  },
  {
   "cell_type": "code",
   "execution_count": null,
   "metadata": {},
   "outputs": [],
   "source": []
  },
  {
   "cell_type": "code",
   "execution_count": null,
   "metadata": {},
   "outputs": [],
   "source": []
  },
  {
   "cell_type": "markdown",
   "metadata": {},
   "source": [
    "# Additional Learing Resources\n",
    "\n",
    "* ### [Time Series / Date Functionality](http://pandas.pydata.org/pandas-docs/stable/timeseries.html) \n",
    "* ### [Numpy Datetimes and Timedeltas](https://docs.scipy.org/doc/numpy/reference/arrays.datetime.html)\n",
    "* ### [Datetimelike-Properties API](https://pandas.pydata.org/pandas-docs/stable/api.html#datetimelike-properties)\n",
    "* ### [Time-Series-Related](https://pandas.pydata.org/pandas-docs/stable/api.html#time-series-related)"
   ]
  },
  {
   "cell_type": "markdown",
   "metadata": {},
   "source": [
    "---\n",
    "\n",
    "# Next Up: [String Series](5_string_series.ipynb)\n",
    "\n",
    "<br>\n",
    "\n",
    "<img style=\"margin-left: 0;\" src=\"static/log_transform.svg\" width=\"20%\">\n",
    "\n",
    "<br>\n",
    "\n",
    "<div align='left'>\n",
    "    Image courtesy of <a href='https://commons.wikimedia.org/wiki/File:Population_vs_area.svg'>Skbkekas</a> under the <a href='https://creativecommons.org/licenses/by-sa/3.0/deed.en'>CC BY-SA 3.0</a>\n",
    "</div>\n",
    "\n",
    "---"
   ]
  },
  {
   "cell_type": "code",
   "execution_count": null,
   "metadata": {},
   "outputs": [],
   "source": []
  }
 ],
 "metadata": {
  "anaconda-cloud": {},
  "kernelspec": {
   "display_name": "Python 3",
   "language": "python",
   "name": "python3"
  },
  "language_info": {
   "codemirror_mode": {
    "name": "ipython",
    "version": 3
   },
   "file_extension": ".py",
   "mimetype": "text/x-python",
   "name": "python",
   "nbconvert_exporter": "python",
   "pygments_lexer": "ipython3",
   "version": "3.6.7"
  }
 },
 "nbformat": 4,
 "nbformat_minor": 1
}
