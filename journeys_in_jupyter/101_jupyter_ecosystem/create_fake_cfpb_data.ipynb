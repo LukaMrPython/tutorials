{
 "cells": [
  {
   "cell_type": "code",
   "execution_count": null,
   "metadata": {},
   "outputs": [],
   "source": [
    "import io\n",
    "import urllib.request\n",
    "\n",
    "import numpy as np\n",
    "import pandas as pd"
   ]
  },
  {
   "cell_type": "code",
   "execution_count": null,
   "metadata": {},
   "outputs": [],
   "source": [
    "LINK = 'https://data.consumerfinance.gov/api/views/s6ew-h6mp/rows.csv?accessType=DOWNLOAD'"
   ]
  },
  {
   "cell_type": "code",
   "execution_count": null,
   "metadata": {},
   "outputs": [],
   "source": [
    "# Get data from internet and put in file-like object.\n",
    "with urllib.request.urlopen(LINK) as f:\n",
    "    data = f.read()\n",
    "    text = data.decode()\n",
    "    pseudofile = io.StringIO(text)"
   ]
  },
  {
   "cell_type": "code",
   "execution_count": null,
   "metadata": {},
   "outputs": [],
   "source": [
    "# Read file object and chop data.\n",
    "df = pd.read_csv(pseudofile)\n",
    "df = df.dropna(subset=['Consumer complaint narrative'])\n",
    "df = df.sample(10000)"
   ]
  },
  {
   "cell_type": "code",
   "execution_count": null,
   "metadata": {},
   "outputs": [],
   "source": [
    "# Assign random values to each class of int.\n",
    "products = df['Product'].unique()\n",
    "complaint_values = {\n",
    "    product: np.random.randint(100, 100000)\n",
    "    for product\n",
    "    in products\n",
    "}"
   ]
  },
  {
   "cell_type": "code",
   "execution_count": null,
   "metadata": {},
   "outputs": [],
   "source": [
    "# Generate normally distributed random numbers around our arbitrary numbers.\n",
    "for product in products:\n",
    "    mean = complaint_values[product]\n",
    "    std = mean / 10\n",
    "    bix = df['Product'] == product\n",
    "    values_required = len(df[bix])\n",
    "    df.loc[bix, 'Restitution'] = np.random.normal(loc=mean, scale=std, size=values_required)"
   ]
  },
  {
   "cell_type": "code",
   "execution_count": null,
   "metadata": {},
   "outputs": [],
   "source": [
    "df.head()"
   ]
  },
  {
   "cell_type": "code",
   "execution_count": null,
   "metadata": {},
   "outputs": [],
   "source": [
    "df.to_csv('./data/cfpb.csv', index=None)"
   ]
  }
 ],
 "metadata": {
  "kernelspec": {
   "display_name": "Python 3",
   "language": "python",
   "name": "python3"
  },
  "language_info": {
   "codemirror_mode": {
    "name": "ipython",
    "version": 3
   },
   "file_extension": ".py",
   "mimetype": "text/x-python",
   "name": "python",
   "nbconvert_exporter": "python",
   "pygments_lexer": "ipython3",
   "version": "3.6.6"
  }
 },
 "nbformat": 4,
 "nbformat_minor": 2
}
