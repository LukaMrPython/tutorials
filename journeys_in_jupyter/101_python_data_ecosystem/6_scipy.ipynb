{
 "cells": [
  {
   "cell_type": "markdown",
   "metadata": {
    "collapsed": true
   },
   "source": [
    "<a href=\"https://github.com/theonaunheim\">\n",
    "    <img style=\"border-radius: 100%; float: right;\" src=\"static/strawberry_thief_square.png\" width=10% alt=\"Theo Naunheim's Github\">\n",
    "</a>\n",
    "\n",
    "<br style=\"clear: both\">\n",
    "\n",
    "<hr>\n",
    "\n",
    "<div style=\"display: table; width: 100%\">\n",
    "    <div style=\"display: table-row; width: 100%;\">\n",
    "        <div style=\"display: table-cell; width: 50%; vertical-align: middle;\">\n",
    "                <img style=\"display: inline;\" src=\"static/scipy_logo.png\" style=\"overflow: hidden; width: 50%\">\n",
    "            <br>\n",
    "            <br>\n",
    "            <ul style=\"display: inline-block\">\n",
    "                <li>\n",
    "                    <a href=\"https://scipy.org/\">SciPy.org</a>\n",
    "                </li>\n",
    "                <li>\n",
    "                    <a href=\"https://docs.scipy.org/doc/scipy-0.18.1/reference/\">SciPy Documentation</a>\n",
    "                </li>\n",
    "                <li>\n",
    "                    <a href=\"https://en.wikipedia.org/wiki/SciPy\">SciPy Wikipedia</a>\n",
    "                </li>\n",
    "            </ul>\n",
    "        </div>\n",
    "        <div style=\"display: table-cell; width: 10%\">\n",
    "        </div>\n",
    "        <div style=\"display: table-cell; width: 40%; vertical-align: middle;\">\n",
    "            <blockquote>\n",
    "                <p style=\"font-style: italic;\">Science is magic that works.</p>\n",
    "                <br>\n",
    "                <p>-Kurt Vonnegut</p>\n",
    "            </blockquote>\n",
    "        </div>\n",
    "    </div>\n",
    "</div>\n",
    "\n",
    "<hr>\n",
    "\n",
    "\n"
   ]
  },
  {
   "cell_type": "markdown",
   "metadata": {
    "collapsed": true
   },
   "source": [
    "## What Is SciPy\n",
    "\n",
    "SciPy (\"sigh-pie\") is a Python library that contains a large number of scientific computing tools. It covers statistical functions, calculus, linear algebra, optimization routines, and datatypes that facilitate machine learning calculations."
   ]
  },
  {
   "cell_type": "markdown",
   "metadata": {},
   "source": [
    "## What Will We Use SciPy For?\n",
    "\n",
    "Like Numpy, we will use mostly use SciPy indirectly. For the most part, our interaction with SciPy will be via Pandas (for many statistical functions) and Scikit-Learn (for linear algebra and optimization functions). The only items that we may use directly are the stats functions in scipy.stats and the optimization functions in scipy.optimize."
   ]
  },
  {
   "cell_type": "markdown",
   "metadata": {},
   "source": [
    "## scipy.optimize\n",
    "\n",
    "This is overkill 95% of the time. You can just as easily run your function over a range and simply pick the local maximum value. That said, if you want to [optimize](https://docs.scipy.org/doc/scipy/reference/generated/scipy.optimize.minimize.html), Scipy has functions for that."
   ]
  },
  {
   "cell_type": "code",
   "execution_count": 1,
   "metadata": {},
   "outputs": [
    {
     "name": "stdout",
     "output_type": "stream",
     "text": [
      "Minimum input is -1.0.\n",
      "Minimum output is 3.0.\n"
     ]
    },
    {
     "data": {
      "image/png": "[encoded data removed]",
      "text/plain": [
       "<Figure size 432x288 with 1 Axes>"
      ]
     },
     "metadata": {},
     "output_type": "display_data"
    }
   ],
   "source": [
    "import matplotlib\n",
    "import matplotlib.pyplot as plt\n",
    "%matplotlib inline\n",
    "\n",
    "import numpy as np\n",
    "\n",
    "# Import minimize\n",
    "from scipy.optimize import minimize\n",
    "\n",
    "# Create a function to find the minimum of\n",
    "def function_with_min(x):\n",
    "    # Add 1 to shift height and square\n",
    "    x = (x + 1) ** 2\n",
    "    # Add 3 to shift alignment\n",
    "    x = x + 3\n",
    "    # Return vlaue\n",
    "    return x\n",
    "\n",
    "# Get minimum with minimize\n",
    "result = minimize(function_with_min, 0)\n",
    "print('Minimum input is {:.3}.'.format(result['x'][0]))\n",
    "print('Minimum output is {:.3}.'.format(result['fun']))\n",
    "\n",
    "# Create example points\n",
    "x = np.arange(-10, 10, .1)\n",
    "\n",
    "# Vectorize function\n",
    "vec_function = np.vectorize(function_with_min)\n",
    "y = vec_function(x)\n",
    "\n",
    "# Less efficient for large datasets, but you can also\n",
    "# y = [function_with_min(scalar) for scalar in x]\n",
    "\n",
    "# Plot\n",
    "plt.plot(x, y)\n",
    "plt.show()"
   ]
  },
  {
   "cell_type": "markdown",
   "metadata": {},
   "source": [
    "## scipy.stats\n",
    "\n",
    "Also overkill 95% of the time. I cannot pronounce (let alone understand) most of the stuff in here. Pandas and numpy have functions that cover most of this, but if you need a general Kolmogorov-Smirnov one-sided test or an inverted Weibull continuous random variable or an ANOVA flux capacitor, this is where you would you look."
   ]
  },
  {
   "cell_type": "code",
   "execution_count": 2,
   "metadata": {},
   "outputs": [
    {
     "name": "stdout",
     "output_type": "stream",
     "text": [
      "Probability that a random number on the curve less than 12 is 0.93\n"
     ]
    },
    {
     "data": {
      "text/plain": [
       "<matplotlib.collections.PolyCollection at 0x290864253c8>"
      ]
     },
     "execution_count": 2,
     "metadata": {},
     "output_type": "execute_result"
    },
    {
     "data": {
      "image/png": "[encoded data removed]",
      "text/plain": [
       "<Figure size 432x288 with 1 Axes>"
      ]
     },
     "metadata": {},
     "output_type": "display_data"
    }
   ],
   "source": [
    "import numpy as np\n",
    "import scipy.stats\n",
    "\n",
    "INPUT = 43\n",
    "MEAN  = 40\n",
    "STDEV = 2\n",
    "\n",
    "start = MEAN - (STDEV * 5)\n",
    "stop  = MEAN + (STDEV * 5)\n",
    "\n",
    "curve = scipy.stats.norm(loc=MEAN, scale=STDEV)\n",
    "# 1000\n",
    "x = np.linspace(start, stop, 1000)\n",
    "# Probability density function.\n",
    "y = curve.pdf(x)\n",
    "\n",
    "# Plot\n",
    "plt.plot(x,y)\n",
    "\n",
    "\n",
    "# Cumulative density function.\n",
    "prob = round(curve.cdf(INPUT), 2)\n",
    "print(f'Probability that a random number on the curve less than 12 is {prob}')\n",
    "\n",
    "# Plot line and fill.\n",
    "plt.axvline(INPUT, color='salmon', linestyle='--')\n",
    "plt.fill_between(x, y, where=x < INPUT, alpha=.2)"
   ]
  },
  {
   "cell_type": "markdown",
   "metadata": {},
   "source": [
    "---\n",
    "\n",
    "## Additional Learing Resources\n",
    "\n",
    "* ### [Introduction to Scipy and Numpy](https://engineering.ucsb.edu/~shell/che210d/numpy.pdf)\n",
    "* ### [Scipy Lectures Overview](http://www.scipy-lectures.org/intro/scipy.html)\n"
   ]
  },
  {
   "cell_type": "markdown",
   "metadata": {},
   "source": [
    "---\n",
    "\n",
    "# Next Up: [Pandas](7_pandas.ipynb)\n",
    "\n",
    "<img style=\"margin-left: 0;\" src=\"static/pandas_logo.png\">\n",
    "\n",
    "---"
   ]
  }
 ],
 "metadata": {
  "anaconda-cloud": {},
  "kernelspec": {
   "display_name": "Python 3",
   "language": "python",
   "name": "python3"
  },
  "language_info": {
   "codemirror_mode": {
    "name": "ipython",
    "version": 3
   },
   "file_extension": ".py",
   "mimetype": "text/x-python",
   "name": "python",
   "nbconvert_exporter": "python",
   "pygments_lexer": "ipython3",
   "version": "3.6.5"
  }
 },
 "nbformat": 4,
 "nbformat_minor": 1
}
