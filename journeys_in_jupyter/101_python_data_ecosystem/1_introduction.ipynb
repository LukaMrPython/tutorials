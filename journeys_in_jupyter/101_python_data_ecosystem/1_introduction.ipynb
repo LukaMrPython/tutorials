{
 "cells": [
  {
   "cell_type": "markdown",
   "metadata": {},
   "source": [
    "<a href=\"https://github.com/theonaunheim\">\n",
    "    <img style=\"border-radius: 100%; float: right;\" src=\"static/strawberry_thief_square.png\" width=10% alt=\"Theo Naunheim's Github\">\n",
    "</a>\n",
    "\n",
    "<br style=\"clear: both\">\n",
    "<hr>\n",
    "<br>\n",
    "\n",
    "<h1 style=\"text-align: center;\">Python Data Ecosystem Overview</h1>\n",
    "\n",
    "<br>\n",
    "\n",
    "<div>\n",
    "    <a href=\"https://www.python.org\">\n",
    "        <img src=\"static/python_logo.png\" width=50%>\n",
    "    </a>\n",
    "</div>\n",
    "\n",
    "<br>\n",
    "\n",
    "<div style=\"display: table; width: 100%;\">\n",
    "    <div style=\"display: table-row\">\n",
    "        <div style=\"display: table-cell; width: 50%;\">\n",
    "            <p>Theo Naunheim</p>\n",
    "            <p>\n",
    "                <a href=\"theonaunheim@gmail.com?Subject=Python Data Analysis Overview\">theonaunheim@gmail.com</a>\n",
    "            </p>\n",
    "        </div>\n",
    "        <div style=\"display: table-cell; width: 50%;\">\n",
    "            Tested on <a href=\"https://www.anaconda.com/download/\">Anaconda3  v.5.2.0</a>\n",
    "        </div>\n",
    "    </div>\n",
    "</div>\n",
    "\n",
    "<hr>"
   ]
  },
  {
   "cell_type": "markdown",
   "metadata": {},
   "source": [
    "### Generally\n",
    "\n",
    "1) Don't worry if you don't understand the code. You're not supposed to. This is just an overview of what you can do and what tools are out there.\n",
    "\n",
    "2) Ask questions! I may not be able to give you an answer off the top of my head, but I can probably make something up.\n",
    "\n",
    "3) Get the Python 3-based version of Jupyter (via [Anaconda3](https://www.anaconda.com/downloads)) on your home computer if you have not done so already. It's free.\n",
    "\n",
    "4) Check the hyperlinks. We've got limited time and there are some really good resources (from people smarter than me).\n",
    "\n",
    "5) The \"Additional Learning Materials\" at the bottom of each section are just the things that I can vouch for. If you type in \"How to use X\" on YouTube or Google, you can easily find more."
   ]
  },
  {
   "cell_type": "markdown",
   "metadata": {},
   "source": [
    "### Goal\n",
    "\n",
    "This is a super-high-level overview of Python data analysis tools. One of the first stumbling blocks people run into is that that do not know what tools are out there, and consequently they don't know where to direct their efforts. Though you won't understand the code, the goal of this presentation is to show you the tools out there and the manner in which they can be used."
   ]
  },
  {
   "cell_type": "markdown",
   "metadata": {},
   "source": [
    "\n",
    "---\n",
    "\n",
    "# **Python Data Ecosystem Overview**\n",
    "\n",
    "---\n",
    "\n",
    "### 1) [Introduction](1_introduction.ipynb)\n",
    "* #### (You are here.)\n",
    "\n",
    "### 2) [Jupyter](2_jupyter.ipynb)\n",
    "* #### A HTML-based GUI for interacting with IPython.\n",
    "\n",
    "### 3) [Python](3_python.ipynb)\n",
    "* #### The foundational language on which the stack is built.\n",
    "\n",
    "### 4) [Matplotlib](4_matplotlib.ipynb)\n",
    "* #### Graphing toolkit tied into the Jupyter Notebook.\n",
    "\n",
    "### 5) [Numpy](5_numpy.ipynb)\n",
    "* #### Low-level C library to speed things up.\n",
    "\n",
    "### 6) [Scipy](6_scipy.ipynb)\n",
    "* #### Scientific stuff for people smarter than me.\n",
    "\n",
    "### 7) [Pandas](7_pandas.ipynb)\n",
    "* #### The Python data science workhorse.\n",
    "\n",
    "### 8) [Scikit-Learn](8_scikit_learn.ipynb)\n",
    "* #### Machine learning, model validation, and associated packages.\n",
    "\n",
    "### 9) [Other](9_other.ipynb)\n",
    "* #### Database connectors, email, and other useful tidbits.\n",
    "\n",
    "---\n"
   ]
  }
 ],
 "metadata": {
  "anaconda-cloud": {},
  "kernelspec": {
   "display_name": "Python 3",
   "language": "python",
   "name": "python3"
  },
  "language_info": {
   "codemirror_mode": {
    "name": "ipython",
    "version": 3
   },
   "file_extension": ".py",
   "mimetype": "text/x-python",
   "name": "python",
   "nbconvert_exporter": "python",
   "pygments_lexer": "ipython3",
   "version": "3.6.6"
  }
 },
 "nbformat": 4,
 "nbformat_minor": 1
}
