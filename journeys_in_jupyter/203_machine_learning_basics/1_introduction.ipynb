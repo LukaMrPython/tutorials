{
 "cells": [
  {
   "cell_type": "markdown",
   "metadata": {},
   "source": [
    "<a href=\"https://github.com/theonaunheim\">\n",
    "    <img style=\"border-radius: 100%; float: right;\" src=\"static/strawberry_thief_square.png\" width=10% alt=\"Theo Naunheim's Github\">\n",
    "</a>\n",
    "\n",
    "<br style=\"clear: both\">\n",
    "<hr>\n",
    "<br>\n",
    "\n",
    "<br>\n",
    "<h1 align='center'>Python Basics of Machine Learning</h1>\n",
    "<br>\n",
    "\n",
    "<div style=\"display: table; width: 100%\">\n",
    "    <div style=\"display: table-row; width: 100%;\">\n",
    "        <div style=\"display: table-cell; width: 50%; vertical-align: middle;\">\n",
    "            <img align='center' src=\"static/perceptron.svg\" width=\"60%\">\n",
    "            <div style=\"text-align: left\">\n",
    "                <br>\n",
    "                <br>\n",
    "                Image courtesy of <a href='https://commons.wikimedia.org/wiki/File:Perceptron-unit.svg'>MartinThoma</a>; released into the public domain.\n",
    "                <br>\n",
    "            </div>\n",
    "        </div>\n",
    "        <div style=\"display: table-cell; width: 10%\">\n",
    "        </div>\n",
    "        <div style=\"display: table-cell; width: 40%; vertical-align: top;\">\n",
    "        \n",
    "            <blockquote>\n",
    "                <p style=\"font-style: italic;\">\"Any sufficiently advanced technology is indistinguishable from magic.\"</p>\n",
    "                <br>\n",
    "                <p>-Arthur C. Clarke</p>\n",
    "            </blockquote>\n",
    "            \n",
    "        </div>\n",
    "    </div>\n",
    "</div>\n",
    "\n",
    "<br>\n",
    "<br>\n",
    "\n",
    "### About\n",
    "\n",
    "<br>\n",
    "\n",
    "<div style=\"display: table; width: 100%;\">\n",
    "    <div style=\"display: table-row\">\n",
    "        <div style=\"display: table-cell; width: 50%;\">\n",
    "            <p>Theo Naunheim</p>\n",
    "            <p>\n",
    "                <a href=\"theonaunheim@gmail.com?Subject=Python Data Analysis Overview\">theonaunheim@gmail.com</a>\n",
    "            </p>\n",
    "        </div>\n",
    "        <div style=\"display: table-cell; width: 50%;\">\n",
    "            <p>Tested on <a href=\"https://www.anaconda.com/download/\">Anaconda3  v.5.2.0</a></p>\n",
    "            <p>Revised: 2018-08-09</p>\n",
    "        </div>\n",
    "    </div>\n",
    "</div>\n",
    "\n",
    "<hr>"
   ]
  },
  {
   "cell_type": "markdown",
   "metadata": {},
   "source": [
    "### Generally\n",
    "\n",
    "1) Ask questions! I may not be able to give you an answer off the top of my head, but I can probably come up with something eventually.\n",
    "\n",
    "2) Check the hyperlinks. We've got limited time and there are some really good resources (from people smarter than me).\n",
    "\n",
    "3) We're doing this in Jupyter Notebook format. Press Escape then H to bring up the help screen. Shift + Enter will run any particular cell.\n",
    "\n",
    "4) Apologies in advance: we're going to blaze through this at a high level because there's no way we can provide a comprehensive overview in 90 minutes."
   ]
  },
  {
   "cell_type": "markdown",
   "metadata": {},
   "source": [
    "### Goals\n",
    "\n",
    "This session is intended to provide an overview of what machine learning is, and how you can use Python to do it."
   ]
  },
  {
   "cell_type": "markdown",
   "metadata": {},
   "source": [
    "### Disclaimers\n",
    " \n",
    "1) You're responsible for ensuring that you comply with any of your corporate development and model risk management directives yuo may or may not be subject to. If you are, be a good citizen and don't destroy things--you'll muck it up for everyone else. If you have quetions, ask.\n",
    "\n",
    "2) View all my claims with suspicion. I am not an expert in machine learning (or anything else for that matter).\n",
    "\n",
    "3) Sklearn isn't the be all and end all of machine learning. It is, however, a cohesive ecosystem that is a great place to get started (which is why we're spending our time here)."
   ]
  },
  {
   "cell_type": "markdown",
   "metadata": {},
   "source": [
    "\n",
    "---\n",
    "\n",
    "# **Python Basics of Machine Learning**\n",
    "\n",
    "---\n",
    "\n",
    "### 1) [Introduction](1_introduction.ipynb)\n",
    "* #### You are here.\n",
    "\n",
    "### 2) [Concepts](2_concepts.ipynb)\n",
    "* #### Establish a baseline of what is what.\n",
    "\n",
    "### 3) [Preprocessing](3_preprocessing.ipynb)\n",
    "* #### Slightly less garbage in, slightly less garbage out.\n",
    "\n",
    "### 4) [Modeling](4_modeling.ipynb)\n",
    "* #### Hand-wavy goodness here.\n",
    "\n",
    "### 5) [Validating](5_validating.ipynb)\n",
    "* #### Because if it's not falsifiable, it's not science.\n",
    "\n",
    "### 6) [Resources](6_resources.ipynb)\n",
    "* #### Where to go from here.\n",
    "\n",
    "### 7) [Exercises](7_exercises.ipynb)\n",
    "* #### Things for you to tinker with.\n",
    "\n",
    "### 8) [Solutions](8_solutions.ipynb)\n",
    "* #### In case you get stuck on 7."
   ]
  },
  {
   "cell_type": "markdown",
   "metadata": {},
   "source": [
    "---\n",
    "\n",
    "# Next Up: [Concepts](2_concepts.ipynb)\n",
    "\n",
    "<img style=\"margin-left: 0;\" src=\"static/gradient_ascent.png\" width=\"300\">\n",
    "\n",
    "<div style=\"text-align: left\">\n",
    "Image courtesy of <a href='https://commons.wikimedia.org/wiki/File:Gradient_ascent_(surface).png'>Joris Gillis</a>; released into the public domain.\n",
    "</div>\n",
    "\n",
    "---"
   ]
  }
 ],
 "metadata": {
  "anaconda-cloud": {},
  "kernelspec": {
   "display_name": "Python 3",
   "language": "python",
   "name": "python3"
  },
  "language_info": {
   "codemirror_mode": {
    "name": "ipython",
    "version": 3
   },
   "file_extension": ".py",
   "mimetype": "text/x-python",
   "name": "python",
   "nbconvert_exporter": "python",
   "pygments_lexer": "ipython3",
   "version": "3.6.4"
  }
 },
 "nbformat": 4,
 "nbformat_minor": 1
}
