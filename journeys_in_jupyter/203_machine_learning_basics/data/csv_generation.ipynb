{
 "cells": [
  {
   "cell_type": "markdown",
   "metadata": {},
   "source": [
    "# This creates csv files that are consistent with what you would find in the wild."
   ]
  },
  {
   "cell_type": "code",
   "execution_count": 1,
   "metadata": {
    "collapsed": false
   },
   "outputs": [],
   "source": [
    "import pandas as pd\n",
    "import seaborn as sns"
   ]
  },
  {
   "cell_type": "code",
   "execution_count": 2,
   "metadata": {
    "collapsed": true
   },
   "outputs": [],
   "source": [
    "SEABORN_DATASETS = [\n",
    "    'anscombe',\n",
    "    'attention',\n",
    "    'car_crashes',\n",
    "    'diamonds',\n",
    "    'dots',\n",
    "    'exercise',\n",
    "    'flights',\n",
    "    'fmri',\n",
    "    'gammas',\n",
    "    'iris',\n",
    "    'mpg',\n",
    "    'planets',\n",
    "    'tips',\n",
    "    'titanic',   \n",
    "]"
   ]
  },
  {
   "cell_type": "code",
   "execution_count": 3,
   "metadata": {
    "collapsed": false
   },
   "outputs": [],
   "source": [
    "for dataset in SEABORN_DATASETS:\n",
    "    ds = sns.load_dataset(dataset)\n",
    "    filename = dataset + '.csv'\n",
    "    ds.to_csv(filename, index=None)"
   ]
  }
 ],
 "metadata": {
  "kernelspec": {
   "display_name": "Python 3",
   "language": "python",
   "name": "python3"
  },
  "language_info": {
   "codemirror_mode": {
    "name": "ipython",
    "version": 3
   },
   "file_extension": ".py",
   "mimetype": "text/x-python",
   "name": "python",
   "nbconvert_exporter": "python",
   "pygments_lexer": "ipython3",
   "version": "3.6.0"
  }
 },
 "nbformat": 4,
 "nbformat_minor": 2
}
