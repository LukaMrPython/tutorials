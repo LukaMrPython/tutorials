{
 "cells": [
  {
   "cell_type": "markdown",
   "metadata": {
    "collapsed": true
   },
   "source": [
    "<a href=\"https://github.com/theonaunheim\">\n",
    "    <img style=\"border-radius: 100%; float: right;\" src=\"static/strawberry_thief_square.png\" width=10% alt=\"Theo Naunheim's Github\">\n",
    "</a>\n",
    "\n",
    "<br style=\"clear: both\">\n",
    "<hr>\n",
    "<br>\n",
    "\n",
    "<h1 align='center'>Resources</h1>\n",
    "\n",
    "<br>\n",
    "\n",
    "<div style=\"display: table; width: 100%\">\n",
    "    <div style=\"display: table-row; width: 100%;\">\n",
    "        <div style=\"display: table-cell; width: 50%; vertical-align: middle;\">\n",
    "            <img src=\"static/gravity_well.svg\" width=\"400\">\n",
    "        </div>\n",
    "        <div style=\"display: table-cell; width: 10%\">\n",
    "        </div>\n",
    "        <div style=\"display: table-cell; width: 40%; vertical-align: top;\">\n",
    "            <blockquote>\n",
    "                <p style=\"font-style: italic;\">Alice: \"Would you tell me, please, which way I ought to go from here?\"</p>\n",
    "                <p style=\"font-style: italic;\">Cat: \"That depends a good deal on where you want to get to.\"</p>\n",
    "                <p style=\"font-style: italic;\">Alice: \"I don't much care where.\"</p>\n",
    "                <p style=\"font-style: italic;\">Cat: \"Then it doesn't matter which way you go.\"</p>\n",
    "                <br>\n",
    "                <p>- Lewis Caroll, Alice in Wonderland</p>\n",
    "            </blockquote>\n",
    "        </div>\n",
    "    </div>\n",
    "</div>\n",
    "\n",
    "<br>\n",
    "\n",
    "<div align='left'>\n",
    "    Image courtesy of <a href='https://commons.wikimedia.org/wiki/File:Gravity_well_plot.svg'>BenRG</a>; released into the public domain.\n",
    "</div>\n",
    "\n",
    "<hr>"
   ]
  },
  {
   "cell_type": "markdown",
   "metadata": {},
   "source": [
    "## Generally\n",
    "\n",
    "There is a **lot** of material on the internet explaning machine learning. Some of it is good, but much of it is bad. This section of the presentation exists solely to point you towards what I believe are some of the good resources for getting started in ML.\n",
    "\n",
    "---"
   ]
  },
  {
   "cell_type": "markdown",
   "metadata": {
    "collapsed": true
   },
   "source": [
    "## Python Data Science Handbook\n",
    "\n",
    "https://jakevdp.github.io/PythonDataScienceHandbook/\n",
    "\n",
    "Jake VanderPlas is my hero. Section 5 of this book will walk you through machine learning, and includes some in-depth sections on how particular machine learning models work.\n",
    "\n",
    "---"
   ]
  },
  {
   "cell_type": "markdown",
   "metadata": {},
   "source": [
    "## Scikit Learn\n",
    "\n",
    "http://scikit-learn.org/stable/documentation.html\n",
    "\n",
    "Scikit Learn's documentation is excellent. The [Quick Start](http://scikit-learn.org/stable/tutorial/basic/tutorial.html) gives the high-level fundementals of what you need to learn. The [Tutorials Section](http://scikit-learn.org/stable/tutorial/index.html) explains the process in a general sense and gives concrete example. The [User Guide](http://scikit-learn.org/stable/user_guide.html) will walk you through the algorithms and how they work mathematically.\n",
    "\n",
    "---"
   ]
  },
  {
   "cell_type": "markdown",
   "metadata": {},
   "source": [
    "\n",
    "## Kaggle\n",
    "\n",
    "https://www.kaggle.com/\n",
    "\n",
    "Kaggle is an online competition site where you can earn money in [machine learning contests](https://www.kaggle.com/competitions) (yes, that's a thing). It also has a ton of competitions where you can view the datasets/results and see how other people have solved problems. It has also recently upgraded its [Learning Section](https://www.kaggle.com/learn/overview) to provide ML information and knowhow.\n",
    "\n",
    "The [Titantic Competition](https://www.kaggle.com/c/titanic) also has a ton of good associated YouTube videos.\n",
    "\n",
    "---"
   ]
  },
  {
   "cell_type": "markdown",
   "metadata": {},
   "source": [
    "\n",
    "## Google\n",
    "\n",
    "https://www.google.com/\n",
    "\n",
    "Google is your friend. If you want to know how a support vector machine works, you could do worse than typing in \"how does a support vector machine work\" into Google.\n",
    "\n",
    "---"
   ]
  },
  {
   "cell_type": "markdown",
   "metadata": {},
   "source": [
    "\n",
    "## YouTube\n",
    "\n",
    "https://www.youtube.com/\n",
    "\n",
    "There are a ton of good YouTube videos and channels out there as well. List videos and channels I can vouch for below.\n",
    "\n",
    "* [Getting Started with Scikit Learn (I)](https://www.youtube.com/watch?v=L7R4HUQ-eQ0)\n",
    "* [Getting Started with Scikit Learn (II)](https://www.youtube.com/watch?v=oGqGxvqA9-k)\n",
    "* [PyData Channel](https://www.youtube.com/user/PyDataTV)\n",
    "* [Anaconda, Inc. Channel](https://www.youtube.com/channel/UCND4vKhJssAtK8p1Blfj14Q)\n",
    "* [MIT OpenCourseware](https://www.youtube.com/watch?v=h0e2HAPTGF4)\n",
    "* [Jake Vanderplas Channel](https://www.youtube.com/channel/UCscdxGKSj4hOaVFYvslW1-g)\n",
    "\n",
    "---"
   ]
  },
  {
   "cell_type": "markdown",
   "metadata": {},
   "source": [
    "## Fundamentals of Machine Learning\n",
    "\n",
    "https://www.amazon.com/Fundamentals-Machine-Learning-Predictive-Analytics-ebook/dp/B013FHC8CM/ref=mt_kindle?_encoding=UTF8&me=&qid=\n",
    "\n",
    "This book by Kelleher, MacNamee, and D'Arcy is a bit pricey (~$60), but is an excellent read. It gives comprehensive descriptions about the mathematics behind a large variety of machine learning algorithms.\n"
   ]
  },
  {
   "cell_type": "markdown",
   "metadata": {},
   "source": [
    "---\n",
    "\n",
    "# Next Up: [Exercises](7_exercises.ipynb)\n",
    "\n",
    "---"
   ]
  }
 ],
 "metadata": {
  "anaconda-cloud": {},
  "kernelspec": {
   "display_name": "Python 3",
   "language": "python",
   "name": "python3"
  },
  "language_info": {
   "codemirror_mode": {
    "name": "ipython",
    "version": 3
   },
   "file_extension": ".py",
   "mimetype": "text/x-python",
   "name": "python",
   "nbconvert_exporter": "python",
   "pygments_lexer": "ipython3",
   "version": "3.6.4"
  }
 },
 "nbformat": 4,
 "nbformat_minor": 1
}
