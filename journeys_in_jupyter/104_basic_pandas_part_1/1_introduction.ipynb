{
 "cells": [
  {
   "cell_type": "markdown",
   "metadata": {},
   "source": [
    "<a href=\"https://github.com/theonaunheim\">\n",
    "    <img style=\"border-radius: 100%; float: right;\" src=\"static/strawberry_thief_square.png\" width=10% alt=\"Theo Naunheim's Github\">\n",
    "</a>\n",
    "\n",
    "<br style=\"clear: both\">\n",
    "<hr>\n",
    "<br>\n",
    "\n",
    "<br>\n",
    "<h1 align='center'>Basic Pandas, Part 1 (The Series)</h1>\n",
    "<br>\n",
    "<br>\n",
    "\n",
    "<div style=\"display: table; width: 100%\">\n",
    "    <div style=\"display: table-row; width: 100%;\">\n",
    "        <div style=\"display: table-cell; width: 50%; vertical-align: middle;\">\n",
    "            <img align='center' src=\"static/pandas_logo.png\">\n",
    "            <div style=\"text-align: left\">\n",
    "                <br>\n",
    "                <br>\n",
    "            </div>\n",
    "        </div>\n",
    "        <div style=\"display: table-cell; width: 10%\">\n",
    "        </div>\n",
    "        <div style=\"display: table-cell; width: 40%; vertical-align: top;\">\n",
    "            <blockquote>\n",
    "                <p style=\"font-style: italic;\">\"Each problem that I solved became a rule, which served afterwards to solve other problems.\"</p>\n",
    "                <br>\n",
    "                <p>-Rene Descartes</p>\n",
    "            </blockquote>\n",
    "        </div>\n",
    "    </div>\n",
    "</div>\n",
    "\n",
    "<br>\n",
    "<br>\n",
    "\n",
    "### About\n",
    "\n",
    "<br>\n",
    "\n",
    "<div style=\"display: table; width: 100%;\">\n",
    "    <div style=\"display: table-row\">\n",
    "        <div style=\"display: table-cell; width: 50%;\">\n",
    "            <p>Theo Naunheim</p>\n",
    "            <p>\n",
    "                <a href=\"theonaunheim@gmail.com?Subject=Python Data Analysis Overview\">theonaunheim@gmail.com</a>\n",
    "            </p>\n",
    "        </div>\n",
    "        <div style=\"display: table-cell; width: 50%;\">\n",
    "            <p>Tested on <a href=\"https://www.anaconda.com/download/\">Anaconda3  v.5.2.0</a></p>\n",
    "            <p>Revised: 2018-10-31</p>\n",
    "        </div>\n",
    "    </div>\n",
    "</div>\n",
    "\n",
    "<hr>"
   ]
  },
  {
   "cell_type": "markdown",
   "metadata": {},
   "source": [
    "### Generally\n",
    "\n",
    "1) Ask questions! I may not be able to give you an answer off the top of my head, but I can probably come up with something eventually.\n",
    "\n",
    "2) Check the hyperlinks. We've got limited time and there are some really good resources (from people smarter than me).\n",
    "\n",
    "3) We're doing this in Jupyter Notebook format. Press Escape then H to bring up the help screen. Shift + Enter will run any particular cell. See the \"Python Data Ecosystem\" presentation if you're having difficulty with the user interface."
   ]
  },
  {
   "cell_type": "markdown",
   "metadata": {},
   "source": [
    "### Goals\n",
    "\n",
    "This session is intended to provide an overview of the Series object in pandas, which is a fundemental building block of the pandas data analysis library. We'll also tackle some general material that doesn't warrant a completely separate presentation."
   ]
  },
  {
   "cell_type": "markdown",
   "metadata": {},
   "source": [
    "### Disclaimers\n",
    " \n",
    "1) You're responsible for ensuring that you comply with any of your corporate development and model risk management directives yuo may or may not be subject to. If you are, be a good citizen and don't destroy things--you'll muck it up for everyone else. If you have quetions, ask.\n",
    "\n",
    "2) View all my claims with suspicion. If you are depending solely on me, you should probably stop and reexamine your life choices.\n",
    "\n",
    "3) This isn't going to teach you everything you need to know about pandas. It is a first step that is intended to point you in the right direction."
   ]
  },
  {
   "cell_type": "markdown",
   "metadata": {},
   "source": [
    "\n",
    "---\n",
    "\n",
    "# **Basic Pandas, Part 1 (The Series)**\n",
    "\n",
    "---\n",
    "\n",
    "### 1) [Introduction](1_introduction.ipynb)\n",
    "* #### You are here.\n",
    "\n",
    "### 2) [Background](2_background.ipynb)\n",
    "* #### The pandas origin story.\n",
    "\n",
    "### 3) [Series Basics](3_series_basics.ipynb)\n",
    "* #### Start small.\n",
    "\n",
    "### 4) [Basic Indexing](4_basic_indexing.ipynb)\n",
    "* #### Ain't no lookup like a pandas lookup ...\n",
    "\n",
    "### 5) [Advanced Indexing](5_advanced_indexing.ipynb)\n",
    "* #### ... 'cause a pandas lookup's on loc.\n",
    "\n",
    "### 6) [Basic Methods](6_basic_methods.ipynb)\n",
    "* #### Basic methods and attributes (including dt/str namespaces)\n",
    "\n",
    "### 7) [Advanced Methods](7_advanced_methods.ipynb)\n",
    "* #### From groupby to map to apply and back again.\n",
    "\n",
    "### 8) [Series Exercises](8_foundation_solutions.ipynb)\n",
    "* #### Learning by doing > learning by rote\n",
    "\n",
    "### 9) [Series Solutions](9_series_solutions.ipynb)\n",
    "* #### In case you get stuck on #8."
   ]
  },
  {
   "cell_type": "markdown",
   "metadata": {},
   "source": [
    "---\n",
    "\n",
    "# Next Up: [Background](2_background.ipynb)\n",
    "\n",
    "<img style=\"margin-left: 0;\" src=\"static/baby_panda.jpg\" width=\"300\">\n",
    "\n",
    "<div style=\"text-align: left\">\n",
    "Image courtesy of <a href='https://commons.wikimedia.org/wiki/File:Yun_Zi_-_Baby_Giant_Panda_-_IMG_1499_(4305495389).jpg'>fortherock</a>; released under the <a href=\"https://creativecommons.org/licenses/by-sa/2.0/deed.en\">CC BY-SA 2.0</a>\n",
    "</div>\n",
    "\n",
    "---"
   ]
  }
 ],
 "metadata": {
  "anaconda-cloud": {},
  "kernelspec": {
   "display_name": "Python 3",
   "language": "python",
   "name": "python3"
  },
  "language_info": {
   "codemirror_mode": {
    "name": "ipython",
    "version": 3
   },
   "file_extension": ".py",
   "mimetype": "text/x-python",
   "name": "python",
   "nbconvert_exporter": "python",
   "pygments_lexer": "ipython3",
   "version": "3.6.5"
  }
 },
 "nbformat": 4,
 "nbformat_minor": 1
}
