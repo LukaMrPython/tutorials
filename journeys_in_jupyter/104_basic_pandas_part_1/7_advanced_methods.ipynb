{
 "cells": [
  {
   "cell_type": "markdown",
   "metadata": {
    "collapsed": true
   },
   "source": [
    "<a href=\"https://github.com/theonaunheim\">\n",
    "    <img style=\"border-radius: 100%; float: right;\" src=\"static/strawberry_thief_square.png\" width=10% alt=\"Theo Naunheim's Github\">\n",
    "</a>\n",
    "\n",
    "<br style=\"clear: both\">\n",
    "<hr>\n",
    "<br>\n",
    "\n",
    "<h1 align='center'>Advanced Methods</h1>\n",
    "\n",
    "<br>\n",
    "\n",
    "<div style=\"display: table; width: 100%\">\n",
    "    <div style=\"display: table-row; width: 100%;\">\n",
    "        <div style=\"display: table-cell; width: 50%; vertical-align: middle;\">\n",
    "            <img src=\"static/red_panda.jpg\" width=\"80%\">\n",
    "        </div>\n",
    "        <div style=\"display: table-cell; width: 10%\">\n",
    "        </div>\n",
    "        <div style=\"display: table-cell; width: 40%; vertical-align: top;\">\n",
    "            <blockquote>\n",
    "                <p style=\"font-style: italic;\">\"I have yet to see any problem, however complicated, which when you looked at it in the right way, did not become more complicated.\"</p>\n",
    "                <br>\n",
    "                <p>-Poul Anderson</p>\n",
    "            </blockquote>\n",
    "        </div>\n",
    "    </div>\n",
    "</div>\n",
    "\n",
    "\n",
    "<br>\n",
    "\n",
    "\n",
    "\n",
    "\n",
    "<br>\n",
    "\n",
    "<div align='left'>\n",
    "    Image courtesy of <a href='https://commons.wikimedia.org/wiki/File:Red_Panda_-_Nashville_Zoo.jpg'>Pmeenen</a> under the <a href='https://creativecommons.org/licenses/by/2.5/deed.en'>CC BY 2.5</a>\n",
    "</div>\n",
    "\n",
    "<hr>"
   ]
  },
  {
   "cell_type": "code",
   "execution_count": 15,
   "metadata": {},
   "outputs": [],
   "source": [
    "# Import stuff so we can use libraries.\n",
    "import numpy as np\n",
    "import pandas as pd\n",
    "\n",
    "# Use %matplotlib inline to plot in this screen.\n",
    "import matplotlib\n",
    "%matplotlib inline"
   ]
  },
  {
   "cell_type": "markdown",
   "metadata": {},
   "source": [
    "## Advanced Methods\n",
    "\n",
    "In addition to the methods we discussed previously, there is a set of special methods that warrant separate examination. They are:\n",
    "\n",
    "* **[map](https://pandas.pydata.org/pandas-docs/stable/generated/pandas.Series.map.html)**: allows you conveniently transform each value in the Series with a function or key-value mapping.\n",
    "* **[apply](https://pandas.pydata.org/pandas-docs/stable/generated/pandas.Series.apply.html#pandas.Series.apply)**: run a function on an entire Series.\n",
    "* **[groupby](http://pandas.pydata.org/pandas-docs/stable/generated/pandas.Series.groupby.html)**: create a special object for analyzing groups collectively.\n",
    "* **[rolling](https://pandas.pydata.org/pandas-docs/stable/generated/pandas.DataFrame.rolling.html)**: create a special object for performing window functions.\n",
    "* **[str namespace methods](https://pandas.pydata.org/pandas-docs/stable/api.html#string-handling)**: a namespace/collection of vectorized Python string functions.\n",
    "* **[dt namespace methods](https://pandas.pydata.org/pandas-docs/stable/api.html#datetimelike-properties)**: a namespace/collection of methods for dealing with datetimes.\n",
    "* **[plot](https://pandas.pydata.org/pandas-docs/stable/generated/pandas.Series.plot.html)**: this function creates different types of visualizations."
   ]
  },
  {
   "cell_type": "markdown",
   "metadata": {},
   "source": [
    "# Series.map()\n",
    "\n",
    "The map method creates a new Series with each item in the Series transformed in a similar way. Map can use a variety of inputs, but most commonly uses either a 1) a function, 2) a dictionary or Series.\n",
    "\n",
    "This is useful for when you need an arbitrary function instead of the default vectorized operations attached to the Series. Note: you generally won't get the speed of a true vectorized operation, but it does let you use Pandas syntax."
   ]
  },
  {
   "cell_type": "markdown",
   "metadata": {},
   "source": [
    "### Functions Passed to Map()\n",
    "\n",
    "If you pass a function to map, it will:\n",
    "\n",
    "1. Take the Series.\n",
    "2. For each value in the Series, pass the value as an argument for a specific function you passed.\n",
    "\n",
    "\n",
    "    new_value = function(old_value)\n",
    "\n",
    "3. Stuff that new value (can be a different type) into a new Series.\n",
    "4. Return the new Series, which is the same length as the old Series.\n",
    "\n",
    "This makes more sense when you see it in action."
   ]
  },
  {
   "cell_type": "code",
   "execution_count": 25,
   "metadata": {},
   "outputs": [
    {
     "name": "stdout",
     "output_type": "stream",
     "text": [
      "\n",
      "Running is_2() for item 5 ... Input item 5 is greater than 2! Returning False.\n",
      "\n",
      "Running is_2() for item 2 ... Input item 2 is equal to 2! Returning True.\n",
      "\n",
      "Running is_2() for item -5 ... Input item -5 not equal or greater than 2! Implicitly returning None.\n"
     ]
    }
   ],
   "source": [
    "# We define an arbitrary mapping function\n",
    "def is_2(input_item):\n",
    "    '''This function:\n",
    "    \n",
    "       Returns True if input is 2.\n",
    "       Returns False if input is greater than 2.\n",
    "       Does not provide a return value otherwise (implicitly returns None).\n",
    "       \n",
    "    '''\n",
    "    # Print newline.\n",
    "    print(f'\\nRunning is_2() for item {input_item}', end=' ... ')\n",
    "    \n",
    "    # Check if equal to 2.\n",
    "    if input_item == 2:\n",
    "        print(f'Input item {input_item} is equal to 2! Returning True.')\n",
    "        return True\n",
    "    \n",
    "    # Check if greater than 2\n",
    "    if input_item > 2:\n",
    "        print(f'Input item {input_item} is greater than 2! Returning False.')\n",
    "        return False\n",
    "    \n",
    "    print(f'Input item {input_item} not equal or greater than 2! Implicitly returning None.')\n",
    "    \n",
    "    # Fall off end.\n",
    "\n",
    "\n",
    "# Running for individual values (defaults to verbose=True)\n",
    "false_return = is_2(5)\n",
    "true_return  = is_2(2)\n",
    "none_return  = is_2(-5)"
   ]
  },
  {
   "cell_type": "code",
   "execution_count": 30,
   "metadata": {},
   "outputs": [
    {
     "name": "stdout",
     "output_type": "stream",
     "text": [
      "\n",
      "Running is_2() for item 1 ... Input item 1 not equal or greater than 2! Implicitly returning None.\n",
      "\n",
      "Running is_2() for item 2 ... Input item 2 is equal to 2! Returning True.\n",
      "\n",
      "Running is_2() for item 3 ... Input item 3 is greater than 2! Returning False.\n",
      "\n",
      "1    2\n",
      "dtype: int64\n"
     ]
    },
    {
     "data": {
      "text/plain": [
       "0     None\n",
       "1     True\n",
       "2    False\n",
       "dtype: object"
      ]
     },
     "execution_count": 30,
     "metadata": {},
     "output_type": "execute_result"
    }
   ],
   "source": [
    "# Create a series\n",
    "s1 = pd.Series([1,2,3])\n",
    "\n",
    "# Note, you want to pass a function object to our function without calling it ...\n",
    "# Yes: series.map(function)\n",
    "# No!: series.map(function())\n",
    "# Which returns a transformed Series.\n",
    "s2 = s1.map(is_2)\n",
    "\n",
    "# Which is now a regular Series we can now use as a boolean indexer\n",
    "print()\n",
    "print(s1.loc[s2.fillna(False)])\n",
    "\n",
    "# Showing transformed series\n",
    "s2"
   ]
  },
  {
   "cell_type": "code",
   "execution_count": 23,
   "metadata": {},
   "outputs": [
    {
     "data": {
      "text/plain": [
       "0    0.000000\n",
       "1    0.693147\n",
       "2    1.098612\n",
       "dtype: float64"
      ]
     },
     "execution_count": 23,
     "metadata": {},
     "output_type": "execute_result"
    }
   ],
   "source": [
    "# Again, this can be whatever function that takes a single argument. E.g. get log of number.\n",
    "s1.map(np.log)"
   ]
  },
  {
   "cell_type": "markdown",
   "metadata": {},
   "source": [
    "### Dictionaries or Series passed to map()\n",
    "\n",
    "This is much simpler. It's a lot like using a surrogate key in SQL. This will:\n",
    "\n",
    "1. Take the Series.\n",
    "2. For each value in Series:\n",
    "\n",
    "    a. if using a mapping dict, if the value is a key, replace with the value.\n",
    "    \n",
    "    b. if using a mapping Series, if the value is an index value, replace with the data value.\n",
    "    \n",
    "    c. if the value is not found, replace with np.NaN (which may change your dtype)\n",
    "\n",
    "Again, this makes more sense when you see it in action."
   ]
  },
  {
   "cell_type": "code",
   "execution_count": 45,
   "metadata": {},
   "outputs": [
    {
     "name": "stdout",
     "output_type": "stream",
     "text": [
      "\n",
      "Showing original:\n",
      "\n",
      "0      one\n",
      "1      two\n",
      "2    three\n",
      "3     four\n",
      "4     five\n",
      "dtype: object\n",
      "\n",
      "Showing mapping Series:\n",
      "\n",
      "one        uno\n",
      "two        dos\n",
      "four    cuatro\n",
      "dtype: object\n",
      "\n",
      "Showing the new mapped Series:\n",
      "\n",
      "0       uno\n",
      "1       dos\n",
      "2       NaN\n",
      "3    cuatro\n",
      "4       NaN\n",
      "dtype: object\n"
     ]
    }
   ],
   "source": [
    "# Data Series\n",
    "s3 = pd.Series(['one', 'two', 'three', 'four', 'five'])\n",
    "\n",
    "# Mapping Series\n",
    "s4 = pd.Series(\n",
    "    index=['one', 'two', 'four'],\n",
    "    data=['uno', 'dos', 'cuatro']\n",
    ")\n",
    "\n",
    "# Equivalent mapping dict\n",
    "map_dict = {'one': 'uno', 'two': 'dos', 'four': 'cuatro'}\n",
    "\n",
    "# Original series \n",
    "print('\\nShowing original:\\n')\n",
    "print(s3)\n",
    "\n",
    "# Mapping dict\n",
    "print('\\nShowing mapping Series:\\n')\n",
    "print(s4)\n",
    "\n",
    "# Showing output\n",
    "print('\\nShowing the new mapped Series:\\n')\n",
    "s5 = s3.map(s4)\n",
    "s5 = s3.map(map_dict)\n",
    "print(s5)"
   ]
  },
  {
   "cell_type": "code",
   "execution_count": null,
   "metadata": {},
   "outputs": [],
   "source": [
    "# Apply"
   ]
  },
  {
   "cell_type": "code",
   "execution_count": null,
   "metadata": {},
   "outputs": [],
   "source": []
  },
  {
   "cell_type": "code",
   "execution_count": null,
   "metadata": {},
   "outputs": [],
   "source": [
    "# Groupby"
   ]
  },
  {
   "cell_type": "code",
   "execution_count": null,
   "metadata": {},
   "outputs": [],
   "source": []
  },
  {
   "cell_type": "code",
   "execution_count": null,
   "metadata": {},
   "outputs": [],
   "source": [
    "# Rolling"
   ]
  },
  {
   "cell_type": "code",
   "execution_count": null,
   "metadata": {},
   "outputs": [],
   "source": []
  },
  {
   "cell_type": "code",
   "execution_count": null,
   "metadata": {},
   "outputs": [],
   "source": [
    "# String Namespace"
   ]
  },
  {
   "cell_type": "code",
   "execution_count": null,
   "metadata": {},
   "outputs": [],
   "source": []
  },
  {
   "cell_type": "code",
   "execution_count": null,
   "metadata": {},
   "outputs": [],
   "source": [
    "# Datetime Namespace"
   ]
  },
  {
   "cell_type": "code",
   "execution_count": null,
   "metadata": {},
   "outputs": [],
   "source": []
  },
  {
   "cell_type": "code",
   "execution_count": null,
   "metadata": {},
   "outputs": [],
   "source": [
    "# Plot"
   ]
  },
  {
   "cell_type": "code",
   "execution_count": null,
   "metadata": {},
   "outputs": [],
   "source": []
  },
  {
   "cell_type": "markdown",
   "metadata": {},
   "source": [
    "# Additional Learing Resources\n",
    "\n",
    "* ### [Pandas Split-Apply-Combine](https://pandas.pydata.org/pandas-docs/stable/groupby.html)\n",
    "* ### [Pandas Computational Tools](http://pandas.pydata.org/pandas-docs/stable/computation.html)\n",
    "* ### [Pandas Datetime Methods](https://pandas.pydata.org/pandas-docs/stable/api.html#datetimelike-properties)\n",
    "* ### [Pandas String Methods](https://pandas.pydata.org/pandas-docs/stable/api.html#string-handling)\n",
    "* ### [Pandas Vizualization](https://pandas.pydata.org/pandas-docs/stable/visualization.html)"
   ]
  },
  {
   "cell_type": "markdown",
   "metadata": {},
   "source": [
    "---\n",
    "\n",
    "# Next Up: [Preprocessing](3_preprocessing.ipynb)\n",
    "\n",
    "<br>\n",
    "\n",
    "<img style=\"margin-left: 0;\" src=\"static/log_transform.svg\" width=\"20%\">\n",
    "\n",
    "<br>\n",
    "\n",
    "<div align='left'>\n",
    "    Image courtesy of <a href='https://commons.wikimedia.org/wiki/File:Population_vs_area.svg'>Skbkekas</a> under the <a href='https://creativecommons.org/licenses/by-sa/3.0/deed.en'>CC BY-SA 3.0</a>\n",
    "</div>\n",
    "\n",
    "---"
   ]
  }
 ],
 "metadata": {
  "anaconda-cloud": {},
  "kernelspec": {
   "display_name": "Python 3",
   "language": "python",
   "name": "python3"
  },
  "language_info": {
   "codemirror_mode": {
    "name": "ipython",
    "version": 3
   },
   "file_extension": ".py",
   "mimetype": "text/x-python",
   "name": "python",
   "nbconvert_exporter": "python",
   "pygments_lexer": "ipython3",
   "version": "3.6.5"
  }
 },
 "nbformat": 4,
 "nbformat_minor": 1
}
