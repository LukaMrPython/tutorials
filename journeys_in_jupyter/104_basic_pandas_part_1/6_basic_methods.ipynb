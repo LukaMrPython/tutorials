{
 "cells": [
  {
   "cell_type": "markdown",
   "metadata": {
    "collapsed": true
   },
   "source": [
    "<a href=\"https://github.com/theonaunheim\">\n",
    "    <img style=\"border-radius: 100%; float: right;\" src=\"static/strawberry_thief_square.png\" width=10% alt=\"Theo Naunheim's Github\">\n",
    "</a>\n",
    "\n",
    "<br style=\"clear: both\">\n",
    "<hr>\n",
    "<br>\n",
    "\n",
    "<h1 align='center'>Basic Methods</h1>\n",
    "\n",
    "<br>\n",
    "\n",
    "<div style=\"display: table; width: 100%\">\n",
    "    <div style=\"display: table-row; width: 100%;\">\n",
    "        <div style=\"display: table-cell; width: 50%; vertical-align: middle;\">\n",
    "            <img src=\"static/xiao_liwu.jpg\" width=\"400\">\n",
    "        </div>\n",
    "        <div style=\"display: table-cell; width: 10%\">\n",
    "        </div>\n",
    "        <div style=\"display: table-cell; width: 40%; vertical-align: top;\">\n",
    "            <blockquote>\n",
    "                <p style=\"font-style: italic;\">\"Object-oriented programming is an exceptionally bad idea which could only have originated in California.\"</p>\n",
    "                <br>\n",
    "                <p>-Edsger Dijkstra</p>\n",
    "            </blockquote>\n",
    "        </div>\n",
    "    </div>\n",
    "</div>\n",
    "\n",
    "\n",
    "<br>\n",
    "\n",
    "<div align='left'>\n",
    "    Image courtesy of <a href='https://commons.wikimedia.org/wiki/File:Xiao_Liwu_im_San_Diego_Zoo_-_Foto_2.jpeg'>jballeis</a> under the <a href='https://creativecommons.org/licenses/by-sa/3.0/deed.en'>CC BY-SA 3.0</a>\n",
    "</div>\n",
    "\n",
    "<hr>"
   ]
  },
  {
   "cell_type": "code",
   "execution_count": null,
   "metadata": {},
   "outputs": [],
   "source": [
    "# Import stuff so we can use libraries.\n",
    "import numpy as np\n",
    "import pandas as pd\n",
    "\n",
    "import matplotlib\n",
    "%matplotlib inline\n",
    "matplotlib.style.use('fivethirtyeight')"
   ]
  },
  {
   "cell_type": "markdown",
   "metadata": {},
   "source": [
    "## Series Attributes and Methods, Generally\n",
    "\n",
    "As we've mentioned before, Series in Pandas are more than just a data container. Series also have many attributes and methods that you can use. If you're not familiar with object-oriented programming, you can think of attributes as objects that are attached to our Series objects, and methods as functions or behaviors attached to our object that are accessed via 'dot' ('.') notation.\n",
    "\n",
    "Note: we are only scratching the surface of what you can do with methods. We're shooting for a broad but shallow base of knowledge.\n",
    "\n",
    "Note: certain methods may not be available for all types (e.g. Pandas can't give you the standard deviation of a string)."
   ]
  },
  {
   "cell_type": "code",
   "execution_count": null,
   "metadata": {},
   "outputs": [],
   "source": [
    "# Create a series with the name \"Example series!\"\n",
    "s1 = pd.Series([1,2,3,4,5,6], name='Example series!')\n",
    "\n",
    "# And now it has this data attached to it, accessible via dot notation.\n",
    "print('The series has string \\\"' + s1.name + '\" attached as the attribute \"name\".' )\n",
    "\n",
    "# And we can trigger activities based on the data. Methods can be passed arguments.\n",
    "median = s1.median(skipna=True)\n",
    "print('The median() method returns the value: ' + str(median))"
   ]
  },
  {
   "cell_type": "markdown",
   "metadata": {},
   "source": [
    "## Attributes\n",
    "\n",
    "First, let's examine the more useful attributes (there aren't a lot).\n",
    "\n",
    "* **dtype**: the Numpy datatype of the Series, which dictates what you can do with your data.\n",
    "* **name**: the series identifier, which is important for dataframe organization.\n",
    "* **index**: the attached index for the Series (which has its own attributes/methods).\n",
    "* **values**: the raw values of the Series as a Numpy array."
   ]
  },
  {
   "cell_type": "code",
   "execution_count": null,
   "metadata": {},
   "outputs": [],
   "source": [
    "for attribute in [s1.dtype, s1.name, s1.index, s1.values]:\n",
    "    print(attribute)"
   ]
  },
  {
   "cell_type": "markdown",
   "metadata": {},
   "source": [
    "## Methods: Selectors\n",
    "\n",
    "The first group of methods we'll discuss are basic view functions. A lot of times you'll only want to take a peek at a tiny portion of your data. \n",
    "\n",
    "* [**head**](http://pandas.pydata.org/pandas-docs/stable/generated/pandas.Series.head.html): select the first X items (default 5).\n",
    "* [**tail**](http://pandas.pydata.org/pandas-docs/stable/generated/pandas.DataFrame.tail.html#pandas.DataFrame.tail): select the last X items (default 5)."
   ]
  },
  {
   "cell_type": "code",
   "execution_count": null,
   "metadata": {},
   "outputs": [],
   "source": [
    "s1.head(3)"
   ]
  },
  {
   "cell_type": "code",
   "execution_count": null,
   "metadata": {},
   "outputs": [],
   "source": [
    "s1.tail()"
   ]
  },
  {
   "cell_type": "markdown",
   "metadata": {},
   "source": [
    "## Methods: Logical\n",
    "\n",
    "The are simply vectorized versions of Python's all() and any() functions.\n",
    "\n",
    "* [**all**](https://pandas.pydata.org/pandas-docs/stable/generated/pandas.Series.all.html): are all of the values equal to True?\n",
    "* [**any**](https://pandas.pydata.org/pandas-docs/stable/generated/pandas.Series.any.html): are any of the values equal to True?"
   ]
  },
  {
   "cell_type": "code",
   "execution_count": null,
   "metadata": {},
   "outputs": [],
   "source": [
    "# Do all of the values == 20?\n",
    "s3 = pd.Series([20, 20, 30])\n",
    "s4 = s3 == 20 # [True, True, False]\n",
    "s4.all()"
   ]
  },
  {
   "cell_type": "code",
   "execution_count": null,
   "metadata": {},
   "outputs": [],
   "source": [
    "# Are any of the values True?\n",
    "s2 = pd.Series([False, True, False])\n",
    "s2.any()"
   ]
  },
  {
   "cell_type": "markdown",
   "metadata": {},
   "source": [
    "## Methods: Statistics\n",
    "\n",
    "Pandas has an array of statistics functions for you to use (but you'll want Scipy for the fancy stats stuff).\n",
    "\n",
    "* [**corr**](https://pandas.pydata.org/pandas-docs/stable/generated/pandas.Series.corr.html): the statistical correlation between two series.\n",
    "* [**describe**](https://pandas.pydata.org/pandas-docs/stable/generated/pandas.Series.describe.html): a utility function that provides a group of statistical meansures.\n",
    "* [**max**](http://pandas.pydata.org/pandas-docs/stable/generated/pandas.Series.max.html): the maximum value.\n",
    "* [**mean**](http://pandas.pydata.org/pandas-docs/stable/generated/pandas.Series.mean.html): the average (mean) value.\n",
    "* [**median**](https://pandas.pydata.org/pandas-docs/stable/generated/pandas.Series.median.html): the average (median) value.\n",
    "* [**min**](https://pandas.pydata.org/pandas-docs/stable/generated/pandas.Series.min.html): the minimum value.\n",
    "* [**std**](http://pandas.pydata.org/pandas-docs/stable/generated/pandas.Series.std.html): the sample standard deviation.\n",
    "* [**sum**](http://pandas.pydata.org/pandas-docs/stable/generated/pandas.Series.sum.html): the sum of all series elements."
   ]
  },
  {
   "cell_type": "code",
   "execution_count": 36,
   "metadata": {},
   "outputs": [
    {
     "name": "stdout",
     "output_type": "stream",
     "text": [
      "{'max': 200, 'min': -10, 'mean': 29.714285714285715, 'median': 4.0, 'sum': 208, 'std': 75.27441859780848, 'corr': 0.6578845456040049}\n"
     ]
    }
   ],
   "source": [
    "# Medley of statistical functions\n",
    "s5 = pd.Series([-10, 3, 4, 6, 200, 1, 4])\n",
    "s6 = pd.Series([100, 5, -100, 0, 150, 0, 2])\n",
    "\n",
    "print({\n",
    "    'max': s5.max(),\n",
    "    'min': s5.min(),\n",
    "    'mean': s5.mean(),\n",
    "    'median': s5.median(),\n",
    "    'sum': s5.sum(),\n",
    "    'std': s5.std(),\n",
    "    'sum': s5.sum(),\n",
    "    'corr': s5.corr(s6)\n",
    "})"
   ]
  },
  {
   "cell_type": "code",
   "execution_count": 34,
   "metadata": {},
   "outputs": [
    {
     "data": {
      "text/plain": [
       "count      7.000000\n",
       "mean      29.714286\n",
       "std       75.274419\n",
       "min      -10.000000\n",
       "25%        2.000000\n",
       "50%        4.000000\n",
       "75%        5.000000\n",
       "max      200.000000\n",
       "dtype: float64"
      ]
     },
     "execution_count": 34,
     "metadata": {},
     "output_type": "execute_result"
    }
   ],
   "source": [
    "# The basic describe function (the result is itself a series)\n",
    "s5.describe()"
   ]
  },
  {
   "cell_type": "code",
   "execution_count": null,
   "metadata": {},
   "outputs": [],
   "source": []
  },
  {
   "cell_type": "code",
   "execution_count": null,
   "metadata": {},
   "outputs": [],
   "source": [
    "\n",
    "\n",
    "\n",
    "\n",
    "# Transformative\n",
    "s1.astype()\n",
    "s1.drop()\n",
    "s1.drop_duplicates()\n",
    "s1.drop_na()\n",
    "s1.fillna()\n",
    "s1.interpolate\n",
    "s1.cumsum()\n",
    "s1.clip()\n",
    "s1.unique\n",
    "s1.diff()\n",
    "s1.rank()\n",
    "s1.pct_change()\n",
    "quantile.\n",
    "\n",
    "\n",
    "\n",
    "\n",
    "\n",
    "# Identity\n",
    "s1.hasnans()\n",
    "s1.is_unique\n",
    "s1.is_monotonic\n",
    "s1.empty()\n",
    "s1.nonzero\n",
    "s1.notna\n",
    "s1.notnull\n",
    "\n",
    "# Utility\n",
    "s1.iteritems\n",
    "s1.value_counts\n",
    "s1.sample\n",
    "s1.replace\n",
    "s1.round\n",
    "s1.copy()\n",
    "\n",
    "# Sorting\n",
    "s1.sort_index\n",
    "s1.sort_values\n",
    "\n",
    "# Index\n",
    "s1.reindex\n",
    "s1.reset_index # WHERE IS SET INDEX?\n",
    "s1.shift\n",
    "stack\n",
    "unstack\n",
    "s1.idxmax()\n",
    "s1.inxmin() # Vs argmax?\n",
    "\n",
    "# To items\n",
    "s1.to clip csv dense dict excel frame hdf json latex msgpack period pickle sparse sql string timestamp xarray tolist\n",
    "\n",
    "\n",
    "\n",
    "\n",
    "# Second\n",
    "s1.dt\n",
    "s1.map\n",
    "s1.apply\n",
    "s1.groupby\n",
    "s1.rolling\n",
    "s1.str\n",
    "s1.plot"
   ]
  },
  {
   "cell_type": "markdown",
   "metadata": {},
   "source": [
    "# Additional Learing Resources\n",
    "\n",
    "* ### [Scikit-Learn Quick Start](http://scikit-learn.org/stable/tutorial/basic/tutorial.html)\n",
    "* ### [Scikit-Learn Tutorials](http://scikit-learn.org/stable/tutorial/index.html)\n",
    "* ### [Python Data Science Handbook](https://jakevdp.github.io/PythonDataScienceHandbook/05.00-machine-learning.html). Seriously. Read this.\n",
    "* ### [Getting Started with Scikit Learn (Part 1)](https://www.youtube.com/watch?v=L7R4HUQ-eQ0)\n",
    "* ### [Getting Started with Scikit Learn (Part 2)](https://www.youtube.com/watch?v=oGqGxvqA9-k)"
   ]
  },
  {
   "cell_type": "markdown",
   "metadata": {},
   "source": [
    "---\n",
    "\n",
    "# Next Up: [Preprocessing](3_preprocessing.ipynb)\n",
    "\n",
    "<br>\n",
    "\n",
    "<img style=\"margin-left: 0;\" src=\"static/log_transform.svg\" width=\"20%\">\n",
    "\n",
    "<br>\n",
    "\n",
    "<div align='left'>\n",
    "    Image courtesy of <a href='https://commons.wikimedia.org/wiki/File:Population_vs_area.svg'>Skbkekas</a> under the <a href='https://creativecommons.org/licenses/by-sa/3.0/deed.en'>CC BY-SA 3.0</a>\n",
    "</div>\n",
    "\n",
    "---"
   ]
  }
 ],
 "metadata": {
  "anaconda-cloud": {},
  "kernelspec": {
   "display_name": "Python 3",
   "language": "python",
   "name": "python3"
  },
  "language_info": {
   "codemirror_mode": {
    "name": "ipython",
    "version": 3
   },
   "file_extension": ".py",
   "mimetype": "text/x-python",
   "name": "python",
   "nbconvert_exporter": "python",
   "pygments_lexer": "ipython3",
   "version": "3.6.5"
  }
 },
 "nbformat": 4,
 "nbformat_minor": 1
}
