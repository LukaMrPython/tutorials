{
 "cells": [
  {
   "cell_type": "markdown",
   "metadata": {},
   "source": [
    "<a href=\"https://github.com/theonaunheim\">\n",
    "    <img style=\"border-radius: 100%; float: right;\" src=\"static/strawberry_thief_square.png\" width=10% alt=\"Theo Naunheim's Github\">\n",
    "</a>\n",
    "\n",
    "<br style=\"clear: both\">\n",
    "<hr>\n",
    "<br>\n",
    "\n",
    "<h1 style=\"text-align: center;\">Cleaning Data in Pandas</h1>\n",
    "\n",
    "<br>\n",
    "\n",
    "<div>\n",
    "    <a href=\"https://www.python.org\">\n",
    "        <img src=\"static/clean.png\" width=20%>\n",
    "    </a>\n",
    "</div>\n",
    "\n",
    "<br>\n",
    "<br>\n",
    "\n",
    "<div style=\"display: table; width: 100%;\">\n",
    "    <div style=\"display: table-row\">\n",
    "        <div style=\"display: table-cell; width: 50%;\">\n",
    "            <p>Theo Naunheim</p>\n",
    "            <p>\n",
    "                <a href=\"theonaunheim@gmail.com?Subject=Cleaning Data\">theonaunheim@gmail.com</a>\n",
    "            </p>\n",
    "        </div>\n",
    "        <div style=\"display: table-cell; width: 50%;\">\n",
    "            Tested on <a href=\"https://www.anaconda.com/download/\">Anaconda3  v.5.2.0</a>\n",
    "        </div>\n",
    "    </div>\n",
    "</div>\n",
    "\n",
    "<hr>"
   ]
  },
  {
   "cell_type": "markdown",
   "metadata": {},
   "source": [
    "### Generally\n",
    "\n",
    "1) Ask questions! I may not be able to give you an answer off the top of my head, but I can probably come up with something eventually.\n",
    "\n",
    "2) Check the hyperlinks (especially the module hyperlinks). We've got limited time and there are some really good resources (from people smarter than me).\n",
    "\n",
    "3) We're doing this in Jupyter Notebook format. Press Escape then H to bring up the help screen. Shift + Enter will run any particular cell. You can check out the \"Introduction to the Jupyter Ecosystem\" presentation if you want more detail.\n"
   ]
  },
  {
   "cell_type": "markdown",
   "metadata": {},
   "source": [
    "### Goals\n",
    "\n",
    "This session is inteneded to provide an overview of how you can use Python and the pandas library to conduct specific tasks related to:\n",
    "\n",
    "* loading data;\n",
    "* removing and/or compensating for missing data;\n",
    "* cleaning data for specific datatypes;\n",
    "* complex transformations;\n",
    "* other useful technqiues."
   ]
  },
  {
   "cell_type": "markdown",
   "metadata": {},
   "source": [
    "\n",
    "---\n",
    "\n",
    "# **Cleaning Data in Python**\n",
    "\n",
    "---\n",
    "\n",
    "### 1) [Introduction](01_introduction.ipynb)\n",
    "* #### (You are here.)\n",
    "\n",
    "### 2) [Loading and Exploring](02_loading_and_exploring.ipynb)\n",
    "* #### You can’t fix what you can’t see...\n",
    "\n",
    "### 3) [Missing Data](03_missing_data.ipynb)\n",
    "* #### Everything from Null to NaN to None.\n",
    "\n",
    "### 4) [Datatype-Specific Techniques](04_dtype_specific_techniques.ipynb)\n",
    "* #### Datetimes and objects and floats, oh my!\n",
    "\n",
    "### 5) [Other](05_other.ipynb)\n",
    "* #### _Bric-à-brac_, and other fascinating _objets de Python_.\n",
    "\n",
    "---"
   ]
  },
  {
   "cell_type": "markdown",
   "metadata": {},
   "source": [
    "---\n",
    "\n",
    "# Next Up: [Loading and Exploring](02_loading_and_exploring.ipynb)\n",
    "\n",
    "<img style=\"margin-left: 0;\" src=\"static/loading.png\" width=\"200\">\n",
    "\n",
    "<div style=\"text-align: left\">\n",
    "Image courtesy of <a href='https://commons.wikimedia.org/wiki/File:New_Zealand_RP-7.1_(right).svg'>The New Zealand Transport Authority</a>, released into the public domain.\n",
    "</div>\n",
    "\n",
    "---"
   ]
  }
 ],
 "metadata": {
  "anaconda-cloud": {},
  "kernelspec": {
   "display_name": "Python 3",
   "language": "python",
   "name": "python3"
  },
  "language_info": {
   "codemirror_mode": {
    "name": "ipython",
    "version": 3
   },
   "file_extension": ".py",
   "mimetype": "text/x-python",
   "name": "python",
   "nbconvert_exporter": "python",
   "pygments_lexer": "ipython3",
   "version": "3.6.6"
  }
 },
 "nbformat": 4,
 "nbformat_minor": 1
}
