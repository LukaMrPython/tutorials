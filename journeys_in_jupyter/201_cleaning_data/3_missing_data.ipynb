{
 "cells": [
  {
   "cell_type": "markdown",
   "metadata": {
    "collapsed": true
   },
   "source": [
    "<a href=\"https://github.com/theonaunheim\">\n",
    "    <img style=\"border-radius: 100%; float: right;\" src=\"static/strawberry_thief_square.png\" width=10% alt=\"Theo Naunheim's Github\">\n",
    "</a>\n",
    "\n",
    "<br style=\"clear: both\">\n",
    "<hr>\n",
    "<br>\n",
    "\n",
    "<h1 align='center'>Missing Data</h1>\n",
    "\n",
    "<br>\n",
    "\n",
    "<div style=\"display: table; width: 100%\">\n",
    "    <div style=\"display: table-row; width: 100%;\">\n",
    "        <div style=\"display: table-cell; width: 50%; vertical-align: middle;\">\n",
    "            <img src=\"static/empty_set.png\">\n",
    "        </div>\n",
    "        <div style=\"display: table-cell; width: 10%\">\n",
    "        </div>\n",
    "        <div style=\"display: table-cell; width: 40%; vertical-align: top;\">\n",
    "            <blockquote>\n",
    "                    <p style=\"font-style: italic; color: white;\">\n",
    "                    \"The devil's finest trick is to persuade you that he does not exist.\"\n",
    "                    </p>\n",
    "                    <br>\n",
    "                    <p style=\"color: white;\">-Charles Baudelaire</p>\n",
    "            </blockquote>\n",
    "        </div>\n",
    "    </div>\n",
    "</div>\n",
    "\n",
    "<br>\n",
    "\n",
    "\n",
    "<div align='left'>\n",
    "    Image courtesy of <a href='https://commons.wikimedia.org/wiki/File:Empty_set.svg'>Octahedron80</a>, released into the public domain\n",
    "</div>\n",
    "\n",
    "\n",
    "<hr>"
   ]
  },
  {
   "cell_type": "markdown",
   "metadata": {},
   "source": [
    "# Generally\n",
    "\n",
    "Missing data is a fact of life. Consequently. pandas has good resources for dealing with it. Before we get to the tools and tactics available for dealing with missing data, a brief primer on NaNs, Nones, and Nulls:\n",
    "\n",
    "<!--- The parentheisis at the end screws up typical markdown --->\n",
    "### <a href=\"https://en.wikipedia.org/wiki/Null_(SQL)\">Null</a>\n",
    "\n",
    "\n",
    "Null (or NULL, or null) is a datatype in Structured Query Language (SQL) that signifies the absence of a value. It is not the same as zero (0), and it is not the same as an empty string (''). Nulls will generally be converted to something more Pythonic like NaN or None before you will work on it.\n",
    "\n",
    "Example:\n",
    "\n",
    "    SELECT \n",
    "        height \n",
    "    FROM\n",
    "        table \n",
    "    WHERE\n",
    "        height IS NOT NULL;\n",
    "\n",
    "### [None](https://docs.python.org/3.6/library/constants.html#None)\n",
    "\n",
    "None is Python's builtin datatype used to signify the absence of a value. You basically assign it to a variable like anything else. It is different than false, however please note bool(None) == False. \n",
    "\n",
    "Example:\n",
    "\n",
    "    placeholder = None\n",
    "\n",
    "### [NaN](https://docs.scipy.org/doc/numpy-1.13.0/user/misc.html)\n",
    "\n",
    "NaN (not a number) is a datatype from numpy (numpy.NaN, often seen as np.NaN). It is [weird by design](https://en.wikipedia.org/wiki/NaN), but this weirdness allows for some pretty nifty workarounds. Two quick caveats: 1) numpy is technically a float and mixes best with other floats or Python objects; 2) if you are comparing something to NaN, use a specialized function for doing so. When tested for equality, np.NaN == np.NaN is false.\n",
    "\n",
    "Related to NaN is NaT (not a time), which is like a NaN for datetime types.\n",
    "\n",
    "Example:\n",
    "    \n",
    "    s = pandas.Series([np.NaN, 5.0, 1.0, np.NaN])\n"
   ]
  },
  {
   "cell_type": "markdown",
   "metadata": {},
   "source": [
    "---\n",
    "\n",
    "# Modules covered\n",
    "\n",
    "### Standard Library\n",
    "* None\n",
    "\n",
    "### Third-Party Libraries\n",
    "* [pandas](https://pandas.pydata.org/pandas-docs/stable/)\n",
    "* [numpy](https://docs.scipy.org/doc/)\n",
    "\n",
    "\n",
    "# Modules not covered\n",
    "\n",
    "### Standard Library\n",
    "* None\n",
    "\n",
    "### Third-Party Libraries\n",
    "* None\n",
    "\n",
    "---"
   ]
  },
  {
   "cell_type": "code",
   "execution_count": null,
   "metadata": {},
   "outputs": [],
   "source": [
    "# Stdlib imports\n",
    "import pathlib\n",
    "\n",
    "# Third party imports\n",
    "import numpy as np\n",
    "import pandas as pd"
   ]
  },
  {
   "cell_type": "markdown",
   "metadata": {},
   "source": [
    "### <a href=\"https://pandas.pydata.org/pandas-docs/stable/generated/pandas.read_csv.html\">read_csv()</a> allows you to load your NaNs on import.\n",
    "\n",
    "It will automatically pick up 'NA', 'N/A', '#N/A', '', 'NULL', 'null', 'NaN', 'nan', and a variety of other values by default. You can add your own custom NA values using the na_values argument."
   ]
  },
  {
   "cell_type": "code",
   "execution_count": null,
   "metadata": {},
   "outputs": [],
   "source": [
    "# Example of what it looks like.\n",
    "print(pathlib.Path('./data/disability.csv').read_text()[:500])"
   ]
  },
  {
   "cell_type": "code",
   "execution_count": null,
   "metadata": {},
   "outputs": [],
   "source": [
    "# And here's a more complete example.\n",
    "df = pd.read_csv(\n",
    "    './data/disability.csv',\n",
    "    na_values=['CUSTOM_NULL_VALUE'],\n",
    "    parse_dates=['Update Date'],\n",
    "    infer_datetime_format=True,\n",
    ")\n",
    "\n",
    "# Floats are generally better than ints. Don't convert to int unless needed.\n",
    "df.head(5)"
   ]
  },
  {
   "cell_type": "markdown",
   "metadata": {
    "collapsed": true
   },
   "source": [
    "### <a href=\"https://pandas.pydata.org/pandas-docs/stable/generated/pandas.DataFrame.dropna.html\">drona()</a>\n",
    "\n",
    "Both Series and DataFrames support the dropna() method. Unsurprisingly, this drops missing values."
   ]
  },
  {
   "cell_type": "code",
   "execution_count": null,
   "metadata": {},
   "outputs": [],
   "source": [
    "# By default, dropna() will drop any row containing a NaN value.\n",
    "df.dropna().head(5)"
   ]
  },
  {
   "cell_type": "code",
   "execution_count": null,
   "metadata": {},
   "outputs": [],
   "source": [
    "# Demonstating on a series as well. We will skip the Series examples going forward.\n",
    "df['State Code'].dropna().head(5)"
   ]
  },
  {
   "cell_type": "code",
   "execution_count": null,
   "metadata": {},
   "outputs": [],
   "source": [
    "# Using the 'subset' arugment will allows you to drop only if specific columns or columns\n",
    "# have NA values.\n",
    "df.head(5)"
   ]
  },
  {
   "cell_type": "code",
   "execution_count": null,
   "metadata": {},
   "outputs": [],
   "source": [
    "# Drop rows with NaN in 'Population age'\n",
    "df.dropna(subset=['Population age 18-64']).head(5)"
   ]
  },
  {
   "cell_type": "code",
   "execution_count": null,
   "metadata": {},
   "outputs": [],
   "source": [
    "# Drop rows with NaN in 'Update Date' or 'State Code'\n",
    "df.dropna(subset=['Update Date', 'State Code']).head(5)"
   ]
  },
  {
   "cell_type": "markdown",
   "metadata": {},
   "source": [
    "### <a href=\"https://pandas.pydata.org/pandas-docs/stable/generated/pandas.DataFrame.fillna.html\">fillna()</a>\n",
    "\n",
    "Instead of dropping values, sometimes you will want to replace the NaN value or impute a value. This is what the fillna() function does. It can do a variety of different types of fills."
   ]
  },
  {
   "cell_type": "code",
   "execution_count": null,
   "metadata": {},
   "outputs": [],
   "source": [
    "# This replaces all the NAs with zero.\n",
    "df.fillna(0).head(5)"
   ]
  },
  {
   "cell_type": "code",
   "execution_count": null,
   "metadata": {},
   "outputs": [],
   "source": [
    "# This replaces 'File Name' with unknown and 'Update Date' with NaT\n",
    "df.fillna({'File Name': 'Unknown', 'Update Date': np.datetime64('NaT')}).head(5)"
   ]
  },
  {
   "cell_type": "code",
   "execution_count": null,
   "metadata": {},
   "outputs": [],
   "source": [
    "# It can get as complex as you want.\n",
    "# Note: the nice thing is we can calculate column statistics without\n",
    "# gettign rid of the NaN values first. See median usage below.\n",
    "median_val = df['Population age 18-64'].median()\n",
    "df['Population age 18-64'].fillna(median_val).head()"
   ]
  },
  {
   "cell_type": "code",
   "execution_count": null,
   "metadata": {},
   "outputs": [],
   "source": [
    "# It also has handy forward fill and backward fill options.\n",
    "df['State Code'].fillna('').head(13)"
   ]
  },
  {
   "cell_type": "code",
   "execution_count": null,
   "metadata": {},
   "outputs": [],
   "source": [
    "# Forward fill\n",
    "df['State Code'].fillna(method='ffill').head(13)"
   ]
  },
  {
   "cell_type": "code",
   "execution_count": null,
   "metadata": {},
   "outputs": [],
   "source": [
    "# Backfill fill\n",
    "df['State Code'].fillna(method='bfill').head(13)"
   ]
  },
  {
   "cell_type": "markdown",
   "metadata": {},
   "source": [
    "### <a href=\"https://pandas.pydata.org/pandas-docs/stable/generated/pandas.isnull.html\">isnull()</a> /  <a href=\"https://pandas.pydata.org/pandas-docs/stable/generated/pandas.notnull.html\">notnull()</a>\n",
    "\n",
    "The pandas functions isnull() and notnull() are used to test whehter values are null, which allows for boolean indexing."
   ]
  },
  {
   "cell_type": "code",
   "execution_count": null,
   "metadata": {},
   "outputs": [],
   "source": [
    "# View the head\n",
    "df['State Code'].head(6)"
   ]
  },
  {
   "cell_type": "code",
   "execution_count": null,
   "metadata": {},
   "outputs": [],
   "source": [
    "# Check whether null\n",
    "null_mask = df['State Code'].head(6).isnull()\n",
    "null_mask"
   ]
  },
  {
   "cell_type": "code",
   "execution_count": null,
   "metadata": {},
   "outputs": [],
   "source": [
    "# Get the rows with NA State Codes\n",
    "df.head(6)[null_mask]"
   ]
  },
  {
   "cell_type": "code",
   "execution_count": null,
   "metadata": {},
   "outputs": [],
   "source": [
    "# Check whether notnull\n",
    "notnull_mask = df['State Code'].head(6).notnull()\n",
    "notnull_mask"
   ]
  },
  {
   "cell_type": "code",
   "execution_count": null,
   "metadata": {},
   "outputs": [],
   "source": [
    "# Get the rows with valid state codes\n",
    "df.head(6)[notnull_mask]"
   ]
  },
  {
   "cell_type": "code",
   "execution_count": null,
   "metadata": {},
   "outputs": [],
   "source": [
    "# Note, you can also negate the mask with the negation operator ~\n",
    "df.head(6)[~notnull_mask]"
   ]
  },
  {
   "cell_type": "markdown",
   "metadata": {
    "collapsed": true
   },
   "source": [
    "### Np.NaN as a placeholder"
   ]
  },
  {
   "cell_type": "code",
   "execution_count": null,
   "metadata": {},
   "outputs": [],
   "source": [
    "# Creating empty data columns\n",
    "df = pd.DataFrame({'x': np.arange(10) * 7, 'y': np.NaN})\n",
    "df"
   ]
  },
  {
   "cell_type": "code",
   "execution_count": null,
   "metadata": {},
   "outputs": [],
   "source": [
    "df.loc[df['x'] < 30, 'y'] = 'I am less than 30!'\n",
    "df.loc[df['x'] >= 30, 'y'] = 'I am 30 or greater!'\n",
    "df"
   ]
  },
  {
   "cell_type": "markdown",
   "metadata": {},
   "source": [
    "# Additional Learing Resources\n",
    "\n",
    "* ### [Pandas Missing Data Tutorial](https://pandas.pydata.org/pandas-docs/stable/missing_data.html)"
   ]
  },
  {
   "cell_type": "markdown",
   "metadata": {},
   "source": [
    "---\n",
    "\n",
    "# Next Up: [Dtype Specific Techniques](4_dtype_specific_techniques.ipynb)\n",
    "\n",
    "<br>\n",
    "\n",
    "<div align='left'>\n",
    "\n",
    "<img style=\"margin-left: 0;\" src=\"./static/my_kingdom_for_a_decent_data_type_image.png\" width=\"200\">\n",
    "\n",
    "\n",
    "<br>\n",
    "\n",
    "Image courtesy of <a href='https://commons.wikimedia.org/wiki/File:Binario_cropped.png'>MdeVicente</a>, released into the public domain.\n",
    "</div>\n",
    "\n",
    "\n",
    "---"
   ]
  }
 ],
 "metadata": {
  "anaconda-cloud": {},
  "kernelspec": {
   "display_name": "Python 3",
   "language": "python",
   "name": "python3"
  },
  "language_info": {
   "codemirror_mode": {
    "name": "ipython",
    "version": 3
   },
   "file_extension": ".py",
   "mimetype": "text/x-python",
   "name": "python",
   "nbconvert_exporter": "python",
   "pygments_lexer": "ipython3",
   "version": "3.6.6"
  }
 },
 "nbformat": 4,
 "nbformat_minor": 1
}
