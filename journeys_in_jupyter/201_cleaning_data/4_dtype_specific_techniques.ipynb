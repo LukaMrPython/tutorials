{
 "cells": [
  {
   "cell_type": "markdown",
   "metadata": {
    "collapsed": true
   },
   "source": [
    "<a href=\"https://github.com/theonaunheim\">\n",
    "    <img style=\"border-radius: 100%; float: right;\" src=\"static/strawberry_thief_square.png\" width=10% alt=\"Theo Naunheim's Github\">\n",
    "</a>\n",
    "\n",
    "<br style=\"clear: both\">\n",
    "<hr>\n",
    "<br>\n",
    "\n",
    "\n",
    "<h1 align='center'>Data Type-Specific Cleaning Techniques</h1>\n",
    "\n",
    "<br>\n",
    "\n",
    "<div style=\"display: table; width: 100%\">\n",
    "  <div style=\"display: table-row; width: 100%;\">\n",
    "    <div style=\"display: table-cell; width: 50%; vertical-align: middle;\">\n",
    "      <img src=\"static/my_kingdom_for_a_decent_data_type_image.png\">\n",
    "    </div>\n",
    "    <div style=\"display: table-cell; width: 10%\">\n",
    "    </div>\n",
    "    <div style=\"display: table-cell; width: 40%; vertical-align: top;\">\n",
    "      <blockquote>\n",
    "        <p style=\"font-style: italic;\">\"All perfect data is alike; all imperfect data is imperfect in its own janky way.\"</p>\n",
    "        <br>\n",
    "        <p>— Leo Tolstoy (paraphrased)</p>\n",
    "      </blockquote>        \n",
    "    </div>\n",
    "  </div>\n",
    "</div>\n",
    "\n",
    "<br>\n",
    "\n",
    "<div align='left'>\n",
    "    Image courtesy of <a href='https://commons.wikimedia.org/wiki/File:Binario_cropped.png'>MdeVicente</a>, released into the public domain.\n",
    "</div>\n",
    "\n",
    "<hr>"
   ]
  },
  {
   "cell_type": "markdown",
   "metadata": {},
   "source": [
    "# Generally\n",
    "\n",
    "Data type-specific cleaning is where pandas really comes into its own. Whether your data is a timeseries, or a float, or a string, there are a bunch of prefab tools for you to use."
   ]
  },
  {
   "cell_type": "markdown",
   "metadata": {
    "collapsed": true
   },
   "source": [
    "---\n",
    "\n",
    "# Modules covered\n",
    "\n",
    "### Standard Library\n",
    "* [pathlib](https://docs.python.org/3/library/pathlib.html)\n",
    "\n",
    "### Third-Party Libraries\n",
    "* [numpy](https://docs.scipy.org/doc/numpy/)\n",
    "* [pandas](https://pandas.pydata.org/)\n",
    "\n",
    "\n",
    "# Modules not covered\n",
    "\n",
    "### Standard Library\n",
    "* None\n",
    "\n",
    "### Third-Party Libraries\n",
    "* None\n",
    "\n",
    "---"
   ]
  },
  {
   "cell_type": "code",
   "execution_count": null,
   "metadata": {},
   "outputs": [],
   "source": [
    "# Python stdlib imports\n",
    "import pathlib\n",
    "\n",
    "# Third party imports\n",
    "import numpy as np\n",
    "import pandas as pd"
   ]
  },
  {
   "cell_type": "markdown",
   "metadata": {},
   "source": [
    "# Strings\n",
    "\n",
    "[.str namespace methods](https://pandas.pydata.org/pandas-docs/stable/api.html#string-handling)\n",
    "\n",
    "Most of the string-specific functionality within pandas resides in the .str namespace. Each column containing text has this namespace, which allows you to access advanced string functions."
   ]
  },
  {
   "cell_type": "code",
   "execution_count": null,
   "metadata": {},
   "outputs": [],
   "source": [
    "df = pd.read_csv('./data/mangled_data.csv', error_bad_lines=False)\n",
    "print(df.dtypes)\n",
    "df"
   ]
  },
  {
   "cell_type": "code",
   "execution_count": null,
   "metadata": {},
   "outputs": [],
   "source": [
    "# We can convert numbers to strings with the astype method.\n",
    "df.pure_numeric.astype(str)"
   ]
  },
  {
   "cell_type": "code",
   "execution_count": null,
   "metadata": {},
   "outputs": [],
   "source": [
    "# We can run most of our regular string methods.\n",
    "df.surname = df.surname.str.upper()\n",
    "df"
   ]
  },
  {
   "cell_type": "code",
   "execution_count": null,
   "metadata": {},
   "outputs": [],
   "source": [
    "# And chain them if need be (ditch tabs, ditch dashes, clip whitespace)\n",
    "df.surname.str.replace('\\t','').str.replace('-',' ').str.strip()"
   ]
  },
  {
   "cell_type": "code",
   "execution_count": null,
   "metadata": {},
   "outputs": [],
   "source": [
    "mask = df.surname.str.contains('KING')\n",
    "print(mask)\n",
    "df[mask]"
   ]
  },
  {
   "cell_type": "code",
   "execution_count": null,
   "metadata": {},
   "outputs": [],
   "source": [
    "# We can get substrings with the same syntax\n",
    "df.surname.str[:3]"
   ]
  },
  {
   "cell_type": "code",
   "execution_count": null,
   "metadata": {},
   "outputs": [],
   "source": [
    "# We can concatenate strings\n",
    "forename_string = df.forename.str.cat(sep=';')\n",
    "print(forename_string)\n",
    "\n",
    "df.prefix + ' ' + df.forename + ' is my name!'"
   ]
  },
  {
   "cell_type": "code",
   "execution_count": null,
   "metadata": {},
   "outputs": [],
   "source": [
    "# We can split strings\n",
    "print(df.birthday.str.split('/'), '\\n\\n')\n",
    "\n",
    "# And get the first result\n",
    "print(df.birthday.str.split('/').str.get(0), '\\n\\n')\n",
    "\n",
    "# And get a dataframe of results\n",
    "out = df.birthday.str.partition('/', expand=True)\n",
    "out.columns = ['Before First Slash', 'First Slash', 'After First Slash']\n",
    "out"
   ]
  },
  {
   "cell_type": "code",
   "execution_count": null,
   "metadata": {},
   "outputs": [],
   "source": [
    "# And we can use regexes for complex stuff. Socials with an without dashes.\n",
    "df.biography.str.extractall('(\\w*\\d\\d\\d-?\\d\\d-?\\d\\d\\d\\d?\\w*)')"
   ]
  },
  {
   "cell_type": "code",
   "execution_count": null,
   "metadata": {},
   "outputs": [],
   "source": [
    "# And we can replace them\n",
    "df.biography.str.replace('(\\w*\\d\\d\\d[-]?\\d\\d[-]\\d\\d\\d\\d?\\w*)','REDACTION')"
   ]
  },
  {
   "cell_type": "code",
   "execution_count": null,
   "metadata": {},
   "outputs": [],
   "source": [
    "# Unaltered df for comparison\n",
    "df"
   ]
  },
  {
   "cell_type": "code",
   "execution_count": null,
   "metadata": {},
   "outputs": [],
   "source": [
    "# And you can binarize features with get_dummies\n",
    "dummies = df.attributes.str.get_dummies().astype(bool)\n",
    "pd.concat([df, dummies], axis=1)"
   ]
  },
  {
   "cell_type": "markdown",
   "metadata": {},
   "source": [
    "# Numeric\n",
    "\n",
    "There's a whole bunch of numeric methods, but we'll focus on the ones that are most useful for cleaning. Your workhorses are going to be <a href='https://pandas.pydata.org/pandas-docs/stable/generated/pandas.to_numeric.html'>pd.to_numeric()</a>, <a href='http://pandas.pydata.org/pandas-docs/version/0.13.1/generated/pandas.Series.clip.html'>Series.clip()</a>, <a href='https://pandas.pydata.org/pandas-docs/stable/generated/pandas.Series.round.html'> Series.round()/DataFrame.round()</a>, and <a href='https://pandas.pydata.org/pandas-docs/stable/generated/pandas.cut.html'>pd.cut()</a>"
   ]
  },
  {
   "cell_type": "code",
   "execution_count": null,
   "metadata": {},
   "outputs": [],
   "source": [
    "df"
   ]
  },
  {
   "cell_type": "code",
   "execution_count": null,
   "metadata": {},
   "outputs": [],
   "source": [
    "# pd.to_numeric is the best general purpose function for casting to numeric types.\n",
    "\n",
    "# 'ignore keeps the \"bad\" values as they are\n",
    "ignored = pd.to_numeric(df.height, errors='ignore')\n",
    "\n",
    "# 'coerce' changes bad values to np.NaN\n",
    "coerced = pd.to_numeric(df.height, errors='coerce')\n",
    "                  \n",
    "# Note: only float or string columns can have np.NaN\n",
    "pd.DataFrame(\n",
    "    {\n",
    "        'original': df.height, \n",
    "        'ignore': ignored, \n",
    "        'coerce': coerced\n",
    "    }\n",
    ")"
   ]
  },
  {
   "cell_type": "code",
   "execution_count": null,
   "metadata": {},
   "outputs": [],
   "source": [
    "# Sometimes you need to take out characters first. Note, use parens to allow for cleaner chaining.\n",
    "# Also, translate would be much better here.\n",
    "clean = (df.balance.str.strip()\n",
    "                   .str.replace('(', '-')\n",
    "                   .str.replace(')', '')\n",
    "                   .str.replace('$', '')\n",
    "                   .str.replace(' ', ''))\n",
    "\n",
    "# More efficient version of the above\n",
    "translation_table = str.maketrans(\n",
    "    {\n",
    "        '(': '-',\n",
    "        ')': '',\n",
    "        '$': '',\n",
    "        ' ': '',\n",
    "        ',': '',\n",
    "    }\n",
    ")\n",
    "clean = df.balance.str.translate(translation_table)   \n",
    "         \n",
    "pd.DataFrame({\n",
    "    'cleaned_float' : pd.to_numeric(clean),\n",
    "    'original_text' : df.balance,\n",
    "})"
   ]
  },
  {
   "cell_type": "code",
   "execution_count": null,
   "metadata": {},
   "outputs": [],
   "source": [
    "# We round using round.\n",
    "pd.DataFrame(\n",
    "    {\n",
    "        'cleaned'  : pd.to_numeric(clean),\n",
    "        'one_digit': pd.to_numeric(clean).round(1),\n",
    "    }\n",
    ")"
   ]
  },
  {
   "cell_type": "code",
   "execution_count": null,
   "metadata": {},
   "outputs": [],
   "source": [
    "# Often times we need to remove obviously messed up values. Clip sets the floor/ceiling.\n",
    "pd.DataFrame(\n",
    "    {\n",
    "        'original'  : df.height,\n",
    "        'coerced'   : coerced,\n",
    "        'lower_clip': coerced.clip(lower=0),\n",
    "        'upper_clip': coerced.clip(upper=100),\n",
    "        'both_clip' : coerced.clip(lower=0, upper=100),\n",
    "    }\n",
    ")"
   ]
  },
  {
   "cell_type": "code",
   "execution_count": null,
   "metadata": {},
   "outputs": [],
   "source": [
    "# Pandas cut is useful for turning continuous numbers into discrete categories.\n",
    "my_bins = np.arange(0,1.1,.1)\n",
    "pd.DataFrame(\n",
    "    {\n",
    "        'original': df.pure_numeric,\n",
    "        'category': pd.cut(df.pure_numeric, bins=my_bins)\n",
    "    }\n",
    ")\n",
    "\n",
    "# You can also use bins=5 for equally sized bins"
   ]
  },
  {
   "cell_type": "code",
   "execution_count": null,
   "metadata": {},
   "outputs": [],
   "source": [
    "# More usefully\n",
    "pd.DataFrame(\n",
    "    {\n",
    "        'percent': df.pure_numeric,\n",
    "        'grade': pd.cut(\n",
    "            df.pure_numeric, \n",
    "            bins=[0.0, 0.6, .65, .7, .85, 1.0],\n",
    "            labels=['F', 'D', 'C', 'B', 'A']\n",
    "        )\n",
    "    }\n",
    ")"
   ]
  },
  {
   "cell_type": "markdown",
   "metadata": {},
   "source": [
    "# Datetimes\n",
    "\n",
    "[.dt namespace methods](https://pandas.pydata.org/pandas-docs/stable/api.html#datetimelike-properties)\n",
    "\n",
    "Like strings, datetimes have a special namespace used to access their functions."
   ]
  },
  {
   "cell_type": "code",
   "execution_count": null,
   "metadata": {},
   "outputs": [],
   "source": [
    "# Show df for clarity\n",
    "df"
   ]
  },
  {
   "cell_type": "code",
   "execution_count": null,
   "metadata": {},
   "outputs": [],
   "source": [
    "# pd.to_datetime() is our workhorse function\n",
    "pd.DataFrame(\n",
    "    {  \n",
    "        'coerce': pd.to_datetime(df['birthday'], errors='coerce'),\n",
    "        'ignore': pd.to_datetime(df['birthday'], errors='ignore'),\n",
    "    }\n",
    ")"
   ]
  },
  {
   "cell_type": "code",
   "execution_count": null,
   "metadata": {},
   "outputs": [],
   "source": [
    "# It also supports weird date strings without explicit conversion\n",
    "format_string = 'The %dth dayeth of %B in the year %Y'\n",
    "dates = pd.to_datetime(df['birthday'], errors='coerce', format=format_string)"
   ]
  },
  {
   "cell_type": "code",
   "execution_count": null,
   "metadata": {},
   "outputs": [],
   "source": [
    "# This allows us to do all the fancy dt stuff.\n",
    "pd.DataFrame(\n",
    "    {\n",
    "        'converted'    : dates,\n",
    "        'day'          : dates.dt.day,\n",
    "        'month'        : dates.dt.month,\n",
    "        'year'         : dates.dt.year,\n",
    "        'day_in_week'  : dates.dt.dayofweek,\n",
    "        'days_in_month': dates.dt.days_in_month,\n",
    "        'weekday'      : dates.dt.weekday_name\n",
    "    }\n",
    ").dropna()"
   ]
  },
  {
   "cell_type": "markdown",
   "metadata": {},
   "source": [
    "# Strptime and strftime reference\n",
    "\n",
    "<table class=\"docutils\" border=\"1\">\n",
    "<colgroup>\n",
    "<col width=\"15%\">\n",
    "<col width=\"43%\">\n",
    "<col width=\"32%\">\n",
    "<col width=\"9%\">\n",
    "</colgroup>\n",
    "<thead valign=\"bottom\">\n",
    "<tr class=\"row-odd\"><th class=\"head\">Directive</th>\n",
    "<th class=\"head\">Meaning</th>\n",
    "<th class=\"head\">Example</th>\n",
    "</tr>\n",
    "</thead>\n",
    "<tbody valign=\"top\">\n",
    "<tr class=\"row-even\"><td><code class=\"docutils literal notranslate\"><span class=\"pre\">%a</span></code></td>\n",
    "<td>Weekday as locale’s\n",
    "abbreviated name.</td>\n",
    "<td><div class=\"first last line-block\">\n",
    "<div class=\"line\">Sun, Mon, …, Sat\n",
    "(en_US);</div>\n",
    "<div class=\"line\">So, Mo, …, Sa\n",
    "(de_DE)</div>\n",
    "</div>\n",
    "</td>\n",
    "</tr>\n",
    "<tr class=\"row-odd\"><td><code class=\"docutils literal notranslate\"><span class=\"pre\">%A</span></code></td>\n",
    "<td>Weekday as locale’s full name.</td>\n",
    "<td><div class=\"first last line-block\">\n",
    "<div class=\"line\">Sunday, Monday, …,\n",
    "Saturday (en_US);</div>\n",
    "<div class=\"line\">Sonntag, Montag, …,\n",
    "Samstag (de_DE)</div>\n",
    "</div>\n",
    "</td>\n",
    "</tr>\n",
    "<tr class=\"row-even\"><td><code class=\"docutils literal notranslate\"><span class=\"pre\">%w</span></code></td>\n",
    "<td>Weekday as a decimal number,\n",
    "where 0 is Sunday and 6 is\n",
    "Saturday.</td>\n",
    "<td>0, 1, …, 6</td>\n",
    "</tr>\n",
    "<tr class=\"row-odd\"><td><code class=\"docutils literal notranslate\"><span class=\"pre\">%d</span></code></td>\n",
    "<td>Day of the month as a\n",
    "zero-padded decimal number.</td>\n",
    "<td>01, 02, …, 31</td>\n",
    "</tr>\n",
    "<tr class=\"row-even\"><td><code class=\"docutils literal notranslate\"><span class=\"pre\">%b</span></code></td>\n",
    "<td>Month as locale’s abbreviated\n",
    "name.</td>\n",
    "<td><div class=\"first last line-block\">\n",
    "<div class=\"line\">Jan, Feb, …, Dec\n",
    "(en_US);</div>\n",
    "<div class=\"line\">Jan, Feb, …, Dez\n",
    "(de_DE)</div>\n",
    "</div>\n",
    "</td>\n",
    "</tr>\n",
    "<tr class=\"row-odd\"><td><code class=\"docutils literal notranslate\"><span class=\"pre\">%B</span></code></td>\n",
    "<td>Month as locale’s full name.</td>\n",
    "<td><div class=\"first last line-block\">\n",
    "<div class=\"line\">January, February,\n",
    "…, December (en_US);</div>\n",
    "<div class=\"line\">Januar, Februar, …,\n",
    "Dezember (de_DE)</div>\n",
    "</div>\n",
    "</td>\n",
    "</tr>\n",
    "<tr class=\"row-even\"><td><code class=\"docutils literal notranslate\"><span class=\"pre\">%m</span></code></td>\n",
    "<td>Month as a zero-padded\n",
    "decimal number.</td>\n",
    "<td>01, 02, …, 12</td>\n",
    "</tr>\n",
    "<tr class=\"row-odd\"><td><code class=\"docutils literal notranslate\"><span class=\"pre\">%y</span></code></td>\n",
    "<td>Year without century as a\n",
    "zero-padded decimal number.</td>\n",
    "<td>00, 01, …, 99</td>\n",
    "</tr>\n",
    "<tr class=\"row-even\"><td><code class=\"docutils literal notranslate\"><span class=\"pre\">%Y</span></code></td>\n",
    "<td>Year with century as a decimal\n",
    "number.</td>\n",
    "<td>0001, 0002, …, 2013,\n",
    "2014, …, 9998, 9999</td>\n",
    "</tr>\n",
    "<tr class=\"row-odd\"><td><code class=\"docutils literal notranslate\"><span class=\"pre\">%H</span></code></td>\n",
    "<td>Hour (24-hour clock) as a\n",
    "zero-padded decimal number.</td>\n",
    "<td>00, 01, …, 23</td>\n",
    "</tr>\n",
    "<tr class=\"row-even\"><td><code class=\"docutils literal notranslate\"><span class=\"pre\">%I</span></code></td>\n",
    "<td>Hour (12-hour clock) as a\n",
    "zero-padded decimal number.</td>\n",
    "<td>01, 02, …, 12</td>\n",
    "</tr>\n",
    "<tr class=\"row-odd\"><td><code class=\"docutils literal notranslate\"><span class=\"pre\">%p</span></code></td>\n",
    "<td>Locale’s equivalent of either\n",
    "AM or PM.</td>\n",
    "<td><div class=\"first last line-block\">\n",
    "<div class=\"line\">AM, PM (en_US);</div>\n",
    "<div class=\"line\">am, pm (de_DE)</div>\n",
    "</div>\n",
    "</td>\n",
    "</tr>\n",
    "<tr class=\"row-even\"><td><code class=\"docutils literal notranslate\"><span class=\"pre\">%M</span></code></td>\n",
    "<td>Minute as a zero-padded\n",
    "decimal number.</td>\n",
    "<td>00, 01, …, 59</td>\n",
    "</tr>\n",
    "<tr class=\"row-odd\"><td><code class=\"docutils literal notranslate\"><span class=\"pre\">%S</span></code></td>\n",
    "<td>Second as a zero-padded\n",
    "decimal number.</td>\n",
    "<td>00, 01, …, 59</td>\n",
    "</tr>\n",
    "<tr class=\"row-even\"><td><code class=\"docutils literal notranslate\"><span class=\"pre\">%f</span></code></td>\n",
    "<td>Microsecond as a decimal\n",
    "number, zero-padded on the\n",
    "left.</td>\n",
    "<td>000000, 000001, …,\n",
    "999999</td>\n",
    "</tr>\n",
    "<tr class=\"row-odd\"><td><code class=\"docutils literal notranslate\"><span class=\"pre\">%z</span></code></td>\n",
    "<td>UTC offset in the form +HHMM\n",
    "or -HHMM (empty string if the\n",
    "object is naive).</td>\n",
    "<td>(empty), +0000, -0400,\n",
    "+1030</td>\n",
    "</tr>\n",
    "<tr class=\"row-even\"><td><code class=\"docutils literal notranslate\"><span class=\"pre\">%Z</span></code></td>\n",
    "<td>Time zone name (empty string\n",
    "if the object is naive).</td>\n",
    "<td>(empty), UTC, EST, CST</td>\n",
    "</tr>\n",
    "<tr class=\"row-odd\"><td><code class=\"docutils literal notranslate\"><span class=\"pre\">%j</span></code></td>\n",
    "<td>Day of the year as a\n",
    "zero-padded decimal number.</td>\n",
    "<td>001, 002, …, 366</td>\n",
    "</tr>\n",
    "<tr class=\"row-even\"><td><code class=\"docutils literal notranslate\"><span class=\"pre\">%U</span></code></td>\n",
    "<td>Week number of the year\n",
    "(Sunday as the first day of\n",
    "the week) as a zero padded\n",
    "decimal number. All days in a\n",
    "new year preceding the first\n",
    "Sunday are considered to be in\n",
    "week 0.</td>\n",
    "<td>00, 01, …, 53</td>\n",
    "</tr>\n",
    "<tr class=\"row-odd\"><td><code class=\"docutils literal notranslate\"><span class=\"pre\">%W</span></code></td>\n",
    "<td>Week number of the year\n",
    "(Monday as the first day of\n",
    "the week) as a decimal number.\n",
    "All days in a new year\n",
    "preceding the first Monday\n",
    "are considered to be in\n",
    "week 0.</td>\n",
    "<td>00, 01, …, 53</td>\n",
    "</tr>\n",
    "<tr class=\"row-even\"><td><code class=\"docutils literal notranslate\"><span class=\"pre\">%c</span></code></td>\n",
    "<td>Locale’s appropriate date and\n",
    "time representation.</td>\n",
    "<td><div class=\"first last line-block\">\n",
    "<div class=\"line\">Tue Aug 16 21:30:00\n",
    "1988 (en_US);</div>\n",
    "<div class=\"line\">Di 16 Aug 21:30:00\n",
    "1988 (de_DE)</div>\n",
    "</div>\n",
    "</td>\n",
    "</tr>\n",
    "<tr class=\"row-odd\"><td><code class=\"docutils literal notranslate\"><span class=\"pre\">%x</span></code></td>\n",
    "<td>Locale’s appropriate date\n",
    "representation.</td>\n",
    "<td><div class=\"first last line-block\">\n",
    "<div class=\"line\">08/16/88 (None);</div>\n",
    "<div class=\"line\">08/16/1988 (en_US);</div>\n",
    "<div class=\"line\">16.08.1988 (de_DE)</div>\n",
    "</div>\n",
    "</td>\n",
    "</tr>\n",
    "<tr class=\"row-even\"><td><code class=\"docutils literal notranslate\"><span class=\"pre\">%X</span></code></td>\n",
    "<td>Locale’s appropriate time\n",
    "representation.</td>\n",
    "<td><div class=\"first last line-block\">\n",
    "<div class=\"line\">21:30:00 (en_US);</div>\n",
    "<div class=\"line\">21:30:00 (de_DE)</div>\n",
    "</div>\n",
    "</td>\n",
    "</tr>\n",
    "<tr class=\"row-odd\"><td><code class=\"docutils literal notranslate\"><span class=\"pre\">%%</span></code></td>\n",
    "<td>A literal <code class=\"docutils literal notranslate\"><span class=\"pre\">'%'</span></code> character.</td>\n",
    "<td>%</td>\n",
    "</tr>\n",
    "</tbody>\n",
    "</table>"
   ]
  },
  {
   "cell_type": "code",
   "execution_count": null,
   "metadata": {},
   "outputs": [],
   "source": [
    "# Though not optimal, you can use apply()/map() to do more complex transormations\n",
    "spanish_months = {\n",
    "    month: str(index)\n",
    "    for index, month\n",
    "    in enumerate([\n",
    "        'enero','febrero', 'marzo', 'abril', \n",
    "        'mayo', 'junio', 'julio', 'agosto',\n",
    "        'steptiembre', 'octubre', 'noviembre', 'diciembre'\n",
    "    ], start=1)\n",
    "}\n",
    "\n",
    "def custom_converter(cell):\n",
    "    '''This does some simple remapping.'''\n",
    "    try:\n",
    "        # Lower case\n",
    "        content = cell.lower() \n",
    "        # Split based on the comma -> ['enero 5', '2018']\n",
    "        month_and_day, sep, year = content.partition(',')\n",
    "        # Split substring 'enero 5' -> ['enero', '5']\n",
    "        month, day = month_and_day.strip().split()\n",
    "        # Map the spansih month to integer\n",
    "        month = spanish_months[month]\n",
    "        # Create timestring and time\n",
    "        time_string = year + '-' + month + '-' + day\n",
    "        return pd.to_datetime(time_string)\n",
    "    except Exception as e:\n",
    "        return np.NaN\n",
    "\n",
    "spanish = pd.Series(['enero 5, 2018', 'Agosto 20, 2015', 'July 20, 2012'])\n",
    "converted = spanish.map(custom_converter)\n",
    "\n",
    "pd.DataFrame({\n",
    "    'spanish'  : spanish,\n",
    "    'converted': converted,\n",
    "})"
   ]
  },
  {
   "cell_type": "code",
   "execution_count": null,
   "metadata": {},
   "outputs": [],
   "source": [
    "# Normalize sets all the times to midnight\n",
    "bdays = pd.to_datetime(df['birthday'], errors='coerce').dropna()\n",
    "\n",
    "print(bdays)\n",
    "print(bdays.dt.normalize())"
   ]
  },
  {
   "cell_type": "code",
   "execution_count": null,
   "metadata": {},
   "outputs": [],
   "source": [
    "# We can convert to weeks or months using dt.to_period()\n",
    "# Periods are periods of times as opposed to point in time timesteampsl.\n",
    "pd.DataFrame(\n",
    "    {\n",
    "        'week'    : bdays.dt.to_period('W'),\n",
    "        'quarter' : bdays.dt.to_period('Q'),\n",
    "        'hour'    : bdays.dt.to_period('H'),\n",
    "        'month'   : bdays.dt.to_period('M'),\n",
    "        'day'     : bdays.dt.to_period('D'),\n",
    "    }\n",
    ")\n",
    "\n",
    "# See 'Offset Aliases' below for potential strings."
   ]
  },
  {
   "cell_type": "code",
   "execution_count": null,
   "metadata": {},
   "outputs": [],
   "source": [
    "# And you can output strings as needed\n",
    "print(bdays.dt.strftime(format_string))"
   ]
  },
  {
   "cell_type": "markdown",
   "metadata": {},
   "source": [
    "# Additional Learing Resources\n",
    "\n",
    "* ### [Pandas: Working With Text Data](http://pandas.pydata.org/pandas-docs/stable/text.html)\n",
    "* ### [Pandas: Working With Time Series](http://pandas.pydata.org/pandas-docs/stable/timeseries.html)\n",
    "* ### [Pandas: Computational Tools](https://pandas.pydata.org/pandas-docs/stable/computation.html)\n",
    "* ### [Pandas: Offset Aliases](http://pandas.pydata.org/pandas-docs/stable/timeseries.html#offset-aliases)\n",
    "* ### [Python Strftime and Strptime Behavior](https://docs.python.org/3/library/datetime.html#strftime-strptime-behavior)"
   ]
  },
  {
   "cell_type": "markdown",
   "metadata": {},
   "source": [
    "---\n",
    "\n",
    "# Next Up: [Other](5_other.ipynb)\n",
    "\n",
    "<div>\n",
    "    <br>\n",
    "    <img style=\"margin-left: 0;\" src='./static/other.png' width=\"200\">\n",
    "    <br>\n",
    "    Image courtesy of <a href='https://commons.wikimedia.org/wiki/File:Flag_of_None.svg'>Rainer Zenz</a>. Image is public domain.\n",
    "\n",
    "</div>\n",
    "\n",
    "\n",
    "\n",
    "\n",
    "---"
   ]
  }
 ],
 "metadata": {
  "anaconda-cloud": {},
  "kernelspec": {
   "display_name": "Python 3",
   "language": "python",
   "name": "python3"
  },
  "language_info": {
   "codemirror_mode": {
    "name": "ipython",
    "version": 3
   },
   "file_extension": ".py",
   "mimetype": "text/x-python",
   "name": "python",
   "nbconvert_exporter": "python",
   "pygments_lexer": "ipython3",
   "version": "3.6.6"
  }
 },
 "nbformat": 4,
 "nbformat_minor": 1
}
