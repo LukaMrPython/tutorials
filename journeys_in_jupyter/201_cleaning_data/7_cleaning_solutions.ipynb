{
 "cells": [
  {
   "cell_type": "markdown",
   "metadata": {},
   "source": [
    "<a href=\"https://github.com/theonaunheim\">\n",
    "    <img style=\"border-radius: 100%; float: right;\" src=\"static/strawberry_thief_square.png\" width=10% alt=\"Theo Naunheim's Github\">\n",
    "</a>\n",
    "\n",
    "<br style=\"clear: both\">\n",
    "<hr>\n",
    "<br>\n",
    "\n",
    "\n",
    "<br>\n",
    "<h1 align='center'>Cleaning Solutions</h1>\n",
    "<br>\n",
    "\n",
    "---"
   ]
  },
  {
   "cell_type": "markdown",
   "metadata": {
    "collapsed": true
   },
   "source": [
    "# Exercise 1\n",
    "\n",
    "### Load the 'greenway_analysis.xlsx' Excel file into a dataframe, and print information about its data types and general composition."
   ]
  },
  {
   "cell_type": "code",
   "execution_count": null,
   "metadata": {},
   "outputs": [],
   "source": [
    "import pandas as pd\n",
    "\n",
    "\n",
    "# Read excel\n",
    "df = pd.read_excel('./data/greenway_analysis.xlsx')\n",
    "\n",
    "# Get the dtypes information and print out first 5 elements\n",
    "print(df.dtypes.head(5))\n",
    "\n",
    "# Run the info function.\n",
    "df.info()"
   ]
  },
  {
   "cell_type": "markdown",
   "metadata": {
    "collapsed": true
   },
   "source": [
    "# Exercise 2\n",
    "\n",
    "### Take the dataframe from the previous exercise, and drop all elements without a 'segment_length' or a 'facility_length'. Save this data into a new dataframe. Then fill the NaN values in 'groupsize' with the number 0."
   ]
  },
  {
   "cell_type": "code",
   "execution_count": null,
   "metadata": {},
   "outputs": [],
   "source": [
    "# Use dropna with subset (and add a copy() to avoid view warnings)\n",
    "df2 = df.dropna(subset=['segment_length', 'facility_length']).copy()\n",
    "\n",
    "# Fill groupsize with 0.0\n",
    "df2['groupsize'] = df2['groupsize'].fillna(0.0)\n",
    "\n",
    "# Display\n",
    "df2.head(3)"
   ]
  },
  {
   "cell_type": "markdown",
   "metadata": {
    "collapsed": true
   },
   "source": [
    "# Exercise 3\n",
    "\n",
    "### Find all rows with a 'main_greenway' value containing the word 'Trail'. Then get the value counts of this filtered row."
   ]
  },
  {
   "cell_type": "code",
   "execution_count": null,
   "metadata": {},
   "outputs": [],
   "source": [
    "# Get the mask of trail\n",
    "mask = df['main_greenway'].str.contains('Trail')\n",
    "\n",
    "# Filter the df\n",
    "df3 = df.loc[mask]\n",
    "\n",
    "# Get the value counts\n",
    "df3['main_greenway'].value_counts()"
   ]
  },
  {
   "cell_type": "markdown",
   "metadata": {
    "collapsed": true
   },
   "source": [
    "# Exercise 4\n",
    "\n",
    "### Take the dataframe from Exercise 1 and use the 'date' column's .dt.to_period() method to create a monthly column. This increment this column by two months."
   ]
  },
  {
   "cell_type": "code",
   "execution_count": null,
   "metadata": {},
   "outputs": [],
   "source": [
    "# Month column\n",
    "df['month_period'] = df.date.dt.to_period('M')\n",
    "\n",
    "# Increment two months\n",
    "df['month_period_plus_2'] = df['month_period'] + 2\n",
    "\n",
    "# Display and chop.\n",
    "df[['date', 'month_period', 'month_period_plus_2']].head(5)"
   ]
  },
  {
   "cell_type": "markdown",
   "metadata": {
    "collapsed": true
   },
   "source": [
    "# Exercise 5\n",
    "\n",
    "### Take the dataframe from Exercise 1, and convert the 'gw_record_id' column to a string type. Then use the .str.zfill(10) to pad it with strings."
   ]
  },
  {
   "cell_type": "code",
   "execution_count": null,
   "metadata": {},
   "outputs": [],
   "source": [
    "# Covert to string type\n",
    "intermediate = df.gw_record_id.astype(str)\n",
    "\n",
    "# THen run zfill\n",
    "final = intermediate.str.zfill(10)\n",
    "\n",
    "# Display\n",
    "final.head(5)"
   ]
  }
 ],
 "metadata": {
  "anaconda-cloud": {},
  "kernelspec": {
   "display_name": "Python 3",
   "language": "python",
   "name": "python3"
  },
  "language_info": {
   "codemirror_mode": {
    "name": "ipython",
    "version": 3
   },
   "file_extension": ".py",
   "mimetype": "text/x-python",
   "name": "python",
   "nbconvert_exporter": "python",
   "pygments_lexer": "ipython3",
   "version": "3.6.6"
  }
 },
 "nbformat": 4,
 "nbformat_minor": 1
}
