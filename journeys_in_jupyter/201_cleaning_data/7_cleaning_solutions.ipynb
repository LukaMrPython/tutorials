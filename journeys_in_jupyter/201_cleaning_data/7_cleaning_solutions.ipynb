{
 "cells": [
  {
   "cell_type": "markdown",
   "metadata": {},
   "source": [
    "<a href=\"https://github.com/theonaunheim\">\n",
    "    <img style=\"border-radius: 100%; float: right;\" src=\"static/strawberry_thief_square.png\" width=10% alt=\"Theo Naunheim's Github\">\n",
    "</a>\n",
    "\n",
    "<br style=\"clear: both\">\n",
    "<hr>\n",
    "<br>\n",
    "\n",
    "\n",
    "<br>\n",
    "<h1 align='center'>Cleaning Solutions</h1>\n",
    "<br>\n",
    "\n",
    "---"
   ]
  },
  {
   "cell_type": "markdown",
   "metadata": {
    "collapsed": true
   },
   "source": [
    "# Exercise 1\n",
    "\n",
    "### Load the 'greenway_analysis.xlsx' Excel file into a dataframe, and print information about its data types and general composition."
   ]
  },
  {
   "cell_type": "code",
   "execution_count": 1,
   "metadata": {},
   "outputs": [
    {
     "name": "stdout",
     "output_type": "stream",
     "text": [
      "gw_record_id       int64\n",
      "rec              float64\n",
      "seg              float64\n",
      "greenway          object\n",
      "main_greenway     object\n",
      "dtype: object\n",
      "<class 'pandas.core.frame.DataFrame'>\n",
      "RangeIndex: 35407 entries, 0 to 35406\n",
      "Data columns (total 30 columns):\n",
      "gw_record_id       35407 non-null int64\n",
      "rec                30509 non-null float64\n",
      "seg                34753 non-null float64\n",
      "greenway           35407 non-null object\n",
      "main_greenway      35407 non-null object\n",
      "type_code          35315 non-null object\n",
      "type               35315 non-null object\n",
      "own                33959 non-null object\n",
      "season             35120 non-null object\n",
      "date               35045 non-null datetime64[ns]\n",
      "day                35115 non-null object\n",
      "time               34921 non-null float64\n",
      "hour               35100 non-null object\n",
      "temp               0 non-null float64\n",
      "air_quality        6441 non-null object\n",
      "travelmode         8701 non-null object\n",
      "travelmodevalue    8701 non-null float64\n",
      "total              8701 non-null float64\n",
      "gender             4856 non-null object\n",
      "gendervalue        4852 non-null float64\n",
      "race               4553 non-null object\n",
      "racevalue          4553 non-null float64\n",
      "age                6423 non-null object\n",
      "agevalue           6423 non-null float64\n",
      "groupsize          5727 non-null object\n",
      "groupsizevalue     5727 non-null float64\n",
      "avg_size           1233 non-null float64\n",
      "segment_length     2540 non-null float64\n",
      "facility_length    2533 non-null float64\n",
      "date_year          35045 non-null float64\n",
      "dtypes: datetime64[ns](1), float64(14), int64(1), object(14)\n",
      "memory usage: 8.1+ MB\n"
     ]
    }
   ],
   "source": [
    "import pandas as pd\n",
    "\n",
    "\n",
    "# Read excel\n",
    "df = pd.read_excel('./data/greenway_analysis.xlsx')\n",
    "\n",
    "# Get the dtypes information and print out first 5 elements\n",
    "print(df.dtypes.head(5))\n",
    "\n",
    "# Run the info function.\n",
    "df.info()"
   ]
  },
  {
   "cell_type": "markdown",
   "metadata": {
    "collapsed": true
   },
   "source": [
    "# Exercise 2\n",
    "\n",
    "### Take the dataframe from the previous exercise, and drop all elements without a 'segment_length' or a 'facility_length'. Save this data into a new dataframe. Then fill the NaN values in 'groupsize' with the number 0."
   ]
  },
  {
   "cell_type": "code",
   "execution_count": 2,
   "metadata": {},
   "outputs": [
    {
     "data": {
      "text/html": [
       "<div>\n",
       "<style scoped>\n",
       "    .dataframe tbody tr th:only-of-type {\n",
       "        vertical-align: middle;\n",
       "    }\n",
       "\n",
       "    .dataframe tbody tr th {\n",
       "        vertical-align: top;\n",
       "    }\n",
       "\n",
       "    .dataframe thead th {\n",
       "        text-align: right;\n",
       "    }\n",
       "</style>\n",
       "<table border=\"1\" class=\"dataframe\">\n",
       "  <thead>\n",
       "    <tr style=\"text-align: right;\">\n",
       "      <th></th>\n",
       "      <th>gw_record_id</th>\n",
       "      <th>rec</th>\n",
       "      <th>seg</th>\n",
       "      <th>greenway</th>\n",
       "      <th>main_greenway</th>\n",
       "      <th>type_code</th>\n",
       "      <th>type</th>\n",
       "      <th>own</th>\n",
       "      <th>season</th>\n",
       "      <th>date</th>\n",
       "      <th>...</th>\n",
       "      <th>race</th>\n",
       "      <th>racevalue</th>\n",
       "      <th>age</th>\n",
       "      <th>agevalue</th>\n",
       "      <th>groupsize</th>\n",
       "      <th>groupsizevalue</th>\n",
       "      <th>avg_size</th>\n",
       "      <th>segment_length</th>\n",
       "      <th>facility_length</th>\n",
       "      <th>date_year</th>\n",
       "    </tr>\n",
       "  </thead>\n",
       "  <tbody>\n",
       "    <tr>\n",
       "      <th>3</th>\n",
       "      <td>2462</td>\n",
       "      <td>NaN</td>\n",
       "      <td>43.0</td>\n",
       "      <td>Louis Stephens Path</td>\n",
       "      <td>Louis Stephens</td>\n",
       "      <td>P</td>\n",
       "      <td>Multi-use Path</td>\n",
       "      <td>TOC</td>\n",
       "      <td>Summer</td>\n",
       "      <td>2015-07-11</td>\n",
       "      <td>...</td>\n",
       "      <td>NaN</td>\n",
       "      <td>NaN</td>\n",
       "      <td>NaN</td>\n",
       "      <td>NaN</td>\n",
       "      <td>0.0</td>\n",
       "      <td>NaN</td>\n",
       "      <td>NaN</td>\n",
       "      <td>0.88</td>\n",
       "      <td>1.43</td>\n",
       "      <td>2015.0</td>\n",
       "    </tr>\n",
       "    <tr>\n",
       "      <th>12</th>\n",
       "      <td>2465</td>\n",
       "      <td>NaN</td>\n",
       "      <td>40.0</td>\n",
       "      <td>Nancy Branch</td>\n",
       "      <td>Nancy Branch</td>\n",
       "      <td>NaN</td>\n",
       "      <td>NaN</td>\n",
       "      <td>TOC</td>\n",
       "      <td>Summer</td>\n",
       "      <td>2015-06-21</td>\n",
       "      <td>...</td>\n",
       "      <td>NaN</td>\n",
       "      <td>NaN</td>\n",
       "      <td>NaN</td>\n",
       "      <td>NaN</td>\n",
       "      <td>0.0</td>\n",
       "      <td>NaN</td>\n",
       "      <td>NaN</td>\n",
       "      <td>1.10</td>\n",
       "      <td>1.10</td>\n",
       "      <td>2015.0</td>\n",
       "    </tr>\n",
       "    <tr>\n",
       "      <th>15</th>\n",
       "      <td>2467</td>\n",
       "      <td>NaN</td>\n",
       "      <td>47.0</td>\n",
       "      <td>New Hope Church Path</td>\n",
       "      <td>New Hope Church Path</td>\n",
       "      <td>P</td>\n",
       "      <td>Multi-use Path</td>\n",
       "      <td>TOC</td>\n",
       "      <td>Summer</td>\n",
       "      <td>2015-08-15</td>\n",
       "      <td>...</td>\n",
       "      <td>NaN</td>\n",
       "      <td>NaN</td>\n",
       "      <td>NaN</td>\n",
       "      <td>NaN</td>\n",
       "      <td>0.0</td>\n",
       "      <td>NaN</td>\n",
       "      <td>NaN</td>\n",
       "      <td>1.07</td>\n",
       "      <td>1.07</td>\n",
       "      <td>2015.0</td>\n",
       "    </tr>\n",
       "  </tbody>\n",
       "</table>\n",
       "<p>3 rows × 30 columns</p>\n",
       "</div>"
      ],
      "text/plain": [
       "    gw_record_id  rec   seg              greenway         main_greenway  \\\n",
       "3           2462  NaN  43.0   Louis Stephens Path        Louis Stephens   \n",
       "12          2465  NaN  40.0          Nancy Branch          Nancy Branch   \n",
       "15          2467  NaN  47.0  New Hope Church Path  New Hope Church Path   \n",
       "\n",
       "   type_code            type  own  season       date    ...     race  \\\n",
       "3          P  Multi-use Path  TOC  Summer 2015-07-11    ...      NaN   \n",
       "12       NaN             NaN  TOC  Summer 2015-06-21    ...      NaN   \n",
       "15         P  Multi-use Path  TOC  Summer 2015-08-15    ...      NaN   \n",
       "\n",
       "    racevalue  age  agevalue groupsize groupsizevalue  avg_size  \\\n",
       "3         NaN  NaN       NaN       0.0            NaN       NaN   \n",
       "12        NaN  NaN       NaN       0.0            NaN       NaN   \n",
       "15        NaN  NaN       NaN       0.0            NaN       NaN   \n",
       "\n",
       "    segment_length facility_length  date_year  \n",
       "3             0.88            1.43     2015.0  \n",
       "12            1.10            1.10     2015.0  \n",
       "15            1.07            1.07     2015.0  \n",
       "\n",
       "[3 rows x 30 columns]"
      ]
     },
     "execution_count": 2,
     "metadata": {},
     "output_type": "execute_result"
    }
   ],
   "source": [
    "# Use dropna with subset (and add a copy() to avoid view warnings)\n",
    "df2 = df.dropna(subset=['segment_length', 'facility_length']).copy()\n",
    "\n",
    "# Fill groupsize with 0.0\n",
    "df2['groupsize'] = df2['groupsize'].fillna(0.0)\n",
    "\n",
    "# Display\n",
    "df2.head(3)"
   ]
  },
  {
   "cell_type": "markdown",
   "metadata": {
    "collapsed": true
   },
   "source": [
    "# Exercise 3\n",
    "\n",
    "### Find all rows with a 'main_greenway' value containing the word 'Trail'. Then get the value counts of this filtered row."
   ]
  },
  {
   "cell_type": "code",
   "execution_count": 3,
   "metadata": {},
   "outputs": [
    {
     "data": {
      "text/plain": [
       "Oxxford Hunt Trail            832\n",
       "NC 55 Multi-use Trail         457\n",
       "KF Pvt East/West Trail        280\n",
       "KF Pvt North/South Trail      273\n",
       "Farmington Woods Trail Pvt    216\n",
       "Name: main_greenway, dtype: int64"
      ]
     },
     "execution_count": 3,
     "metadata": {},
     "output_type": "execute_result"
    }
   ],
   "source": [
    "# Get the mask of trail\n",
    "mask = df['main_greenway'].str.contains('Trail')\n",
    "\n",
    "# Filter the df\n",
    "df3 = df.loc[mask]\n",
    "\n",
    "# Get the value counts\n",
    "df3['main_greenway'].value_counts()"
   ]
  },
  {
   "cell_type": "markdown",
   "metadata": {
    "collapsed": true
   },
   "source": [
    "# Exercise 4\n",
    "\n",
    "### Take the dataframe from Exercise 1 and use the 'date' column's .dt.to_period() method to create a monthly column. This increment this column by two months."
   ]
  },
  {
   "cell_type": "code",
   "execution_count": 4,
   "metadata": {},
   "outputs": [
    {
     "data": {
      "text/html": [
       "<div>\n",
       "<style scoped>\n",
       "    .dataframe tbody tr th:only-of-type {\n",
       "        vertical-align: middle;\n",
       "    }\n",
       "\n",
       "    .dataframe tbody tr th {\n",
       "        vertical-align: top;\n",
       "    }\n",
       "\n",
       "    .dataframe thead th {\n",
       "        text-align: right;\n",
       "    }\n",
       "</style>\n",
       "<table border=\"1\" class=\"dataframe\">\n",
       "  <thead>\n",
       "    <tr style=\"text-align: right;\">\n",
       "      <th></th>\n",
       "      <th>date</th>\n",
       "      <th>month_period</th>\n",
       "      <th>month_period_plus_2</th>\n",
       "    </tr>\n",
       "  </thead>\n",
       "  <tbody>\n",
       "    <tr>\n",
       "      <th>0</th>\n",
       "      <td>2015-07-11</td>\n",
       "      <td>2015-07</td>\n",
       "      <td>2015-09</td>\n",
       "    </tr>\n",
       "    <tr>\n",
       "      <th>1</th>\n",
       "      <td>2015-07-11</td>\n",
       "      <td>2015-07</td>\n",
       "      <td>2015-09</td>\n",
       "    </tr>\n",
       "    <tr>\n",
       "      <th>2</th>\n",
       "      <td>2015-07-11</td>\n",
       "      <td>2015-07</td>\n",
       "      <td>2015-09</td>\n",
       "    </tr>\n",
       "    <tr>\n",
       "      <th>3</th>\n",
       "      <td>2015-07-11</td>\n",
       "      <td>2015-07</td>\n",
       "      <td>2015-09</td>\n",
       "    </tr>\n",
       "    <tr>\n",
       "      <th>4</th>\n",
       "      <td>2015-07-11</td>\n",
       "      <td>2015-07</td>\n",
       "      <td>2015-09</td>\n",
       "    </tr>\n",
       "  </tbody>\n",
       "</table>\n",
       "</div>"
      ],
      "text/plain": [
       "        date month_period month_period_plus_2\n",
       "0 2015-07-11      2015-07             2015-09\n",
       "1 2015-07-11      2015-07             2015-09\n",
       "2 2015-07-11      2015-07             2015-09\n",
       "3 2015-07-11      2015-07             2015-09\n",
       "4 2015-07-11      2015-07             2015-09"
      ]
     },
     "execution_count": 4,
     "metadata": {},
     "output_type": "execute_result"
    }
   ],
   "source": [
    "# Month column\n",
    "df['month_period'] = df.date.dt.to_period('M')\n",
    "\n",
    "# Increment two months\n",
    "df['month_period_plus_2'] = df['month_period'] + 2\n",
    "\n",
    "# Display and chop.\n",
    "df[['date', 'month_period', 'month_period_plus_2']].head(5)"
   ]
  },
  {
   "cell_type": "markdown",
   "metadata": {
    "collapsed": true
   },
   "source": [
    "# Exercise 5\n",
    "\n",
    "### Take the dataframe from Exercise 1, and convert the 'gw_record_id' column to a string type. Then use the .str.zfill(10) to pad it with strings."
   ]
  },
  {
   "cell_type": "code",
   "execution_count": 5,
   "metadata": {},
   "outputs": [
    {
     "data": {
      "text/plain": [
       "0    0000002462\n",
       "1    0000002462\n",
       "2    0000002462\n",
       "3    0000002462\n",
       "4    0000002463\n",
       "Name: gw_record_id, dtype: object"
      ]
     },
     "execution_count": 5,
     "metadata": {},
     "output_type": "execute_result"
    }
   ],
   "source": [
    "# Covert to string type\n",
    "intermediate = df.gw_record_id.astype(str)\n",
    "\n",
    "# THen run zfill\n",
    "final = intermediate.str.zfill(10)\n",
    "\n",
    "# Display\n",
    "final.head(5)"
   ]
  }
 ],
 "metadata": {
  "anaconda-cloud": {},
  "kernelspec": {
   "display_name": "Python 3",
   "language": "python",
   "name": "python3"
  },
  "language_info": {
   "codemirror_mode": {
    "name": "ipython",
    "version": 3
   },
   "file_extension": ".py",
   "mimetype": "text/x-python",
   "name": "python",
   "nbconvert_exporter": "python",
   "pygments_lexer": "ipython3",
   "version": "3.6.5"
  }
 },
 "nbformat": 4,
 "nbformat_minor": 1
}
