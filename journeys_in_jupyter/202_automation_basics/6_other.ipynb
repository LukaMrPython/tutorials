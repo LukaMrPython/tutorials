{
 "cells": [
  {
   "cell_type": "markdown",
   "metadata": {
    "collapsed": true
   },
   "source": [
    "<a href=\"https://github.com/theonaunheim\">\n",
    "    <img style=\"border-radius: 100%; float: right;\" src=\"static/strawberry_thief_square.png\" width=10% alt=\"Theo Naunheim's Github\">\n",
    "</a>\n",
    "<br style=\"clear: both\">\n",
    "<hr>\n",
    "<br>\n",
    "\n",
    "\n",
    "<h1 align='center'>Other</h1>\n",
    "\n",
    "<br>\n",
    "\n",
    "<div style=\"display: table; width: 100%\">\n",
    "    <div style=\"display: table-row; width: 100%;\">\n",
    "        <div style=\"display: table-cell; width: 50%; vertical-align: middle;\">\n",
    "            <img src=\"static/other.png\" width=\"400\">\n",
    "        </div>\n",
    "        <div style=\"display: table-cell; width: 10%\">\n",
    "        </div>\n",
    "        <div style=\"display: table-cell; width: 40%; vertical-align: top;\">\n",
    "            <blockquote>\n",
    "                <p style=\"font-style: italic;\">\"The standard library exists so that you don't have to re-invent the wheel.\"</p>\n",
    "                <br>\n",
    "                <p>-Bjarne Stroustrup</p>\n",
    "            </blockquote>\n",
    "        </div>\n",
    "    </div>\n",
    "</div>\n",
    "\n",
    "<br>\n",
    "\n",
    "<div align='left'>\n",
    "    <br>\n",
    "    Image courtesy of <a href='https://commons.wikimedia.org/wiki/File:Flag_of_None.svg'>Rainer Zenz</a>. Image is public domain.\n",
    "</div>\n",
    "\n",
    "<hr>"
   ]
  },
  {
   "cell_type": "markdown",
   "metadata": {},
   "source": [
    "# Generally\n",
    "\n",
    "Python is a \"batteries included\" language. If you want to create something, odds are that Python has already done so within its standard library."
   ]
  },
  {
   "cell_type": "markdown",
   "metadata": {
    "collapsed": true
   },
   "source": [
    "---\n",
    "\n",
    "# Modules covered\n",
    "\n",
    "### Standard Library\n",
    "* [collections](https://docs.python.org/3/library/collections.html)\n",
    "* [csv](https://docs.python.org/3/library/csv.html)\n",
    "* [datetime](https://docs.python.org/3/library/datetime.html)\n",
    "* [glob](https://docs.python.org/3/library/glob.html)\n",
    "* [io](https://docs.python.org/3/library/io.html)\n",
    "* [itertools](https://docs.python.org/3/library/itertools.html)\n",
    "* [os](https://docs.python.org/3/library/os.html)\n",
    "* [random](https://docs.python.org/3/library/random.html)\n",
    "* [re](https://docs.python.org/3/library/re.html)\n",
    "* [subprocess](https://docs.python.org/3/library/subprocess.html)\n",
    "* [sys](https://docs.python.org/3/library/sys.html)\n",
    "\n",
    "### Third Party Libraries\n",
    "* None\n",
    "\n",
    "\n",
    "# Modules not covered\n",
    "\n",
    "### Standard Library\n",
    "* A whole bunch\n",
    "\n",
    "### Third Party Libraries\n",
    "* A whole bunch\n",
    "\n",
    "---"
   ]
  },
  {
   "cell_type": "code",
   "execution_count": null,
   "metadata": {},
   "outputs": [],
   "source": [
    "# Python stdlib imports\n",
    "import collections\n",
    "import csv\n",
    "import datetime\n",
    "import glob\n",
    "import io\n",
    "import itertools\n",
    "import os\n",
    "import random\n",
    "import re\n",
    "import subprocess\n",
    "import sys\n",
    "\n",
    "# Third party imports"
   ]
  },
  {
   "cell_type": "markdown",
   "metadata": {},
   "source": [
    "# Collections\n",
    "\n",
    "Collections has a bunch of useful container types such as counters, double ended queues, and specialized dictionaries."
   ]
  },
  {
   "cell_type": "code",
   "execution_count": null,
   "metadata": {},
   "outputs": [],
   "source": [
    "# Counter object makes counting stuff easy.\n",
    "counter = collections.Counter({'RPS': 4, 'CPS': 2})\n",
    "counter['Law Division'] += 1\n",
    "counter['Compliance'] += 5\n",
    "counter + counter"
   ]
  },
  {
   "cell_type": "markdown",
   "metadata": {},
   "source": [
    "# CSV\n",
    "\n",
    "CSV makes parsing CSVs a breeze."
   ]
  },
  {
   "cell_type": "code",
   "execution_count": null,
   "metadata": {},
   "outputs": [],
   "source": [
    "# This provides for a variety of dialects for reading ...\n",
    "with open('./data/sub1/root_vegetable_inventory_00.csv', 'r') as f1:\n",
    "    # Dict reader gives a row per dictionary. Regular reader gives tuple per row.\n",
    "    reader = csv.DictReader(f1)\n",
    "    # Read rows and print if meets condition\n",
    "    for line_no, row in enumerate(reader):\n",
    "        if 10 < line_no < 15:\n",
    "            print(row)\n",
    "\n",
    "print('\\n')\n",
    "            \n",
    "# And writing\n",
    "with open('./data/user_file.csv', 'w+') as f2:\n",
    "    # Dict Writer and Reader work similarly to the readers.\n",
    "    writer = csv.writer(f2)\n",
    "    # Write data\n",
    "    writer.writerows([\n",
    "        ('Forename'  , 'Surname'),\n",
    "        ('Theo'      , 'Naunheim'),\n",
    "        ('David'     , 'Dennison'),\n",
    "    ])\n",
    "\n",
    "# Check to ensure it was written.\n",
    "with open('./data/user_file.csv', 'r') as f2:\n",
    "    print(f2.read())"
   ]
  },
  {
   "cell_type": "markdown",
   "metadata": {},
   "source": [
    "# Datetime\n",
    "\n",
    "Stupid simple datetime manipulation."
   ]
  },
  {
   "cell_type": "code",
   "execution_count": null,
   "metadata": {},
   "outputs": [],
   "source": [
    "# Get now.\n",
    "now = datetime.datetime.now()\n",
    "\n",
    "# Separate out date and time\n",
    "now_date = now.date()\n",
    "now_time = now.time()\n",
    "\n",
    "# Get a delta\n",
    "delta = datetime.timedelta(days=30)\n",
    "thirty_days_from_now = now + delta\n",
    "\n",
    "print('The time is now {} on {}'.format(now_date, now_time))\n",
    "print('In thirty days the datetime will be {}.\\n'.format(thirty_days_from_now))\n",
    "\n",
    "# We can also format strings however we want.\n",
    "format_string_1 = thirty_days_from_now.strftime(\"%m/%d/%Y\")\n",
    "format_string_2 = thirty_days_from_now.strftime(\"%A, %B %d at %I:%m %p\")\n",
    "print('We can format things weirdly like {}'.format(format_string_1))\n",
    "print('We can format things weirdly like {}\\n'.format(format_string_2))\n",
    "\n",
    "print('We can also go from string to time:')\n",
    "datetime.datetime.strptime(format_string_1, \"%m/%d/%Y\")"
   ]
  },
  {
   "cell_type": "markdown",
   "metadata": {},
   "source": [
    "# Glob\n",
    "\n",
    "Pathname wildcards and such. This is also done by pathlib."
   ]
  },
  {
   "cell_type": "code",
   "execution_count": null,
   "metadata": {},
   "outputs": [],
   "source": [
    "# os.path.expanduser('~') is a shortcut for your user folder.\n",
    "search_path = os.path.join(os.path.expanduser('~'), 'Documents', '*.docx')\n",
    "docx_files = glob.glob(search_path, recursive=True)\n",
    "print('{} files found with .docx ending.'.format(len(docx_files)))\n",
    "if len(docx_files) != 0:\n",
    "    print('File 1 is {}.'.format(docx_files[0]))"
   ]
  },
  {
   "cell_type": "markdown",
   "metadata": {},
   "source": [
    "# io\n",
    "\n",
    "Stores text or bytes in a file like container for use in RAM."
   ]
  },
  {
   "cell_type": "code",
   "execution_count": null,
   "metadata": {},
   "outputs": [],
   "source": [
    "# Create string and bytes objects\n",
    "with io.StringIO() as sio:\n",
    "    sio.write('I am text being written to a file like object.')\n",
    "    sio.seek(0)\n",
    "    print(sio.read())\n",
    "    print()\n",
    "    \n",
    "with io.BytesIO() as bio:\n",
    "    bio.write(bytearray([0x69, 0x66, 0x20, 0x79, 0x6f, 0x75, 0x20, 0x63, \n",
    "                         0x6f, 0x6e, 0x76, 0x65, 0x72, 0x74, 0x65, 0x64,\n",
    "                         0x20, 0x74, 0x68, 0x69, 0x73, 0x20, 0x74, 0x6f,\n",
    "                         0x20, 0x74, 0x65, 0x78, 0x74, 0x2c, 0x20, 0x79,\n",
    "                         0x6f, 0x75, 0x20, 0x61, 0x72, 0x65, 0x20, 0x61,\n",
    "                         0x20, 0x6e, 0x65, 0x72, 0x64, 0x2e]))\n",
    "    bio.seek(10)\n",
    "    print([hex(elem) for elem in bio.read()])"
   ]
  },
  {
   "cell_type": "markdown",
   "metadata": {},
   "source": [
    "# Itertools\n",
    "\n",
    "Products"
   ]
  },
  {
   "cell_type": "code",
   "execution_count": null,
   "metadata": {},
   "outputs": [],
   "source": [
    "# Product comes up with unique products.\n",
    "suits = ['Clubs', 'Diamonds', 'Hearts', 'Spades']\n",
    "cards = ['2', '3', '4', '5', '6', '7', '8', '9', '10', 'Jack', 'Queen', 'King', 'Ace']\n",
    "deck = list(itertools.product(cards, suits))\n",
    "first_four_cards = deck[:4]\n",
    "print('The first 4 cards of our deck are:')\n",
    "print(first_four_cards)"
   ]
  },
  {
   "cell_type": "markdown",
   "metadata": {},
   "source": [
    "Combinations ..."
   ]
  },
  {
   "cell_type": "code",
   "execution_count": null,
   "metadata": {},
   "outputs": [],
   "source": [
    "print('Here are the possible combinations of two cards of the number 2:')\n",
    "list(itertools.combinations(first_four_cards, 2))"
   ]
  },
  {
   "cell_type": "markdown",
   "metadata": {},
   "source": [
    "Chains ..."
   ]
  },
  {
   "cell_type": "code",
   "execution_count": null,
   "metadata": {},
   "outputs": [],
   "source": [
    "list(itertools.chain(first_four_cards, first_four_cards))"
   ]
  },
  {
   "cell_type": "markdown",
   "metadata": {},
   "source": [
    "# Random\n",
    "\n",
    "#### THIS IS PSEUDORANDOM. DO NOT USE IT FOR CRYPTOGRAPHIC PURPOSES."
   ]
  },
  {
   "cell_type": "code",
   "execution_count": null,
   "metadata": {},
   "outputs": [],
   "source": [
    "# Randomly select from an iterator.\n",
    "random.choice(deck)"
   ]
  },
  {
   "cell_type": "code",
   "execution_count": null,
   "metadata": {},
   "outputs": [],
   "source": [
    "# Shuffle is self explanatory.\n",
    "random.shuffle(deck)\n",
    "deck[:5]"
   ]
  },
  {
   "cell_type": "code",
   "execution_count": null,
   "metadata": {},
   "outputs": [],
   "source": [
    "# Selection with replacement is choices.\n",
    "random.choices(deck, k=5)"
   ]
  },
  {
   "cell_type": "code",
   "execution_count": null,
   "metadata": {},
   "outputs": [],
   "source": [
    "# No replacement is sample.\n",
    "random.sample(deck, 5)"
   ]
  },
  {
   "cell_type": "markdown",
   "metadata": {},
   "source": [
    "# Re\n",
    "\n",
    "Regexes are a powerful tool for searching text. Think of them as wildcards on steroids."
   ]
  },
  {
   "cell_type": "code",
   "execution_count": null,
   "metadata": {},
   "outputs": [],
   "source": [
    "# Start PDF extraction process.\n",
    "textbook_process = subprocess.run(\n",
    "    ['pdftotext', './data/sub2/foundations_of_data_science.pdf', '-'],\n",
    "    stdout=subprocess.PIPE\n",
    ")\n",
    "\n",
    "# Get text.\n",
    "textbook_text = textbook_process.stdout.decode(errors='replace')\n",
    "\n",
    "# Look for the text in the textbook surrounding the word 'wrong'\n",
    "pattern = re.compile('([\\s\\S]{25}wrong[\\s\\S]{0,25})') \n",
    "\n",
    "# Match the text\n",
    "matches = pattern.findall(textbook_text)\n",
    "\n",
    "# Print out the matches\n",
    "matches"
   ]
  },
  {
   "cell_type": "markdown",
   "metadata": {},
   "source": [
    "# Additional Learing Resources\n",
    "\n",
    "* ### [Wikipedia: Regular Expressions](https://en.wikipedia.org/wiki/Regular_expression)\n",
    "* ### [Regular Expression How To](https://docs.python.org/3/howto/regex.html)\n",
    "* ### [Strftime and Strptime Reference](https://docs.python.org/3/library/datetime.html#strftime-strptime-behavior)"
   ]
  },
  {
   "cell_type": "markdown",
   "metadata": {},
   "source": [
    "---\n",
    "\n",
    "# Questions?\n",
    "\n",
    "---"
   ]
  },
  {
   "cell_type": "markdown",
   "metadata": {},
   "source": [
    "# Next Up: [Automation Exercises](7_automation_exercises.ipynb)"
   ]
  }
 ],
 "metadata": {
  "anaconda-cloud": {},
  "kernelspec": {
   "display_name": "Python 3",
   "language": "python",
   "name": "python3"
  },
  "language_info": {
   "codemirror_mode": {
    "name": "ipython",
    "version": 3
   },
   "file_extension": ".py",
   "mimetype": "text/x-python",
   "name": "python",
   "nbconvert_exporter": "python",
   "pygments_lexer": "ipython3",
   "version": "3.6.5"
  }
 },
 "nbformat": 4,
 "nbformat_minor": 1
}
