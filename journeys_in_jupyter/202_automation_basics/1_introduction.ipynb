{
 "cells": [
  {
   "cell_type": "markdown",
   "metadata": {},
   "source": [
    "<a href=\"https://github.com/theonaunheim\">\n",
    "    <img style=\"border-radius: 100%; float: right;\" src=\"static/strawberry_thief_square.png\" width=10% alt=\"Theo Naunheim's Github\">\n",
    "</a>\n",
    "<br style=\"clear: both\">\n",
    "<hr>\n",
    "<br>\n",
    "\n",
    "\n",
    "<h1 align='center'>General Automation in Python</h1>\n",
    "<br>\n",
    "<br>\n",
    "\n",
    "<div style=\"display: table; width: 100%\">\n",
    "    <div style=\"display: table-row; width: 100%;\">\n",
    "        <div style=\"display: table-cell; width: 50%; vertical-align: middle;\">\n",
    "            <img align='center' src=\"static/Robot.svg\" width=\"50%\">\n",
    "            <div style=\"text-align: left\">\n",
    "                <br>\n",
    "                <br>\n",
    "                Image courtesy of <a href='https://commons.wikimedia.org/wiki/File:Robot.svg'>Freepik</a> under the <a href='https://creativecommons.org/licenses/by/3.0/'>CC 3.0 BY</a>\n",
    "                <br>\n",
    "            </div>\n",
    "        </div>\n",
    "        <div style=\"display: table-cell; width: 10%\">\n",
    "        </div>\n",
    "        <div style=\"display: table-cell; width: 40%; vertical-align: top;\">\n",
    "            <blockquote>\n",
    "                <p style=\"font-style: italic;\">\"You never work for the machine. The machine works for you.\"</p>\n",
    "                <br>\n",
    "                <p>-Quincy Jones</p>\n",
    "            </blockquote>\n",
    "        </div>\n",
    "    </div>\n",
    "</div>\n",
    "\n",
    "<br>\n",
    "<br>\n",
    "<br>\n",
    "\n",
    "\n",
    "\n",
    "\n",
    "\n",
    "<div style=\"display: table; width: 100%;\">\n",
    "    <div style=\"display: table-row\">\n",
    "        <div style=\"display: table-cell; width: 50%;\">\n",
    "            <p>Theo Naunheim</p>\n",
    "            <p>\n",
    "                <a href=\"theonaunheim@gmail.com?Subject=Cleaning Data\">theonaunheim@gmail.com</a>\n",
    "            </p>\n",
    "        </div>\n",
    "        <div style=\"display: table-cell; width: 50%;\">\n",
    "            Tested on <a href=\"https://www.anaconda.com/download/\">Anaconda3  v.5.2.0</a>\n",
    "        </div>\n",
    "    </div>\n",
    "</div>\n",
    "\n",
    "<hr>"
   ]
  },
  {
   "cell_type": "markdown",
   "metadata": {},
   "source": [
    "### Generally\n",
    "\n",
    "1) Ask questions! I may not be able to give you an answer off the top of my head, but I can probably come up with something eventually.\n",
    "\n",
    "2) Check the hyperlinks. We've got limited time and there are some really good resources (from people smarter than me).\n",
    "\n",
    "3) We're doing this in Jupyter Notebook format. Press Escape then H to bring up the help screen. Shift + Enter will run any particular cell. If you need more detail, check the \"Jupyter Ecosystem\" presentation."
   ]
  },
  {
   "cell_type": "markdown",
   "metadata": {},
   "source": [
    "### Goals\n",
    "\n",
    "This session is inteneded to provide an overview of how you can use Python to conduct specific tasks related to:\n",
    "\n",
    "* web-oriented activities;\n",
    "* interacting with databases;\n",
    "* using your local file system;\n",
    "* triggering subprocesses; and,\n",
    "* other related items."
   ]
  },
  {
   "cell_type": "markdown",
   "metadata": {},
   "source": [
    "### Disclaimer\n",
    "\n",
    "This presentation demonstrates whether you *could* automate particular processes; whether you *should* is a different question entirely. \n",
    "\n",
    "You're responsible for ensuring that you comply with any development directives at your organization. Be a good citizen and don't destroy things."
   ]
  },
  {
   "cell_type": "markdown",
   "metadata": {},
   "source": [
    "\n",
    "---\n",
    "\n",
    "# **General Automation in Python**\n",
    "\n",
    "---\n",
    "\n",
    "### 1) [Introduction](1_introduction.ipynb)\n",
    "* #### (You are here.)\n",
    "\n",
    "### 2) [Web](2_web.ipynb)\n",
    "* #### I'm fairly certain this internet thing will catch on some day. Let's learn about it!\n",
    "\n",
    "### 3) [Database](3_database.ipynb)\n",
    "* #### Connecting, storing, querying, etc.\n",
    "\n",
    "### 4) [Files](4_files.ipynb)\n",
    "* #### General file manipulation techniques.\n",
    "\n",
    "### 5) [Subprocesses](5_subprocesses.ipynb)\n",
    "* #### Make your computer work hard so you don't have to.\n",
    "\n",
    "### 6) [Other](6_other.ipynb)\n",
    "* #### Bric-à-brac.\n",
    "\n",
    "### 7) [Automation Exercises](7_automation_exercises.ipynb)\n",
    "* #### Werk.\n",
    "\n",
    "### 8) [Automation Solutions](8_automation_solutions.ipynb)\n",
    "* #### Or don't."
   ]
  },
  {
   "cell_type": "markdown",
   "metadata": {},
   "source": [
    "---\n",
    "\n",
    "# Next Up: [Web](2_web.ipynb)\n",
    "\n",
    "<img style=\"margin-left: 0;\" src=\"static/internet.jpg\" width=\"200\">\n",
    "\n",
    "<div style=\"text-align: left\">\n",
    "Image courtesy of <a href='https://commons.wikimedia.org/wiki/Category:Internet#/media/File:Internet_map_1024.jpg'>The Opte Project</a> under the <a href='https://creativecommons.org/licenses/by/2.5/'>CC 2.5 BY</a>\n",
    "</div>\n",
    "\n",
    "---"
   ]
  }
 ],
 "metadata": {
  "anaconda-cloud": {},
  "kernelspec": {
   "display_name": "Python 3",
   "language": "python",
   "name": "python3"
  },
  "language_info": {
   "codemirror_mode": {
    "name": "ipython",
    "version": 3
   },
   "file_extension": ".py",
   "mimetype": "text/x-python",
   "name": "python",
   "nbconvert_exporter": "python",
   "pygments_lexer": "ipython3",
   "version": "3.6.6"
  }
 },
 "nbformat": 4,
 "nbformat_minor": 1
}
