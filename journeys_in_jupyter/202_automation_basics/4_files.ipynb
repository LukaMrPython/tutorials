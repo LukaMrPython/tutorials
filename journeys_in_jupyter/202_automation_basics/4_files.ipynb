{
 "cells": [
  {
   "cell_type": "markdown",
   "metadata": {
    "collapsed": true
   },
   "source": [
    "<a href=\"https://github.com/theonaunheim\">\n",
    "    <img style=\"border-radius: 100%; float: right;\" src=\"static/strawberry_thief_square.png\" width=10% alt=\"Theo Naunheim's Github\">\n",
    "</a>\n",
    "<br style=\"clear: both\">\n",
    "<hr>\n",
    "<br>\n",
    "\n",
    "\n",
    "<h1 align='center'>Files</h1>\n",
    "\n",
    "<br>\n",
    "\n",
    "<div style=\"display: table; width: 100%\">\n",
    "    <div style=\"display: table-row; width: 100%;\">\n",
    "        <div style=\"display: table-cell; width: 50%; vertical-align: middle;\">\n",
    "            <img src=\"static/file.png\" width=\"200\">\n",
    "        </div>\n",
    "        <div style=\"display: table-cell; width: 10%\">\n",
    "        </div>\n",
    "        <div style=\"display: table-cell; width: 40%; vertical-align: top;\">\n",
    "            <blockquote>\n",
    "                <p style=\"font-style: italic;\">\"A place for everything and everything in its place.\"</p>\n",
    "                <br>\n",
    "                <p>-Benjamin Franklin</p>\n",
    "            </blockquote>\n",
    "        </div>\n",
    "    </div>\n",
    "</div>\n",
    "\n",
    "<br>\n",
    "\n",
    "<div align='left'>\n",
    "    Image courtesy of <a href='https://commons.wikimedia.org/wiki/File:Document_sans_information.svg'>PICOL</a> under the <a href='https://creativecommons.org/licenses/by/3.0/deed.en'>CC BY 3.0</a>\n",
    "</div>\n",
    "\n",
    "<hr>"
   ]
  },
  {
   "cell_type": "markdown",
   "metadata": {},
   "source": [
    "# Generally\n",
    "\n",
    "Files and folders are a pain to deal with manually. Luckily, Python provides ample facilities for moving, copying, renaming, reading, and otherwise mangling files. This provides some of the high-level facilities for interacting with a file system. For simple IO operations, please see the other presentations or [Reading and Writing Files](https://docs.python.org/3/tutorial/inputoutput.html#reading-and-writing-files)."
   ]
  },
  {
   "cell_type": "markdown",
   "metadata": {
    "collapsed": true
   },
   "source": [
    "---\n",
    "\n",
    "# Modules covered\n",
    "\n",
    "### Standard Library\n",
    "* [os](https://docs.python.org/3/library/os.html)\n",
    "* [pathlib](https://docs.python.org/3/library/pathlib.html)\n",
    "* [shutil](https://docs.python.org/3/library/shutil.html)\n",
    "\n",
    "### Third Party Libraries\n",
    "* None\n",
    "\n",
    "\n",
    "# Modules not covered\n",
    "\n",
    "### Standard Library\n",
    "* None\n",
    "\n",
    "### Third Party Libraries\n",
    "* None\n",
    "\n",
    "---"
   ]
  },
  {
   "cell_type": "code",
   "execution_count": null,
   "metadata": {},
   "outputs": [],
   "source": [
    "# Python stdlib imports\n",
    "import os\n",
    "import pathlib\n",
    "import shutil\n",
    "\n",
    "# Third party imports\n"
   ]
  },
  {
   "cell_type": "markdown",
   "metadata": {},
   "source": [
    "# os module\n",
    "\n",
    "The os module is where you will start your journey, though pathlib is generally better.\n",
    "\n",
    "### File and Folder Navigation / Examination"
   ]
  },
  {
   "cell_type": "code",
   "execution_count": null,
   "metadata": {},
   "outputs": [],
   "source": [
    "# Get your parent directory\n",
    "orig_dir = os.getcwd()           # orig_dir = pathlib.Path().cwd()\n",
    "\n",
    "# List contents\n",
    "orig_dir_contents = os.listdir() # orig_dir_contents = list(pathlib.Path().rglob('*'))\n",
    "\n",
    "print(\n",
    "    'We are currently in \"' +\n",
    "    orig_dir +\n",
    "    '\", the contents of which are:\\n' +\n",
    "    '\\n'.join(orig_dir_contents)\n",
    ")"
   ]
  },
  {
   "cell_type": "code",
   "execution_count": null,
   "metadata": {},
   "outputs": [],
   "source": [
    "# Lets change directories!\n",
    "sub_dir = 'data'\n",
    "os.chdir(sub_dir)\n",
    "\n",
    "# List contents of this directory\n",
    "sub_dir_contents = os.listdir()    # (orig_dir / 'data').rglob('*')\n",
    "\n",
    "print(\n",
    "    'We are now in \"' +\n",
    "    sub_dir +\n",
    "    '\", the contents of which are:\\n' +\n",
    "    '\\n'.join(sub_dir_contents)\n",
    ")"
   ]
  },
  {
   "cell_type": "markdown",
   "metadata": {},
   "source": [
    "### File and Folder Creation / Deletion"
   ]
  },
  {
   "cell_type": "code",
   "execution_count": null,
   "metadata": {},
   "outputs": [],
   "source": [
    "# Now create a new folder\n",
    "os.makedirs('subsub1')          # pathlib.Path().mkdir(orig_dir / 'data' / 'subsub1', parent=True)\n",
    "print(os.listdir(), end='\\n\\n')\n",
    "\n",
    "# Now get rid of the subfolder\n",
    "# PYTHON WILL HAPPILY LET YOU SHOOT YOURSELF IN THE FOOT\n",
    "# BE SURE YOU WANT TO DELETE THIS FOREVER IF YOU REMOVE IT\n",
    "os.removedirs('subsub1')        # pathlib.Path().rmdir(orig_dir / 'data' / 'subsub1', parent=True)\n",
    "print(os.listdir(), end='\\n\\n')\n",
    "\n",
    "# You can also remove files with os.remove()\n",
    "with open('my_file', 'w+') as f:\n",
    "    pass\n",
    "print(os.listdir(), end='\\n\\n') \n",
    "\n",
    "os.remove('my_file')\n",
    "print(os.listdir(), end='\\n\\n') # pathlib.Path(orig_dir / 'data' / 'subsub1' / 'my_file').unlink()\n",
    "\n",
    "# And go back to our original directory\n",
    "os.chdir(orig_dir)"
   ]
  },
  {
   "cell_type": "markdown",
   "metadata": {},
   "source": [
    "# os.path\n",
    "\n",
    "Work is hard. Let Python do it. Better yet, do it in pathlib."
   ]
  },
  {
   "cell_type": "code",
   "execution_count": null,
   "metadata": {},
   "outputs": [],
   "source": [
    "directory_contents = os.listdir()\n",
    "directory_contents.append('nonexistant_file')\n",
    "\n",
    "# These give us back lists, so we can do all sorts of handy things\n",
    "for item in directory_contents[-3:]:\n",
    "    # Such as check for existence\n",
    "    if os.path.exists(item):\n",
    "        print(item + ' exists! ')\n",
    "        absolute_path = os.path.abspath(item)\n",
    "        print('Its absolute path is ' + absolute_path + '!')\n",
    "    else:\n",
    "        print('Tricksy coder. ' + item + ' does not exist.')\n",
    "        continue\n",
    "    # Check for the type and certain file attributes\n",
    "    if os.path.isfile(item):\n",
    "        print('It is a file!')\n",
    "    # And determine if it is a directory or not\n",
    "    if os.path.isdir(item):\n",
    "        print('It is a directory!')\n",
    "    print()"
   ]
  },
  {
   "cell_type": "markdown",
   "metadata": {},
   "source": [
    "### It also lets us avoid building paths from scratch"
   ]
  },
  {
   "cell_type": "code",
   "execution_count": null,
   "metadata": {},
   "outputs": [],
   "source": [
    "# 'This path will work on Linux, Mac, and Windows without regard to separators.\n",
    "path = os.path.join('.', 'sub_folder_1', 'sub_folder_2')\n",
    "print(os.path.abspath(path))\n",
    "print()\n",
    "print('Our separator is \"' + os.sep + '\" !')"
   ]
  },
  {
   "cell_type": "markdown",
   "metadata": {},
   "source": [
    "# os.stat\n",
    "\n",
    "os.stat gives us information about files."
   ]
  },
  {
   "cell_type": "code",
   "execution_count": null,
   "metadata": {},
   "outputs": [],
   "source": [
    "iris_path = os.path.join(orig_dir, 'data', 'iris_dataset.csv')\n",
    "\n",
    "stat_obj = os.stat(iris_path)\n",
    "\n",
    "for attr in dir(stat_obj):\n",
    "    if attr.startswith('st'):\n",
    "        print(attr + ': ' + str(getattr(stat_obj, attr)))"
   ]
  },
  {
   "cell_type": "markdown",
   "metadata": {},
   "source": [
    "# os.walk\n",
    "\n",
    "os.walk lets us navigate the file system and perform arbitrary operations.\n",
    "\n",
    "Anything walk can do glob can do better. Glob can do anything better than walk."
   ]
  },
  {
   "cell_type": "code",
   "execution_count": null,
   "metadata": {},
   "outputs": [],
   "source": [
    "for root, folders, files in os.walk(orig_dir):\n",
    "    os.chdir(root)\n",
    "    print('Examining ' + os.path.split(root)[1] + ':')\n",
    "    for file_path in files:\n",
    "        if '.csv' in file_path:\n",
    "            with open(file_path) as f:\n",
    "                data = f.read(10)\n",
    "            print('\\tThe first 10 bytes of {}: {}'.format(file_path, data))\n",
    "\n",
    "# Change working directory to original\n",
    "os.chdir(orig_dir)"
   ]
  },
  {
   "cell_type": "markdown",
   "metadata": {},
   "source": [
    "# pathlib\n",
    "\n",
    "Pathlib is like the above, but simpler."
   ]
  },
  {
   "cell_type": "code",
   "execution_count": null,
   "metadata": {},
   "outputs": [],
   "source": [
    "# Get your documents folder\n",
    "documents_folder = pathlib.Path('C://') / 'Users' / os.environ['USERNAME'] / 'Documents'\n",
    "\n",
    "# Get a list of all excel files in that folder.\n",
    "excel_paths = list(documents_folder.rglob('**/*.xlsx'))\n",
    "\n",
    "try:\n",
    "    # Examine file\n",
    "    f = excel_paths[0]\n",
    "    f_info = {\n",
    "        'drive'      : f.drive,\n",
    "        'parent'     : f.parent,\n",
    "        'name'       : f.name,\n",
    "        'stem'       : f.stem,\n",
    "        'suffox'     : f.suffix,\n",
    "        'uri'        : f.as_uri(),\n",
    "        'parts'      : f.parts,\n",
    "        'suffixes'   : f.suffixes,\n",
    "        'is_file'    : f.is_file(),\n",
    "        'is_dir'     : f.is_dir(),\n",
    "        'first_bytes': f.read_bytes()[:10],\n",
    "        'first_text' : f.read_text(encoding='latin-1')[:10],\n",
    "    }\n",
    "    # Print values of first excel file\n",
    "    for key, value in f_info.items():\n",
    "        print(f'{key}: {value}')\n",
    "        \n",
    "except IndexError:\n",
    "    print(\"You don't appear to have any .xlsx files in your Documents folder.\")"
   ]
  },
  {
   "cell_type": "markdown",
   "metadata": {},
   "source": [
    "### Copying, moving, and deleting\n",
    "\n",
    "Shutil and os have got you covered."
   ]
  },
  {
   "cell_type": "code",
   "execution_count": null,
   "metadata": {},
   "outputs": [],
   "source": [
    "# Change to data folder for simplicity.\n",
    "os.chdir('data')\n",
    "os.listdir()"
   ]
  },
  {
   "cell_type": "code",
   "execution_count": null,
   "metadata": {},
   "outputs": [],
   "source": [
    "# Lets copy test.sqlite3 to sub2\n",
    "shutil.copy('test.sqlite3', 'sub2/test.sqlite3')\n",
    "os.listdir('sub2')"
   ]
  },
  {
   "cell_type": "code",
   "execution_count": null,
   "metadata": {},
   "outputs": [],
   "source": [
    "# Lets move it to a new filename\n",
    "shutil.move('sub2/test.sqlite3', 'sub2/renamed.sqlite3')\n",
    "os.listdir('sub2')"
   ]
  },
  {
   "cell_type": "code",
   "execution_count": null,
   "metadata": {},
   "outputs": [],
   "source": [
    "# Why shutil doesn't have a remove function is above my pay grade\n",
    "os.remove('sub2/renamed.sqlite3')\n",
    "os.listdir('sub2')"
   ]
  },
  {
   "cell_type": "code",
   "execution_count": null,
   "metadata": {},
   "outputs": [],
   "source": [
    "# Lets copy a directory tree\n",
    "shutil.copytree('sub1', 'sub2/subsub1')\n",
    "os.listdir('sub2/subsub1')"
   ]
  },
  {
   "cell_type": "code",
   "execution_count": null,
   "metadata": {},
   "outputs": [],
   "source": [
    "# Lets copy a directory tree\n",
    "shutil.rmtree('sub2/subsub1')\n",
    "os.listdir('sub2')"
   ]
  },
  {
   "cell_type": "markdown",
   "metadata": {},
   "source": [
    "# Additional Learing Resources\n",
    "\n",
    "* ### [Python Tutorial OS Interface](https://docs.python.org/3/tutorial/stdlib.html#operating-system-interface)"
   ]
  },
  {
   "cell_type": "markdown",
   "metadata": {},
   "source": [
    "---\n",
    "\n",
    "# Next Up: [Subprocesses](5_subprocesses.ipynb)\n",
    "\n",
    "<img style=\"margin-left: 0;\" src=\"static/subprocess.png\" width=\"200\">\n",
    "\n",
    "<div align='left'>\n",
    "    <br>\n",
    "    Image courtesy of <a href='https://commons.wikimedia.org/w/index.php?search=split+lane&title=Special:Search&profile=default&fulltext=1&searchToken=dmt3fqeomz3cl82rr4p82nmwh#/media/File:Singapore_Road_Signs_-_Regulatory_Sign_-_Split_Way.svg'>Woodennature</a> under the <a href='https://creativecommons.org/licenses/by/3.0/'>CC BY 3.0</a>\n",
    "</div>\n",
    "\n",
    "\n",
    "---"
   ]
  }
 ],
 "metadata": {
  "anaconda-cloud": {},
  "kernelspec": {
   "display_name": "Python 3",
   "language": "python",
   "name": "python3"
  },
  "language_info": {
   "codemirror_mode": {
    "name": "ipython",
    "version": 3
   },
   "file_extension": ".py",
   "mimetype": "text/x-python",
   "name": "python",
   "nbconvert_exporter": "python",
   "pygments_lexer": "ipython3",
   "version": "3.6.5"
  }
 },
 "nbformat": 4,
 "nbformat_minor": 1
}
