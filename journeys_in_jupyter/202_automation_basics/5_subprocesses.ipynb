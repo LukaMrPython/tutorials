{
 "cells": [
  {
   "cell_type": "markdown",
   "metadata": {
    "collapsed": true
   },
   "source": [
    "<a href=\"https://github.com/theonaunheim\">\n",
    "    <img style=\"border-radius: 100%; float: right;\" src=\"static/strawberry_thief_square.png\" width=10% alt=\"Theo Naunheim's Github\">\n",
    "</a>\n",
    "<br style=\"clear: both\">\n",
    "<hr>\n",
    "<br>\n",
    "\n",
    "<h1 align='center'>Subprocesses</h1>\n",
    "\n",
    "<br>\n",
    "\n",
    "<div style=\"display: table; width: 100%\">\n",
    "    <div style=\"display: table-row; width: 100%;\">\n",
    "        <div style=\"display: table-cell; width: 50%; vertical-align: middle;\">\n",
    "            <img src=\"static/subprocess.png\" width=\"300\">\n",
    "        </div>\n",
    "        <div style=\"display: table-cell; width: 10%\">\n",
    "        </div>\n",
    "        <div style=\"display: table-cell; width: 40%; vertical-align: top;\">\n",
    "            <blockquote>\n",
    "                <p style=\"font-style: italic;\">\"I love to delegate. I am either lazy enough, or busy enough, or trusting enough, or congenial enough, that the notion of leaving tasks in someone else's lap doesn't just sound wise to me, it sounds attractive.\"</p>\n",
    "                <br>\n",
    "                <p>-John Ortberg</p>\n",
    "            </blockquote>\n",
    "        </div>\n",
    "    </div>\n",
    "</div>\n",
    "\n",
    "<br>\n",
    "\n",
    "<div align='left'>\n",
    "    <br>\n",
    "    Image courtesy of <a href='https://commons.wikimedia.org/w/index.php?search=split+lane&title=Special:Search&profile=default&fulltext=1&searchToken=dmt3fqeomz3cl82rr4p82nmwh#/media/File:Singapore_Road_Signs_-_Regulatory_Sign_-_Split_Way.svg'>Woodennature</a> under the <a href='https://creativecommons.org/licenses/by/3.0/'>CC BY 3.0</a>\n",
    "</div>\n",
    "\n",
    "<hr>"
   ]
  },
  {
   "cell_type": "markdown",
   "metadata": {},
   "source": [
    "# Generally\n",
    "\n",
    "Sometimes you just to call a process. Python makes handing off work to other processes fairly painless."
   ]
  },
  {
   "cell_type": "markdown",
   "metadata": {
    "collapsed": true
   },
   "source": [
    "---\n",
    "\n",
    "# Modules covered\n",
    "\n",
    "### Standard Library\n",
    "* [asyncio](https://docs.python.org/3/library/asyncio.html)\n",
    "* [multiprocessing](https://docs.python.org/3.6/library/multiprocessing.html)\n",
    "* [os](https://docs.python.org/3/library/os.html)\n",
    "* [pathlib](https://docs.python.org/3/library/pathlib.html)\n",
    "* [random](https://docs.python.org/3/library/random.html)\n",
    "* [subprocess](https://docs.python.org/3/library/subprocess.html)\n",
    "* [time](https://docs.python.org/3/library/time.html)\n",
    "\n",
    "### Third Party Libraries\n",
    "* [comtypes.client](https://pythonhosted.org/comtypes/)\n",
    "* [win32com.client](http://docs.activestate.com/activepython/2.4/pywin32/com.html)\n",
    "\n",
    "\n",
    "# Modules not covered\n",
    "\n",
    "### Standard Library\n",
    "* None\n",
    "\n",
    "### Third Party Libraries\n",
    "* None\n",
    "\n",
    "---"
   ]
  },
  {
   "cell_type": "code",
   "execution_count": null,
   "metadata": {},
   "outputs": [],
   "source": [
    "# Python stdlib imports\n",
    "import asyncio\n",
    "import multiprocessing\n",
    "import os\n",
    "import pathlib\n",
    "import random\n",
    "import subprocess\n",
    "import time\n",
    "\n",
    "# Third party imports\n",
    "import comtypes.client\n",
    "import win32com.client"
   ]
  },
  {
   "cell_type": "markdown",
   "metadata": {},
   "source": [
    "# subprocess module\n",
    "\n",
    "Subprocess is the easiest way to trigger processes. Previously this was done through the subprocess.call(), subprocess.check_output(), and subprocess.Popeen. Now it is largely done through subprocess.run().\n",
    "\n",
    "### <a href='https://docs.python.org/3/library/subprocess.html#using-the-subprocess-module'>run()</a>"
   ]
  },
  {
   "cell_type": "code",
   "execution_count": null,
   "metadata": {},
   "outputs": [],
   "source": [
    "# If you don't need output, run it without a stdout argument. Simply pass a list of arguments.\n",
    "process = subprocess.run(['msg', os.environ['USERNAME'], 'We triggered the \"msg\" program!'])\n",
    "\n",
    "process"
   ]
  },
  {
   "cell_type": "code",
   "execution_count": null,
   "metadata": {},
   "outputs": [],
   "source": [
    "# If you need output, pass it a standard out argument.\n",
    "process = subprocess.run(['ping', 'localhost', '-n', '1'], stdout=subprocess.PIPE) #, shell=True)\n",
    "\n",
    "print(process.stdout.decode())"
   ]
  },
  {
   "cell_type": "code",
   "execution_count": null,
   "metadata": {},
   "outputs": [],
   "source": [
    "# This is great for offloading onto efficient C-based processes. For each PDF.\n",
    "for path in pathlib.Path('./data').rglob('*.pdf'):\n",
    "    # Setup arguments\n",
    "    args = ['pdftotext', str(path.absolute()), '-']\n",
    "    # Extract text with pdftotext subprocess (you have this if you have Git).\n",
    "    process = subprocess.run(args, stdout=subprocess.PIPE, shell=True)\n",
    "    # Decode text and ignore errors\n",
    "    output = process.stdout.decode(errors='replace')[:100]\n",
    "    # Display.\n",
    "    print('''The first 100 characters of {} are:\\n\\n{}\\n\\n\\n\\n'''.format(path, output))\n",
    "    \n",
    "\n",
    "# If this errors out, you probably don't have pdftotext installed (it comes with Git)"
   ]
  },
  {
   "cell_type": "markdown",
   "metadata": {},
   "source": [
    "### <a href=\"https://docs.python.org/3/library/subprocess.html#subprocess.check_output\">check_outout()</a>\n",
    "\n",
    "Check output may be simpler."
   ]
  },
  {
   "cell_type": "code",
   "execution_count": null,
   "metadata": {},
   "outputs": [],
   "source": [
    "# Only works if you're running Microsoft Edge\n",
    "output = subprocess.check_output(['tasklist', '/FI', 'IMAGENAME eq MicrosoftEdge.exe'])\n",
    "\n",
    "print(output.decode())"
   ]
  },
  {
   "cell_type": "markdown",
   "metadata": {},
   "source": [
    "# comtypes.client / win32com.client\n",
    "\n",
    "COM types are useful ways to hook into Windows-specific subprocesses. You may be familiar with this through \"CreateObject\" in VBA or if you use C#. The usage follows roughly the same path as VBA, but with clearer syntax.\n",
    "\n",
    "Note: you shouldn't distribute data in Excel format if you can help it, but if you need to, we have xlwings, pandas.read_excel, and DataFrame.to_excel().\n",
    "\n",
    "This may not work unless you have the newest version of Office."
   ]
  },
  {
   "cell_type": "code",
   "execution_count": null,
   "metadata": {},
   "outputs": [],
   "source": [
    "# This requires word.\n",
    "\n",
    "# Lets take this content ...\n",
    "CONTENT = '''\n",
    "\n",
    "https://youtu.be/kCBxI9yKLgw\n",
    "\n",
    "When I Was a Lad\n",
    "\n",
    "When I was a lad I served a term\n",
    "As office boy to an Attorney's firm.\n",
    "I cleaned the windows and I swept the floor,\n",
    "And I polished up the handle of the big front door.\n",
    "(He polished up the handle of the big front door.)\n",
    "I polished up that handle so carefully\n",
    "That now I am the Ruler of the Queen's Navy!\n",
    "(He polished up that handle so carefully,\n",
    "That now he is the ruler of the Queen's Navy!)\n",
    "\n",
    "'''\n",
    "\n",
    "#  Create path for word file.\n",
    "OUTPUT_PATH = str(pathlib.Path('data/hms_pinafore.docx').absolute())\n",
    "\n",
    "# Create a Word application object\n",
    "# word = comtypes.client.CreateObject(\"Word.Application\")\n",
    "word = win32com.client.Dispatch('Word.Application')\n",
    "\n",
    "# Let's make it Visible so we can see what is going on.\n",
    "word.Visible = True\n",
    "\n",
    "# Create a document\n",
    "doc = word.Documents.Add()\n",
    "\n",
    "# Set the text\n",
    "word.Selection.Text = CONTENT\n",
    "\n",
    "# Save to disk.\n",
    "doc.SaveAs(OUTPUT_PATH)\n",
    "\n",
    "# Close the doc\n",
    "doc.Close()\n",
    "\n",
    "# Quit the program. It will continue consuming memory even if errors, unless closed.\n",
    "word.Quit()"
   ]
  },
  {
   "cell_type": "markdown",
   "metadata": {},
   "source": [
    "# multiprocessing module\n",
    "\n",
    "# Note: none of these concurrency examples will work because multiprocessing must occur in your main namespace, not Jupyter.\n",
    "\n",
    "If you simply want to spin off Python jobs onto other CPU cores, you can use the multiprocessing module. This can be as simple or as complicated as you want it to be.\n",
    "\n",
    "Also, if you want managers, sockets, mutexes, events, and all sorts of fancy, you can do that.\n",
    "\n",
    "Note: this allows you to bypass the [Global Interpreter Lock (GIL)](https://wiki.python.org/moin/GlobalInterpreterLock).\n",
    "\n",
    "### Basic Pool"
   ]
  },
  {
   "cell_type": "code",
   "execution_count": null,
   "metadata": {},
   "outputs": [],
   "source": [
    "def blocking_process(delay):\n",
    "    '''This process blocks for a specified period of time and returns a string.'''\n",
    "    time.sleep(delay)\n",
    "    return(\"I slept for {} seconds!\".format(delay))\n",
    "    \n",
    "if __name__ == '__main__':\n",
    "\n",
    "    # Get the core count so you don't overload burden your computer\n",
    "    core_count = multiprocessing.cpu_count()\n",
    "    # Create a pool based on core_count or core_count - 1\n",
    "    pool = multiprocessing.Pool(core_count)\n",
    "    # Lay out your arguments\n",
    "    args = [0, 1, 2, 3, 4]\n",
    "    # Map the function and arguments to the pool\n",
    "    result = pool.map(blocking_process, args)\n",
    "\n",
    "    this_would_produce = [\n",
    "        \"I slept for 0 seconds!\",\n",
    "        \"I slept for 1 seconds!\",\n",
    "        \"I slept for 2 seconds!\",\n",
    "        \"I slept for 3 seconds!\",\n",
    "        \"I slept for 4 seconds!\",\n",
    "    ]"
   ]
  },
  {
   "cell_type": "markdown",
   "metadata": {},
   "source": [
    "### More generally"
   ]
  },
  {
   "cell_type": "code",
   "execution_count": null,
   "metadata": {},
   "outputs": [],
   "source": [
    "def blocking_process(delay, queue):\n",
    "    '''This is like the above but doesn't block. It instead puts the results in queue.'''\n",
    "    time.sleep(delay)\n",
    "    queue.put(\"I slept for {} seconds without inconveniencing you. You're welcome.\".format(delay))\n",
    "    \n",
    "if __name__ == '__main__':\n",
    "\n",
    "    # Create a queue for holding results and create two processes.\n",
    "    q = multiprocessing.Queue()\n",
    "    process_1 = multiprocessing.Process(target=blocking_process, args=(3,q), name='process_1')\n",
    "    process_2 = multiprocessing.Process(target=blocking_process, args=(5,q), name='process_2')\n",
    "\n",
    "    # Start the processes\n",
    "    print('Starting processes!')\n",
    "    process_1.start()\n",
    "    process_2.start()\n",
    "\n",
    "    print(multiprocessing.active_children())\n",
    "\n",
    "    # Get the results\n",
    "    print('We are not blocked, but we can wait on the result if we want.')\n",
    "    result_1 = q.get(timeout=10)\n",
    "    print(result_1)\n",
    "    result_2 = q.get(timeout=10)\n",
    "    print(result_2)\n",
    "\n",
    "    # Join the processes\n",
    "    process_1.join()\n",
    "    process_2.join()\n",
    "\n",
    "    this_would_produce = '''\n",
    "\n",
    "    Starting processes!\n",
    "    [<Process(process_2, started)>, <Process(process_1, started)>]\n",
    "    We are not blocked, but we can wait on the result if we want.\n",
    "    I slept for 3 seconds without inconveniencing you. You're welcome.\n",
    "    I slept for 5 seconds without inconveniencing you. You're welcome.\n",
    "\n",
    "    '''"
   ]
  },
  {
   "cell_type": "markdown",
   "metadata": {},
   "source": [
    "# asyncio module\n",
    "\n",
    "# Note: none of this will work in Jupyter because Jupyter itself is run on an event loop.\n",
    "\n",
    "Asynchronous programming is a deep topic. This just scratches the surface. We are just going to create the event loop and the let it go. Asyncio can cover everything from file watchers to concurrent web requests to pretty much anything else."
   ]
  },
  {
   "cell_type": "code",
   "execution_count": null,
   "metadata": {},
   "outputs": [],
   "source": [
    "# Get PDF paths\n",
    "PDF_PATHS = [\n",
    "     str(pathlib.Path('./data/sub2/foundations_of_data_science.pdf').absolute()),\n",
    "     str(pathlib.Path('./data/sub2/JPM Big Data and AI Strategies.pdf').absolute()),\n",
    "] * 5\n",
    "\n",
    "# Note the async keyword\n",
    "async def get_text(pdf_path): \n",
    "    '''This extracts text from a single pdf.'''\n",
    "    # Create the subprocess, redirect the standard output into a pipe\n",
    "    process = await asyncio.create_subprocess_exec('pdftotext',\n",
    "                                                   pdf_path,\n",
    "                                                   '-',\n",
    "                                                   stdout=asyncio.subprocess.PIPE,\n",
    "                                                   stderr=asyncio.subprocess.PIPE) \n",
    "    # Read output\n",
    "    data = await process.communicate() \n",
    "    # Have process exit and return data.\n",
    "    await process.wait()\n",
    "    # Decode cp1252 for windows\n",
    "    decoded_data = data[0].decode('cp1252')\n",
    "    return decoded_data\n",
    "\n",
    "# Create the loop (Windows requires Proactor loop)\n",
    "loop = asyncio.ProactorEventLoop()\n",
    "\n",
    "# Set the loop\n",
    "asyncio.set_event_loop(loop)\n",
    "\n",
    "# Set up tasks\n",
    "print('Creating tasks ...')\n",
    "tasks = [get_text(path) for path in PDF_PATHS]\n",
    "\n",
    "# Get the text\n",
    "print('Running {} concurrent subprocesses ...'.format(len(tasks)))\n",
    "data = loop.run_until_complete(asyncio.gather(*tasks))\n",
    "\n",
    "# Close the loop\n",
    "loop.close()\n",
    "print(data)\n",
    "\n",
    "# Show the first 500 bytes of the first of the docs.\n",
    "print('\\n\\nTasks done. First 300 bytes of doc 1 are:')\n",
    "print(data[0][:300])"
   ]
  },
  {
   "cell_type": "markdown",
   "metadata": {},
   "source": [
    "# Additional Learing Resources\n",
    "\n",
    "* ### [Developing with Asyncio](https://docs.python.org/3/library/asyncio-dev.html)"
   ]
  },
  {
   "cell_type": "markdown",
   "metadata": {},
   "source": [
    "---\n",
    "\n",
    "# Next Up: [Other](6_other.ipynb)\n",
    "\n",
    "<img style=\"margin-left: 0;\" src=\"static/other.png\" width=\"200\">\n",
    "\n",
    "<div align='left'>\n",
    "    <br>\n",
    "    Image courtesy of <a href='https://commons.wikimedia.org/wiki/File:Flag_of_None.svg'>Rainer Zenz</a>. Image is public domain.\n",
    "</div>\n",
    "\n",
    "\n",
    "---"
   ]
  }
 ],
 "metadata": {
  "anaconda-cloud": {},
  "kernelspec": {
   "display_name": "Python 3",
   "language": "python",
   "name": "python3"
  },
  "language_info": {
   "codemirror_mode": {
    "name": "ipython",
    "version": 3
   },
   "file_extension": ".py",
   "mimetype": "text/x-python",
   "name": "python",
   "nbconvert_exporter": "python",
   "pygments_lexer": "ipython3",
   "version": "3.6.6"
  }
 },
 "nbformat": 4,
 "nbformat_minor": 1
}
