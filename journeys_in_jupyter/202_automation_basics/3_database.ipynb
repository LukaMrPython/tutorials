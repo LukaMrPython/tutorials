{
 "cells": [
  {
   "cell_type": "markdown",
   "metadata": {
    "collapsed": true
   },
   "source": [
    "<a href=\"https://github.com/theonaunheim\">\n",
    "    <img style=\"border-radius: 100%; float: right;\" src=\"static/strawberry_thief_square.png\" width=10% alt=\"Theo Naunheim's Github\">\n",
    "</a>\n",
    "<br style=\"clear: both\">\n",
    "<hr>\n",
    "<br>\n",
    "\n",
    "\n",
    "<div style=\"display: table; width: 100%\">\n",
    "    <div style=\"display: table-row; width: 100%;\">\n",
    "        <div style=\"display: table-cell; width: 50%; vertical-align: middle;\">\n",
    "            <img src=\"static/database.png\" width=\"200\">\n",
    "        </div>\n",
    "        <div style=\"display: table-cell; width: 10%\">\n",
    "        </div>\n",
    "        <div style=\"display: table-cell; width: 40%; vertical-align: top;\">\n",
    "            <blockquote>\n",
    "                <p style=\"font-style: italic;\">\"Syntax Error Near ' , '.\"</p>\n",
    "                <br>\n",
    "                <p>-Every RDBMS Ever</p>\n",
    "            </blockquote>\n",
    "        </div>\n",
    "    </div>\n",
    "</div>\n",
    "\n",
    "<br>\n",
    "\n",
    "<div align='left'>\n",
    "    Image courtesy of <a href='https://commons.wikimedia.org/wiki/File:Applications-database.svg'>Dracos</a> under the <a href='https://creativecommons.org/licenses/by-sa/3.0/deed.en'>CC BY-SA 3.0</a>\n",
    "</div>\n",
    "\n",
    "<hr>"
   ]
  },
  {
   "cell_type": "markdown",
   "metadata": {},
   "source": [
    "# Generally\n",
    "\n",
    "Odds are you're going to need information from a database at some point. Python has got you covered. Here we're going to look through some of the more common libraries for querying, creating, and tinkering with databases.\n"
   ]
  },
  {
   "cell_type": "markdown",
   "metadata": {},
   "source": [
    "---\n",
    "\n",
    "# Modules covered\n",
    "\n",
    "### Standard Library\n",
    "* [csv](https://docs.python.org/3/library/csv.html)\n",
    "* [getpass](https://docs.python.org/3.6/library/getpass.html)\n",
    "* [os](https://docs.python.org/3/library/os.html)\n",
    "* [sqlite3](https://docs.python.org/3/library/sqlite3.html)\n",
    "\n",
    "### Third Party Libraries\n",
    "* [pandas](https://pandas.pydata.org/pandas-docs/stable/)\n",
    "* [pyodbc](https://github.com/mkleehammer/pyodbc/wiki)\n",
    "\n",
    "\n",
    "# Modules not covered\n",
    "\n",
    "### Standard Library\n",
    "* None\n",
    "\n",
    "### Third Party Libraries\n",
    "* [sqlalchemy](https://www.sqlalchemy.org/)\n",
    "\n",
    "---"
   ]
  },
  {
   "cell_type": "code",
   "execution_count": null,
   "metadata": {},
   "outputs": [],
   "source": [
    "# Stdlib imports\n",
    "import csv\n",
    "import getpass\n",
    "import os\n",
    "import sqlite3\n",
    "\n",
    "# Third party imports\n",
    "import pandas as pd\n",
    "import pyodbc"
   ]
  },
  {
   "cell_type": "markdown",
   "metadata": {},
   "source": [
    "# Connecting to databases\n",
    "\n",
    "### Note: you need to have the appropriate ODBC drivers and access permissions for these database queries to work properly. The examples below will not work unless you customize them for the particular database you are connecting to."
   ]
  },
  {
   "cell_type": "code",
   "execution_count": null,
   "metadata": {},
   "outputs": [],
   "source": [
    "print('{} has the following ODBC drivers available for PyODBC:\\n'.format(os.environ['COMPUTERNAME']))\n",
    "for driver in pyodbc.drivers():\n",
    "    print(driver)"
   ]
  },
  {
   "cell_type": "code",
   "execution_count": null,
   "metadata": {},
   "outputs": [],
   "source": [
    "# Usually it's easier to use arguments\n",
    "CONNECTION_ARGS = {\n",
    "    'driver': '{SQL Server Native Client 11.0}',\n",
    "    'server': 'SERVER_ADDRESS',\n",
    "    'database': 'DATABASE_NAME',\n",
    "    'trusted_connection': 'yes',\n",
    "    'readonly': True,\n",
    "}\n",
    "\n",
    "# But if you manually want to specify your connection string, you can.\n",
    "CONNECTION_STRING = '''DRIVER={SQL Server Native Client 11.0};\n",
    "                       SERVER=SERVER_ADDRESS;\n",
    "                       DATABASE=DATABASE_NAME;\n",
    "                       Trusted_connection=yes'''\n",
    "\n",
    "QUERY = '''\n",
    "\n",
    "SELECT TOP(5)\n",
    "    COLUMN_1,\n",
    "    COLUMN_2\n",
    "FROM\n",
    "    TABLE\n",
    "\n",
    "'''\n",
    "\n",
    "# Connection arguments allow us to open a connection like this:\n",
    "conn = pyodbc.connect(**CONNECTION_ARGS)\n",
    "# Then create a cursor.\n",
    "cursor = conn.cursor()\n",
    "# And run a query\n",
    "cursor.execute(QUERY)\n",
    "# And get results\n",
    "rows = cursor.fetchmany(50)\n",
    "\n",
    "# conn.commit()   # only if you need to commit a transaction\n",
    "# conn.rollback() # only if you need to rollback a transaction\n",
    "# Then we close our connection.\n",
    "conn.close()\n",
    "\n",
    "# Let's examine our results!\n",
    "rows"
   ]
  },
  {
   "cell_type": "code",
   "execution_count": null,
   "metadata": {},
   "outputs": [],
   "source": [
    "return_value_looks_like = [\n",
    "    ('Wat1', 2.523),\n",
    "    (None  , 5.523),\n",
    "    ('Wat2', 2.123),\n",
    "    ('Wat3', 2.123),\n",
    "    ('Wat4', 4.523),\n",
    "]\n",
    "\n",
    "return_value_looks_like"
   ]
  },
  {
   "cell_type": "markdown",
   "metadata": {},
   "source": [
    "### Again, this is way, way easier with a context manager (which automatically commits and closes):"
   ]
  },
  {
   "cell_type": "code",
   "execution_count": null,
   "metadata": {},
   "outputs": [],
   "source": [
    "# Connecting with a string is also possible.\n",
    "with pyodbc.connect(CONNECTION_STRING) as conn:\n",
    "    # Create cursor\n",
    "    cursor = conn.cursor()\n",
    "    # Execute query\n",
    "    cursor.execute(QUERY)\n",
    "    # Fetch rows\n",
    "    data = cursor.fetchall()\n",
    "        \n",
    "# Print fetched remaing rows\n",
    "for row in data:\n",
    "    print(row)"
   ]
  },
  {
   "cell_type": "code",
   "execution_count": null,
   "metadata": {},
   "outputs": [],
   "source": [
    "for row in return_value_looks_like:\n",
    "    print(row)"
   ]
  },
  {
   "cell_type": "markdown",
   "metadata": {},
   "source": [
    "### Notice above we didn't have to enter our password because it used our active directory credentials with the \"integrated_authentication=True\" option. Oracle databases will other parameters such as a username, password, and dbq.\n",
    "\n",
    "Reminders:\n",
    "\n",
    "* never store your password on your computer.\n",
    "* the password is stored as an unencrypted string unless you encrypt it.\n",
    "* friends don't let friends use Oracle."
   ]
  },
  {
   "cell_type": "code",
   "execution_count": null,
   "metadata": {},
   "outputs": [],
   "source": [
    "# Lets get our credentials from the environment and enter our password\n",
    "username = os.environ['USERNAME']\n",
    "password = getpass.getpass('Enter your Oracle password here:')`\n",
    "\n",
    "# Warning: getpass stores your password in cleartext in RAM.\n",
    "# print(password)"
   ]
  },
  {
   "cell_type": "code",
   "execution_count": null,
   "metadata": {},
   "outputs": [],
   "source": [
    "# For convenience, we will skip the connection string.\n",
    "CONNECTION_ARGS = {\n",
    "    'driver': '{Oracle in GeneralUser64_1}',\n",
    "    'dbq': 'DBQ_NAME',\n",
    "    'user': os.environ['USERNAME'],\n",
    "    'pwd': password,\n",
    "    'readonly': True,\n",
    "}\n",
    "\n",
    "# DAS QUERY\n",
    "QUERY = '''\n",
    "\n",
    "SELECT\n",
    "    COLUMN_1,\n",
    "    COLUMN_2\n",
    "FROM\n",
    "    TABLE\n",
    "WHERE\n",
    "    ROWNUM < 5\n",
    "\n",
    "'''"
   ]
  },
  {
   "cell_type": "code",
   "execution_count": null,
   "metadata": {},
   "outputs": [],
   "source": [
    "# The API is the same, and the datatypes should convert automatically.\n",
    "\n",
    "# Open context manager\n",
    "with pyodbc.connect(**CONNECTION_ARGS) as conn:\n",
    "    # Create cursor\n",
    "    cursor = conn.cursor()\n",
    "    # Execute query\n",
    "    cursor.execute(QUERY)\n",
    "    # Fetch a single row\n",
    "    first_row = cursor.fetchone()\n",
    "    # Fetch all rows\n",
    "    remaining_rows = cursor.fetchall()\n",
    "        \n",
    "# Print fetched remaing rows\n",
    "for row in remaining_rows:\n",
    "    print(row)"
   ]
  },
  {
   "cell_type": "code",
   "execution_count": null,
   "metadata": {},
   "outputs": [],
   "source": [
    "for row in return_value_looks_like:\n",
    "    print(row)"
   ]
  },
  {
   "cell_type": "markdown",
   "metadata": {},
   "source": [
    "### If you're lazy like me, the absolute easist thing you can do is to load directly into a dataframe using the read_sql() method."
   ]
  },
  {
   "cell_type": "code",
   "execution_count": null,
   "metadata": {},
   "outputs": [],
   "source": [
    "with pyodbc.connect(**CONNECTION_ARGS) as conn:\n",
    "    # read_sql() is the bee's knees.\n",
    "    dialer_df = pd.read_sql(QUERY, conn)\n",
    "\n",
    "dialer_df"
   ]
  },
  {
   "cell_type": "code",
   "execution_count": null,
   "metadata": {},
   "outputs": [],
   "source": [
    "return_df_looks_like = pd.DataFrame(\n",
    "    return_value_looks_like,\n",
    "    columns=['COLUMN_1', 'COLUMN_2']\n",
    ")\n",
    "\n",
    "return_df_looks_like"
   ]
  },
  {
   "cell_type": "markdown",
   "metadata": {},
   "source": [
    "### You also have access to most ODBC thing-a-ma-bobs."
   ]
  },
  {
   "cell_type": "code",
   "execution_count": null,
   "metadata": {},
   "outputs": [],
   "source": [
    "# Lets print out the available tables\n",
    "with pyodbc.connect(**CONNECTION_ARGS) as conn:\n",
    "    cursor = conn.cursor()\n",
    "    table_list = list(cursor.tables())\n",
    "    first_table = table_list[0][2]\n",
    "    column_list = list(cursor.columns(table=first_table))\n",
    "\n",
    "print('For table {}:'.format(first_table))\n",
    "\n",
    "for column in column_list:\n",
    "    print('\\tColumn {} is of type {}.'.format(column[3], column[5]))"
   ]
  },
  {
   "cell_type": "code",
   "execution_count": null,
   "metadata": {},
   "outputs": [],
   "source": [
    "print('Will look like:\\n')\n",
    "\n",
    "print('Table 1:')\n",
    "print('\\tColumn height is of type float.')\n",
    "print('\\tColumn active is of type bool.')\n",
    "print('Table 2:')\n",
    "print('\\t... etc')"
   ]
  },
  {
   "cell_type": "markdown",
   "metadata": {},
   "source": [
    "# SQLite\n",
    "\n",
    "Sqlite3 is a small, efficient database that is everywhere. Odds are it is in your pocket on your smartphone right now. It is great for making a database on disk or in RAM.\n",
    "\n",
    "Reminders:\n",
    "* DO NOT STORE DATA THAT SHOULD BE ON A SERVER ON YOUR LOCAL MACHINE."
   ]
  },
  {
   "cell_type": "markdown",
   "metadata": {},
   "source": [
    "### You can create a database on your local file system simply by using the sqlite3.connect() command."
   ]
  },
  {
   "cell_type": "code",
   "execution_count": null,
   "metadata": {},
   "outputs": [],
   "source": [
    "BEETROOT_INVENTORY = [(5, 'red'), (3, 'purple'), (2, 'white')]\n",
    "\n",
    "# Create a database in memory with the ':memory:' option.\n",
    "conn = sqlite3.connect(':memory:')\n",
    "\n",
    "# Create a cursor\n",
    "cursor = conn.cursor()\n",
    "\n",
    "# Create a table and populate with values from our list above.\n",
    "cursor.execute('CREATE TABLE rutabagas(key INTEGER, pounds INTEGER, color TEXT, PRIMARY KEY(key DESC));')\n",
    "cursor.executemany('INSERT INTO rutabagas VALUES(NULL, ?, ?)', BEETROOT_INVENTORY)\n",
    "\n",
    "# Commit changes to database.\n",
    "conn.commit()\n",
    "\n",
    "# Select everything in our database and print it out.\n",
    "cursor.execute('SELECT * FROM rutabagas')\n",
    "print(cursor.fetchall())\n",
    "\n",
    "# Connection closes, and database disappears\n",
    "conn.close()"
   ]
  },
  {
   "cell_type": "markdown",
   "metadata": {},
   "source": [
    "### More importantly, we can also write the DB to disk\n",
    "\n",
    "Note: Again, context managers are the best way to do this, because they commit and close automatically."
   ]
  },
  {
   "cell_type": "code",
   "execution_count": null,
   "metadata": {},
   "outputs": [],
   "source": [
    "# Declare path to test database.\n",
    "DB_PATH = './data/test.sqlite3' # often seen as test.db \n",
    "\n",
    "with sqlite3.connect(DB_PATH) as conn:\n",
    "    # Create a cursor\n",
    "    cursor = conn.cursor()\n",
    "    # Create a table and populate with values from our list above.\n",
    "    cursor.execute('CREATE TABLE IF NOT EXISTS rutabagas(key INTEGER, pounds INTEGER, color TEXT, PRIMARY KEY(key DESC));')\n",
    "    cursor.executemany('INSERT INTO rutabagas VALUES(NULL, ?, ?)', BEETROOT_INVENTORY)\n",
    "    # Implicit commit and close."
   ]
  },
  {
   "cell_type": "markdown",
   "metadata": {},
   "source": [
    "### As usual, things are generally better with pandas ..."
   ]
  },
  {
   "cell_type": "code",
   "execution_count": null,
   "metadata": {},
   "outputs": [],
   "source": [
    "# Read our CSV into a dataframe\n",
    "df = pd.read_csv('./data/iris_dataset.csv')\n",
    "\n",
    "# Open SQLite connection to write\n",
    "with sqlite3.connect('./data/test.sqlite3') as conn:\n",
    "    # Write to database, which allows you to add lots of files to a single source.\n",
    "    df.to_sql('iris_table', conn, if_exists='replace', index=False)"
   ]
  },
  {
   "cell_type": "code",
   "execution_count": null,
   "metadata": {},
   "outputs": [],
   "source": [
    "# Read to prove we wrote it\n",
    "with sqlite3.connect('./data/test.sqlite3') as conn:\n",
    "    # Same as before.\n",
    "    cursor = conn.cursor()\n",
    "    cursor.execute('SELECT * FROM iris_table LIMIT 5;')\n",
    "    records = cursor.fetchall()\n",
    "\n",
    "records"
   ]
  },
  {
   "cell_type": "markdown",
   "metadata": {},
   "source": [
    "# Additional Learing Resources\n",
    "\n",
    "* ### [SQLite3.org](https://www.sqlite.org/index.html)\n"
   ]
  },
  {
   "cell_type": "markdown",
   "metadata": {},
   "source": [
    "---\n",
    "\n",
    "# Next Up: [Files](4_files.ipynb)\n",
    "\n",
    "\n",
    "<img style=\"margin-left: 0;\" src=\"static/file.png\" width=\"100\">\n",
    "\n",
    "---"
   ]
  }
 ],
 "metadata": {
  "anaconda-cloud": {},
  "kernelspec": {
   "display_name": "Python 3",
   "language": "python",
   "name": "python3"
  },
  "language_info": {
   "codemirror_mode": {
    "name": "ipython",
    "version": 3
   },
   "file_extension": ".py",
   "mimetype": "text/x-python",
   "name": "python",
   "nbconvert_exporter": "python",
   "pygments_lexer": "ipython3",
   "version": "3.6.6"
  }
 },
 "nbformat": 4,
 "nbformat_minor": 1
}
