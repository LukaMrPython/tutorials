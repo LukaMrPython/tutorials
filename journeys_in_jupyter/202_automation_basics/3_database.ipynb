{
 "cells": [
  {
   "cell_type": "markdown",
   "metadata": {
    "collapsed": true
   },
   "source": [
    "<a href=\"https://github.com/theonaunheim\">\n",
    "    <img style=\"border-radius: 100%; float: right;\" src=\"static/strawberry_thief_square.png\" width=10% alt=\"Theo Naunheim's Github\">\n",
    "</a>\n",
    "<br style=\"clear: both\">\n",
    "<hr>\n",
    "<br>\n",
    "\n",
    "\n",
    "<div style=\"display: table; width: 100%\">\n",
    "    <div style=\"display: table-row; width: 100%;\">\n",
    "        <div style=\"display: table-cell; width: 50%; vertical-align: middle;\">\n",
    "            <img src=\"static/database.png\" width=\"200\">\n",
    "        </div>\n",
    "        <div style=\"display: table-cell; width: 10%\">\n",
    "        </div>\n",
    "        <div style=\"display: table-cell; width: 40%; vertical-align: top;\">\n",
    "            <blockquote>\n",
    "                <p style=\"font-style: italic;\">\"Syntax Error Near ' , '.\"</p>\n",
    "                <br>\n",
    "                <p>-Every RDBMS Ever</p>\n",
    "            </blockquote>\n",
    "        </div>\n",
    "    </div>\n",
    "</div>\n",
    "\n",
    "<br>\n",
    "\n",
    "<div align='left'>\n",
    "    Image courtesy of <a href='https://commons.wikimedia.org/wiki/File:Applications-database.svg'>Dracos</a> under the <a href='https://creativecommons.org/licenses/by-sa/3.0/deed.en'>CC BY-SA 3.0</a>\n",
    "</div>\n",
    "\n",
    "<hr>"
   ]
  },
  {
   "cell_type": "markdown",
   "metadata": {},
   "source": [
    "# Generally\n",
    "\n",
    "Odds are you're going to need information from a database at some point. Python has got you covered. Here we're going to look through some of the more common libraries for querying, creating, and tinkering with databases.\n"
   ]
  },
  {
   "cell_type": "markdown",
   "metadata": {},
   "source": [
    "---\n",
    "\n",
    "# Modules covered\n",
    "\n",
    "### Standard Library\n",
    "* [csv](https://docs.python.org/3/library/csv.html)\n",
    "* [getpass](https://docs.python.org/3.6/library/getpass.html)\n",
    "* [os](https://docs.python.org/3/library/os.html)\n",
    "* [sqlite3](https://docs.python.org/3/library/sqlite3.html)\n",
    "\n",
    "### Third Party Libraries\n",
    "* [pandas](https://pandas.pydata.org/pandas-docs/stable/)\n",
    "* [pyodbc](https://github.com/mkleehammer/pyodbc/wiki)\n",
    "\n",
    "\n",
    "# Modules not covered\n",
    "\n",
    "### Standard Library\n",
    "* None\n",
    "\n",
    "### Third Party Libraries\n",
    "* [sqlalchemy](https://www.sqlalchemy.org/)\n",
    "\n",
    "---"
   ]
  },
  {
   "cell_type": "code",
   "execution_count": 1,
   "metadata": {},
   "outputs": [],
   "source": [
    "# Stdlib imports\n",
    "import csv\n",
    "import getpass\n",
    "import os\n",
    "import sqlite3\n",
    "\n",
    "# Third party imports\n",
    "import pandas as pd\n",
    "import pyodbc"
   ]
  },
  {
   "cell_type": "markdown",
   "metadata": {},
   "source": [
    "# Connecting to databases\n",
    "\n",
    "### Note: to make this work, you need to have:\n",
    "\n",
    "a) the appropriate ODBC drivers to access a particular type of database; and,\n",
    "\n",
    "b) access and permissions for a working database.\n",
    "\n",
    "The examples below will not work unless you customize them for the particular database you are connecting to. If you want to create your own non-SQLite databases to test on, take a look at the following:\n",
    "\n",
    "* [SQL Server Dev/SQL Server Express](https://www.microsoft.com/en-us/sql-server/sql-server-downloads)\n",
    "* [Oracle Express](https://www.oracle.com/database/technologies/appdev/xe.html)\n",
    "\n",
    "Note: these may have significant technical or licensing limitations that would render them unsuitable for things other than tinkering."
   ]
  },
  {
   "cell_type": "code",
   "execution_count": 2,
   "metadata": {},
   "outputs": [
    {
     "name": "stdout",
     "output_type": "stream",
     "text": [
      "KILO has the following ODBC drivers available for PyODBC:\n",
      "\n",
      "SQL Server\n",
      "SQL Server Native Client 11.0\n",
      "Oracle in XE\n",
      "SQL Server Native Client RDA 11.0\n",
      "ODBC Driver 13 for SQL Server\n"
     ]
    }
   ],
   "source": [
    "print('{} has the following ODBC drivers available for PyODBC:\\n'.format(os.environ['COMPUTERNAME']))\n",
    "for driver in pyodbc.drivers():\n",
    "    print(driver)"
   ]
  },
  {
   "cell_type": "code",
   "execution_count": 3,
   "metadata": {},
   "outputs": [
    {
     "data": {
      "text/plain": [
       "[(1, 'Will Saul', 'Fastlane (Fink Remix)', datetime.date(2003, 3, 10)),\n",
       " (5, 'Louis Vega & Jay Sinister Sealee', 'Diamond Life (Bootleg Disco Remix)', datetime.date(2008, 9, 1)),\n",
       " (6, 'Aquarian Dream', 'Love and Tears (Soul Creatures Reworked Live Dub)', datetime.date(1999, 1, 1))]"
      ]
     },
     "execution_count": 3,
     "metadata": {},
     "output_type": "execute_result"
    }
   ],
   "source": [
    "# NOTE: YOUR ARGUMENTS WILL DEPEND ON YOUR SETUP. THIS WILL NOT WORK FOR YOU.\n",
    "# Usually it's easier to use arguments\n",
    "CONNECTION_ARGS = {\n",
    "    'driver': '{SQL Server Native Client 11.0}',\n",
    "    'server': os.environ['COMPUTERNAME'],\n",
    "    'database': 'test',\n",
    "    'trusted_connection': 'yes',\n",
    "    'readonly': True,\n",
    "}\n",
    "\n",
    "# But if you manually want to specify your connection string, you can.\n",
    "CONNECTION_STRING = '''DRIVER={SQL Server Native Client 11.0};\n",
    "                       SERVER=kilo;\n",
    "                       DATABASE=test;\n",
    "                       Trusted_connection=yes'''\n",
    "\n",
    "QUERY = '''\n",
    "\n",
    "SELECT TOP(3)\n",
    "    *\n",
    "FROM\n",
    "    TRACKS\n",
    "\n",
    "'''\n",
    "\n",
    "# Connection arguments allow us to open a connection like this:\n",
    "conn = pyodbc.connect(**CONNECTION_ARGS)\n",
    "# Then create a cursor.\n",
    "cursor = conn.cursor()\n",
    "# And run a query\n",
    "cursor.execute(QUERY)\n",
    "# And get results\n",
    "rows = cursor.fetchmany(50)\n",
    "\n",
    "# conn.commit()   # only if you need to commit a transaction\n",
    "# conn.rollback() # only if you need to rollback a transaction\n",
    "# Then we close our connection.\n",
    "conn.close()\n",
    "\n",
    "# Let's examine our results!\n",
    "rows"
   ]
  },
  {
   "cell_type": "markdown",
   "metadata": {},
   "source": [
    "### Again, this is way, way easier with a context manager (which automatically commits and closes):"
   ]
  },
  {
   "cell_type": "code",
   "execution_count": 4,
   "metadata": {},
   "outputs": [
    {
     "name": "stdout",
     "output_type": "stream",
     "text": [
      "{'id': 1, 'artist': 'Will Saul', 'track': 'Fastlane (Fink Remix)', 'date': datetime.date(2003, 3, 10)}\n",
      "{'id': 5, 'artist': 'Louis Vega & Jay Sinister Sealee', 'track': 'Diamond Life (Bootleg Disco Remix)', 'date': datetime.date(2008, 9, 1)}\n",
      "{'id': 6, 'artist': 'Aquarian Dream', 'track': 'Love and Tears (Soul Creatures Reworked Live Dub)', 'date': datetime.date(1999, 1, 1)}\n"
     ]
    }
   ],
   "source": [
    "# Connecting with a string is also possible.\n",
    "with pyodbc.connect(CONNECTION_STRING) as conn:\n",
    "    cursor = conn.cursor()\n",
    "    cursor.execute(QUERY)\n",
    "    data = cursor.fetchall()\n",
    "    \n",
    "# This handy idiom will give you back a dict instead.\n",
    "# https://stackoverflow.com/questions/16519385/output-pyodbc-cursor-results-as-python-dictionary\n",
    "columns = [column[0] for column in cursor.description]\n",
    "result_list = [\n",
    "    dict(zip(columns, row))\n",
    "    for row\n",
    "    in data\n",
    "]\n",
    "        \n",
    "# Print our row-dict-a-ma-jigs.\n",
    "for result_dict in result_list:\n",
    "    print(result_dict)"
   ]
  },
  {
   "cell_type": "markdown",
   "metadata": {},
   "source": [
    "### Notice above we didn't have to enter our password because it used our active directory credentials with the \"integrated_authentication=True\" option. Oracle databases will other parameters such as a username, password, and other information like a DBQ in a TNSNAMES.ORA file.\n",
    "\n",
    "Reminders:\n",
    "\n",
    "* never store your password on your computer.\n",
    "* the password is stored as an unencrypted string unless you encrypt it."
   ]
  },
  {
   "cell_type": "code",
   "execution_count": 5,
   "metadata": {},
   "outputs": [
    {
     "name": "stdout",
     "output_type": "stream",
     "text": [
      "Enter your Oracle password here:········\n"
     ]
    }
   ],
   "source": [
    "# Lets get our credentials from the environment and enter our password\n",
    "username = os.environ['USERNAME']\n",
    "password = getpass.getpass('Enter your Oracle password here:')\n",
    "\n",
    "# Warning: getpass stores your password in cleartext in RAM.\n",
    "# print(password) # Uncommented, this would print your password!"
   ]
  },
  {
   "cell_type": "code",
   "execution_count": 6,
   "metadata": {},
   "outputs": [],
   "source": [
    "# For convenience, we will skip the connection string.\n",
    "CONNECTION_ARGS = {\n",
    "    'driver': '{Oracle in XE}',\n",
    "    'user': os.environ['USERNAME'],\n",
    "    'pwd': password,\n",
    "    'readonly': True,\n",
    "}\n",
    "\n",
    "# DAS QUERY\n",
    "QUERY = '''\n",
    "\n",
    "SELECT\n",
    "    first,\n",
    "    last,\n",
    "    house,\n",
    "    gpa\n",
    "FROM\n",
    "    hogwarts\n",
    "\n",
    "'''"
   ]
  },
  {
   "cell_type": "code",
   "execution_count": 7,
   "metadata": {},
   "outputs": [
    {
     "name": "stdout",
     "output_type": "stream",
     "text": [
      "('Hermione', 'Granger', 'Gryffindor', Decimal('98.22'))\n",
      "('Charlie', 'Weasley', 'Gryffindor', Decimal('80.25'))\n",
      "('Draco', 'Malfoy', 'Slytherin', Decimal('95.22'))\n",
      "('Susan', 'Bones', 'Hufflepuff', Decimal('89.22'))\n"
     ]
    }
   ],
   "source": [
    "# The API is the same, and the datatypes should convert automatically.\n",
    "\n",
    "# Open context manager\n",
    "with pyodbc.connect(**CONNECTION_ARGS) as conn:\n",
    "    # Create cursor\n",
    "    cursor = conn.cursor()\n",
    "    # Execute query\n",
    "    cursor.execute(QUERY)\n",
    "    # Fetch a single row\n",
    "    first_row = cursor.fetchone()\n",
    "    # Fetch all rows\n",
    "    remaining_rows = cursor.fetchall()\n",
    "        \n",
    "# Print fetched remaing rows\n",
    "for row in remaining_rows:\n",
    "    print(row)"
   ]
  },
  {
   "cell_type": "markdown",
   "metadata": {},
   "source": [
    "### If you're lazy like me, the absolute easist thing you can do is to load directly into a dataframe using the read_sql() method."
   ]
  },
  {
   "cell_type": "code",
   "execution_count": 8,
   "metadata": {},
   "outputs": [
    {
     "data": {
      "text/html": [
       "<div>\n",
       "<style scoped>\n",
       "    .dataframe tbody tr th:only-of-type {\n",
       "        vertical-align: middle;\n",
       "    }\n",
       "\n",
       "    .dataframe tbody tr th {\n",
       "        vertical-align: top;\n",
       "    }\n",
       "\n",
       "    .dataframe thead th {\n",
       "        text-align: right;\n",
       "    }\n",
       "</style>\n",
       "<table border=\"1\" class=\"dataframe\">\n",
       "  <thead>\n",
       "    <tr style=\"text-align: right;\">\n",
       "      <th></th>\n",
       "      <th>FIRST</th>\n",
       "      <th>LAST</th>\n",
       "      <th>HOUSE</th>\n",
       "      <th>GPA</th>\n",
       "    </tr>\n",
       "  </thead>\n",
       "  <tbody>\n",
       "    <tr>\n",
       "      <th>0</th>\n",
       "      <td>Harry</td>\n",
       "      <td>Potter</td>\n",
       "      <td>Gryffindor</td>\n",
       "      <td>92.21</td>\n",
       "    </tr>\n",
       "    <tr>\n",
       "      <th>1</th>\n",
       "      <td>Hermione</td>\n",
       "      <td>Granger</td>\n",
       "      <td>Gryffindor</td>\n",
       "      <td>98.22</td>\n",
       "    </tr>\n",
       "    <tr>\n",
       "      <th>2</th>\n",
       "      <td>Charlie</td>\n",
       "      <td>Weasley</td>\n",
       "      <td>Gryffindor</td>\n",
       "      <td>80.25</td>\n",
       "    </tr>\n",
       "    <tr>\n",
       "      <th>3</th>\n",
       "      <td>Draco</td>\n",
       "      <td>Malfoy</td>\n",
       "      <td>Slytherin</td>\n",
       "      <td>95.22</td>\n",
       "    </tr>\n",
       "    <tr>\n",
       "      <th>4</th>\n",
       "      <td>Susan</td>\n",
       "      <td>Bones</td>\n",
       "      <td>Hufflepuff</td>\n",
       "      <td>89.22</td>\n",
       "    </tr>\n",
       "  </tbody>\n",
       "</table>\n",
       "</div>"
      ],
      "text/plain": [
       "      FIRST     LAST       HOUSE    GPA\n",
       "0     Harry   Potter  Gryffindor  92.21\n",
       "1  Hermione  Granger  Gryffindor  98.22\n",
       "2   Charlie  Weasley  Gryffindor  80.25\n",
       "3     Draco   Malfoy   Slytherin  95.22\n",
       "4     Susan    Bones  Hufflepuff  89.22"
      ]
     },
     "execution_count": 8,
     "metadata": {},
     "output_type": "execute_result"
    }
   ],
   "source": [
    "with pyodbc.connect(**CONNECTION_ARGS) as conn:\n",
    "    # read_sql() is the bee's knees.\n",
    "    hogwarts_df = pd.read_sql(QUERY, conn)\n",
    "\n",
    "hogwarts_df"
   ]
  },
  {
   "cell_type": "markdown",
   "metadata": {},
   "source": [
    "### You also have access to most ODBC thing-a-ma-bobs."
   ]
  },
  {
   "cell_type": "code",
   "execution_count": 9,
   "metadata": {},
   "outputs": [
    {
     "name": "stdout",
     "output_type": "stream",
     "text": [
      "For table APEX_ACTIVITY_LOG:\n",
      "\tColumn TIME_STAMP is of type DATE.\n",
      "\tColumn COMPONENT_TYPE is of type VARCHAR2.\n",
      "\tColumn COMPONENT_NAME is of type VARCHAR2.\n",
      "\tColumn COMPONENT_ATTRIBUTE is of type VARCHAR2.\n",
      "\tColumn INFORMATION is of type VARCHAR2.\n",
      "\tColumn ELAP is of type NUMBER.\n",
      "\tColumn NUM_ROWS is of type NUMBER.\n",
      "\tColumn USERID is of type VARCHAR2.\n",
      "\tColumn IP_ADDRESS is of type VARCHAR2.\n",
      "\tColumn USER_AGENT is of type VARCHAR2.\n",
      "\tColumn FLOW_ID is of type NUMBER.\n",
      "\tColumn STEP_ID is of type NUMBER.\n",
      "\tColumn SESSION_ID is of type NUMBER.\n",
      "\tColumn SQLERRM is of type VARCHAR2.\n",
      "\tColumn SQLERRM_COMPONENT_TYPE is of type VARCHAR2.\n",
      "\tColumn SQLERRM_COMPONENT_NAME is of type VARCHAR2.\n",
      "\tColumn PAGE_MODE is of type VARCHAR2.\n",
      "\tColumn APPLICATION_INFO is of type VARCHAR2.\n",
      "\tColumn WORKSHEET_ID is of type NUMBER.\n",
      "\tColumn IR_SEARCH is of type VARCHAR2.\n",
      "\tColumn IR_REPORT_ID is of type NUMBER.\n",
      "\tColumn WEBSHEET_ID is of type NUMBER.\n",
      "\tColumn WEBPAGE_ID is of type NUMBER.\n",
      "\tColumn DATAGRID_ID is of type NUMBER.\n",
      "\tColumn CONTENT_LENGTH is of type NUMBER.\n"
     ]
    }
   ],
   "source": [
    "# Lets print out the available tables\n",
    "with pyodbc.connect(**CONNECTION_ARGS) as conn:\n",
    "    cursor = conn.cursor()\n",
    "    table_list = list(cursor.tables())\n",
    "    first_table = table_list[0][2]\n",
    "    column_list = list(cursor.columns(table=first_table))\n",
    "\n",
    "print('For table {}:'.format(first_table))\n",
    "\n",
    "for column in column_list:\n",
    "    print('\\tColumn {} is of type {}.'.format(column[3], column[5]))"
   ]
  },
  {
   "cell_type": "markdown",
   "metadata": {},
   "source": [
    "# SQLite\n",
    "\n",
    "Sqlite3 is a small, efficient database that is everywhere. Odds are it is in your pocket on your smartphone right now. It is great for making a database on disk or in RAM.\n",
    "\n",
    "Reminders:\n",
    "* DO NOT STORE DATA THAT SHOULD BE ON A SERVER ON YOUR LOCAL MACHINE."
   ]
  },
  {
   "cell_type": "markdown",
   "metadata": {},
   "source": [
    "### You can create a database on your local file system simply by using the sqlite3.connect() command."
   ]
  },
  {
   "cell_type": "code",
   "execution_count": 10,
   "metadata": {},
   "outputs": [
    {
     "name": "stdout",
     "output_type": "stream",
     "text": [
      "[(1, 5, 'red'), (2, 3, 'purple'), (3, 2, 'white')]\n"
     ]
    }
   ],
   "source": [
    "BEETROOT_INVENTORY = [(5, 'red'), (3, 'purple'), (2, 'white')]\n",
    "\n",
    "# Create a database in memory with the ':memory:' option.\n",
    "conn = sqlite3.connect(':memory:')\n",
    "\n",
    "# Create a cursor\n",
    "cursor = conn.cursor()\n",
    "\n",
    "# Create a table and populate with values from our list above.\n",
    "cursor.execute('CREATE TABLE rutabagas(key INTEGER, pounds INTEGER, color TEXT, PRIMARY KEY(key DESC));')\n",
    "cursor.executemany('INSERT INTO rutabagas VALUES(NULL, ?, ?)', BEETROOT_INVENTORY)\n",
    "\n",
    "# Commit changes to database.\n",
    "conn.commit()\n",
    "\n",
    "# Select everything in our database and print it out.\n",
    "cursor.execute('SELECT * FROM rutabagas')\n",
    "print(cursor.fetchall())\n",
    "\n",
    "# Connection closes, and database disappears\n",
    "conn.close()"
   ]
  },
  {
   "cell_type": "markdown",
   "metadata": {},
   "source": [
    "### More importantly, we can also write the DB to disk\n",
    "\n",
    "Note: Again, context managers are the best way to do this, because they commit and close automatically."
   ]
  },
  {
   "cell_type": "code",
   "execution_count": 11,
   "metadata": {},
   "outputs": [],
   "source": [
    "# Declare path to test database.\n",
    "DB_PATH = './data/test.sqlite3' # often seen as test.db \n",
    "\n",
    "with sqlite3.connect(DB_PATH) as conn:\n",
    "    # Create a cursor\n",
    "    cursor = conn.cursor()\n",
    "    # Create a table and populate with values from our list above.\n",
    "    cursor.execute('CREATE TABLE IF NOT EXISTS rutabagas(key INTEGER, pounds INTEGER, color TEXT, PRIMARY KEY(key DESC));')\n",
    "    cursor.executemany('INSERT INTO rutabagas VALUES(NULL, ?, ?)', BEETROOT_INVENTORY)\n",
    "    # Implicit commit and close."
   ]
  },
  {
   "cell_type": "markdown",
   "metadata": {},
   "source": [
    "### As usual, things are generally better with pandas ..."
   ]
  },
  {
   "cell_type": "code",
   "execution_count": 12,
   "metadata": {},
   "outputs": [],
   "source": [
    "# Read our CSV into a dataframe\n",
    "df = pd.read_csv('./data/iris_dataset.csv')\n",
    "\n",
    "# Open SQLite connection to write\n",
    "with sqlite3.connect('./data/test.sqlite3') as conn:\n",
    "    # Write to database, which allows you to add lots of files to a single source.\n",
    "    df.to_sql('iris_table', conn, if_exists='replace', index=False)"
   ]
  },
  {
   "cell_type": "code",
   "execution_count": 13,
   "metadata": {},
   "outputs": [
    {
     "data": {
      "text/plain": [
       "[(5.1, 3.5, 1.4, 0.2, 'Iris-setosa'),\n",
       " (4.9, 3.0, 1.4, 0.2, 'Iris-setosa'),\n",
       " (4.7, 3.2, 1.3, 0.2, 'Iris-setosa'),\n",
       " (4.6, 3.1, 1.5, 0.2, 'Iris-setosa'),\n",
       " (5.0, 3.6, 1.4, 0.2, 'Iris-setosa')]"
      ]
     },
     "execution_count": 13,
     "metadata": {},
     "output_type": "execute_result"
    }
   ],
   "source": [
    "# Read to prove we wrote it\n",
    "with sqlite3.connect('./data/test.sqlite3') as conn:\n",
    "    # Same as before.\n",
    "    cursor = conn.cursor()\n",
    "    cursor.execute('SELECT * FROM iris_table LIMIT 5;')\n",
    "    records = cursor.fetchall()\n",
    "\n",
    "records"
   ]
  },
  {
   "cell_type": "markdown",
   "metadata": {},
   "source": [
    "# Additional Learing Resources\n",
    "\n",
    "* ### [SQLite3.org](https://www.sqlite.org/index.html)\n"
   ]
  },
  {
   "cell_type": "markdown",
   "metadata": {},
   "source": [
    "---\n",
    "\n",
    "# Next Up: [Files](4_files.ipynb)\n",
    "\n",
    "\n",
    "<img style=\"margin-left: 0;\" src=\"static/file.png\" width=\"100\">\n",
    "\n",
    "---"
   ]
  }
 ],
 "metadata": {
  "anaconda-cloud": {},
  "kernelspec": {
   "display_name": "Python 3",
   "language": "python",
   "name": "python3"
  },
  "language_info": {
   "codemirror_mode": {
    "name": "ipython",
    "version": 3
   },
   "file_extension": ".py",
   "mimetype": "text/x-python",
   "name": "python",
   "nbconvert_exporter": "python",
   "pygments_lexer": "ipython3",
   "version": "3.6.5"
  }
 },
 "nbformat": 4,
 "nbformat_minor": 1
}
