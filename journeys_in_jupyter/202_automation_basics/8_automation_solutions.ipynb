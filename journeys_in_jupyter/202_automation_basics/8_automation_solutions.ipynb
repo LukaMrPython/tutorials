{
 "cells": [
  {
   "cell_type": "markdown",
   "metadata": {},
   "source": [
    "<a href=\"https://github.com/theonaunheim\">\n",
    "    <img style=\"border-radius: 100%; float: right;\" src=\"static/strawberry_thief_square.png\" width=10% alt=\"Theo Naunheim's Github\">\n",
    "</a>\n",
    "<br style=\"clear: both\">\n",
    "<hr>\n",
    "<br>\n",
    "\n",
    "<br>\n",
    "<h1 align='center'>Automation Solutions</h1>\n",
    "<br>\n",
    "\n",
    "---"
   ]
  },
  {
   "cell_type": "markdown",
   "metadata": {
    "collapsed": true
   },
   "source": [
    "# Exercise 1\n",
    "\n",
    "### Get a copy of the Wikipedia page for Monty Python's Flying Circus, and save it to an HTML file in the 'data' folder.\n",
    "\n",
    "Link: https://en.wikipedia.org/wiki/Monty_Pythons_Flying_Circus"
   ]
  },
  {
   "cell_type": "code",
   "execution_count": null,
   "metadata": {},
   "outputs": [],
   "source": [
    "import urllib.request\n",
    "\n",
    "\n",
    "# Create request\n",
    "r = urllib.request.urlopen('https://en.wikipedia.org/wiki/Monty_Pythons_Flying_Circus')\n",
    "\n",
    "# Read data and convert to text.\n",
    "data = r.read()\n",
    "\n",
    "# Write to file\n",
    "with open('./data/monty.html', 'wb+') as f:\n",
    "    f.write(data)"
   ]
  },
  {
   "cell_type": "markdown",
   "metadata": {
    "collapsed": true
   },
   "source": [
    "---\n",
    "\n",
    "# Exercise 2\n",
    "\n",
    "### Create an SQLlite database file in your 'data' folder called 'my_database.sqlite3', create a table, and put 5 entries in that table.\n"
   ]
  },
  {
   "cell_type": "code",
   "execution_count": null,
   "metadata": {},
   "outputs": [],
   "source": [
    "import sqlite3\n",
    "\n",
    "\n",
    "# Setup data\n",
    "DATA = [\n",
    "    ('Diet Coke', 1.50),\n",
    "    ('Red Bull' , 3.50),\n",
    "    ('Coffee'   , 1.00),\n",
    "    ('Tea'      , 2.50),\n",
    "    ('Coke'     , 1.50),\n",
    "]\n",
    "\n",
    "# Conncet to db which creates it\n",
    "with sqlite3.connect('./data/my_database.sqlite3') as conn:\n",
    "    # Create cursor\n",
    "    cursor = conn.cursor()\n",
    "    # Create table\n",
    "    cursor.execute('''\n",
    "        CREATE TABLE IF NOT EXISTS\n",
    "            beverages (\n",
    "                id INTEGER PRIMARY KEY,\n",
    "                drink TEXT,\n",
    "                cost REAL\n",
    "            );\n",
    "    ''')\n",
    "    # Insert data. Implicit commit.\n",
    "    cursor.executemany('''\n",
    "        INSERT INTO\n",
    "            beverages(drink, cost)\n",
    "        VALUES\n",
    "            (?, ?);''', DATA)\n",
    "\n",
    "# Demo\n",
    "with sqlite3.connect('./data/my_database.sqlite3') as conn:\n",
    "    # Create cursor\n",
    "    cursor = conn.cursor()\n",
    "    cursor.execute('SELECT * FROM beverages;')\n",
    "    data = cursor.fetchall()\n",
    "\n",
    "data"
   ]
  },
  {
   "cell_type": "markdown",
   "metadata": {
    "collapsed": true
   },
   "source": [
    "---\n",
    "\n",
    "# Exercise 3\n",
    "\n",
    "### Use the pathlib library to search your documents folder for all files ending in '.docx'.\n"
   ]
  },
  {
   "cell_type": "code",
   "execution_count": null,
   "metadata": {},
   "outputs": [],
   "source": [
    "import pathlib\n",
    "\n",
    "\n",
    "documents = pathlib.Path().home() / 'Documents'\n",
    "list(documents.rglob('**/*.docx'))"
   ]
  },
  {
   "cell_type": "markdown",
   "metadata": {
    "collapsed": true
   },
   "source": [
    "---\n",
    "\n",
    "# Exercise 4\n",
    "\n",
    "### Use the subprocess module to run the command 'dir' with no arguments. Save the output to a variable and then print it.\n"
   ]
  },
  {
   "cell_type": "code",
   "execution_count": null,
   "metadata": {},
   "outputs": [],
   "source": [
    "import subprocess\n",
    "\n",
    "\n",
    "proc = subprocess.run(['dir'], stdout=subprocess.PIPE, shell=True)\n",
    "print(proc.stdout.decode())"
   ]
  },
  {
   "cell_type": "markdown",
   "metadata": {
    "collapsed": true
   },
   "source": [
    "---\n",
    "\n",
    "# Exercise 5\n",
    "\n",
    "### Get the current date and time and assign it to a variable. Get the current date and time again. Get the difference in time between time 1 and time 2.\n"
   ]
  },
  {
   "cell_type": "code",
   "execution_count": null,
   "metadata": {},
   "outputs": [],
   "source": [
    "import datetime\n",
    "\n",
    "\n",
    "time1 = datetime.datetime.now()"
   ]
  },
  {
   "cell_type": "code",
   "execution_count": null,
   "metadata": {},
   "outputs": [],
   "source": [
    "time2 = datetime.datetime.now()\n",
    "print(time2 - time1)"
   ]
  }
 ],
 "metadata": {
  "anaconda-cloud": {},
  "kernelspec": {
   "display_name": "Python 3",
   "language": "python",
   "name": "python3"
  },
  "language_info": {
   "codemirror_mode": {
    "name": "ipython",
    "version": 3
   },
   "file_extension": ".py",
   "mimetype": "text/x-python",
   "name": "python",
   "nbconvert_exporter": "python",
   "pygments_lexer": "ipython3",
   "version": "3.6.6"
  }
 },
 "nbformat": 4,
 "nbformat_minor": 1
}
