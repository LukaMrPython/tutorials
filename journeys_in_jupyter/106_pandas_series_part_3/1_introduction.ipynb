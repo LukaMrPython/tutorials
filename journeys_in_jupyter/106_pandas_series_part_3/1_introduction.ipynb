{
 "cells": [
  {
   "cell_type": "markdown",
   "metadata": {},
   "source": [
    "<a href=\"https://github.com/theonaunheim\">\n",
    "    <img style=\"border-radius: 100%; float: right;\" src=\"static/strawberry_thief_square.png\" width=10% alt=\"Theo Naunheim's Github\">\n",
    "</a>\n",
    "\n",
    "<br style=\"clear: both\">\n",
    "<hr>\n",
    "<br>\n",
    "\n",
    "<br>\n",
    "<h1 align='center'>Pandas Series, Part 3</h1>\n",
    "<br>\n",
    "<br>\n",
    "\n",
    "<div style=\"display: table; width: 100%\">\n",
    "    <div style=\"display: table-row; width: 100%;\">\n",
    "        <div style=\"display: table-cell; width: 50%; vertical-align: middle;\">\n",
    "            <img align='center' src=\"static/pandas_logo.png\">\n",
    "            <div style=\"text-align: left\">\n",
    "                <br>\n",
    "                <br>\n",
    "            </div>\n",
    "        </div>\n",
    "        <div style=\"display: table-cell; width: 10%\">\n",
    "        </div>\n",
    "        <div style=\"display: table-cell; width: 40%; vertical-align: top;\">\n",
    "            <blockquote>\n",
    "                <p style=\"font-style: italic;\">\"Have no fear of perfection. You'll never reach it.\"</p>\n",
    "                <br>\n",
    "                <p>-Salvador Dali</p>\n",
    "            </blockquote>\n",
    "        </div>\n",
    "    </div>\n",
    "</div>\n",
    "\n",
    "<br>\n",
    "<br>\n",
    "\n",
    "### About\n",
    "\n",
    "<br>\n",
    "\n",
    "<div style=\"display: table; width: 100%;\">\n",
    "    <div style=\"display: table-row\">\n",
    "        <div style=\"display: table-cell; width: 50%;\">\n",
    "            <p>Theo Naunheim</p>\n",
    "            <p>\n",
    "                <a href=\"theonaunheim@gmail.com?Subject=Python Data Analysis Overview\">theonaunheim@gmail.com</a>\n",
    "            </p>\n",
    "        </div>\n",
    "        <div style=\"display: table-cell; width: 50%;\">\n",
    "            <p>Tested on <a href=\"https://www.anaconda.com/download/\">Anaconda3  v.5.2.0</a></p>\n",
    "            <p>Revised: 2018-12-01</p>\n",
    "        </div>\n",
    "    </div>\n",
    "</div>\n",
    "\n",
    "<hr>"
   ]
  },
  {
   "cell_type": "markdown",
   "metadata": {},
   "source": [
    "### Generally\n",
    "\n",
    "1) Ask questions! I may not be able to give you an answer off the top of my head, but I can probably come up with something eventually.\n",
    "\n",
    "2) Check the hyperlinks. We've got limited time and there are some really good resources (from people smarter than me).\n",
    "\n",
    "3) We're doing this in Jupyter Notebook format. Press Escape then H to bring up the help screen. Shift + Enter will run any particular cell. See the \"Python Data Ecosystem\" presentation if you're having difficulty with the user interface."
   ]
  },
  {
   "cell_type": "markdown",
   "metadata": {},
   "source": [
    "### Goals\n",
    "\n",
    "This session is intended to provide an overview of the Series object in pandas, which is a fundemental building block of the pandas data analysis library. We'll also tackle some general material that doesn't warrant a completely separate presentation."
   ]
  },
  {
   "cell_type": "markdown",
   "metadata": {},
   "source": [
    "### Disclaimers\n",
    " \n",
    "1) You're responsible for ensuring that you comply with any of your corporate development and model risk management directives yuo may or may not be subject to. If you are, be a good citizen and don't destroy things--you'll muck it up for everyone else. If you have quetions, ask.\n",
    "\n",
    "2) View all my claims with suspicion. If you are depending solely on me, you should probably stop and reexamine your life choices.\n",
    "\n",
    "3) This isn't going to teach you everything you need to know about pandas. It is a first step that is intended to point you in the right direction."
   ]
  },
  {
   "cell_type": "markdown",
   "metadata": {},
   "source": [
    "\n",
    "---\n",
    "\n",
    "# **Pandas Series, Part 3**\n",
    "\n",
    "---\n",
    "\n",
    "### 1) [Introduction](1_introduction.ipynb)\n",
    "* #### You are here.\n",
    "\n",
    "### 2) [Datetime Series](2_datetime_series.ipynb)\n",
    "* #### Tick tock, people.\n",
    "\n",
    "### 3) [String Series](3_string_series.ipynb)\n",
    "* #### Because people don't write in binary.\n",
    "\n",
    "### 4) [Series Part 3 Exercises](4_series_part_3_exercises.ipynb)\n",
    "* #### Learn you some stuff.\n",
    "\n",
    "### 5) [Series Part 3 Solutions](5_series_part_3_solutions.ipynb)\n",
    "* #### Because learning is hard.\n",
    "\n"
   ]
  },
  {
   "cell_type": "markdown",
   "metadata": {},
   "source": [
    "---\n",
    "\n",
    "# Next Up: [Datetime Series](2_datetime_series.ipynb)\n",
    "\n",
    "<img style=\"margin-left: 0;\" src=\"static/chengdu.jpg\" width=\"200\">\n",
    "\n",
    "<div style=\"text-align: left\">\n",
    "Image courtesy of <a href='https://commons.wikimedia.org/wiki/File:Yun_Zi_-_Baby_Giant_Panda_-_IMG_1499_(4305495389).jpg'>fortherock</a>; released under the <a href=\"https://creativecommons.org/licenses/by-sa/2.0/deed.en\">CC BY-SA 2.0</a>\n",
    "</div>\n",
    "\n",
    "---"
   ]
  }
 ],
 "metadata": {
  "anaconda-cloud": {},
  "kernelspec": {
   "display_name": "Python 3",
   "language": "python",
   "name": "python3"
  },
  "language_info": {
   "codemirror_mode": {
    "name": "ipython",
    "version": 3
   },
   "file_extension": ".py",
   "mimetype": "text/x-python",
   "name": "python",
   "nbconvert_exporter": "python",
   "pygments_lexer": "ipython3",
   "version": "3.6.7"
  }
 },
 "nbformat": 4,
 "nbformat_minor": 1
}
