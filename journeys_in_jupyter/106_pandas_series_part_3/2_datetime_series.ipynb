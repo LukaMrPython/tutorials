{
 "cells": [
  {
   "cell_type": "markdown",
   "metadata": {
    "collapsed": true
   },
   "source": [
    "<a href=\"https://github.com/theonaunheim\">\n",
    "    <img style=\"border-radius: 100%; float: right;\" src=\"static/strawberry_thief_square.png\" width=10% alt=\"Theo Naunheim's Github\">\n",
    "</a>\n",
    "\n",
    "<br style=\"clear: both\">\n",
    "<hr>\n",
    "<br>\n",
    "\n",
    "<h1 align='center'>Datetime Series</h1>\n",
    "\n",
    "<br>\n",
    "\n",
    "<div style=\"display: table; width: 100%\">\n",
    "    <div style=\"display: table-row; width: 100%;\">\n",
    "        <div style=\"display: table-cell; width: 50%; vertical-align: middle;\">\n",
    "        <img src=\"static/chengdu.jpg\">\n",
    "        </div>\n",
    "        <div style=\"display: table-cell; width: 10%\">\n",
    "        </div>\n",
    "        <div style=\"display: table-cell; width: 40%; vertical-align: top;\">\n",
    "            <blockquote>\n",
    "                <p style=\"font-style: italic;\">\"Tempus edax rerum.\"</p>\n",
    "                <br>\n",
    "    <p>-<a href=\"https://en.wikipedia.org/wiki/List_of_sundial_mottos\">Sundial Motto</a></p>\n",
    "            </blockquote>\n",
    "        </div>\n",
    "    </div>\n",
    "</div>\n",
    "\n",
    "\n",
    "<br>\n",
    "\n",
    "\n",
    "\n",
    "\n",
    "\n",
    "\n",
    "<br>\n",
    "\n",
    "<div align='left'>\n",
    "    Image courtesy of <a href='https://commons.wikimedia.org/wiki/File:Chengdu-pandas-d10.jpg'>Colegota</a> under the <a href='https://creativecommons.org/licenses/by-sa/2.5/es/deed.en'>Creative Commons Attribution-Share Alike 2.5 Spain</a>\n",
    "</div>\n",
    "\n",
    "\n",
    "<hr>"
   ]
  },
  {
   "cell_type": "code",
   "execution_count": null,
   "metadata": {},
   "outputs": [],
   "source": [
    "# Import stuff so we can use libraries.\n",
    "import numpy as np\n",
    "import pandas as pd"
   ]
  },
  {
   "cell_type": "markdown",
   "metadata": {},
   "source": [
    "# Generally\n",
    "\n",
    "As previously mentioned in our earlier sessions, each pandas Series has a particular datatype (even if it's just a generic Python datatype). Because of the importance that time series analysis plays in data analysis as a whole, pandas has specific datetime column types for dealing with time data. These types are the:\n",
    "\n",
    "* **Datetime** series;\n",
    "* **Period** series; and,\n",
    "* **Timedelta** series.\n",
    "\n",
    "Each of these numpy-derived types has a `.dt` namespace (a.k.a. \"datetime properties object\") with attributes/methods and also perform specialized datetime behaviors.\n",
    "\n",
    "**Note**: Python also has the concept of datetimes in its standard library. For the purpose of this presentation we will refer to pandas and numpy datetimes as \"datetimes\". We will refer to Python standard library datetimes as \"Python datetimes\".\n",
    "\n",
    "**Note**: there is a bunch of material here. You won't need to necessarily understand all of it. It's just to let you know what is out there."
   ]
  },
  {
   "cell_type": "markdown",
   "metadata": {},
   "source": [
    "## The Datetime Series\n",
    "\n",
    "### Generally\n",
    "\n",
    "A datetime is a data structure that pinpoints a moment in time, generally down to the nanosecond. An example of a datetime would be November 11, 1918 at one nanosecond past 11AM (i.e. 1918-11-11T11:00:00.000001). Time object in a datetime series is known as a [`pd.Timestamp`](https://pandas.pydata.org/pandas-docs/stable/generated/pandas.Timestamp.html) object, and these objects in a Series are a datetime Series.\n",
    "\n",
    "The most common ways to generate these datetime series are:\n",
    "\n",
    "* [`pd.read_csv()`](http://pandas.pydata.org/pandas-docs/stable/generated/pandas.read_csv.html) \n",
    "\n",
    "* [`pd.to_datetime()`](https://pandas.pydata.org/pandas-docs/stable/generated/pandas.to_datetime.html) is your workhorse for generating datetimes series from string series.\n",
    "\n",
    "* [`pd.date_range()`](https://pandas.pydata.org/pandas-docs/stable/generated/pandas.date_range.html) can be used manually generate ranges of datetimes as DatetimeIndexes with whatever arbitrary frequency you desire."
   ]
  },
  {
   "cell_type": "code",
   "execution_count": null,
   "metadata": {},
   "outputs": [],
   "source": [
    "# Let's create a range of datetimes for business day of 2020.\n",
    "# Always use ISO format (e.g. 2018-01-31): https://xkcd.com/1179/\n",
    "daily_2020 = pd.date_range(start='2020-01-01', end='2020-12-31', freq='B')\n",
    "\n",
    "# Create our series\n",
    "series_2020 = pd.Series(daily_2020)\n",
    "\n",
    "# Create series and get first 5.\n",
    "series_2020.head(5)"
   ]
  },
  {
   "cell_type": "code",
   "execution_count": null,
   "metadata": {},
   "outputs": [],
   "source": [
    "# So if the Series is a datetime series, what are the individual values? Timestamps.\n",
    "series_2020.iloc[0]"
   ]
  },
  {
   "cell_type": "code",
   "execution_count": null,
   "metadata": {},
   "outputs": [],
   "source": [
    "# And let's take a peek at the datetime properties object\n",
    "series_2020.dt"
   ]
  },
  {
   "cell_type": "code",
   "execution_count": null,
   "metadata": {},
   "outputs": [],
   "source": [
    "# Which you can build on your own if you so choose.\n",
    "ts = pd.Timestamp('2020-01-02 03:04:05')\n",
    "\n",
    "# If you specify frequency, you can add or subtract scalars (e.g. 900 seconds later).\n",
    "pd.Timestamp('2020-01-02 03:04:05', freq='s') + 900"
   ]
  },
  {
   "cell_type": "code",
   "execution_count": null,
   "metadata": {},
   "outputs": [],
   "source": [
    "# You can also read from a CSV if you specify what you want to parse.\n",
    "# Note: again, read_csv isn't used to create Series, generally, so it's messy.\n",
    "dts = pd.read_csv(\n",
    "    'data/datetimes.csv', \n",
    "    squeeze=True, \n",
    "    parse_dates=[0], \n",
    "    skip_blank_lines=False\n",
    ")\n",
    "\n",
    "# Display \n",
    "dts.head(5)"
   ]
  },
  {
   "cell_type": "code",
   "execution_count": null,
   "metadata": {},
   "outputs": [],
   "source": [
    "# The most flexible way to do this is pd.to_datetime(), which allows for strptime'ing.\n",
    "# And error handling!\n",
    "ts = pd.Series(['2018-01-01T23:00:10.222222', '2019-05-01T23:00:10.555555', ''])\n",
    "pd.to_datetime(ts)"
   ]
  },
  {
   "cell_type": "code",
   "execution_count": null,
   "metadata": {},
   "outputs": [],
   "source": [
    "# Notice that [ns] at the end of the datatype?\n",
    "# That's the resolution (how precise it is)\n",
    "# Though not generally adviseable, you can convert\n",
    "ts.astype('datetime64[D]')"
   ]
  },
  {
   "cell_type": "markdown",
   "metadata": {},
   "source": [
    "### So what's this 'NaT' I see?\n",
    "\n",
    "Numpy (and by extension pandas) uses `NaT` to indicate a missing time value. `np.NaN` works with floats and Python objects ... it does not work with datetimes. Generally you can treat these interchangably with `np.NaN` when you're using the `Series.dropna()` or `Series.fillna()` methods, however if you need to manually set something you will have to use `pd.NaT` (not np.NaT)."
   ]
  },
  {
   "cell_type": "markdown",
   "metadata": {},
   "source": [
    "### So how do we work with these datetimes?\n",
    "\n",
    "The first and most useful thing you can do with datetimes use + and - operators to change the series as a whole."
   ]
  },
  {
   "cell_type": "code",
   "execution_count": null,
   "metadata": {},
   "outputs": [],
   "source": [
    "# Subtract the year start (scalar) from your 2020 series to get hours from start of year.\n",
    "# This gives us a Timedelta (which we will explore later)\n",
    "hours_from_year_start = series_2020 - pd.Timestamp('2020-01-01')\n",
    "hours_from_year_start.tail()"
   ]
  },
  {
   "cell_type": "code",
   "execution_count": null,
   "metadata": {},
   "outputs": [],
   "source": [
    "# Subtract one series from another (the part of the dtype in brackets is the resolution)\n",
    "start_series    = pd.Series(['2018-01-01T12:00:00', '2019-10-05', '2020-10-09T21:00:05'], dtype='datetime64[ns]')\n",
    "end_series      = pd.Series(['2018-10-30T22:00:00', '2029-01-05', '2020-10-09T22:00:00'], dtype='datetime64[ns]')\n",
    "duration_series = end_series - start_series\n",
    "\n",
    "# Display duration\n",
    "duration_series"
   ]
  },
  {
   "cell_type": "markdown",
   "metadata": {},
   "source": [
    "### Detour: so what of this `.dt` namespace?\n",
    "\n",
    "All Datetime and Timedelta Series have a `.dt` namespace that has a variety of attributes and methods you can use. The below is a brief description of what attributes and methods are available."
   ]
  },
  {
   "cell_type": "markdown",
   "metadata": {},
   "source": [
    "#### Python Datetime Component Attributes\n",
    "\n",
    "If you just want the standard library date and time components, you can access them via the following attributes:\n",
    "\n",
    "* [`dt.date`](https://pandas.pydata.org/pandas-docs/stable/generated/pandas.Series.dt.date.html): returns the \"date\" portion of the datetime via Python standard library datetime.date objects.\n",
    "* [`dt.time`](https://pandas.pydata.org/pandas-docs/stable/generated/pandas.Series.dt.time.html): returns the \"time\" portion of the datetime via Python standard library datetime.time objects."
   ]
  },
  {
   "cell_type": "code",
   "execution_count": null,
   "metadata": {},
   "outputs": [],
   "source": [
    "# Print the type of the first item from the date attribute series\n",
    "print(type(start_series.dt.date.iloc[0]))\n",
    "\n",
    "# Display entire series\n",
    "start_series.dt.date"
   ]
  },
  {
   "cell_type": "code",
   "execution_count": null,
   "metadata": {},
   "outputs": [],
   "source": [
    "# Print the type of the first item from the time attribute series\n",
    "print(type(start_series.dt.time.iloc[0]))\n",
    "\n",
    "# Display entire series\n",
    "start_series.dt.time"
   ]
  },
  {
   "cell_type": "markdown",
   "metadata": {},
   "source": [
    "#### Numeric Components of datetime\n",
    "\n",
    "It is also possible to get the numeric portions of the datetime. For example, for 2018-01-01T12:00:00.000005, I could get 2018 for the year, 1 for the month and 5 for the nanoseconds\n",
    "\n",
    "* `dt.year`\n",
    "* `dt.month`\n",
    "* `dt.day`\n",
    "* `dt.hour`\n",
    "* `dt.minute`\n",
    "* `dt.second`\n",
    "* `dt.microsecond`\n",
    "* `dt.nanosecond`"
   ]
  },
  {
   "cell_type": "code",
   "execution_count": null,
   "metadata": {},
   "outputs": [],
   "source": [
    "# Here we get the hours (we'll skip the others as they are used pretty much the same)\n",
    "start_series.dt.hour"
   ]
  },
  {
   "cell_type": "markdown",
   "metadata": {},
   "source": [
    "#### Descriptive Attributes of Datetime\n",
    "\n",
    "There are also attributes that aren't a numeric part of the datetime itself, but are derived from datetimes.\n",
    "\n",
    "* `dt.quarter`: the quarter in which this datetime falls\n",
    "* `dt.week`: which week of the year (1-52) this datetime falls within\n",
    "* `dt.weekday_name`: the day of the week (e.g. 'Monday', 'Tuesday', etc.)\n",
    "* `dt.dayofweek`: a number for the weekday (0 is Sunday, 1 is Monday, etc)\n",
    "* `dt.dayofyear`: the day between 1 and 365 of the year it is\n",
    "* `dt.days_in_month`: the number of days in the month (e.g. 29 for February leap year)\n",
    "* `dt.daysinmonth`: an alias for days_in_month\n",
    "* `dt.weekday`: an alias for day_of_week\n",
    "* `dt.weekofyear`: an alias for week\n",
    "* `dt.freq`: the frequency of your data (days, months, seconds, etc.)\n",
    "\n",
    "See also the following methods:\n",
    "\n",
    "* `dt.day_name()`: the name of the day\n",
    "* `dt.month_name()`: the name of the month"
   ]
  },
  {
   "cell_type": "code",
   "execution_count": null,
   "metadata": {},
   "outputs": [],
   "source": [
    "# This is weekday name (we'll skip the others).\n",
    "start_series.dt.weekday_name"
   ]
  },
  {
   "cell_type": "markdown",
   "metadata": {},
   "source": [
    "#### Check attributes\n",
    "\n",
    "These attributes give you a True/False value for whether a datetime passes a particular check.\n",
    "\n",
    "* `dt.is_leap_year`\n",
    "* `dt.is_month_end`\n",
    "* `dt.is_month_start`\n",
    "* `dt.is_quarter_end`\n",
    "* `dt.is_quarter_start`\n",
    "* `dt.is_year_end`\n",
    "* `dt.is_year_start`"
   ]
  },
  {
   "cell_type": "code",
   "execution_count": null,
   "metadata": {},
   "outputs": [],
   "source": [
    "# Check if each day is the start of the year.\n",
    "start_series.dt.is_year_start"
   ]
  },
  {
   "cell_type": "markdown",
   "metadata": {},
   "source": [
    "#### Rounding Functions\n",
    "\n",
    "These functions will round datetimes to a value:\n",
    "\n",
    "* [`dt.ceil()`](https://pandas.pydata.org/pandas-docs/stable/generated/pandas.Series.dt.ceil.html#pandas.Series.dt.ceil): round up to a particular frequency\n",
    "* [`dt.floor()`](https://pandas.pydata.org/pandas-docs/stable/generated/pandas.Series.dt.floor.html#pandas.Series.dt.floor): round down to a particular frequency\n",
    "* [`dt.round()`](https://pandas.pydata.org/pandas-docs/stable/generated/pandas.Series.dt.round.html): round to the closest value of a particular frequency\n",
    "* [`dt.normalize()`](https://pandas.pydata.org/pandas-docs/stable/generated/pandas.Series.dt.normalize.html): round to midnight\n",
    "\n",
    "**Note**: See [offset aliases](http://pandas.pydata.org/pandas-docs/stable/timeseries.html#timeseries-offset-aliases) for the codes of things you can round to (minute, month start, business day, etc)."
   ]
  },
  {
   "cell_type": "code",
   "execution_count": null,
   "metadata": {},
   "outputs": [],
   "source": [
    "# Round to next day\n",
    "next_day = start_series.dt.ceil('d')\n",
    "\n",
    "# Round to this minute\n",
    "this_minute = start_series.dt.floor('min')\n",
    "\n",
    "# Rount to nearest second\n",
    "this_second = start_series.dt.round('S')\n",
    "\n",
    "# Normalized to midnight\n",
    "normalized = start_series.dt.normalize()\n",
    "\n",
    "# Display next day\n",
    "next_day"
   ]
  },
  {
   "cell_type": "markdown",
   "metadata": {},
   "source": [
    "Note: these rounding functions do not actually change the time resolution of your data ... they change the actual values of your data but leave the resolution intact."
   ]
  },
  {
   "cell_type": "markdown",
   "metadata": {},
   "source": [
    "#### Conversions\n",
    "\n",
    "* `dt.strftime()`: create a formatted string from a datetime (\"string format time\")\n",
    "* `dt.to_period()`: convert datetimes to ranges of time (a.k.a. periods)\n",
    "* `dt.to_pydatetime()`: convert np.datetime objects to standard library datetimes.\n",
    "\n",
    "Note: [see strftime() and strptime() behavior](https://docs.python.org/3/library/datetime.html#strftime-and-strptime-behavior) for details on strftime formatting."
   ]
  },
  {
   "cell_type": "code",
   "execution_count": null,
   "metadata": {},
   "outputs": [],
   "source": [
    "# Do some formatted time strings\n",
    "start_series.dt.strftime(\"Verily, it was the %d day in the year %Y of our lord.\")"
   ]
  },
  {
   "cell_type": "code",
   "execution_count": null,
   "metadata": {},
   "outputs": [],
   "source": [
    "# Periods are the best way to deal with ranges as we will see later on.\n",
    "as_period = start_series.dt.to_period('M')\n",
    "\n",
    "# We can add 6 months with simple addition.\n",
    "six_months_after = as_period + 6\n",
    "\n",
    "# Display\n",
    "six_months_after"
   ]
  },
  {
   "cell_type": "markdown",
   "metadata": {},
   "source": [
    "#### Timezone Stuff\n",
    "\n",
    "Dealing with timezones and daylight savings time and is a pain. Never do this manually. Pandas (by way of [pytz](https://pypi.org/project/pytz/\n",
    ") and the [Olson tz database](https://en.wikipedia.org/wiki/Tz_database)) is smarter than you.\n",
    "\n",
    "* `dt.tz`: get the timezone for this time\n",
    "* `dt.tz_convert`: convert to a new timezone\n",
    "* `dt.tz_localize`: set the time zone for this datetime"
   ]
  },
  {
   "cell_type": "code",
   "execution_count": null,
   "metadata": {},
   "outputs": [],
   "source": [
    "# Set a timezone\n",
    "utc_time = start_series.dt.tz_localize('UTC')\n",
    "utc_time"
   ]
  },
  {
   "cell_type": "code",
   "execution_count": null,
   "metadata": {},
   "outputs": [],
   "source": [
    "# Get our timezone\n",
    "utc_time.dt.tz"
   ]
  },
  {
   "cell_type": "code",
   "execution_count": null,
   "metadata": {},
   "outputs": [],
   "source": [
    "# Convert to another timezone\n",
    "utc_time.dt.tz_convert('America/Chicago')"
   ]
  },
  {
   "cell_type": "markdown",
   "metadata": {},
   "source": [
    "**Note**: if you want to know what timezones are available, you can `import pytz` and then check `pytz.all_timezones`.\n",
    "\n",
    "**Note**: the \"-06:00\" or \"-05:00\" you see at the end of the time is the difference from UTC, which differs based on daylight savings time."
   ]
  },
  {
   "cell_type": "markdown",
   "metadata": {},
   "source": [
    "---\n",
    "\n",
    "## The Period\n",
    "\n",
    "The [`pd.Period`](https://pandas.pydata.org/pandas-docs/stable/generated/pandas.Period.html) in pandas is just a fixed period of time. Am example of a period would be one minute--a minute has a nanosecond on which it starts, a nanosecond on which it ends, and about 60 billion nanoseconds in the middle. Though we could refer to each and everyone one of those datetimes in that minute, it's easier to generalize. \n",
    "\n",
    "If you want to group times by second, by year, by every two hours, by every five minutes or any other which way, Periods are the way to go (e.g. I want to know how many events I have for a given month).\n",
    "\n",
    "The most common ways to generate period series are:\n",
    "\n",
    "* [`pd.Period()`](https://pandas.pydata.org/pandas-docs/stable/generated/pandas.Period.html) can be used on its own if you need to instantiate a particular period.\n",
    "\n",
    "* [`Series.dt.to_period()`](https://pandas.pydata.org/pandas-docs/stable/generated/pandas.Series.dt.to_period.html) if you have a bunch of datetimes and you want to convert them to periods, this is the best way to do it.\n",
    "\n",
    "* [`pd.period_range()`](https://pandas.pydata.org/pandas-docs/stable/generated/pandas.period_range.html) can be used manually generate periods as [`pd.PeriodIndex`](https://pandas.pydata.org/pandas-docs/stable/generated/pandas.PeriodIndex.html)es with whatever arbitrary frequency you desire."
   ]
  },
  {
   "cell_type": "code",
   "execution_count": null,
   "metadata": {},
   "outputs": [],
   "source": [
    "# Let's generate a single period with a frequency of minute.\n",
    "period = pd.Period('2019-01-01T12:00:00', freq='min')\n",
    "period"
   ]
  },
  {
   "cell_type": "code",
   "execution_count": null,
   "metadata": {},
   "outputs": [],
   "source": [
    "# Using period range of every 6 months from 1900 to 2020.\n",
    "period_range = pd.period_range(start='1900-01-01', end='2020-12-31', freq='6M')\n",
    "period_range"
   ]
  },
  {
   "cell_type": "code",
   "execution_count": null,
   "metadata": {},
   "outputs": [],
   "source": [
    "# Convert our start_series to 3 week periods.\n",
    "start_periods = start_series.dt.to_period('3w')\n",
    "start_periods"
   ]
  },
  {
   "cell_type": "code",
   "execution_count": null,
   "metadata": {},
   "outputs": [],
   "source": [
    "# Periods and period columns can be simply stepped forward using +/- operators.\n",
    "print(period, end='\\n\\n')\n",
    "\n",
    "# Print freq='min' period three minutes earlier.\n",
    "print(period - 3, end='\\n\\n')\n",
    "\n",
    "# Print the start_period 9 weeks in the future\n",
    "print(start_periods + 3, end='\\n\\n')"
   ]
  },
  {
   "cell_type": "markdown",
   "metadata": {},
   "source": [
    "#### Period `.dt` namepsace\n",
    "\n",
    "Like other datetime objects, period columns have a .dt namespace. Most of the methods and attributes are the same as what you would see for datetimes, but a few specialized attributes and methods are below:\n",
    "\n",
    "* [`dt.start_time`](https://pandas.pydata.org/pandas-docs/stable/generated/pandas.Period.start_time.html#pandas.Period.start_time) gets the timestamp at the start of the period.\n",
    "* [`dt.end_time`](https://pandas.pydata.org/pandas-docs/stable/generated/pandas.Period.end_time.html#pandas.Period.end_time) gets the timestamp at the end of the period.\n",
    "* [`dt.to_timestamp()`](https://pandas.pydata.org/pandas-docs/stable/generated/pandas.Period.to_timestamp.html#pandas.Period.to_timestamp) the timestamp gives a string for the period as a whole."
   ]
  },
  {
   "cell_type": "code",
   "execution_count": null,
   "metadata": {},
   "outputs": [],
   "source": [
    "# Lets take a look at some of these\n",
    "dt_items = {\n",
    "    'start': start_periods.dt.start_time,\n",
    "    'end'  : start_periods.dt.end_time,\n",
    "    'ts'   : start_periods.dt.to_timestamp(),\n",
    "    'freq' : start_periods.dt.freq,\n",
    "}\n",
    "\n",
    "# Note how the resolution is nanoseconds, but the period is 3 seconds.\n",
    "for name, data in dt_items.items():\n",
    "    print(name)\n",
    "    print(data, end='\\n\\n')"
   ]
  },
  {
   "cell_type": "code",
   "execution_count": null,
   "metadata": {},
   "outputs": [],
   "source": [
    "# A more practical example (we created a datetime data series at the beginning of this notebook)\n",
    "dts"
   ]
  },
  {
   "cell_type": "code",
   "execution_count": null,
   "metadata": {},
   "outputs": [],
   "source": [
    "# How many of our datetimes occur each day? Convert to day periods, then value count.\n",
    "dts.dt.to_period('d').value_counts()"
   ]
  },
  {
   "cell_type": "code",
   "execution_count": null,
   "metadata": {},
   "outputs": [],
   "source": [
    "# Note: when you use a Time Series as the index, you get access to even cooler methods\n",
    "dt_index     = pd.DatetimeIndex(start='1900-01-01', end='1999-12-31', freq='H')\n",
    "time_indexed = pd.Series(\n",
    "    index=dt_index,\n",
    "    data=np.random.normal(1,1, len(dt_index))\n",
    ")\n",
    "\n",
    "time_indexed.head()"
   ]
  },
  {
   "cell_type": "code",
   "execution_count": null,
   "metadata": {},
   "outputs": [],
   "source": [
    "# Resample is one of these things. Let's take our daily stuff and get a month average\n",
    "time_indexed.resample('MS').median().head()"
   ]
  },
  {
   "cell_type": "code",
   "execution_count": null,
   "metadata": {},
   "outputs": [],
   "source": [
    "# And we can change the frequency index (downcasting fills with NaN)\n",
    "time_indexed.asfreq('min', method='backfill').head()"
   ]
  },
  {
   "cell_type": "markdown",
   "metadata": {},
   "source": [
    "---\n",
    "\n",
    "## The Timedelta\n",
    "\n",
    "The [`pd.Timedelta`](http://pandas.pydata.org/pandas-docs/stable/timedeltas.html) is a data structure that represents the difference between two times. For example, if I were comparing now to thirty minutes from now, my Timedelta would be 30 minutes.\n",
    "\n",
    "Timedeltas can be created by subtracting two times or series of times from one another.\n",
    "\n",
    "It can be also be created using:\n",
    "\n",
    "* [`pd.Timedelta()`](https://pandas.pydata.org/pandas-docs/stable/generated/pandas.Timedelta.html): a constructor for directly creating a timedelta.\n",
    "\n",
    "* [`pd.to_timedelta()`](https://pandas.pydata.org/pandas-docs/stable/generated/pandas.to_timedelta.html): a helper function for creating a series of timedeltas in a fault tolerant manner.\n",
    "\n",
    "The majority of the items in the `.dt` namespace for Timedeltas are the same as what you have seen elsewhere and won't be covered here."
   ]
  },
  {
   "cell_type": "code",
   "execution_count": null,
   "metadata": {},
   "outputs": [],
   "source": [
    "# Again, we can generate these by subtracting two datetime series\n",
    "timedelta_series = end_series - start_series\n",
    "timedelta_series"
   ]
  },
  {
   "cell_type": "code",
   "execution_count": null,
   "metadata": {},
   "outputs": [],
   "source": [
    "# We can also generate them manually.\n",
    "fortnight = pd.Timedelta('14 days')\n",
    "fortnight"
   ]
  },
  {
   "cell_type": "code",
   "execution_count": null,
   "metadata": {},
   "outputs": [],
   "source": [
    "# After we have them, we can use them with our operators get a new datetime (here 2 weeks later)\n",
    "start_series - fortnight"
   ]
  },
  {
   "cell_type": "code",
   "execution_count": null,
   "metadata": {},
   "outputs": [],
   "source": [
    "# Using to_timedelta()\n",
    "pd.to_timedelta(['7 hours 15 days', '3 minutes', '2:00:00'])"
   ]
  },
  {
   "cell_type": "code",
   "execution_count": null,
   "metadata": {},
   "outputs": [],
   "source": [
    "# You still have .dt\n",
    "timedelta_series.dt.to_pytimedelta()"
   ]
  },
  {
   "cell_type": "markdown",
   "metadata": {},
   "source": [
    "## The offset\n",
    "\n",
    "What if you don't want to add a finite timedelta to your date? What if you just want to go to the next business day? Or the start of the next month? Or something else? You'll probably benefit from something from [`pd.offset`](https://pandas.pydata.org/pandas-docs/stable/timeseries.html#dateoffset-objects). These basically allow you to step through dates however you please. \n",
    "\n",
    "Want to make your own custom business day to automatically skip over specific holidays? [Go for it](https://pandas.pydata.org/pandas-docs/stable/timeseries.html#dateoffset-objects)."
   ]
  },
  {
   "cell_type": "code",
   "execution_count": null,
   "metadata": {},
   "outputs": [],
   "source": [
    "# What is today?\n",
    "today = pd.Timestamp.now()\n",
    "today"
   ]
  },
  {
   "cell_type": "code",
   "execution_count": null,
   "metadata": {},
   "outputs": [],
   "source": [
    "# What is the start of the next  month?\n",
    "bm_offset = pd.offsets.MonthBegin()\n",
    "today + bm_offset"
   ]
  },
  {
   "cell_type": "code",
   "execution_count": null,
   "metadata": {},
   "outputs": [],
   "source": [
    "# You can also do multiples\n",
    "five_biz_days = pd.offsets.BDay(5)\n",
    "\n",
    "# Equivalent\n",
    "five_biz_days = pd.offsets.BDay() * 5\n",
    "\n",
    "# Subtract from today to get five bdays ago\n",
    "today - five_biz_days"
   ]
  },
  {
   "cell_type": "markdown",
   "metadata": {},
   "source": [
    "# Additional Learing Resources\n",
    "\n",
    "* ### [Time Series / Date Functionality](http://pandas.pydata.org/pandas-docs/stable/timeseries.html) \n",
    "* ### [Numpy Datetimes and Timedeltas](https://docs.scipy.org/doc/numpy/reference/arrays.datetime.html)\n",
    "* ### [Datetimelike-Properties API](https://pandas.pydata.org/pandas-docs/stable/api.html#datetimelike-properties)\n",
    "* ### [Time-Series-Related](https://pandas.pydata.org/pandas-docs/stable/api.html#time-series-related)"
   ]
  },
  {
   "cell_type": "markdown",
   "metadata": {},
   "source": [
    "---\n",
    "\n",
    "# Next Up: [String Series](5_string_series.ipynb)\n",
    "\n",
    "<br>\n",
    "\n",
    "<img style=\"margin-left: 0;\" src=\"static/aww.jpg\" width=\"30%\">\n",
    "\n",
    "<br>\n",
    "\n",
    "<div align='left'>\n",
    "    Image courtesy of <a href='https://commons.wikimedia.org/wiki/File:Red_Panda_Tennoji_2.jpg'>Kuribo</a> under the <a href='https://creativecommons.org/licenses/by/2.5/deed.en'>CC BY-SA 3.0</a>\n",
    "</div>\n",
    "\n",
    "---"
   ]
  }
 ],
 "metadata": {
  "anaconda-cloud": {},
  "kernelspec": {
   "display_name": "Python 3",
   "language": "python",
   "name": "python3"
  },
  "language_info": {
   "codemirror_mode": {
    "name": "ipython",
    "version": 3
   },
   "file_extension": ".py",
   "mimetype": "text/x-python",
   "name": "python",
   "nbconvert_exporter": "python",
   "pygments_lexer": "ipython3",
   "version": "3.6.7"
  }
 },
 "nbformat": 4,
 "nbformat_minor": 1
}
