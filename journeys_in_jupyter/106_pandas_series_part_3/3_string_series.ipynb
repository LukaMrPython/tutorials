{
 "cells": [
  {
   "cell_type": "markdown",
   "metadata": {
    "collapsed": true
   },
   "source": [
    "<a href=\"https://github.com/theonaunheim\">\n",
    "    <img style=\"border-radius: 100%; float: right;\" src=\"static/strawberry_thief_square.png\" width=10% alt=\"Theo Naunheim's Github\">\n",
    "</a>\n",
    "\n",
    "<br style=\"clear: both\">\n",
    "<hr>\n",
    "<br>\n",
    "\n",
    "<h1 align='center'>String Series</h1>\n",
    "\n",
    "<br>\n",
    "\n",
    "<div style=\"display: table; width: 100%\">\n",
    "    <div style=\"display: table-row; width: 100%;\">\n",
    "        <div style=\"display: table-cell; width: 50%; vertical-align: middle;\">\n",
    "            <img src=\"static/aww.jpg\" width=\"80%\">\n",
    "        </div>\n",
    "        <div style=\"display: table-cell; width: 10%\">\n",
    "        </div>\n",
    "        <div style=\"display: table-cell; width: 40%; vertical-align: top;\">\n",
    "            <blockquote>\n",
    "                <p style=\"font-style: italic;\">\"Words are good servants but bad masters.\"</p>\n",
    "                <br>\n",
    "                <p>-Aldous Huxley</p>\n",
    "            </blockquote>\n",
    "        </div>\n",
    "    </div>\n",
    "</div>\n",
    "\n",
    "\n",
    "<br>\n",
    "\n",
    "\n",
    "\n",
    "\n",
    "<br>\n",
    "\n",
    "<div align='left'>\n",
    "    Image courtesy of <a href='https://commons.wikimedia.org/wiki/File:Red_Panda_Tennoji_2.jpg'>Kuribo</a> under the <a href='https://creativecommons.org/licenses/by/2.5/deed.en'>CC BY-SA 3.0</a>\n",
    "</div>\n",
    "\n",
    "<hr>"
   ]
  },
  {
   "cell_type": "code",
   "execution_count": 2,
   "metadata": {},
   "outputs": [],
   "source": [
    "import numpy as np\n",
    "import pandas as pd"
   ]
  },
  {
   "cell_type": "markdown",
   "metadata": {},
   "source": [
    "# Generally\n",
    "\n",
    "Because of their importance in data analysis and computer programming as a whole, strings of text also have a special namespace for methods called `.str`. This string methods object allows us to perform specialized vectorized string operations.\n",
    "\n",
    "Strings are stored as an 'O'('object') type which gives you flexibility when it is time to transform these strings (e.g. `np.NaN` for missing data, Python introspection, etc.). All 'object' or 'O' type `Series` will have a `.str` namespace, but it won't be useful unless you're working with stings.\n",
    "\n",
    "**Note**: unless you are working with fixed-width strings (e.g. 10 UTF-8 characters each), you will want to steer clear of using numpy strings for text processing. Python string operations are usually quick enough."
   ]
  },
  {
   "cell_type": "markdown",
   "metadata": {},
   "source": [
    "## Creation\n",
    "\n",
    "Most of the time you will not need to worry about creating a string series.  Pandas is smart enough to do that on it's own--the only time you'll need to do this manually is if you are reading or converting a number to a string. Conversions at the time of reading can be accomplished with passing `dtype=str` to your `pd.read_csv()` or `pd.Series()` constructors. Conversions later on can be performed using the `Series.astype(str)`."
   ]
  },
  {
   "cell_type": "code",
   "execution_count": 3,
   "metadata": {},
   "outputs": [
    {
     "data": {
      "text/plain": [
       "0       Steve Smith\n",
       "1     Steve Johnson\n",
       "2    Steve Williams\n",
       "3       Steve Brown\n",
       "4       Steve Jones\n",
       "Name: 0, dtype: object"
      ]
     },
     "execution_count": 3,
     "metadata": {},
     "output_type": "execute_result"
    }
   ],
   "source": [
    "# Load names as strings automatically\n",
    "names = pd.read_csv('data/subject_names.csv', header=None, squeeze=True).head()\n",
    "names"
   ]
  },
  {
   "cell_type": "code",
   "execution_count": 4,
   "metadata": {},
   "outputs": [
    {
     "data": {
      "text/plain": [
       "0        1.1\n",
       "1        2.2\n",
       "2    3.02222\n",
       "dtype: object"
      ]
     },
     "execution_count": 4,
     "metadata": {},
     "output_type": "execute_result"
    }
   ],
   "source": [
    "# And here is how you would convert in place using .astype()\n",
    "number_series = pd.Series([1.1, 2.2, 3.02222])\n",
    "string_series = number_series.astype(str)\n",
    "string_series"
   ]
  },
  {
   "cell_type": "markdown",
   "metadata": {},
   "source": [
    "**Note**: if you are loading numbers, you may have to specify dtype='str' to prevent autoconversion."
   ]
  },
  {
   "cell_type": "code",
   "execution_count": 5,
   "metadata": {},
   "outputs": [
    {
     "data": {
      "text/plain": [
       "0    5.57\n",
       "1     5.7\n",
       "2    6.12\n",
       "3     5.9\n",
       "4    5.87\n",
       "Name: 0, dtype: object"
      ]
     },
     "execution_count": 5,
     "metadata": {},
     "output_type": "execute_result"
    }
   ],
   "source": [
    "heights = pd.read_csv('data/height_in_feet.csv', header=None, squeeze=True, dtype=str).head()\n",
    "heights"
   ]
  },
  {
   "cell_type": "markdown",
   "metadata": {},
   "source": [
    "**Note**: the logic for how something is translated to a string (if you care), is handled by the `__str__()` magic method, and consequently is class-specific."
   ]
  },
  {
   "cell_type": "code",
   "execution_count": 6,
   "metadata": {},
   "outputs": [
    {
     "data": {
      "text/plain": [
       "0    <module 're' from 'C:\\\\Program Files (x86)\\\\Mi...\n",
       "1    <module 'difflib' from 'C:\\\\Program Files (x86...\n",
       "2    <module 'string' from 'C:\\\\Program Files (x86)...\n",
       "dtype: object"
      ]
     },
     "execution_count": 6,
     "metadata": {},
     "output_type": "execute_result"
    }
   ],
   "source": [
    "import re, difflib, string\n",
    "\n",
    "pd.Series([re, difflib, string]).astype(str)"
   ]
  },
  {
   "cell_type": "markdown",
   "metadata": {},
   "source": [
    "## String series and the '+' operator\n",
    "\n",
    "If doesn't fit anywhere else neatly so we will tackle this here. Using the plus operator, you can concatenate a strings series to another string series ... or concatenate a arbitrary string to each item in the series."
   ]
  },
  {
   "cell_type": "code",
   "execution_count": 7,
   "metadata": {},
   "outputs": [
    {
     "data": {
      "text/plain": [
       "0          Steve SmithSteve Smith\n",
       "1      Steve JohnsonSteve Johnson\n",
       "2    Steve WilliamsSteve Williams\n",
       "3          Steve BrownSteve Brown\n",
       "4          Steve JonesSteve Jones\n",
       "Name: 0, dtype: object"
      ]
     },
     "execution_count": 7,
     "metadata": {},
     "output_type": "execute_result"
    }
   ],
   "source": [
    "# String series can be concatenated simply by adding them.\n",
    "double_names = names + names\n",
    "double_names"
   ]
  },
  {
   "cell_type": "code",
   "execution_count": 8,
   "metadata": {},
   "outputs": [
    {
     "data": {
      "text/plain": [
       "0          Steve Smith cannot be trusted. Steve Smith!\n",
       "1      Steve Johnson cannot be trusted. Steve Johnson!\n",
       "2    Steve Williams cannot be trusted. Steve Williams!\n",
       "3          Steve Brown cannot be trusted. Steve Brown!\n",
       "4          Steve Jones cannot be trusted. Steve Jones!\n",
       "Name: 0, dtype: object"
      ]
     },
     "execution_count": 8,
     "metadata": {},
     "output_type": "execute_result"
    }
   ],
   "source": [
    "# Adding a string to a series will concatenate it to each element.\n",
    "names + ' cannot be trusted. ' + names + '!'"
   ]
  },
  {
   "cell_type": "markdown",
   "metadata": {},
   "source": [
    "## So how do we use this `.str` namespace?\n",
    "\n",
    "The `.str` name space can be used in two main ways:\n",
    "\n",
    "* subscription\n",
    "* methods"
   ]
  },
  {
   "cell_type": "code",
   "execution_count": 9,
   "metadata": {},
   "outputs": [
    {
     "name": "stdout",
     "output_type": "stream",
     "text": [
      "Our string namespace has 89 methods.\n"
     ]
    },
    {
     "data": {
      "text/plain": [
       "<pandas.core.strings.StringMethods at 0x18d1b0be6d8>"
      ]
     },
     "execution_count": 9,
     "metadata": {},
     "output_type": "execute_result"
    }
   ],
   "source": [
    "# This is what the string looks like\n",
    "dir_count = len(dir(names.str))\n",
    "print(f'Our string namespace has {dir_count} methods.')\n",
    "\n",
    "# And this is what it looks like\n",
    "names.str"
   ]
  },
  {
   "cell_type": "markdown",
   "metadata": {},
   "source": [
    "### Subscription\n",
    "\n",
    "If you have ever worked with strings before in Python, you know that you can get [specified portion of the string using bracket notation](https://docs.python.org/3/tutorial/introduction.html#strings).\n",
    "\n",
    "    >>> word = 'Python'\n",
    "    >>> word[0]  # character in position 0\n",
    "    'P'\n",
    "    >>> word[5]  # character in position 5\n",
    "    'n'\n",
    "    Indices may also be negative numbers, to start counting from the right:\n",
    "    >>>\n",
    "    >>> word[-1]  # last character\n",
    "    'n'\n",
    "    >>> word[-2]  # second-last character\n",
    "    'o'\n",
    "    >>> word[-6]\n",
    "    'P'\n",
    "    \n",
    "Pandas strings can be indexed in this manner by subscripting the `.str` methods object directly."
   ]
  },
  {
   "cell_type": "code",
   "execution_count": 10,
   "metadata": {},
   "outputs": [
    {
     "data": {
      "text/plain": [
       "0    First letters are Pyt and last letter is n\n",
       "1    First letters are Pyt and last letter is n\n",
       "2    First letters are Not and last letter is n\n",
       "dtype: object"
      ]
     },
     "execution_count": 10,
     "metadata": {},
     "output_type": "execute_result"
    }
   ],
   "source": [
    "# Python string series\n",
    "words = pd.Series(['Python', 'Python', 'Not Python'])\n",
    "\n",
    "# Get first letter.\n",
    "first_letters = words.str[0:3]\n",
    "\n",
    "# Get last letter.\n",
    "last_letters = words.str[-1]\n",
    "\n",
    "'First letters are ' + first_letters + ' and last letter is ' + last_letters"
   ]
  },
  {
   "cell_type": "code",
   "execution_count": 11,
   "metadata": {},
   "outputs": [
    {
     "data": {
      "text/plain": [
       "0        tho\n",
       "1        tho\n",
       "2    t Pytho\n",
       "dtype: object"
      ]
     },
     "execution_count": 11,
     "metadata": {},
     "output_type": "execute_result"
    }
   ],
   "source": [
    "# Similarly, you can use ranges.\n",
    "words.str[2:-1]"
   ]
  },
  {
   "cell_type": "markdown",
   "metadata": {},
   "source": [
    "### `.str` methods\n",
    "\n",
    "This is where the majority of the work is done. The `.str` function namespace has access to versions of [pretty much every string method the Python standard library has](https://pandas.pydata.org/pandas-docs/stable/api.html#string-handling), and a few more that are pandas-specific. Some of the more important ones are listed below.\n",
    "\n",
    "These methods can be grouped into the following categories:\n",
    "\n",
    "* **Boolean Checks**;\n",
    "* **Splitting, Joining, and Splicing**;\n",
    "* **Find/Extract/Replace**;\n",
    "* **Spacing**;\n",
    "* **Miscellaneous Transformations**;\n",
    "* **Encoding**; and,\n",
    "* **Other**."
   ]
  },
  {
   "cell_type": "markdown",
   "metadata": {},
   "source": [
    "#### Boolean Checks\n",
    "\n",
    "These functions perform a check on each of the strings in your Series and returns a boolean Series of True or False values (i.e. True if the test is passed; False is the test is failed). It is then possible to use a boolean index to transform or filter the Series.\n",
    "\n",
    "    # Pseudocode\n",
    "    bix = series.str.method()\n",
    "    \n",
    "    # Use bix to get a filtered series.\n",
    "    series.loc[bix]\n",
    "    \n",
    "    # Or more succinctly ...\n",
    "    series[series.str.method()]\n",
    "\n",
    "Some of the more useful methods are:\n",
    "\n",
    "* [`str.contains()`](https://pandas.pydata.org/pandas-docs/stable/generated/pandas.Series.str.contains.html): test if the string is found in each entry.\n",
    "* [`str.endswith()`](https://pandas.pydata.org/pandas-docs/stable/generated/pandas.Series.str.endswith.html): test if the end of each string mattaches a pattern.\n",
    "* [`str.isalnum()`](https://pandas.pydata.org/pandas-docs/stable/generated/pandas.Series.str.isalnum.html): tests whether each item is alphanumeric.\n",
    "* [`str.isalpha()`](https://pandas.pydata.org/pandas-docs/stable/generated/pandas.Series.str.isalpha.html): test whether each string is alphabetic.\n",
    "* [`str.isdecimal()`](https://pandas.pydata.org/pandas-docs/stable/generated/pandas.Series.str.isdecimal.html): tests whether each item is a decimal.\n",
    "* [`str.isdigit()`](https://pandas.pydata.org/pandas-docs/stable/generated/pandas.Series.str.isdigit.html): tests whether each item is a digit.\n",
    "* [`str.islower()`](https://pandas.pydata.org/pandas-docs/stable/generated/pandas.Series.str.islower.html): tests whether each item is lowercase.\n",
    "* [`str.isnumeric()`](https://pandas.pydata.org/pandas-docs/stable/generated/pandas.Series.str.isnumeric.html): tests whether each item is numeric.\n",
    "* [`str.isspace()`](https://pandas.pydata.org/pandas-docs/stable/generated/pandas.Series.str.isspace.html): tests whether each item is whitespace.\n",
    "* [`str.istitle()`](https://pandas.pydata.org/pandas-docs/stable/generated/pandas.Series.str.istitle.html): tests whether each item is in title case.\n",
    "* [`str.isupper()`](https://pandas.pydata.org/pandas-docs/stable/generated/pandas.Series.str.isupper.html): tests whether each item is upper case.\n",
    "* [`str.startswith()`](https://pandas.pydata.org/pandas-docs/stable/generated/pandas.Series.str.startswith.html): tests whether the start of the string matches a mattern.\n",
    "* [`str.match()`](https://pandas.pydata.org/pandas-docs/stable/generated/pandas.Series.str.match.html): determine if the string matches a regular expression.\n",
    "\n",
    "**Note**: by default, `str.contains()` and `str.match()` take [regex expressions](https://docs.python.org/3/howto/regex.html), so if you're looking for certain characters such as `)`, `?`, or `*` you will need to use regex or pass a `regex=False` argument. "
   ]
  },
  {
   "cell_type": "code",
   "execution_count": 12,
   "metadata": {},
   "outputs": [
    {
     "data": {
      "text/plain": [
       "0                    Brian\n",
       "1                      NaN\n",
       "2    Centurion of the Yard\n",
       "3                   Gaoler\n",
       "4                      NaN\n",
       "Name: characters, dtype: object"
      ]
     },
     "execution_count": 12,
     "metadata": {},
     "output_type": "execute_result"
    }
   ],
   "source": [
    "# Load names\n",
    "names = pd.read_csv('./data/lob_characters.csv', squeeze=True)\n",
    "names.head()"
   ]
  },
  {
   "cell_type": "code",
   "execution_count": 13,
   "metadata": {},
   "outputs": [
    {
     "data": {
      "text/plain": [
       "0    False\n",
       "1      NaN\n",
       "2    False\n",
       "3    False\n",
       "4      NaN\n",
       "Name: characters, dtype: object"
      ]
     },
     "execution_count": 13,
     "metadata": {},
     "output_type": "execute_result"
    }
   ],
   "source": [
    "# This will return boolean values (including NaNs)\n",
    "or_bix = names.str.contains('or')\n",
    "or_bix.head()"
   ]
  },
  {
   "cell_type": "code",
   "execution_count": 17,
   "metadata": {},
   "outputs": [
    {
     "name": "stdout",
     "output_type": "stream",
     "text": [
      "Cannot index with vector containing NA / NaN values\n"
     ]
    },
    {
     "data": {
      "text/plain": [
       "0    False\n",
       "1    False\n",
       "2    False\n",
       "3    False\n",
       "4    False\n",
       "Name: characters, dtype: bool"
      ]
     },
     "execution_count": 17,
     "metadata": {},
     "output_type": "execute_result"
    }
   ],
   "source": [
    "# Quick note: you can't index with NaNs\n",
    "try:\n",
    "    names.loc[or_bix]\n",
    "except ValueError:\n",
    "    print('ValueError!')\n",
    "    print('Cannot index with vector containing NA / NaN values')\n",
    "    print('Get around that inconvenient fact with fillna().')\n",
    "    \n",
    "# To get around it, fillna()!\n",
    "no_nan_or_bix = or_bix.fillna(False)\n",
    "no_nan_or_bix.head()"
   ]
  },
  {
   "cell_type": "code",
   "execution_count": 22,
   "metadata": {},
   "outputs": [
    {
     "name": "stdout",
     "output_type": "stream",
     "text": [
      "Here are our names ending with 'er'!\n"
     ]
    },
    {
     "data": {
      "text/plain": [
       "3                Gaoler\n",
       "5     Harry the Haggler\n",
       "6              Ex-Leper\n",
       "14               Gaoler\n",
       "22             Ex-Leper\n",
       "Name: characters, dtype: object"
      ]
     },
     "execution_count": 22,
     "metadata": {},
     "output_type": "execute_result"
    }
   ],
   "source": [
    "# Then we can use that bix to get our subset\n",
    "print(\"Here are our names ending with 'er'!\")\n",
    "er_bix = names.str.endswith('er').fillna(False)\n",
    "names[er_bix]"
   ]
  },
  {
   "cell_type": "code",
   "execution_count": 20,
   "metadata": {},
   "outputs": [
    {
     "data": {
      "text/plain": [
       "0                     Brian\n",
       "1                       NaN\n",
       "2     Centurion of the Yard\n",
       "3                    Gaoler\n",
       "4                       NaN\n",
       "5         Harry the Haggler\n",
       "6                  Ex-Leper\n",
       "7                   Gregory\n",
       "8           Judith Escariot\n",
       "9        Simon the Holy Man\n",
       "10           Pontius Pilate\n",
       "11                 Matthias\n",
       "12                  Gregory\n",
       "13                      NaN\n",
       "14                   Gaoler\n",
       "15                    Brian\n",
       "16       Simon the Holy Man\n",
       "17                      NaN\n",
       "18                      NaN\n",
       "19                  Gregory\n",
       "20                  Gregory\n",
       "21                  Gregory\n",
       "22                 Ex-Leper\n",
       "23                  Gregory\n",
       "24       Simon the Holy Man\n",
       "25                 Matthias\n",
       "26                      NaN\n",
       "Name: characters, dtype: object"
      ]
     },
     "execution_count": 20,
     "metadata": {},
     "output_type": "execute_result"
    }
   ],
   "source": [
    "# The contains() and match() are super powerful.\n",
    "\n",
    "# Contains more than one space.\n",
    "names.str.match()\n",
    "\n",
    "# Contains a 'g'.\n"
   ]
  },
  {
   "cell_type": "code",
   "execution_count": null,
   "metadata": {},
   "outputs": [],
   "source": [
    "# Again, remember it defaults to regex (which can)"
   ]
  },
  {
   "cell_type": "code",
   "execution_count": null,
   "metadata": {},
   "outputs": [],
   "source": [
    "str.contains(): test if the string is found in each entry.\n",
    "str.endswith(): test if the end of each string mattaches a pattern.\n",
    "str.isalnum(): tests whether each item is alphanumeric.\n",
    "str.isalpha(): test whether each string is alphabetic.\n",
    "str.isdecimal(): tests whether each item is a decimal.\n",
    "str.isdigit(): tests whether each item is a digit.\n",
    "str.islower(): tests whether each item is lowercase.\n",
    "str.isnumeric(): tests whether each item is numeric.\n",
    "str.isspace(): tests whether each item is whitespace.\n",
    "str.istitle(): tests whether each item is in title case.\n",
    "str.isupper(): tests whether each item is upper case.\n",
    "str.startswith(): tests whether the start of the string matches a mattern.\n",
    "str.match(): determine if the string matches a regular expression."
   ]
  },
  {
   "cell_type": "code",
   "execution_count": null,
   "metadata": {},
   "outputs": [],
   "source": []
  },
  {
   "cell_type": "code",
   "execution_count": null,
   "metadata": {},
   "outputs": [],
   "source": []
  },
  {
   "cell_type": "markdown",
   "metadata": {},
   "source": [
    "#### Splitting, joining, and slicing\n",
    "\n",
    "These methods are used to split or join text for further processing.\n",
    "\n",
    "* [`str.cat()`](https://pandas.pydata.org/pandas-docs/stable/generated/pandas.Series.str.cat.html): combine all text elements of string into a mega string.\n",
    "* [`str.get()`](): get the Nth item of list/tuple/string.\n",
    "* [`str.join()`](): join each list element of a series with a particular delimiter.\n",
    "* [`str.partition()`](): split a string into 3 elements: text before separator, separator, text after separator (from left).\n",
    "* [`str.rpartition()`](): split a string into 3 elements: text before separator, separator, text after separator (from right).\n",
    "* [`str.rsplit()`](): split a string based on a separator into a list (from right).\n",
    "* [`str.split()`](): split a string based on a separator into a list (from left).\n",
    "\n",
    "**Note**: `partition()` (vectorized or otherwise) is super-useful. If you haven't heard of it, you should take a look at the documentation and see if it can benefit you.\n",
    "\n",
    "**Note**: `str.cat()` is a great way to turn multiple bodies of text into a single corpus for things like machine learning."
   ]
  },
  {
   "cell_type": "code",
   "execution_count": null,
   "metadata": {},
   "outputs": [],
   "source": []
  },
  {
   "cell_type": "markdown",
   "metadata": {},
   "source": [
    "#### Find, Extract, Replace\n",
    "\n",
    "* [`str.extract()`](https://pandas.pydata.org/pandas-docs/stable/generated/pandas.Series.str.extract.html):\n",
    "* [`str.extractall()`](https://pandas.pydata.org/pandas-docs/stable/generated/pandas.Series.str.extractall.html):\n",
    "* [`str.find()`](https://pandas.pydata.org/pandas-docs/stable/generated/pandas.Series.str.find.html):\n",
    "* [`str.findall()`](https://pandas.pydata.org/pandas-docs/stable/generated/pandas.Series.str.findall.html):\n",
    "* [`str.index()`](https://pandas.pydata.org/pandas-docs/stable/generated/pandas.Series.str.index.html):\n",
    "* [`str.replace()`](https://pandas.pydata.org/pandas-docs/stable/generated/pandas.Series.str.replace.html):\n",
    "* [`str.rfind()`](https://pandas.pydata.org/pandas-docs/stable/generated/pandas.Series.str.rfind.html):\n",
    "* [`str.rindex()`](https://pandas.pydata.org/pandas-docs/stable/generated/pandas.Series.str.rindex.html):\n",
    "* [`str.slice()`](https://pandas.pydata.org/pandas-docs/stable/generated/pandas.Series.str.slice.html): a function for string subscription that returns a value.\n",
    "* [`str.slice_replace()`](https://pandas.pydata.org/pandas-docs/stable/generated/pandas.Series.str.slice_replace.html): a function for string subscription that replaces values.\n",
    "* [`str.translate()`](https://pandas.pydata.org/pandas-docs/stable/generated/pandas.Series.str.translate.html):\n",
    "\n",
    "**Note**: by default, `str.extract()`, `str.extractall()`, `str.find()`, `str.findall()`, and `str.replace()` take [regex expressions](https://docs.python.org/3/howto/regex.html), so if you're looking for certain characters such as `)`, `?`, or `*` you will need to use regex or pass a `regex=False` argument. "
   ]
  },
  {
   "cell_type": "code",
   "execution_count": null,
   "metadata": {},
   "outputs": [],
   "source": []
  },
  {
   "cell_type": "markdown",
   "metadata": {},
   "source": [
    "#### Spacing\n",
    "\n",
    "* [`str.center()`](https://pandas.pydata.org/pandas-docs/stable/generated/pandas.Series.str.center.html):\n",
    "* [`str.ljust()`](https://pandas.pydata.org/pandas-docs/stable/generated/pandas.Series.str.ljust.html):\n",
    "* [`str.lstrip()`](https://pandas.pydata.org/pandas-docs/stable/generated/pandas.Series.str.lstrip.html):\n",
    "* [`str.pad()`](https://pandas.pydata.org/pandas-docs/stable/generated/pandas.Series.str.pad.html):\n",
    "* [`str.rjust()`](https://pandas.pydata.org/pandas-docs/stable/generated/pandas.Series.str.rjust.html):\n",
    "* [`str.rstrip()`](https://pandas.pydata.org/pandas-docs/stable/generated/pandas.Series.str.rstrip.html):\n",
    "* [`str.strip()`](https://pandas.pydata.org/pandas-docs/stable/generated/pandas.Series.str.strip.html):\n",
    "* [`str.wrap()`](https://pandas.pydata.org/pandas-docs/stable/generated/pandas.Series.str.wrap.html):\n",
    "* [`str.zfill()`](https://pandas.pydata.org/pandas-docs/stable/generated/pandas.Series.str.zfill.html):\n"
   ]
  },
  {
   "cell_type": "code",
   "execution_count": null,
   "metadata": {},
   "outputs": [],
   "source": []
  },
  {
   "cell_type": "markdown",
   "metadata": {},
   "source": [
    "#### Miscellaneous Transformation\n",
    "\n",
    "* [`str.capitalize()`](https://pandas.pydata.org/pandas-docs/stable/generated/pandas.Series.str.capitalize.html):\n",
    "* [`str.lower()`](https://pandas.pydata.org/pandas-docs/stable/generated/pandas.Series.str.lower.html):\n",
    "* [`str.repeat()`](https://pandas.pydata.org/pandas-docs/stable/generated/pandas.Series.str.repeat.html):\n",
    "* [`str.swapcase()`](https://pandas.pydata.org/pandas-docs/stable/generated/pandas.Series.str.swapcase.html):\n",
    "* [`str.title()`](https://pandas.pydata.org/pandas-docs/stable/generated/pandas.Series.str.title.html):\n",
    "* [`str.upper()`](https://pandas.pydata.org/pandas-docs/stable/generated/pandas.Series.str.upper.html):"
   ]
  },
  {
   "cell_type": "markdown",
   "metadata": {},
   "source": [
    "#### Encoding\n",
    "\n",
    "* [`str.decode()`](https://pandas.pydata.org/pandas-docs/stable/generated/pandas.Series.str.decode.html):\n",
    "* [`str.encode()`](https://pandas.pydata.org/pandas-docs/stable/generated/pandas.Series.str.encode.html):\n",
    "* [`str.normalize()`](https://pandas.pydata.org/pandas-docs/stable/generated/pandas.Series.str.normalize.html):"
   ]
  },
  {
   "cell_type": "code",
   "execution_count": null,
   "metadata": {},
   "outputs": [],
   "source": []
  },
  {
   "cell_type": "markdown",
   "metadata": {},
   "source": [
    "#### Miscellaneous\n",
    "\n",
    "* [`str.count`](https://pandas.pydata.org/pandas-docs/stable/generated/pandas.Series.str.count.html):\n",
    "* [`str.get_dummies`](https://pandas.pydata.org/pandas-docs/stable/generated/pandas.Series.str.get_dummies.html):\n",
    "* [`str.len()`](https://pandas.pydata.org/pandas-docs/stable/generated/pandas.Series.str.len.html):"
   ]
  },
  {
   "cell_type": "code",
   "execution_count": null,
   "metadata": {},
   "outputs": [],
   "source": []
  },
  {
   "cell_type": "markdown",
   "metadata": {},
   "source": [
    "# Additional Learing Resources\n",
    "\n",
    "* ### [Working with Text Data](http://pandas.pydata.org/pandas-docs/stable/text.html)\n",
    "* ### [String API](https://pandas.pydata.org/pandas-docs/stable/api.html#string-handling)\n",
    "* ### [Python Regular Expression How-To](https://docs.python.org/3/howto/regex.html)"
   ]
  },
  {
   "cell_type": "markdown",
   "metadata": {},
   "source": [
    "---\n",
    "\n",
    "# Next Up: [Series Part 3 Exercises](4_series_part_3_exercises.ipynb)\n",
    "\n",
    "<br>\n",
    "\n",
    "$\\huge{W=-\\Delta PE}$\n",
    "\n",
    "<br>\n",
    "\n",
    "<div align='left'>\n",
    "    Image courtesy of <a href='https://commons.wikimedia.org/wiki/File:Population_vs_area.svg'>Skbkekas</a> under the <a href='https://creativecommons.org/licenses/by-sa/3.0/deed.en'>CC BY-SA 3.0</a>\n",
    "</div>\n",
    "\n",
    "---"
   ]
  }
 ],
 "metadata": {
  "anaconda-cloud": {},
  "kernelspec": {
   "display_name": "Python 3",
   "language": "python",
   "name": "python3"
  },
  "language_info": {
   "codemirror_mode": {
    "name": "ipython",
    "version": 3
   },
   "file_extension": ".py",
   "mimetype": "text/x-python",
   "name": "python",
   "nbconvert_exporter": "python",
   "pygments_lexer": "ipython3",
   "version": "3.6.7"
  }
 },
 "nbformat": 4,
 "nbformat_minor": 1
}
